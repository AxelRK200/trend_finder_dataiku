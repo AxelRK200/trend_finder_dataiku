{
  "nbformat": 4,
  "nbformat_minor": 0,
  "metadata": {
    "colab": {
      "provenance": [],
      "mount_file_id": "1d3zKbhFaWNo5EaAXxKUWnK7QbBc5EjdI",
      "authorship_tag": "ABX9TyOJvNjG0R2U2RUBWcaf921c",
      "include_colab_link": true
    },
    "kernelspec": {
      "name": "python3",
      "display_name": "Python 3"
    },
    "language_info": {
      "name": "python"
    }
  },
  "cells": [
    {
      "cell_type": "markdown",
      "metadata": {
        "id": "view-in-github",
        "colab_type": "text"
      },
      "source": [
        "<a href=\"https://colab.research.google.com/github/AxelRK200/trend_finder_dataiku/blob/main/Exploration/Weekly_MA.ipynb\" target=\"_parent\"><img src=\"https://colab.research.google.com/assets/colab-badge.svg\" alt=\"Open In Colab\"/></a>"
      ]
    },
    {
      "cell_type": "code",
      "execution_count": null,
      "metadata": {
        "id": "jhDLT_AWO72w"
      },
      "outputs": [],
      "source": [
        "!pip install yfinance\n",
        "!pip install plotly\n",
        "!pip install ta"
      ]
    },
    {
      "cell_type": "code",
      "source": [
        "import pandas as pd, numpy as np\n",
        "from ta.trend import SMAIndicator\n",
        "import yfinance as yf\n",
        "import datetime"
      ],
      "metadata": {
        "id": "Lz8m7TvqRUWj"
      },
      "execution_count": 6,
      "outputs": []
    },
    {
      "cell_type": "markdown",
      "source": [
        "# Input #"
      ],
      "metadata": {
        "id": "wHo9OutFSCWe"
      }
    },
    {
      "cell_type": "markdown",
      "source": [
        "### Import ###"
      ],
      "metadata": {
        "id": "b4f1gXOdUkb4"
      }
    },
    {
      "cell_type": "code",
      "source": [
        "ndx = yf.Ticker(\"^NDX\")\n",
        "hist = ndx.history(period=\"max\", interval=\"1wk\")"
      ],
      "metadata": {
        "id": "g1zBN23cSBc1"
      },
      "execution_count": 85,
      "outputs": []
    },
    {
      "cell_type": "code",
      "source": [
        "# Passe la date d'index à colonne\n",
        "hist.reset_index(inplace=True)"
      ],
      "metadata": {
        "id": "e6SFQKFRSmhi"
      },
      "execution_count": 86,
      "outputs": []
    },
    {
      "cell_type": "code",
      "source": [
        "hist.drop(columns=['High','Low','Dividends','Stock Splits'], inplace=True)"
      ],
      "metadata": {
        "id": "UISfWph-StId"
      },
      "execution_count": 87,
      "outputs": []
    },
    {
      "cell_type": "code",
      "source": [
        "hist.tail()"
      ],
      "metadata": {
        "colab": {
          "base_uri": "https://localhost:8080/",
          "height": 206
        },
        "id": "DAba4qUjS9Io",
        "outputId": "46100d05-f267-453e-e747-1fdef14910c9"
      },
      "execution_count": 88,
      "outputs": [
        {
          "output_type": "execute_result",
          "data": {
            "text/plain": [
              "                          Date          Open         Close       Volume\n",
              "1941 2022-12-12 00:00:00-05:00  11572.259766  11243.719727  29946270000\n",
              "1942 2022-12-19 00:00:00-05:00  11243.000000  10985.450195  22410180000\n",
              "1943 2022-12-26 00:00:00-05:00  10944.299805  10939.759766  15783390000\n",
              "1944 2023-01-02 00:00:00-05:00  11038.419922  11040.349609  19830080000\n",
              "1945 2023-01-09 00:00:00-05:00  11133.070312  11459.613281  21846465000"
            ],
            "text/html": [
              "\n",
              "  <div id=\"df-518fb482-c2ed-49a8-bb82-24c76b373c34\">\n",
              "    <div class=\"colab-df-container\">\n",
              "      <div>\n",
              "<style scoped>\n",
              "    .dataframe tbody tr th:only-of-type {\n",
              "        vertical-align: middle;\n",
              "    }\n",
              "\n",
              "    .dataframe tbody tr th {\n",
              "        vertical-align: top;\n",
              "    }\n",
              "\n",
              "    .dataframe thead th {\n",
              "        text-align: right;\n",
              "    }\n",
              "</style>\n",
              "<table border=\"1\" class=\"dataframe\">\n",
              "  <thead>\n",
              "    <tr style=\"text-align: right;\">\n",
              "      <th></th>\n",
              "      <th>Date</th>\n",
              "      <th>Open</th>\n",
              "      <th>Close</th>\n",
              "      <th>Volume</th>\n",
              "    </tr>\n",
              "  </thead>\n",
              "  <tbody>\n",
              "    <tr>\n",
              "      <th>1941</th>\n",
              "      <td>2022-12-12 00:00:00-05:00</td>\n",
              "      <td>11572.259766</td>\n",
              "      <td>11243.719727</td>\n",
              "      <td>29946270000</td>\n",
              "    </tr>\n",
              "    <tr>\n",
              "      <th>1942</th>\n",
              "      <td>2022-12-19 00:00:00-05:00</td>\n",
              "      <td>11243.000000</td>\n",
              "      <td>10985.450195</td>\n",
              "      <td>22410180000</td>\n",
              "    </tr>\n",
              "    <tr>\n",
              "      <th>1943</th>\n",
              "      <td>2022-12-26 00:00:00-05:00</td>\n",
              "      <td>10944.299805</td>\n",
              "      <td>10939.759766</td>\n",
              "      <td>15783390000</td>\n",
              "    </tr>\n",
              "    <tr>\n",
              "      <th>1944</th>\n",
              "      <td>2023-01-02 00:00:00-05:00</td>\n",
              "      <td>11038.419922</td>\n",
              "      <td>11040.349609</td>\n",
              "      <td>19830080000</td>\n",
              "    </tr>\n",
              "    <tr>\n",
              "      <th>1945</th>\n",
              "      <td>2023-01-09 00:00:00-05:00</td>\n",
              "      <td>11133.070312</td>\n",
              "      <td>11459.613281</td>\n",
              "      <td>21846465000</td>\n",
              "    </tr>\n",
              "  </tbody>\n",
              "</table>\n",
              "</div>\n",
              "      <button class=\"colab-df-convert\" onclick=\"convertToInteractive('df-518fb482-c2ed-49a8-bb82-24c76b373c34')\"\n",
              "              title=\"Convert this dataframe to an interactive table.\"\n",
              "              style=\"display:none;\">\n",
              "        \n",
              "  <svg xmlns=\"http://www.w3.org/2000/svg\" height=\"24px\"viewBox=\"0 0 24 24\"\n",
              "       width=\"24px\">\n",
              "    <path d=\"M0 0h24v24H0V0z\" fill=\"none\"/>\n",
              "    <path d=\"M18.56 5.44l.94 2.06.94-2.06 2.06-.94-2.06-.94-.94-2.06-.94 2.06-2.06.94zm-11 1L8.5 8.5l.94-2.06 2.06-.94-2.06-.94L8.5 2.5l-.94 2.06-2.06.94zm10 10l.94 2.06.94-2.06 2.06-.94-2.06-.94-.94-2.06-.94 2.06-2.06.94z\"/><path d=\"M17.41 7.96l-1.37-1.37c-.4-.4-.92-.59-1.43-.59-.52 0-1.04.2-1.43.59L10.3 9.45l-7.72 7.72c-.78.78-.78 2.05 0 2.83L4 21.41c.39.39.9.59 1.41.59.51 0 1.02-.2 1.41-.59l7.78-7.78 2.81-2.81c.8-.78.8-2.07 0-2.86zM5.41 20L4 18.59l7.72-7.72 1.47 1.35L5.41 20z\"/>\n",
              "  </svg>\n",
              "      </button>\n",
              "      \n",
              "  <style>\n",
              "    .colab-df-container {\n",
              "      display:flex;\n",
              "      flex-wrap:wrap;\n",
              "      gap: 12px;\n",
              "    }\n",
              "\n",
              "    .colab-df-convert {\n",
              "      background-color: #E8F0FE;\n",
              "      border: none;\n",
              "      border-radius: 50%;\n",
              "      cursor: pointer;\n",
              "      display: none;\n",
              "      fill: #1967D2;\n",
              "      height: 32px;\n",
              "      padding: 0 0 0 0;\n",
              "      width: 32px;\n",
              "    }\n",
              "\n",
              "    .colab-df-convert:hover {\n",
              "      background-color: #E2EBFA;\n",
              "      box-shadow: 0px 1px 2px rgba(60, 64, 67, 0.3), 0px 1px 3px 1px rgba(60, 64, 67, 0.15);\n",
              "      fill: #174EA6;\n",
              "    }\n",
              "\n",
              "    [theme=dark] .colab-df-convert {\n",
              "      background-color: #3B4455;\n",
              "      fill: #D2E3FC;\n",
              "    }\n",
              "\n",
              "    [theme=dark] .colab-df-convert:hover {\n",
              "      background-color: #434B5C;\n",
              "      box-shadow: 0px 1px 3px 1px rgba(0, 0, 0, 0.15);\n",
              "      filter: drop-shadow(0px 1px 2px rgba(0, 0, 0, 0.3));\n",
              "      fill: #FFFFFF;\n",
              "    }\n",
              "  </style>\n",
              "\n",
              "      <script>\n",
              "        const buttonEl =\n",
              "          document.querySelector('#df-518fb482-c2ed-49a8-bb82-24c76b373c34 button.colab-df-convert');\n",
              "        buttonEl.style.display =\n",
              "          google.colab.kernel.accessAllowed ? 'block' : 'none';\n",
              "\n",
              "        async function convertToInteractive(key) {\n",
              "          const element = document.querySelector('#df-518fb482-c2ed-49a8-bb82-24c76b373c34');\n",
              "          const dataTable =\n",
              "            await google.colab.kernel.invokeFunction('convertToInteractive',\n",
              "                                                     [key], {});\n",
              "          if (!dataTable) return;\n",
              "\n",
              "          const docLinkHtml = 'Like what you see? Visit the ' +\n",
              "            '<a target=\"_blank\" href=https://colab.research.google.com/notebooks/data_table.ipynb>data table notebook</a>'\n",
              "            + ' to learn more about interactive tables.';\n",
              "          element.innerHTML = '';\n",
              "          dataTable['output_type'] = 'display_data';\n",
              "          await google.colab.output.renderOutput(dataTable, element);\n",
              "          const docLink = document.createElement('div');\n",
              "          docLink.innerHTML = docLinkHtml;\n",
              "          element.appendChild(docLink);\n",
              "        }\n",
              "      </script>\n",
              "    </div>\n",
              "  </div>\n",
              "  "
            ]
          },
          "metadata": {},
          "execution_count": 88
        }
      ]
    },
    {
      "cell_type": "markdown",
      "source": [
        "### Mise en forme date ###"
      ],
      "metadata": {
        "id": "9OA2e_kdUodF"
      }
    },
    {
      "cell_type": "code",
      "source": [
        "hist[\"Num_Semaine\"] = hist.Date.apply(lambda d : d.strftime('%Y-%V'))\n",
        "hist[\"Date\"] = hist.Date.apply(lambda d : d.strftime('%Y-%m-%d'))"
      ],
      "metadata": {
        "id": "NZ1IbTeoTl1Z"
      },
      "execution_count": 89,
      "outputs": []
    },
    {
      "cell_type": "code",
      "source": [
        "hist[\"Open\"] = hist.Open.apply(lambda f : round(f,2))\n",
        "hist[\"Close\"] = hist.Close.apply(lambda f : round(f,2))"
      ],
      "metadata": {
        "id": "CFnW7fF4V15q"
      },
      "execution_count": 90,
      "outputs": []
    },
    {
      "cell_type": "code",
      "source": [
        "hist.tail()"
      ],
      "metadata": {
        "colab": {
          "base_uri": "https://localhost:8080/",
          "height": 206
        },
        "id": "UlY6g3PTVH6b",
        "outputId": "32c2c12d-d440-47e7-ea47-3084847afa31"
      },
      "execution_count": 91,
      "outputs": [
        {
          "output_type": "execute_result",
          "data": {
            "text/plain": [
              "            Date      Open     Close       Volume Num_Semaine\n",
              "1941  2022-12-12  11572.26  11243.72  29946270000     2022-50\n",
              "1942  2022-12-19  11243.00  10985.45  22410180000     2022-51\n",
              "1943  2022-12-26  10944.30  10939.76  15783390000     2022-52\n",
              "1944  2023-01-02  11038.42  11040.35  19830080000     2023-01\n",
              "1945  2023-01-09  11133.07  11459.61  21846465000     2023-02"
            ],
            "text/html": [
              "\n",
              "  <div id=\"df-6b59ff09-ff72-43b9-8474-89fbf396c650\">\n",
              "    <div class=\"colab-df-container\">\n",
              "      <div>\n",
              "<style scoped>\n",
              "    .dataframe tbody tr th:only-of-type {\n",
              "        vertical-align: middle;\n",
              "    }\n",
              "\n",
              "    .dataframe tbody tr th {\n",
              "        vertical-align: top;\n",
              "    }\n",
              "\n",
              "    .dataframe thead th {\n",
              "        text-align: right;\n",
              "    }\n",
              "</style>\n",
              "<table border=\"1\" class=\"dataframe\">\n",
              "  <thead>\n",
              "    <tr style=\"text-align: right;\">\n",
              "      <th></th>\n",
              "      <th>Date</th>\n",
              "      <th>Open</th>\n",
              "      <th>Close</th>\n",
              "      <th>Volume</th>\n",
              "      <th>Num_Semaine</th>\n",
              "    </tr>\n",
              "  </thead>\n",
              "  <tbody>\n",
              "    <tr>\n",
              "      <th>1941</th>\n",
              "      <td>2022-12-12</td>\n",
              "      <td>11572.26</td>\n",
              "      <td>11243.72</td>\n",
              "      <td>29946270000</td>\n",
              "      <td>2022-50</td>\n",
              "    </tr>\n",
              "    <tr>\n",
              "      <th>1942</th>\n",
              "      <td>2022-12-19</td>\n",
              "      <td>11243.00</td>\n",
              "      <td>10985.45</td>\n",
              "      <td>22410180000</td>\n",
              "      <td>2022-51</td>\n",
              "    </tr>\n",
              "    <tr>\n",
              "      <th>1943</th>\n",
              "      <td>2022-12-26</td>\n",
              "      <td>10944.30</td>\n",
              "      <td>10939.76</td>\n",
              "      <td>15783390000</td>\n",
              "      <td>2022-52</td>\n",
              "    </tr>\n",
              "    <tr>\n",
              "      <th>1944</th>\n",
              "      <td>2023-01-02</td>\n",
              "      <td>11038.42</td>\n",
              "      <td>11040.35</td>\n",
              "      <td>19830080000</td>\n",
              "      <td>2023-01</td>\n",
              "    </tr>\n",
              "    <tr>\n",
              "      <th>1945</th>\n",
              "      <td>2023-01-09</td>\n",
              "      <td>11133.07</td>\n",
              "      <td>11459.61</td>\n",
              "      <td>21846465000</td>\n",
              "      <td>2023-02</td>\n",
              "    </tr>\n",
              "  </tbody>\n",
              "</table>\n",
              "</div>\n",
              "      <button class=\"colab-df-convert\" onclick=\"convertToInteractive('df-6b59ff09-ff72-43b9-8474-89fbf396c650')\"\n",
              "              title=\"Convert this dataframe to an interactive table.\"\n",
              "              style=\"display:none;\">\n",
              "        \n",
              "  <svg xmlns=\"http://www.w3.org/2000/svg\" height=\"24px\"viewBox=\"0 0 24 24\"\n",
              "       width=\"24px\">\n",
              "    <path d=\"M0 0h24v24H0V0z\" fill=\"none\"/>\n",
              "    <path d=\"M18.56 5.44l.94 2.06.94-2.06 2.06-.94-2.06-.94-.94-2.06-.94 2.06-2.06.94zm-11 1L8.5 8.5l.94-2.06 2.06-.94-2.06-.94L8.5 2.5l-.94 2.06-2.06.94zm10 10l.94 2.06.94-2.06 2.06-.94-2.06-.94-.94-2.06-.94 2.06-2.06.94z\"/><path d=\"M17.41 7.96l-1.37-1.37c-.4-.4-.92-.59-1.43-.59-.52 0-1.04.2-1.43.59L10.3 9.45l-7.72 7.72c-.78.78-.78 2.05 0 2.83L4 21.41c.39.39.9.59 1.41.59.51 0 1.02-.2 1.41-.59l7.78-7.78 2.81-2.81c.8-.78.8-2.07 0-2.86zM5.41 20L4 18.59l7.72-7.72 1.47 1.35L5.41 20z\"/>\n",
              "  </svg>\n",
              "      </button>\n",
              "      \n",
              "  <style>\n",
              "    .colab-df-container {\n",
              "      display:flex;\n",
              "      flex-wrap:wrap;\n",
              "      gap: 12px;\n",
              "    }\n",
              "\n",
              "    .colab-df-convert {\n",
              "      background-color: #E8F0FE;\n",
              "      border: none;\n",
              "      border-radius: 50%;\n",
              "      cursor: pointer;\n",
              "      display: none;\n",
              "      fill: #1967D2;\n",
              "      height: 32px;\n",
              "      padding: 0 0 0 0;\n",
              "      width: 32px;\n",
              "    }\n",
              "\n",
              "    .colab-df-convert:hover {\n",
              "      background-color: #E2EBFA;\n",
              "      box-shadow: 0px 1px 2px rgba(60, 64, 67, 0.3), 0px 1px 3px 1px rgba(60, 64, 67, 0.15);\n",
              "      fill: #174EA6;\n",
              "    }\n",
              "\n",
              "    [theme=dark] .colab-df-convert {\n",
              "      background-color: #3B4455;\n",
              "      fill: #D2E3FC;\n",
              "    }\n",
              "\n",
              "    [theme=dark] .colab-df-convert:hover {\n",
              "      background-color: #434B5C;\n",
              "      box-shadow: 0px 1px 3px 1px rgba(0, 0, 0, 0.15);\n",
              "      filter: drop-shadow(0px 1px 2px rgba(0, 0, 0, 0.3));\n",
              "      fill: #FFFFFF;\n",
              "    }\n",
              "  </style>\n",
              "\n",
              "      <script>\n",
              "        const buttonEl =\n",
              "          document.querySelector('#df-6b59ff09-ff72-43b9-8474-89fbf396c650 button.colab-df-convert');\n",
              "        buttonEl.style.display =\n",
              "          google.colab.kernel.accessAllowed ? 'block' : 'none';\n",
              "\n",
              "        async function convertToInteractive(key) {\n",
              "          const element = document.querySelector('#df-6b59ff09-ff72-43b9-8474-89fbf396c650');\n",
              "          const dataTable =\n",
              "            await google.colab.kernel.invokeFunction('convertToInteractive',\n",
              "                                                     [key], {});\n",
              "          if (!dataTable) return;\n",
              "\n",
              "          const docLinkHtml = 'Like what you see? Visit the ' +\n",
              "            '<a target=\"_blank\" href=https://colab.research.google.com/notebooks/data_table.ipynb>data table notebook</a>'\n",
              "            + ' to learn more about interactive tables.';\n",
              "          element.innerHTML = '';\n",
              "          dataTable['output_type'] = 'display_data';\n",
              "          await google.colab.output.renderOutput(dataTable, element);\n",
              "          const docLink = document.createElement('div');\n",
              "          docLink.innerHTML = docLinkHtml;\n",
              "          element.appendChild(docLink);\n",
              "        }\n",
              "      </script>\n",
              "    </div>\n",
              "  </div>\n",
              "  "
            ]
          },
          "metadata": {},
          "execution_count": 91
        }
      ]
    },
    {
      "cell_type": "markdown",
      "source": [
        "# Indicateur technique #"
      ],
      "metadata": {
        "id": "DAEGs-XJWV1O"
      }
    },
    {
      "cell_type": "code",
      "source": [
        "hist.isnull().sum()"
      ],
      "metadata": {
        "colab": {
          "base_uri": "https://localhost:8080/"
        },
        "id": "ZRARurJ2WDF_",
        "outputId": "798d3902-e2dc-4531-d2cc-8c553a2c788d"
      },
      "execution_count": 92,
      "outputs": [
        {
          "output_type": "execute_result",
          "data": {
            "text/plain": [
              "Date           0\n",
              "Open           0\n",
              "Close          0\n",
              "Volume         0\n",
              "Num_Semaine    0\n",
              "dtype: int64"
            ]
          },
          "metadata": {},
          "execution_count": 92
        }
      ]
    },
    {
      "cell_type": "code",
      "source": [
        "s_sma = SMAIndicator(close = hist.Close, window=40).sma_indicator()"
      ],
      "metadata": {
        "id": "UJVvY6THWzI8"
      },
      "execution_count": 93,
      "outputs": []
    },
    {
      "cell_type": "code",
      "source": [
        "hist[\"SMA_40\"] = s_sma"
      ],
      "metadata": {
        "id": "bJH4mqMpXWm5"
      },
      "execution_count": 94,
      "outputs": []
    },
    {
      "cell_type": "code",
      "source": [
        "hist.dropna(subset=['SMA_40'], inplace=True)"
      ],
      "metadata": {
        "id": "EDmJ94BKXa9F"
      },
      "execution_count": 95,
      "outputs": []
    },
    {
      "cell_type": "code",
      "source": [
        "hist[\"SMA_40\"] = hist.SMA_40.apply(lambda f : round(f,2))"
      ],
      "metadata": {
        "id": "HRick-F5gf2X"
      },
      "execution_count": 96,
      "outputs": []
    },
    {
      "cell_type": "code",
      "source": [
        "hist.reset_index(drop=True, inplace=True)"
      ],
      "metadata": {
        "id": "6ZtuG3VzXoiN"
      },
      "execution_count": 97,
      "outputs": []
    },
    {
      "cell_type": "code",
      "source": [
        "hist.head()"
      ],
      "metadata": {
        "colab": {
          "base_uri": "https://localhost:8080/",
          "height": 206
        },
        "id": "3p-cfantXpv9",
        "outputId": "89a244a5-371d-4c8d-96a6-2bc86ef8c0d7"
      },
      "execution_count": 98,
      "outputs": [
        {
          "output_type": "execute_result",
          "data": {
            "text/plain": [
              "         Date    Open   Close      Volume Num_Semaine  SMA_40\n",
              "0  1986-06-30  161.62  164.51   988800000     1986-27  139.96\n",
              "1  1986-07-07  164.51  152.85  1162800000     1986-28  141.02\n",
              "2  1986-07-14  152.85  147.76  1160400000     1986-29  141.94\n",
              "3  1986-07-21  147.76  148.26   975500000     1986-30  142.79\n",
              "4  1986-07-28  148.26  144.19   975920000     1986-31  143.55"
            ],
            "text/html": [
              "\n",
              "  <div id=\"df-97923306-1ff1-4a00-ac75-5acff1ae8101\">\n",
              "    <div class=\"colab-df-container\">\n",
              "      <div>\n",
              "<style scoped>\n",
              "    .dataframe tbody tr th:only-of-type {\n",
              "        vertical-align: middle;\n",
              "    }\n",
              "\n",
              "    .dataframe tbody tr th {\n",
              "        vertical-align: top;\n",
              "    }\n",
              "\n",
              "    .dataframe thead th {\n",
              "        text-align: right;\n",
              "    }\n",
              "</style>\n",
              "<table border=\"1\" class=\"dataframe\">\n",
              "  <thead>\n",
              "    <tr style=\"text-align: right;\">\n",
              "      <th></th>\n",
              "      <th>Date</th>\n",
              "      <th>Open</th>\n",
              "      <th>Close</th>\n",
              "      <th>Volume</th>\n",
              "      <th>Num_Semaine</th>\n",
              "      <th>SMA_40</th>\n",
              "    </tr>\n",
              "  </thead>\n",
              "  <tbody>\n",
              "    <tr>\n",
              "      <th>0</th>\n",
              "      <td>1986-06-30</td>\n",
              "      <td>161.62</td>\n",
              "      <td>164.51</td>\n",
              "      <td>988800000</td>\n",
              "      <td>1986-27</td>\n",
              "      <td>139.96</td>\n",
              "    </tr>\n",
              "    <tr>\n",
              "      <th>1</th>\n",
              "      <td>1986-07-07</td>\n",
              "      <td>164.51</td>\n",
              "      <td>152.85</td>\n",
              "      <td>1162800000</td>\n",
              "      <td>1986-28</td>\n",
              "      <td>141.02</td>\n",
              "    </tr>\n",
              "    <tr>\n",
              "      <th>2</th>\n",
              "      <td>1986-07-14</td>\n",
              "      <td>152.85</td>\n",
              "      <td>147.76</td>\n",
              "      <td>1160400000</td>\n",
              "      <td>1986-29</td>\n",
              "      <td>141.94</td>\n",
              "    </tr>\n",
              "    <tr>\n",
              "      <th>3</th>\n",
              "      <td>1986-07-21</td>\n",
              "      <td>147.76</td>\n",
              "      <td>148.26</td>\n",
              "      <td>975500000</td>\n",
              "      <td>1986-30</td>\n",
              "      <td>142.79</td>\n",
              "    </tr>\n",
              "    <tr>\n",
              "      <th>4</th>\n",
              "      <td>1986-07-28</td>\n",
              "      <td>148.26</td>\n",
              "      <td>144.19</td>\n",
              "      <td>975920000</td>\n",
              "      <td>1986-31</td>\n",
              "      <td>143.55</td>\n",
              "    </tr>\n",
              "  </tbody>\n",
              "</table>\n",
              "</div>\n",
              "      <button class=\"colab-df-convert\" onclick=\"convertToInteractive('df-97923306-1ff1-4a00-ac75-5acff1ae8101')\"\n",
              "              title=\"Convert this dataframe to an interactive table.\"\n",
              "              style=\"display:none;\">\n",
              "        \n",
              "  <svg xmlns=\"http://www.w3.org/2000/svg\" height=\"24px\"viewBox=\"0 0 24 24\"\n",
              "       width=\"24px\">\n",
              "    <path d=\"M0 0h24v24H0V0z\" fill=\"none\"/>\n",
              "    <path d=\"M18.56 5.44l.94 2.06.94-2.06 2.06-.94-2.06-.94-.94-2.06-.94 2.06-2.06.94zm-11 1L8.5 8.5l.94-2.06 2.06-.94-2.06-.94L8.5 2.5l-.94 2.06-2.06.94zm10 10l.94 2.06.94-2.06 2.06-.94-2.06-.94-.94-2.06-.94 2.06-2.06.94z\"/><path d=\"M17.41 7.96l-1.37-1.37c-.4-.4-.92-.59-1.43-.59-.52 0-1.04.2-1.43.59L10.3 9.45l-7.72 7.72c-.78.78-.78 2.05 0 2.83L4 21.41c.39.39.9.59 1.41.59.51 0 1.02-.2 1.41-.59l7.78-7.78 2.81-2.81c.8-.78.8-2.07 0-2.86zM5.41 20L4 18.59l7.72-7.72 1.47 1.35L5.41 20z\"/>\n",
              "  </svg>\n",
              "      </button>\n",
              "      \n",
              "  <style>\n",
              "    .colab-df-container {\n",
              "      display:flex;\n",
              "      flex-wrap:wrap;\n",
              "      gap: 12px;\n",
              "    }\n",
              "\n",
              "    .colab-df-convert {\n",
              "      background-color: #E8F0FE;\n",
              "      border: none;\n",
              "      border-radius: 50%;\n",
              "      cursor: pointer;\n",
              "      display: none;\n",
              "      fill: #1967D2;\n",
              "      height: 32px;\n",
              "      padding: 0 0 0 0;\n",
              "      width: 32px;\n",
              "    }\n",
              "\n",
              "    .colab-df-convert:hover {\n",
              "      background-color: #E2EBFA;\n",
              "      box-shadow: 0px 1px 2px rgba(60, 64, 67, 0.3), 0px 1px 3px 1px rgba(60, 64, 67, 0.15);\n",
              "      fill: #174EA6;\n",
              "    }\n",
              "\n",
              "    [theme=dark] .colab-df-convert {\n",
              "      background-color: #3B4455;\n",
              "      fill: #D2E3FC;\n",
              "    }\n",
              "\n",
              "    [theme=dark] .colab-df-convert:hover {\n",
              "      background-color: #434B5C;\n",
              "      box-shadow: 0px 1px 3px 1px rgba(0, 0, 0, 0.15);\n",
              "      filter: drop-shadow(0px 1px 2px rgba(0, 0, 0, 0.3));\n",
              "      fill: #FFFFFF;\n",
              "    }\n",
              "  </style>\n",
              "\n",
              "      <script>\n",
              "        const buttonEl =\n",
              "          document.querySelector('#df-97923306-1ff1-4a00-ac75-5acff1ae8101 button.colab-df-convert');\n",
              "        buttonEl.style.display =\n",
              "          google.colab.kernel.accessAllowed ? 'block' : 'none';\n",
              "\n",
              "        async function convertToInteractive(key) {\n",
              "          const element = document.querySelector('#df-97923306-1ff1-4a00-ac75-5acff1ae8101');\n",
              "          const dataTable =\n",
              "            await google.colab.kernel.invokeFunction('convertToInteractive',\n",
              "                                                     [key], {});\n",
              "          if (!dataTable) return;\n",
              "\n",
              "          const docLinkHtml = 'Like what you see? Visit the ' +\n",
              "            '<a target=\"_blank\" href=https://colab.research.google.com/notebooks/data_table.ipynb>data table notebook</a>'\n",
              "            + ' to learn more about interactive tables.';\n",
              "          element.innerHTML = '';\n",
              "          dataTable['output_type'] = 'display_data';\n",
              "          await google.colab.output.renderOutput(dataTable, element);\n",
              "          const docLink = document.createElement('div');\n",
              "          docLink.innerHTML = docLinkHtml;\n",
              "          element.appendChild(docLink);\n",
              "        }\n",
              "      </script>\n",
              "    </div>\n",
              "  </div>\n",
              "  "
            ]
          },
          "metadata": {},
          "execution_count": 98
        }
      ]
    },
    {
      "cell_type": "markdown",
      "source": [
        "# Feature Engineering #"
      ],
      "metadata": {
        "id": "diGZ_L_LYF-n"
      }
    },
    {
      "cell_type": "code",
      "source": [
        "def refined_indicators(df):\n",
        "  '''Determines whether closing price is over (1) or below (0) sma'''\n",
        "\n",
        "  indicator = 0\n",
        "\n",
        "  df_calc = df[[\"Close\",\"SMA_40\"]].copy()\n",
        "  df_calc[\"diff\"] = df_calc.Close - df_calc.SMA_40\n",
        "  df_calc[\"relative_distance\"] = ((df_calc.Close - df_calc.SMA_40)/df_calc.SMA_40)*100\n",
        "\n",
        "  df_calc[\"diff\"] = df_calc[\"diff\"].apply(lambda x: 1 if x>0 else 0)\n",
        "  df_calc[\"relative_distance\"] = df_calc[\"relative_distance\"].apply(lambda x: round(x,2))\n",
        "  \n",
        "  return df_calc[\"diff\"], df_calc[\"relative_distance\"] "
      ],
      "metadata": {
        "id": "UnNr0x6jX4ot"
      },
      "execution_count": 107,
      "outputs": []
    },
    {
      "cell_type": "code",
      "source": [
        "hist[\"Position\"], hist[\"Relative_distance\"] = refined_indicators(hist)"
      ],
      "metadata": {
        "id": "TsusBQI5cK7q"
      },
      "execution_count": 108,
      "outputs": []
    },
    {
      "cell_type": "code",
      "source": [
        "hist.head(10)"
      ],
      "metadata": {
        "colab": {
          "base_uri": "https://localhost:8080/",
          "height": 363
        },
        "id": "JUYGwgyNccfe",
        "outputId": "cc801425-0b06-4047-d3f2-6a110f933d96"
      },
      "execution_count": 109,
      "outputs": [
        {
          "output_type": "execute_result",
          "data": {
            "text/plain": [
              "         Date    Open   Close  ...  SMA_40 Position  Relative_distance\n",
              "0  1986-06-30  161.62  164.51  ...  139.96        1              17.54\n",
              "1  1986-07-07  164.51  152.85  ...  141.02        1               8.39\n",
              "2  1986-07-14  152.85  147.76  ...  141.94        1               4.10\n",
              "3  1986-07-21  147.76  148.26  ...  142.79        1               3.83\n",
              "4  1986-07-28  148.26  144.19  ...  143.55        1               0.45\n",
              "5  1986-08-04  144.19  142.29  ...  144.20        0              -1.32\n",
              "6  1986-08-11  142.29  149.57  ...  144.96        1               3.18\n",
              "7  1986-08-18  149.57  150.95  ...  145.68        1               3.62\n",
              "8  1986-08-25  150.95  151.70  ...  146.37        1               3.64\n",
              "9  1986-09-01  151.70  149.67  ...  146.96        1               1.84\n",
              "\n",
              "[10 rows x 8 columns]"
            ],
            "text/html": [
              "\n",
              "  <div id=\"df-26fd93d5-d20d-4283-b100-7675d2159947\">\n",
              "    <div class=\"colab-df-container\">\n",
              "      <div>\n",
              "<style scoped>\n",
              "    .dataframe tbody tr th:only-of-type {\n",
              "        vertical-align: middle;\n",
              "    }\n",
              "\n",
              "    .dataframe tbody tr th {\n",
              "        vertical-align: top;\n",
              "    }\n",
              "\n",
              "    .dataframe thead th {\n",
              "        text-align: right;\n",
              "    }\n",
              "</style>\n",
              "<table border=\"1\" class=\"dataframe\">\n",
              "  <thead>\n",
              "    <tr style=\"text-align: right;\">\n",
              "      <th></th>\n",
              "      <th>Date</th>\n",
              "      <th>Open</th>\n",
              "      <th>Close</th>\n",
              "      <th>Volume</th>\n",
              "      <th>Num_Semaine</th>\n",
              "      <th>SMA_40</th>\n",
              "      <th>Position</th>\n",
              "      <th>Relative_distance</th>\n",
              "    </tr>\n",
              "  </thead>\n",
              "  <tbody>\n",
              "    <tr>\n",
              "      <th>0</th>\n",
              "      <td>1986-06-30</td>\n",
              "      <td>161.62</td>\n",
              "      <td>164.51</td>\n",
              "      <td>988800000</td>\n",
              "      <td>1986-27</td>\n",
              "      <td>139.96</td>\n",
              "      <td>1</td>\n",
              "      <td>17.54</td>\n",
              "    </tr>\n",
              "    <tr>\n",
              "      <th>1</th>\n",
              "      <td>1986-07-07</td>\n",
              "      <td>164.51</td>\n",
              "      <td>152.85</td>\n",
              "      <td>1162800000</td>\n",
              "      <td>1986-28</td>\n",
              "      <td>141.02</td>\n",
              "      <td>1</td>\n",
              "      <td>8.39</td>\n",
              "    </tr>\n",
              "    <tr>\n",
              "      <th>2</th>\n",
              "      <td>1986-07-14</td>\n",
              "      <td>152.85</td>\n",
              "      <td>147.76</td>\n",
              "      <td>1160400000</td>\n",
              "      <td>1986-29</td>\n",
              "      <td>141.94</td>\n",
              "      <td>1</td>\n",
              "      <td>4.10</td>\n",
              "    </tr>\n",
              "    <tr>\n",
              "      <th>3</th>\n",
              "      <td>1986-07-21</td>\n",
              "      <td>147.76</td>\n",
              "      <td>148.26</td>\n",
              "      <td>975500000</td>\n",
              "      <td>1986-30</td>\n",
              "      <td>142.79</td>\n",
              "      <td>1</td>\n",
              "      <td>3.83</td>\n",
              "    </tr>\n",
              "    <tr>\n",
              "      <th>4</th>\n",
              "      <td>1986-07-28</td>\n",
              "      <td>148.26</td>\n",
              "      <td>144.19</td>\n",
              "      <td>975920000</td>\n",
              "      <td>1986-31</td>\n",
              "      <td>143.55</td>\n",
              "      <td>1</td>\n",
              "      <td>0.45</td>\n",
              "    </tr>\n",
              "    <tr>\n",
              "      <th>5</th>\n",
              "      <td>1986-08-04</td>\n",
              "      <td>144.19</td>\n",
              "      <td>142.29</td>\n",
              "      <td>957520000</td>\n",
              "      <td>1986-32</td>\n",
              "      <td>144.20</td>\n",
              "      <td>0</td>\n",
              "      <td>-1.32</td>\n",
              "    </tr>\n",
              "    <tr>\n",
              "      <th>6</th>\n",
              "      <td>1986-08-11</td>\n",
              "      <td>142.29</td>\n",
              "      <td>149.57</td>\n",
              "      <td>1071240000</td>\n",
              "      <td>1986-33</td>\n",
              "      <td>144.96</td>\n",
              "      <td>1</td>\n",
              "      <td>3.18</td>\n",
              "    </tr>\n",
              "    <tr>\n",
              "      <th>7</th>\n",
              "      <td>1986-08-18</td>\n",
              "      <td>149.57</td>\n",
              "      <td>150.95</td>\n",
              "      <td>1047800000</td>\n",
              "      <td>1986-34</td>\n",
              "      <td>145.68</td>\n",
              "      <td>1</td>\n",
              "      <td>3.62</td>\n",
              "    </tr>\n",
              "    <tr>\n",
              "      <th>8</th>\n",
              "      <td>1986-08-25</td>\n",
              "      <td>150.95</td>\n",
              "      <td>151.70</td>\n",
              "      <td>927780000</td>\n",
              "      <td>1986-35</td>\n",
              "      <td>146.37</td>\n",
              "      <td>1</td>\n",
              "      <td>3.64</td>\n",
              "    </tr>\n",
              "    <tr>\n",
              "      <th>9</th>\n",
              "      <td>1986-09-01</td>\n",
              "      <td>151.70</td>\n",
              "      <td>149.67</td>\n",
              "      <td>816960000</td>\n",
              "      <td>1986-36</td>\n",
              "      <td>146.96</td>\n",
              "      <td>1</td>\n",
              "      <td>1.84</td>\n",
              "    </tr>\n",
              "  </tbody>\n",
              "</table>\n",
              "</div>\n",
              "      <button class=\"colab-df-convert\" onclick=\"convertToInteractive('df-26fd93d5-d20d-4283-b100-7675d2159947')\"\n",
              "              title=\"Convert this dataframe to an interactive table.\"\n",
              "              style=\"display:none;\">\n",
              "        \n",
              "  <svg xmlns=\"http://www.w3.org/2000/svg\" height=\"24px\"viewBox=\"0 0 24 24\"\n",
              "       width=\"24px\">\n",
              "    <path d=\"M0 0h24v24H0V0z\" fill=\"none\"/>\n",
              "    <path d=\"M18.56 5.44l.94 2.06.94-2.06 2.06-.94-2.06-.94-.94-2.06-.94 2.06-2.06.94zm-11 1L8.5 8.5l.94-2.06 2.06-.94-2.06-.94L8.5 2.5l-.94 2.06-2.06.94zm10 10l.94 2.06.94-2.06 2.06-.94-2.06-.94-.94-2.06-.94 2.06-2.06.94z\"/><path d=\"M17.41 7.96l-1.37-1.37c-.4-.4-.92-.59-1.43-.59-.52 0-1.04.2-1.43.59L10.3 9.45l-7.72 7.72c-.78.78-.78 2.05 0 2.83L4 21.41c.39.39.9.59 1.41.59.51 0 1.02-.2 1.41-.59l7.78-7.78 2.81-2.81c.8-.78.8-2.07 0-2.86zM5.41 20L4 18.59l7.72-7.72 1.47 1.35L5.41 20z\"/>\n",
              "  </svg>\n",
              "      </button>\n",
              "      \n",
              "  <style>\n",
              "    .colab-df-container {\n",
              "      display:flex;\n",
              "      flex-wrap:wrap;\n",
              "      gap: 12px;\n",
              "    }\n",
              "\n",
              "    .colab-df-convert {\n",
              "      background-color: #E8F0FE;\n",
              "      border: none;\n",
              "      border-radius: 50%;\n",
              "      cursor: pointer;\n",
              "      display: none;\n",
              "      fill: #1967D2;\n",
              "      height: 32px;\n",
              "      padding: 0 0 0 0;\n",
              "      width: 32px;\n",
              "    }\n",
              "\n",
              "    .colab-df-convert:hover {\n",
              "      background-color: #E2EBFA;\n",
              "      box-shadow: 0px 1px 2px rgba(60, 64, 67, 0.3), 0px 1px 3px 1px rgba(60, 64, 67, 0.15);\n",
              "      fill: #174EA6;\n",
              "    }\n",
              "\n",
              "    [theme=dark] .colab-df-convert {\n",
              "      background-color: #3B4455;\n",
              "      fill: #D2E3FC;\n",
              "    }\n",
              "\n",
              "    [theme=dark] .colab-df-convert:hover {\n",
              "      background-color: #434B5C;\n",
              "      box-shadow: 0px 1px 3px 1px rgba(0, 0, 0, 0.15);\n",
              "      filter: drop-shadow(0px 1px 2px rgba(0, 0, 0, 0.3));\n",
              "      fill: #FFFFFF;\n",
              "    }\n",
              "  </style>\n",
              "\n",
              "      <script>\n",
              "        const buttonEl =\n",
              "          document.querySelector('#df-26fd93d5-d20d-4283-b100-7675d2159947 button.colab-df-convert');\n",
              "        buttonEl.style.display =\n",
              "          google.colab.kernel.accessAllowed ? 'block' : 'none';\n",
              "\n",
              "        async function convertToInteractive(key) {\n",
              "          const element = document.querySelector('#df-26fd93d5-d20d-4283-b100-7675d2159947');\n",
              "          const dataTable =\n",
              "            await google.colab.kernel.invokeFunction('convertToInteractive',\n",
              "                                                     [key], {});\n",
              "          if (!dataTable) return;\n",
              "\n",
              "          const docLinkHtml = 'Like what you see? Visit the ' +\n",
              "            '<a target=\"_blank\" href=https://colab.research.google.com/notebooks/data_table.ipynb>data table notebook</a>'\n",
              "            + ' to learn more about interactive tables.';\n",
              "          element.innerHTML = '';\n",
              "          dataTable['output_type'] = 'display_data';\n",
              "          await google.colab.output.renderOutput(dataTable, element);\n",
              "          const docLink = document.createElement('div');\n",
              "          docLink.innerHTML = docLinkHtml;\n",
              "          element.appendChild(docLink);\n",
              "        }\n",
              "      </script>\n",
              "    </div>\n",
              "  </div>\n",
              "  "
            ]
          },
          "metadata": {},
          "execution_count": 109
        }
      ]
    }
  ]
}