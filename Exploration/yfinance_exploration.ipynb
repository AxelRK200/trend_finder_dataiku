{
  "metadata": {
    "kernelspec": {
      "name": "py-dku-venv-py_v39_finance",
      "display_name": "Python (env py_v39_finance)",
      "language": "python"
    },
    "creator": "admin",
    "createdOn": 1654897549622,
    "tags": [],
    "customFields": {},
    "hide_input": false,
    "language_info": {
      "name": "python",
      "version": "3.9.0",
      "mimetype": "text/x-python",
      "codemirror_mode": {
        "name": "ipython",
        "version": 3
      },
      "pygments_lexer": "ipython3",
      "nbconvert_exporter": "python",
      "file_extension": ".py"
    },
    "modifiedBy": "admin"
  },
  "nbformat": 4,
  "nbformat_minor": 1,
  "cells": [
    {
      "execution_count": 10,
      "cell_type": "code",
      "metadata": {},
      "source": [
        "import dataiku\nfrom dataiku import pandasutils as pdu\nimport pandas as pd\nimport numpy as np\n\nimport yfinance as yf\nfrom ta.volume import MFIIndicator\n\nimport seaborn as sns\nfrom copy import copy\nimport matplotlib.pyplot as plt\nimport statistics as stats\nimport math"
      ],
      "outputs": []
    },
    {
      "execution_count": 2,
      "cell_type": "code",
      "metadata": {},
      "source": [
        "ndx \u003d yf.Ticker(\"^NDX\")"
      ],
      "outputs": []
    },
    {
      "cell_type": "markdown",
      "metadata": {},
      "source": [
        "Valid intervals: [1m, 2m, 5m, 15m, 30m, 60m, 90m, 1h, 1d, 5d, 1wk, 1mo, 3mo] \u003cbr/\u003e\nvalid periods: 1d,5d,1mo,3mo,6mo,1y,2y,5y,10y,ytd,max"
      ]
    },
    {
      "cell_type": "markdown",
      "metadata": {},
      "source": [
        "# Données intraday #"
      ]
    },
    {
      "execution_count": 3,
      "cell_type": "code",
      "metadata": {},
      "source": [
        "df_historical_data_intraday \u003d ndx.history(interval\u003d\"1h\", period\u003d\"2y\")\ndf_historical_data_intraday.head()"
      ],
      "outputs": [
        {
          "output_type": "execute_result",
          "execution_count": 3,
          "data": {
            "text/plain": "                                  Open         High          Low        Close     Volume  Dividends  Stock Splits\n2020-06-15 09:30:00-04:00  9527.608398  9634.824219  9490.064453  9593.790039          0          0             0\n2020-06-15 10:30:00-04:00  9589.933594  9637.882812  9563.643555  9619.818359  226464349          0             0\n2020-06-15 11:30:00-04:00  9619.604492  9677.968750  9600.012695  9669.588867   66796782          0             0\n2020-06-15 12:30:00-04:00  9669.153320  9712.153320  9657.898438  9695.222656   62745422          0             0\n2020-06-15 13:30:00-04:00  9694.538086  9807.669922  9690.604492  9798.049805   79934093          0             0",
            "text/html": "\u003cdiv\u003e\n\u003cstyle scoped\u003e\n    .dataframe tbody tr th:only-of-type {\n        vertical-align: middle;\n    }\n\n    .dataframe tbody tr th {\n        vertical-align: top;\n    }\n\n    .dataframe thead th {\n        text-align: right;\n    }\n\u003c/style\u003e\n\u003ctable border\u003d\"1\" class\u003d\"dataframe\"\u003e\n  \u003cthead\u003e\n    \u003ctr style\u003d\"text-align: right;\"\u003e\n      \u003cth\u003e\u003c/th\u003e\n      \u003cth\u003eOpen\u003c/th\u003e\n      \u003cth\u003eHigh\u003c/th\u003e\n      \u003cth\u003eLow\u003c/th\u003e\n      \u003cth\u003eClose\u003c/th\u003e\n      \u003cth\u003eVolume\u003c/th\u003e\n      \u003cth\u003eDividends\u003c/th\u003e\n      \u003cth\u003eStock Splits\u003c/th\u003e\n    \u003c/tr\u003e\n  \u003c/thead\u003e\n  \u003ctbody\u003e\n    \u003ctr\u003e\n      \u003cth\u003e2020-06-15 09:30:00-04:00\u003c/th\u003e\n      \u003ctd\u003e9527.608398\u003c/td\u003e\n      \u003ctd\u003e9634.824219\u003c/td\u003e\n      \u003ctd\u003e9490.064453\u003c/td\u003e\n      \u003ctd\u003e9593.790039\u003c/td\u003e\n      \u003ctd\u003e0\u003c/td\u003e\n      \u003ctd\u003e0\u003c/td\u003e\n      \u003ctd\u003e0\u003c/td\u003e\n    \u003c/tr\u003e\n    \u003ctr\u003e\n      \u003cth\u003e2020-06-15 10:30:00-04:00\u003c/th\u003e\n      \u003ctd\u003e9589.933594\u003c/td\u003e\n      \u003ctd\u003e9637.882812\u003c/td\u003e\n      \u003ctd\u003e9563.643555\u003c/td\u003e\n      \u003ctd\u003e9619.818359\u003c/td\u003e\n      \u003ctd\u003e226464349\u003c/td\u003e\n      \u003ctd\u003e0\u003c/td\u003e\n      \u003ctd\u003e0\u003c/td\u003e\n    \u003c/tr\u003e\n    \u003ctr\u003e\n      \u003cth\u003e2020-06-15 11:30:00-04:00\u003c/th\u003e\n      \u003ctd\u003e9619.604492\u003c/td\u003e\n      \u003ctd\u003e9677.968750\u003c/td\u003e\n      \u003ctd\u003e9600.012695\u003c/td\u003e\n      \u003ctd\u003e9669.588867\u003c/td\u003e\n      \u003ctd\u003e66796782\u003c/td\u003e\n      \u003ctd\u003e0\u003c/td\u003e\n      \u003ctd\u003e0\u003c/td\u003e\n    \u003c/tr\u003e\n    \u003ctr\u003e\n      \u003cth\u003e2020-06-15 12:30:00-04:00\u003c/th\u003e\n      \u003ctd\u003e9669.153320\u003c/td\u003e\n      \u003ctd\u003e9712.153320\u003c/td\u003e\n      \u003ctd\u003e9657.898438\u003c/td\u003e\n      \u003ctd\u003e9695.222656\u003c/td\u003e\n      \u003ctd\u003e62745422\u003c/td\u003e\n      \u003ctd\u003e0\u003c/td\u003e\n      \u003ctd\u003e0\u003c/td\u003e\n    \u003c/tr\u003e\n    \u003ctr\u003e\n      \u003cth\u003e2020-06-15 13:30:00-04:00\u003c/th\u003e\n      \u003ctd\u003e9694.538086\u003c/td\u003e\n      \u003ctd\u003e9807.669922\u003c/td\u003e\n      \u003ctd\u003e9690.604492\u003c/td\u003e\n      \u003ctd\u003e9798.049805\u003c/td\u003e\n      \u003ctd\u003e79934093\u003c/td\u003e\n      \u003ctd\u003e0\u003c/td\u003e\n      \u003ctd\u003e0\u003c/td\u003e\n    \u003c/tr\u003e\n  \u003c/tbody\u003e\n\u003c/table\u003e\n\u003c/div\u003e"
          },
          "metadata": {}
        }
      ]
    },
    {
      "cell_type": "markdown",
      "metadata": {},
      "source": [
        "En intervalle de temps 1h, les données ne peuvent remonter que jusqu\u0027à 2 ans max"
      ]
    },
    {
      "cell_type": "markdown",
      "metadata": {},
      "source": [
        "# Données Daily #"
      ]
    },
    {
      "cell_type": "markdown",
      "metadata": {},
      "source": [
        "## Exploration liée au Volume selon données yfinance ##"
      ]
    },
    {
      "execution_count": 4,
      "cell_type": "code",
      "metadata": {},
      "source": [
        "# Comparaison des données Daily avec valeurs investpy #\ndf_historical_data \u003d ndx.history(interval\u003d\"1d\", period\u003d\"max\")\ndf_historical_data.head()"
      ],
      "outputs": [
        {
          "output_type": "execute_result",
          "execution_count": 4,
          "data": {
            "text/plain": "                  Open        High         Low       Close     Volume  Dividends  Stock Splits\nDate                                                                                          \n1985-10-01  110.620003  112.160004  110.565002  112.139999  153160000          0             0\n1985-10-02  112.139999  112.540001  110.779999  110.824997  164640000          0             0\n1985-10-03  110.839996  111.184998  110.120003  110.870003  147300000          0             0\n1985-10-04  110.870003  110.870003  109.855003  110.074997  147900000          0             0\n1985-10-07  110.074997  110.135002  108.175003  108.199997  128640000          0             0",
            "text/html": "\u003cdiv\u003e\n\u003cstyle scoped\u003e\n    .dataframe tbody tr th:only-of-type {\n        vertical-align: middle;\n    }\n\n    .dataframe tbody tr th {\n        vertical-align: top;\n    }\n\n    .dataframe thead th {\n        text-align: right;\n    }\n\u003c/style\u003e\n\u003ctable border\u003d\"1\" class\u003d\"dataframe\"\u003e\n  \u003cthead\u003e\n    \u003ctr style\u003d\"text-align: right;\"\u003e\n      \u003cth\u003e\u003c/th\u003e\n      \u003cth\u003eOpen\u003c/th\u003e\n      \u003cth\u003eHigh\u003c/th\u003e\n      \u003cth\u003eLow\u003c/th\u003e\n      \u003cth\u003eClose\u003c/th\u003e\n      \u003cth\u003eVolume\u003c/th\u003e\n      \u003cth\u003eDividends\u003c/th\u003e\n      \u003cth\u003eStock Splits\u003c/th\u003e\n    \u003c/tr\u003e\n    \u003ctr\u003e\n      \u003cth\u003eDate\u003c/th\u003e\n      \u003cth\u003e\u003c/th\u003e\n      \u003cth\u003e\u003c/th\u003e\n      \u003cth\u003e\u003c/th\u003e\n      \u003cth\u003e\u003c/th\u003e\n      \u003cth\u003e\u003c/th\u003e\n      \u003cth\u003e\u003c/th\u003e\n      \u003cth\u003e\u003c/th\u003e\n    \u003c/tr\u003e\n  \u003c/thead\u003e\n  \u003ctbody\u003e\n    \u003ctr\u003e\n      \u003cth\u003e1985-10-01\u003c/th\u003e\n      \u003ctd\u003e110.620003\u003c/td\u003e\n      \u003ctd\u003e112.160004\u003c/td\u003e\n      \u003ctd\u003e110.565002\u003c/td\u003e\n      \u003ctd\u003e112.139999\u003c/td\u003e\n      \u003ctd\u003e153160000\u003c/td\u003e\n      \u003ctd\u003e0\u003c/td\u003e\n      \u003ctd\u003e0\u003c/td\u003e\n    \u003c/tr\u003e\n    \u003ctr\u003e\n      \u003cth\u003e1985-10-02\u003c/th\u003e\n      \u003ctd\u003e112.139999\u003c/td\u003e\n      \u003ctd\u003e112.540001\u003c/td\u003e\n      \u003ctd\u003e110.779999\u003c/td\u003e\n      \u003ctd\u003e110.824997\u003c/td\u003e\n      \u003ctd\u003e164640000\u003c/td\u003e\n      \u003ctd\u003e0\u003c/td\u003e\n      \u003ctd\u003e0\u003c/td\u003e\n    \u003c/tr\u003e\n    \u003ctr\u003e\n      \u003cth\u003e1985-10-03\u003c/th\u003e\n      \u003ctd\u003e110.839996\u003c/td\u003e\n      \u003ctd\u003e111.184998\u003c/td\u003e\n      \u003ctd\u003e110.120003\u003c/td\u003e\n      \u003ctd\u003e110.870003\u003c/td\u003e\n      \u003ctd\u003e147300000\u003c/td\u003e\n      \u003ctd\u003e0\u003c/td\u003e\n      \u003ctd\u003e0\u003c/td\u003e\n    \u003c/tr\u003e\n    \u003ctr\u003e\n      \u003cth\u003e1985-10-04\u003c/th\u003e\n      \u003ctd\u003e110.870003\u003c/td\u003e\n      \u003ctd\u003e110.870003\u003c/td\u003e\n      \u003ctd\u003e109.855003\u003c/td\u003e\n      \u003ctd\u003e110.074997\u003c/td\u003e\n      \u003ctd\u003e147900000\u003c/td\u003e\n      \u003ctd\u003e0\u003c/td\u003e\n      \u003ctd\u003e0\u003c/td\u003e\n    \u003c/tr\u003e\n    \u003ctr\u003e\n      \u003cth\u003e1985-10-07\u003c/th\u003e\n      \u003ctd\u003e110.074997\u003c/td\u003e\n      \u003ctd\u003e110.135002\u003c/td\u003e\n      \u003ctd\u003e108.175003\u003c/td\u003e\n      \u003ctd\u003e108.199997\u003c/td\u003e\n      \u003ctd\u003e128640000\u003c/td\u003e\n      \u003ctd\u003e0\u003c/td\u003e\n      \u003ctd\u003e0\u003c/td\u003e\n    \u003c/tr\u003e\n  \u003c/tbody\u003e\n\u003c/table\u003e\n\u003c/div\u003e"
          },
          "metadata": {}
        }
      ]
    },
    {
      "execution_count": 5,
      "cell_type": "code",
      "metadata": {},
      "source": [
        "df_historical_data.tail()"
      ],
      "outputs": [
        {
          "output_type": "execute_result",
          "execution_count": 5,
          "data": {
            "text/plain": "                    Open          High           Low         Close      Volume  Dividends  Stock Splits\nDate                                                                                                   \n2022-06-07  12456.490234  12737.299805  12413.559570  12711.679688  4383960000          0             0\n2022-06-08  12682.809570  12776.650391  12578.549805  12615.129883  4689310000          0             0\n2022-06-09  12543.370117  12666.410156  12265.860352  12269.780273  5382110000          0             0\n2022-06-10  12052.589844  12082.690430  11825.349609  11832.820312  5125980000          0             0\n2022-06-13  11472.185547  11568.645508  11254.184570  11295.958008   874560760          0             0",
            "text/html": "\u003cdiv\u003e\n\u003cstyle scoped\u003e\n    .dataframe tbody tr th:only-of-type {\n        vertical-align: middle;\n    }\n\n    .dataframe tbody tr th {\n        vertical-align: top;\n    }\n\n    .dataframe thead th {\n        text-align: right;\n    }\n\u003c/style\u003e\n\u003ctable border\u003d\"1\" class\u003d\"dataframe\"\u003e\n  \u003cthead\u003e\n    \u003ctr style\u003d\"text-align: right;\"\u003e\n      \u003cth\u003e\u003c/th\u003e\n      \u003cth\u003eOpen\u003c/th\u003e\n      \u003cth\u003eHigh\u003c/th\u003e\n      \u003cth\u003eLow\u003c/th\u003e\n      \u003cth\u003eClose\u003c/th\u003e\n      \u003cth\u003eVolume\u003c/th\u003e\n      \u003cth\u003eDividends\u003c/th\u003e\n      \u003cth\u003eStock Splits\u003c/th\u003e\n    \u003c/tr\u003e\n    \u003ctr\u003e\n      \u003cth\u003eDate\u003c/th\u003e\n      \u003cth\u003e\u003c/th\u003e\n      \u003cth\u003e\u003c/th\u003e\n      \u003cth\u003e\u003c/th\u003e\n      \u003cth\u003e\u003c/th\u003e\n      \u003cth\u003e\u003c/th\u003e\n      \u003cth\u003e\u003c/th\u003e\n      \u003cth\u003e\u003c/th\u003e\n    \u003c/tr\u003e\n  \u003c/thead\u003e\n  \u003ctbody\u003e\n    \u003ctr\u003e\n      \u003cth\u003e2022-06-07\u003c/th\u003e\n      \u003ctd\u003e12456.490234\u003c/td\u003e\n      \u003ctd\u003e12737.299805\u003c/td\u003e\n      \u003ctd\u003e12413.559570\u003c/td\u003e\n      \u003ctd\u003e12711.679688\u003c/td\u003e\n      \u003ctd\u003e4383960000\u003c/td\u003e\n      \u003ctd\u003e0\u003c/td\u003e\n      \u003ctd\u003e0\u003c/td\u003e\n    \u003c/tr\u003e\n    \u003ctr\u003e\n      \u003cth\u003e2022-06-08\u003c/th\u003e\n      \u003ctd\u003e12682.809570\u003c/td\u003e\n      \u003ctd\u003e12776.650391\u003c/td\u003e\n      \u003ctd\u003e12578.549805\u003c/td\u003e\n      \u003ctd\u003e12615.129883\u003c/td\u003e\n      \u003ctd\u003e4689310000\u003c/td\u003e\n      \u003ctd\u003e0\u003c/td\u003e\n      \u003ctd\u003e0\u003c/td\u003e\n    \u003c/tr\u003e\n    \u003ctr\u003e\n      \u003cth\u003e2022-06-09\u003c/th\u003e\n      \u003ctd\u003e12543.370117\u003c/td\u003e\n      \u003ctd\u003e12666.410156\u003c/td\u003e\n      \u003ctd\u003e12265.860352\u003c/td\u003e\n      \u003ctd\u003e12269.780273\u003c/td\u003e\n      \u003ctd\u003e5382110000\u003c/td\u003e\n      \u003ctd\u003e0\u003c/td\u003e\n      \u003ctd\u003e0\u003c/td\u003e\n    \u003c/tr\u003e\n    \u003ctr\u003e\n      \u003cth\u003e2022-06-10\u003c/th\u003e\n      \u003ctd\u003e12052.589844\u003c/td\u003e\n      \u003ctd\u003e12082.690430\u003c/td\u003e\n      \u003ctd\u003e11825.349609\u003c/td\u003e\n      \u003ctd\u003e11832.820312\u003c/td\u003e\n      \u003ctd\u003e5125980000\u003c/td\u003e\n      \u003ctd\u003e0\u003c/td\u003e\n      \u003ctd\u003e0\u003c/td\u003e\n    \u003c/tr\u003e\n    \u003ctr\u003e\n      \u003cth\u003e2022-06-13\u003c/th\u003e\n      \u003ctd\u003e11472.185547\u003c/td\u003e\n      \u003ctd\u003e11568.645508\u003c/td\u003e\n      \u003ctd\u003e11254.184570\u003c/td\u003e\n      \u003ctd\u003e11295.958008\u003c/td\u003e\n      \u003ctd\u003e874560760\u003c/td\u003e\n      \u003ctd\u003e0\u003c/td\u003e\n      \u003ctd\u003e0\u003c/td\u003e\n    \u003c/tr\u003e\n  \u003c/tbody\u003e\n\u003c/table\u003e\n\u003c/div\u003e"
          },
          "metadata": {}
        }
      ]
    },
    {
      "execution_count": 6,
      "cell_type": "code",
      "metadata": {},
      "source": [
        "df_historical_data.describe()"
      ],
      "outputs": [
        {
          "output_type": "stream",
          "text": "/Users/Axel/Library/DataScienceStudio/dss_home/code-envs/python/py_v39_finance/lib/python3.9/site-packages/pandas/core/nanops.py:1558: DeprecationWarning: the `interpolation\u003d` argument to percentile was renamed to `method\u003d`, which has additional options.\nUsers of the modes \u0027nearest\u0027, \u0027lower\u0027, \u0027higher\u0027, or \u0027midpoint\u0027 are encouraged to review the method they. (Deprecated NumPy 1.22)\n  return np.percentile(values, q, axis\u003daxis, interpolation\u003dinterpolation)\n",
          "name": "stderr"
        },
        {
          "output_type": "execute_result",
          "execution_count": 6,
          "data": {
            "text/plain": "               Open          High           Low         Close        Volume  Dividends  Stock Splits\ncount   9251.000000   9251.000000   9251.000000   9251.000000  9.251000e+03     9251.0        9251.0\nmean    2716.974857   2739.112562   2693.032053   2717.294083  1.529358e+09        0.0           0.0\nstd     3308.071500   3332.003804   3280.277928   3307.810483  1.189890e+09        0.0           0.0\nmin      107.160004    108.269997    106.750000    107.160004  3.174000e+07        0.0           0.0\n25%      408.910004    411.335007    406.020004    408.910004  4.560500e+08        0.0           0.0\n50%     1599.979980   1613.780029   1585.660034   1600.859985  1.641560e+09        0.0           0.0\n75%     3484.280029   3519.974976   3445.484985   3482.079956  2.032270e+09        0.0           0.0\nmax    16644.769531  16764.859375  16523.830078  16573.339844  1.425090e+10        0.0           0.0",
            "text/html": "\u003cdiv\u003e\n\u003cstyle scoped\u003e\n    .dataframe tbody tr th:only-of-type {\n        vertical-align: middle;\n    }\n\n    .dataframe tbody tr th {\n        vertical-align: top;\n    }\n\n    .dataframe thead th {\n        text-align: right;\n    }\n\u003c/style\u003e\n\u003ctable border\u003d\"1\" class\u003d\"dataframe\"\u003e\n  \u003cthead\u003e\n    \u003ctr style\u003d\"text-align: right;\"\u003e\n      \u003cth\u003e\u003c/th\u003e\n      \u003cth\u003eOpen\u003c/th\u003e\n      \u003cth\u003eHigh\u003c/th\u003e\n      \u003cth\u003eLow\u003c/th\u003e\n      \u003cth\u003eClose\u003c/th\u003e\n      \u003cth\u003eVolume\u003c/th\u003e\n      \u003cth\u003eDividends\u003c/th\u003e\n      \u003cth\u003eStock Splits\u003c/th\u003e\n    \u003c/tr\u003e\n  \u003c/thead\u003e\n  \u003ctbody\u003e\n    \u003ctr\u003e\n      \u003cth\u003ecount\u003c/th\u003e\n      \u003ctd\u003e9251.000000\u003c/td\u003e\n      \u003ctd\u003e9251.000000\u003c/td\u003e\n      \u003ctd\u003e9251.000000\u003c/td\u003e\n      \u003ctd\u003e9251.000000\u003c/td\u003e\n      \u003ctd\u003e9.251000e+03\u003c/td\u003e\n      \u003ctd\u003e9251.0\u003c/td\u003e\n      \u003ctd\u003e9251.0\u003c/td\u003e\n    \u003c/tr\u003e\n    \u003ctr\u003e\n      \u003cth\u003emean\u003c/th\u003e\n      \u003ctd\u003e2716.974857\u003c/td\u003e\n      \u003ctd\u003e2739.112562\u003c/td\u003e\n      \u003ctd\u003e2693.032053\u003c/td\u003e\n      \u003ctd\u003e2717.294083\u003c/td\u003e\n      \u003ctd\u003e1.529358e+09\u003c/td\u003e\n      \u003ctd\u003e0.0\u003c/td\u003e\n      \u003ctd\u003e0.0\u003c/td\u003e\n    \u003c/tr\u003e\n    \u003ctr\u003e\n      \u003cth\u003estd\u003c/th\u003e\n      \u003ctd\u003e3308.071500\u003c/td\u003e\n      \u003ctd\u003e3332.003804\u003c/td\u003e\n      \u003ctd\u003e3280.277928\u003c/td\u003e\n      \u003ctd\u003e3307.810483\u003c/td\u003e\n      \u003ctd\u003e1.189890e+09\u003c/td\u003e\n      \u003ctd\u003e0.0\u003c/td\u003e\n      \u003ctd\u003e0.0\u003c/td\u003e\n    \u003c/tr\u003e\n    \u003ctr\u003e\n      \u003cth\u003emin\u003c/th\u003e\n      \u003ctd\u003e107.160004\u003c/td\u003e\n      \u003ctd\u003e108.269997\u003c/td\u003e\n      \u003ctd\u003e106.750000\u003c/td\u003e\n      \u003ctd\u003e107.160004\u003c/td\u003e\n      \u003ctd\u003e3.174000e+07\u003c/td\u003e\n      \u003ctd\u003e0.0\u003c/td\u003e\n      \u003ctd\u003e0.0\u003c/td\u003e\n    \u003c/tr\u003e\n    \u003ctr\u003e\n      \u003cth\u003e25%\u003c/th\u003e\n      \u003ctd\u003e408.910004\u003c/td\u003e\n      \u003ctd\u003e411.335007\u003c/td\u003e\n      \u003ctd\u003e406.020004\u003c/td\u003e\n      \u003ctd\u003e408.910004\u003c/td\u003e\n      \u003ctd\u003e4.560500e+08\u003c/td\u003e\n      \u003ctd\u003e0.0\u003c/td\u003e\n      \u003ctd\u003e0.0\u003c/td\u003e\n    \u003c/tr\u003e\n    \u003ctr\u003e\n      \u003cth\u003e50%\u003c/th\u003e\n      \u003ctd\u003e1599.979980\u003c/td\u003e\n      \u003ctd\u003e1613.780029\u003c/td\u003e\n      \u003ctd\u003e1585.660034\u003c/td\u003e\n      \u003ctd\u003e1600.859985\u003c/td\u003e\n      \u003ctd\u003e1.641560e+09\u003c/td\u003e\n      \u003ctd\u003e0.0\u003c/td\u003e\n      \u003ctd\u003e0.0\u003c/td\u003e\n    \u003c/tr\u003e\n    \u003ctr\u003e\n      \u003cth\u003e75%\u003c/th\u003e\n      \u003ctd\u003e3484.280029\u003c/td\u003e\n      \u003ctd\u003e3519.974976\u003c/td\u003e\n      \u003ctd\u003e3445.484985\u003c/td\u003e\n      \u003ctd\u003e3482.079956\u003c/td\u003e\n      \u003ctd\u003e2.032270e+09\u003c/td\u003e\n      \u003ctd\u003e0.0\u003c/td\u003e\n      \u003ctd\u003e0.0\u003c/td\u003e\n    \u003c/tr\u003e\n    \u003ctr\u003e\n      \u003cth\u003emax\u003c/th\u003e\n      \u003ctd\u003e16644.769531\u003c/td\u003e\n      \u003ctd\u003e16764.859375\u003c/td\u003e\n      \u003ctd\u003e16523.830078\u003c/td\u003e\n      \u003ctd\u003e16573.339844\u003c/td\u003e\n      \u003ctd\u003e1.425090e+10\u003c/td\u003e\n      \u003ctd\u003e0.0\u003c/td\u003e\n      \u003ctd\u003e0.0\u003c/td\u003e\n    \u003c/tr\u003e\n  \u003c/tbody\u003e\n\u003c/table\u003e\n\u003c/div\u003e"
          },
          "metadata": {}
        }
      ]
    },
    {
      "execution_count": 7,
      "cell_type": "code",
      "metadata": {},
      "source": [
        "df_historical_data.isnull().sum()"
      ],
      "outputs": [
        {
          "output_type": "execute_result",
          "execution_count": 7,
          "data": {
            "text/plain": "Open            0\nHigh            0\nLow             0\nClose           0\nVolume          0\nDividends       0\nStock Splits    0\ndtype: int64"
          },
          "metadata": {}
        }
      ]
    },
    {
      "execution_count": 8,
      "cell_type": "code",
      "metadata": {},
      "source": [
        "df_historical_data.drop(columns\u003d[\"Dividends\",\"Stock Splits\"], inplace\u003dTrue)"
      ],
      "outputs": []
    },
    {
      "execution_count": 9,
      "cell_type": "code",
      "metadata": {},
      "source": [
        "df_historical_data.shape"
      ],
      "outputs": [
        {
          "output_type": "execute_result",
          "execution_count": 9,
          "data": {
            "text/plain": "(9251, 5)"
          },
          "metadata": {}
        }
      ]
    },
    {
      "cell_type": "markdown",
      "metadata": {},
      "source": [
        "### Indicateur technique : MFI ###"
      ]
    },
    {
      "execution_count": 104,
      "cell_type": "code",
      "metadata": {},
      "source": [
        "\u0027\u0027\u0027 Selon MFI Performance v5, toutes les valeurs suivantes surperforment le Buy \u0026 Hold.\nElles ont toutefois des périodes allant du simple au triple,\net un nombre de trades différent\u0027\u0027\u0027\nmfi_list \u003d [10,14,17,34]"
      ],
      "outputs": []
    },
    {
      "execution_count": 105,
      "cell_type": "code",
      "metadata": {},
      "source": [
        "df_mfi \u003d df_historical_data.copy()\n\n# Passade des dates d\u0027index à colonne\ndf_mfi.reset_index(inplace\u003dTrue)"
      ],
      "outputs": []
    },
    {
      "execution_count": 106,
      "cell_type": "code",
      "metadata": {},
      "source": [
        "for w in mfi_list :\n    s_mfi \u003d MFIIndicator(\n        high \u003d df_historical_data.High, \n        low \u003d df_historical_data.Low, \n        close \u003d df_historical_data.Close, \n        volume \u003d df_historical_data.Volume, \n        window \u003d w\n    ).money_flow_index()\n    \n    # Ajout de la série en tant que colonne + arrondi\n    # to_list() semble nécessaire dans cette version de Python ?!\n    df_mfi[\u0027MFI_\u0027+str(w)] \u003d round(s_mfi, 2).to_list()\n    \n    # Pointeur sur la période maximale\n    w_max \u003d w"
      ],
      "outputs": []
    },
    {
      "execution_count": 107,
      "cell_type": "code",
      "metadata": {},
      "source": [
        "# Démarrage lorsque tous les MFI sont renseignés\ndf_mfi \u003d df_mfi.loc[(w_max-1):]\ndf_mfi.reset_index(drop\u003dTrue, inplace\u003dTrue)"
      ],
      "outputs": []
    },
    {
      "execution_count": 108,
      "cell_type": "code",
      "metadata": {},
      "source": [
        "df_mfi.isnull().sum()"
      ],
      "outputs": [
        {
          "output_type": "execute_result",
          "execution_count": 108,
          "data": {
            "text/plain": "Date      0\nOpen      0\nHigh      0\nLow       0\nClose     0\nVolume    0\nMFI_10    0\nMFI_14    0\nMFI_17    0\nMFI_34    0\ndtype: int64"
          },
          "metadata": {}
        }
      ]
    },
    {
      "execution_count": 109,
      "cell_type": "code",
      "metadata": {},
      "source": [
        "df_mfi.tail()"
      ],
      "outputs": [
        {
          "output_type": "execute_result",
          "execution_count": 109,
          "data": {
            "text/plain": "           Date          Open          High           Low         Close      Volume  MFI_10  MFI_14  MFI_17  MFI_34\n9213 2022-06-07  12456.490234  12737.299805  12413.559570  12711.679688  4383960000   61.99   50.47   54.08   38.02\n9214 2022-06-08  12682.809570  12776.650391  12578.549805  12615.129883  4689310000   71.66   57.79   53.50   40.87\n9215 2022-06-09  12543.370117  12666.410156  12265.860352  12269.780273  5382110000   61.16   57.41   53.15   40.97\n9216 2022-06-10  12052.589844  12082.690430  11825.349609  11832.820312  5125980000   51.35   57.60   47.00   40.95\n9217 2022-06-13  11472.185547  11568.645508  11254.184570  11295.958008   874560760   45.16   53.93   49.49   42.02",
            "text/html": "\u003cdiv\u003e\n\u003cstyle scoped\u003e\n    .dataframe tbody tr th:only-of-type {\n        vertical-align: middle;\n    }\n\n    .dataframe tbody tr th {\n        vertical-align: top;\n    }\n\n    .dataframe thead th {\n        text-align: right;\n    }\n\u003c/style\u003e\n\u003ctable border\u003d\"1\" class\u003d\"dataframe\"\u003e\n  \u003cthead\u003e\n    \u003ctr style\u003d\"text-align: right;\"\u003e\n      \u003cth\u003e\u003c/th\u003e\n      \u003cth\u003eDate\u003c/th\u003e\n      \u003cth\u003eOpen\u003c/th\u003e\n      \u003cth\u003eHigh\u003c/th\u003e\n      \u003cth\u003eLow\u003c/th\u003e\n      \u003cth\u003eClose\u003c/th\u003e\n      \u003cth\u003eVolume\u003c/th\u003e\n      \u003cth\u003eMFI_10\u003c/th\u003e\n      \u003cth\u003eMFI_14\u003c/th\u003e\n      \u003cth\u003eMFI_17\u003c/th\u003e\n      \u003cth\u003eMFI_34\u003c/th\u003e\n    \u003c/tr\u003e\n  \u003c/thead\u003e\n  \u003ctbody\u003e\n    \u003ctr\u003e\n      \u003cth\u003e9213\u003c/th\u003e\n      \u003ctd\u003e2022-06-07\u003c/td\u003e\n      \u003ctd\u003e12456.490234\u003c/td\u003e\n      \u003ctd\u003e12737.299805\u003c/td\u003e\n      \u003ctd\u003e12413.559570\u003c/td\u003e\n      \u003ctd\u003e12711.679688\u003c/td\u003e\n      \u003ctd\u003e4383960000\u003c/td\u003e\n      \u003ctd\u003e61.99\u003c/td\u003e\n      \u003ctd\u003e50.47\u003c/td\u003e\n      \u003ctd\u003e54.08\u003c/td\u003e\n      \u003ctd\u003e38.02\u003c/td\u003e\n    \u003c/tr\u003e\n    \u003ctr\u003e\n      \u003cth\u003e9214\u003c/th\u003e\n      \u003ctd\u003e2022-06-08\u003c/td\u003e\n      \u003ctd\u003e12682.809570\u003c/td\u003e\n      \u003ctd\u003e12776.650391\u003c/td\u003e\n      \u003ctd\u003e12578.549805\u003c/td\u003e\n      \u003ctd\u003e12615.129883\u003c/td\u003e\n      \u003ctd\u003e4689310000\u003c/td\u003e\n      \u003ctd\u003e71.66\u003c/td\u003e\n      \u003ctd\u003e57.79\u003c/td\u003e\n      \u003ctd\u003e53.50\u003c/td\u003e\n      \u003ctd\u003e40.87\u003c/td\u003e\n    \u003c/tr\u003e\n    \u003ctr\u003e\n      \u003cth\u003e9215\u003c/th\u003e\n      \u003ctd\u003e2022-06-09\u003c/td\u003e\n      \u003ctd\u003e12543.370117\u003c/td\u003e\n      \u003ctd\u003e12666.410156\u003c/td\u003e\n      \u003ctd\u003e12265.860352\u003c/td\u003e\n      \u003ctd\u003e12269.780273\u003c/td\u003e\n      \u003ctd\u003e5382110000\u003c/td\u003e\n      \u003ctd\u003e61.16\u003c/td\u003e\n      \u003ctd\u003e57.41\u003c/td\u003e\n      \u003ctd\u003e53.15\u003c/td\u003e\n      \u003ctd\u003e40.97\u003c/td\u003e\n    \u003c/tr\u003e\n    \u003ctr\u003e\n      \u003cth\u003e9216\u003c/th\u003e\n      \u003ctd\u003e2022-06-10\u003c/td\u003e\n      \u003ctd\u003e12052.589844\u003c/td\u003e\n      \u003ctd\u003e12082.690430\u003c/td\u003e\n      \u003ctd\u003e11825.349609\u003c/td\u003e\n      \u003ctd\u003e11832.820312\u003c/td\u003e\n      \u003ctd\u003e5125980000\u003c/td\u003e\n      \u003ctd\u003e51.35\u003c/td\u003e\n      \u003ctd\u003e57.60\u003c/td\u003e\n      \u003ctd\u003e47.00\u003c/td\u003e\n      \u003ctd\u003e40.95\u003c/td\u003e\n    \u003c/tr\u003e\n    \u003ctr\u003e\n      \u003cth\u003e9217\u003c/th\u003e\n      \u003ctd\u003e2022-06-13\u003c/td\u003e\n      \u003ctd\u003e11472.185547\u003c/td\u003e\n      \u003ctd\u003e11568.645508\u003c/td\u003e\n      \u003ctd\u003e11254.184570\u003c/td\u003e\n      \u003ctd\u003e11295.958008\u003c/td\u003e\n      \u003ctd\u003e874560760\u003c/td\u003e\n      \u003ctd\u003e45.16\u003c/td\u003e\n      \u003ctd\u003e53.93\u003c/td\u003e\n      \u003ctd\u003e49.49\u003c/td\u003e\n      \u003ctd\u003e42.02\u003c/td\u003e\n    \u003c/tr\u003e\n  \u003c/tbody\u003e\n\u003c/table\u003e\n\u003c/div\u003e"
          },
          "metadata": {}
        }
      ]
    },
    {
      "execution_count": 110,
      "cell_type": "code",
      "metadata": {},
      "source": [
        "df_mfi.shape"
      ],
      "outputs": [
        {
          "output_type": "execute_result",
          "execution_count": 110,
          "data": {
            "text/plain": "(9218, 10)"
          },
          "metadata": {}
        }
      ]
    },
    {
      "cell_type": "markdown",
      "metadata": {},
      "source": [
        "To Do :\n\u003cli\u003e SMA on MFI\u003c/li\u003e\n\u003cli\u003e MFI var compared to -3, -5, -8 jours\u003c/li\u003e"
      ]
    }
  ]
}