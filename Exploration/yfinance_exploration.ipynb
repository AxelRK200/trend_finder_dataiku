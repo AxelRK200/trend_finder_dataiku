{
  "metadata": {
    "kernelspec": {
      "name": "py-dku-venv-py_v39_finance",
      "display_name": "Python (env py_v39_finance)",
      "language": "python"
    },
    "creator": "admin",
    "createdOn": 1654897549622,
    "tags": [],
    "customFields": {},
    "hide_input": false,
    "language_info": {
      "name": "python",
      "version": "3.9.0",
      "mimetype": "text/x-python",
      "codemirror_mode": {
        "name": "ipython",
        "version": 3
      },
      "pygments_lexer": "ipython3",
      "nbconvert_exporter": "python",
      "file_extension": ".py"
    },
    "modifiedBy": "admin"
  },
  "nbformat": 4,
  "nbformat_minor": 1,
  "cells": [
    {
      "execution_count": 1,
      "cell_type": "code",
      "metadata": {},
      "source": [
        "import dataiku\nfrom dataiku import pandasutils as pdu\nimport pandas as pd\nimport yfinance as yf"
      ],
      "outputs": []
    },
    {
      "execution_count": 3,
      "cell_type": "code",
      "metadata": {},
      "source": [
        "ndx \u003d yf.Ticker(\"^NDX\")"
      ],
      "outputs": []
    },
    {
      "cell_type": "markdown",
      "metadata": {},
      "source": [
        "Valid intervals: [1m, 2m, 5m, 15m, 30m, 60m, 90m, 1h, 1d, 5d, 1wk, 1mo, 3mo] \u003cbr/\u003e\nvalid periods: 1d,5d,1mo,3mo,6mo,1y,2y,5y,10y,ytd,max"
      ]
    },
    {
      "execution_count": 38,
      "cell_type": "code",
      "metadata": {},
      "source": [
        "df_historical_data_intraday \u003d ndx.history(interval\u003d\"1h\", period\u003d\"2y\")\ndf_historical_data_intraday.head()"
      ],
      "outputs": [
        {
          "output_type": "execute_result",
          "execution_count": 38,
          "data": {
            "text/plain": "                                  Open         High          Low        Close     Volume  Dividends  Stock Splits\n2020-06-11 09:30:00-04:00  9909.553711  9969.127930  9875.968750  9935.343750          0          0             0\n2020-06-11 10:30:00-04:00  9932.698242  9977.778320  9872.724609  9898.992188  294129910          0             0\n2020-06-11 11:30:00-04:00  9899.120117  9903.159180  9765.940430  9780.107422   92581018          0             0\n2020-06-11 12:30:00-04:00  9778.772461  9813.184570  9701.581055  9754.187500   87756320          0             0\n2020-06-11 13:30:00-04:00  9754.617188  9769.885742  9685.639648  9711.245117   73207855          0             0",
            "text/html": "\u003cdiv\u003e\n\u003cstyle scoped\u003e\n    .dataframe tbody tr th:only-of-type {\n        vertical-align: middle;\n    }\n\n    .dataframe tbody tr th {\n        vertical-align: top;\n    }\n\n    .dataframe thead th {\n        text-align: right;\n    }\n\u003c/style\u003e\n\u003ctable border\u003d\"1\" class\u003d\"dataframe\"\u003e\n  \u003cthead\u003e\n    \u003ctr style\u003d\"text-align: right;\"\u003e\n      \u003cth\u003e\u003c/th\u003e\n      \u003cth\u003eOpen\u003c/th\u003e\n      \u003cth\u003eHigh\u003c/th\u003e\n      \u003cth\u003eLow\u003c/th\u003e\n      \u003cth\u003eClose\u003c/th\u003e\n      \u003cth\u003eVolume\u003c/th\u003e\n      \u003cth\u003eDividends\u003c/th\u003e\n      \u003cth\u003eStock Splits\u003c/th\u003e\n    \u003c/tr\u003e\n  \u003c/thead\u003e\n  \u003ctbody\u003e\n    \u003ctr\u003e\n      \u003cth\u003e2020-06-11 09:30:00-04:00\u003c/th\u003e\n      \u003ctd\u003e9909.553711\u003c/td\u003e\n      \u003ctd\u003e9969.127930\u003c/td\u003e\n      \u003ctd\u003e9875.968750\u003c/td\u003e\n      \u003ctd\u003e9935.343750\u003c/td\u003e\n      \u003ctd\u003e0\u003c/td\u003e\n      \u003ctd\u003e0\u003c/td\u003e\n      \u003ctd\u003e0\u003c/td\u003e\n    \u003c/tr\u003e\n    \u003ctr\u003e\n      \u003cth\u003e2020-06-11 10:30:00-04:00\u003c/th\u003e\n      \u003ctd\u003e9932.698242\u003c/td\u003e\n      \u003ctd\u003e9977.778320\u003c/td\u003e\n      \u003ctd\u003e9872.724609\u003c/td\u003e\n      \u003ctd\u003e9898.992188\u003c/td\u003e\n      \u003ctd\u003e294129910\u003c/td\u003e\n      \u003ctd\u003e0\u003c/td\u003e\n      \u003ctd\u003e0\u003c/td\u003e\n    \u003c/tr\u003e\n    \u003ctr\u003e\n      \u003cth\u003e2020-06-11 11:30:00-04:00\u003c/th\u003e\n      \u003ctd\u003e9899.120117\u003c/td\u003e\n      \u003ctd\u003e9903.159180\u003c/td\u003e\n      \u003ctd\u003e9765.940430\u003c/td\u003e\n      \u003ctd\u003e9780.107422\u003c/td\u003e\n      \u003ctd\u003e92581018\u003c/td\u003e\n      \u003ctd\u003e0\u003c/td\u003e\n      \u003ctd\u003e0\u003c/td\u003e\n    \u003c/tr\u003e\n    \u003ctr\u003e\n      \u003cth\u003e2020-06-11 12:30:00-04:00\u003c/th\u003e\n      \u003ctd\u003e9778.772461\u003c/td\u003e\n      \u003ctd\u003e9813.184570\u003c/td\u003e\n      \u003ctd\u003e9701.581055\u003c/td\u003e\n      \u003ctd\u003e9754.187500\u003c/td\u003e\n      \u003ctd\u003e87756320\u003c/td\u003e\n      \u003ctd\u003e0\u003c/td\u003e\n      \u003ctd\u003e0\u003c/td\u003e\n    \u003c/tr\u003e\n    \u003ctr\u003e\n      \u003cth\u003e2020-06-11 13:30:00-04:00\u003c/th\u003e\n      \u003ctd\u003e9754.617188\u003c/td\u003e\n      \u003ctd\u003e9769.885742\u003c/td\u003e\n      \u003ctd\u003e9685.639648\u003c/td\u003e\n      \u003ctd\u003e9711.245117\u003c/td\u003e\n      \u003ctd\u003e73207855\u003c/td\u003e\n      \u003ctd\u003e0\u003c/td\u003e\n      \u003ctd\u003e0\u003c/td\u003e\n    \u003c/tr\u003e\n  \u003c/tbody\u003e\n\u003c/table\u003e\n\u003c/div\u003e"
          },
          "metadata": {}
        }
      ]
    },
    {
      "cell_type": "markdown",
      "metadata": {},
      "source": [
        "En intervalle de temps 1h, les données ne peuvent remonter que jusqu\u0027à 2 ans max"
      ]
    },
    {
      "execution_count": 40,
      "cell_type": "code",
      "metadata": {},
      "source": [
        "# Comparaison des données Daily avec valeurs investpy #\ndf_historical_data \u003d ndx.history(interval\u003d\"1d\", period\u003d\"max\")\ndf_historical_data.head()"
      ],
      "outputs": [
        {
          "output_type": "execute_result",
          "execution_count": 40,
          "data": {
            "text/plain": "                  Open        High         Low       Close     Volume  Dividends  Stock Splits\nDate                                                                                          \n1985-10-01  110.620003  112.160004  110.565002  112.139999  153160000          0             0\n1985-10-02  112.139999  112.540001  110.779999  110.824997  164640000          0             0\n1985-10-03  110.839996  111.184998  110.120003  110.870003  147300000          0             0\n1985-10-04  110.870003  110.870003  109.855003  110.074997  147900000          0             0\n1985-10-07  110.074997  110.135002  108.175003  108.199997  128640000          0             0",
            "text/html": "\u003cdiv\u003e\n\u003cstyle scoped\u003e\n    .dataframe tbody tr th:only-of-type {\n        vertical-align: middle;\n    }\n\n    .dataframe tbody tr th {\n        vertical-align: top;\n    }\n\n    .dataframe thead th {\n        text-align: right;\n    }\n\u003c/style\u003e\n\u003ctable border\u003d\"1\" class\u003d\"dataframe\"\u003e\n  \u003cthead\u003e\n    \u003ctr style\u003d\"text-align: right;\"\u003e\n      \u003cth\u003e\u003c/th\u003e\n      \u003cth\u003eOpen\u003c/th\u003e\n      \u003cth\u003eHigh\u003c/th\u003e\n      \u003cth\u003eLow\u003c/th\u003e\n      \u003cth\u003eClose\u003c/th\u003e\n      \u003cth\u003eVolume\u003c/th\u003e\n      \u003cth\u003eDividends\u003c/th\u003e\n      \u003cth\u003eStock Splits\u003c/th\u003e\n    \u003c/tr\u003e\n    \u003ctr\u003e\n      \u003cth\u003eDate\u003c/th\u003e\n      \u003cth\u003e\u003c/th\u003e\n      \u003cth\u003e\u003c/th\u003e\n      \u003cth\u003e\u003c/th\u003e\n      \u003cth\u003e\u003c/th\u003e\n      \u003cth\u003e\u003c/th\u003e\n      \u003cth\u003e\u003c/th\u003e\n      \u003cth\u003e\u003c/th\u003e\n    \u003c/tr\u003e\n  \u003c/thead\u003e\n  \u003ctbody\u003e\n    \u003ctr\u003e\n      \u003cth\u003e1985-10-01\u003c/th\u003e\n      \u003ctd\u003e110.620003\u003c/td\u003e\n      \u003ctd\u003e112.160004\u003c/td\u003e\n      \u003ctd\u003e110.565002\u003c/td\u003e\n      \u003ctd\u003e112.139999\u003c/td\u003e\n      \u003ctd\u003e153160000\u003c/td\u003e\n      \u003ctd\u003e0\u003c/td\u003e\n      \u003ctd\u003e0\u003c/td\u003e\n    \u003c/tr\u003e\n    \u003ctr\u003e\n      \u003cth\u003e1985-10-02\u003c/th\u003e\n      \u003ctd\u003e112.139999\u003c/td\u003e\n      \u003ctd\u003e112.540001\u003c/td\u003e\n      \u003ctd\u003e110.779999\u003c/td\u003e\n      \u003ctd\u003e110.824997\u003c/td\u003e\n      \u003ctd\u003e164640000\u003c/td\u003e\n      \u003ctd\u003e0\u003c/td\u003e\n      \u003ctd\u003e0\u003c/td\u003e\n    \u003c/tr\u003e\n    \u003ctr\u003e\n      \u003cth\u003e1985-10-03\u003c/th\u003e\n      \u003ctd\u003e110.839996\u003c/td\u003e\n      \u003ctd\u003e111.184998\u003c/td\u003e\n      \u003ctd\u003e110.120003\u003c/td\u003e\n      \u003ctd\u003e110.870003\u003c/td\u003e\n      \u003ctd\u003e147300000\u003c/td\u003e\n      \u003ctd\u003e0\u003c/td\u003e\n      \u003ctd\u003e0\u003c/td\u003e\n    \u003c/tr\u003e\n    \u003ctr\u003e\n      \u003cth\u003e1985-10-04\u003c/th\u003e\n      \u003ctd\u003e110.870003\u003c/td\u003e\n      \u003ctd\u003e110.870003\u003c/td\u003e\n      \u003ctd\u003e109.855003\u003c/td\u003e\n      \u003ctd\u003e110.074997\u003c/td\u003e\n      \u003ctd\u003e147900000\u003c/td\u003e\n      \u003ctd\u003e0\u003c/td\u003e\n      \u003ctd\u003e0\u003c/td\u003e\n    \u003c/tr\u003e\n    \u003ctr\u003e\n      \u003cth\u003e1985-10-07\u003c/th\u003e\n      \u003ctd\u003e110.074997\u003c/td\u003e\n      \u003ctd\u003e110.135002\u003c/td\u003e\n      \u003ctd\u003e108.175003\u003c/td\u003e\n      \u003ctd\u003e108.199997\u003c/td\u003e\n      \u003ctd\u003e128640000\u003c/td\u003e\n      \u003ctd\u003e0\u003c/td\u003e\n      \u003ctd\u003e0\u003c/td\u003e\n    \u003c/tr\u003e\n  \u003c/tbody\u003e\n\u003c/table\u003e\n\u003c/div\u003e"
          },
          "metadata": {}
        }
      ]
    },
    {
      "execution_count": 41,
      "cell_type": "code",
      "metadata": {},
      "source": [
        "df_historical_data.tail()"
      ],
      "outputs": [
        {
          "output_type": "execute_result",
          "execution_count": 41,
          "data": {
            "text/plain": "                    Open          High           Low         Close      Volume  Dividends  Stock Splits\nDate                                                                                                   \n2022-06-06  12745.889648  12804.459961  12534.580078  12599.629883  4633950000          0             0\n2022-06-07  12456.490234  12737.299805  12413.559570  12711.679688  4383960000          0             0\n2022-06-08  12682.809570  12776.650391  12578.549805  12615.129883  4689310000          0             0\n2022-06-09  12543.370117  12666.410156  12265.860352  12269.780273  5382110000          0             0\n2022-06-10  12052.599609  12082.694336  11825.351562  11832.820312   955974912          0             0",
            "text/html": "\u003cdiv\u003e\n\u003cstyle scoped\u003e\n    .dataframe tbody tr th:only-of-type {\n        vertical-align: middle;\n    }\n\n    .dataframe tbody tr th {\n        vertical-align: top;\n    }\n\n    .dataframe thead th {\n        text-align: right;\n    }\n\u003c/style\u003e\n\u003ctable border\u003d\"1\" class\u003d\"dataframe\"\u003e\n  \u003cthead\u003e\n    \u003ctr style\u003d\"text-align: right;\"\u003e\n      \u003cth\u003e\u003c/th\u003e\n      \u003cth\u003eOpen\u003c/th\u003e\n      \u003cth\u003eHigh\u003c/th\u003e\n      \u003cth\u003eLow\u003c/th\u003e\n      \u003cth\u003eClose\u003c/th\u003e\n      \u003cth\u003eVolume\u003c/th\u003e\n      \u003cth\u003eDividends\u003c/th\u003e\n      \u003cth\u003eStock Splits\u003c/th\u003e\n    \u003c/tr\u003e\n    \u003ctr\u003e\n      \u003cth\u003eDate\u003c/th\u003e\n      \u003cth\u003e\u003c/th\u003e\n      \u003cth\u003e\u003c/th\u003e\n      \u003cth\u003e\u003c/th\u003e\n      \u003cth\u003e\u003c/th\u003e\n      \u003cth\u003e\u003c/th\u003e\n      \u003cth\u003e\u003c/th\u003e\n      \u003cth\u003e\u003c/th\u003e\n    \u003c/tr\u003e\n  \u003c/thead\u003e\n  \u003ctbody\u003e\n    \u003ctr\u003e\n      \u003cth\u003e2022-06-06\u003c/th\u003e\n      \u003ctd\u003e12745.889648\u003c/td\u003e\n      \u003ctd\u003e12804.459961\u003c/td\u003e\n      \u003ctd\u003e12534.580078\u003c/td\u003e\n      \u003ctd\u003e12599.629883\u003c/td\u003e\n      \u003ctd\u003e4633950000\u003c/td\u003e\n      \u003ctd\u003e0\u003c/td\u003e\n      \u003ctd\u003e0\u003c/td\u003e\n    \u003c/tr\u003e\n    \u003ctr\u003e\n      \u003cth\u003e2022-06-07\u003c/th\u003e\n      \u003ctd\u003e12456.490234\u003c/td\u003e\n      \u003ctd\u003e12737.299805\u003c/td\u003e\n      \u003ctd\u003e12413.559570\u003c/td\u003e\n      \u003ctd\u003e12711.679688\u003c/td\u003e\n      \u003ctd\u003e4383960000\u003c/td\u003e\n      \u003ctd\u003e0\u003c/td\u003e\n      \u003ctd\u003e0\u003c/td\u003e\n    \u003c/tr\u003e\n    \u003ctr\u003e\n      \u003cth\u003e2022-06-08\u003c/th\u003e\n      \u003ctd\u003e12682.809570\u003c/td\u003e\n      \u003ctd\u003e12776.650391\u003c/td\u003e\n      \u003ctd\u003e12578.549805\u003c/td\u003e\n      \u003ctd\u003e12615.129883\u003c/td\u003e\n      \u003ctd\u003e4689310000\u003c/td\u003e\n      \u003ctd\u003e0\u003c/td\u003e\n      \u003ctd\u003e0\u003c/td\u003e\n    \u003c/tr\u003e\n    \u003ctr\u003e\n      \u003cth\u003e2022-06-09\u003c/th\u003e\n      \u003ctd\u003e12543.370117\u003c/td\u003e\n      \u003ctd\u003e12666.410156\u003c/td\u003e\n      \u003ctd\u003e12265.860352\u003c/td\u003e\n      \u003ctd\u003e12269.780273\u003c/td\u003e\n      \u003ctd\u003e5382110000\u003c/td\u003e\n      \u003ctd\u003e0\u003c/td\u003e\n      \u003ctd\u003e0\u003c/td\u003e\n    \u003c/tr\u003e\n    \u003ctr\u003e\n      \u003cth\u003e2022-06-10\u003c/th\u003e\n      \u003ctd\u003e12052.599609\u003c/td\u003e\n      \u003ctd\u003e12082.694336\u003c/td\u003e\n      \u003ctd\u003e11825.351562\u003c/td\u003e\n      \u003ctd\u003e11832.820312\u003c/td\u003e\n      \u003ctd\u003e955974912\u003c/td\u003e\n      \u003ctd\u003e0\u003c/td\u003e\n      \u003ctd\u003e0\u003c/td\u003e\n    \u003c/tr\u003e\n  \u003c/tbody\u003e\n\u003c/table\u003e\n\u003c/div\u003e"
          },
          "metadata": {}
        }
      ]
    },
    {
      "execution_count": 0,
      "cell_type": "code",
      "metadata": {},
      "source": [
        ""
      ],
      "outputs": []
    }
  ]
}