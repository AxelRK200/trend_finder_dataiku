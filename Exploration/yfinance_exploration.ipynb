{
  "metadata": {
    "kernelspec": {
      "name": "py-dku-venv-py_v39_finance",
      "display_name": "Python (env py_v39_finance)",
      "language": "python"
    },
    "creator": "admin",
    "createdOn": 1654897549622,
    "tags": [],
    "customFields": {},
    "hide_input": false,
    "language_info": {
      "name": "python",
      "version": "3.9.0",
      "mimetype": "text/x-python",
      "codemirror_mode": {
        "name": "ipython",
        "version": 3
      },
      "pygments_lexer": "ipython3",
      "nbconvert_exporter": "python",
      "file_extension": ".py"
    },
    "modifiedBy": "admin"
  },
  "nbformat": 4,
  "nbformat_minor": 1,
  "cells": [
    {
      "execution_count": 1,
      "cell_type": "code",
      "metadata": {},
      "source": [
        "import dataiku\nfrom dataiku import pandasutils as pdu\nimport pandas as pd\nimport numpy as np\n\nimport yfinance as yf\nfrom ta.volume import MFIIndicator\n\nimport seaborn as sns\nfrom copy import copy\nimport matplotlib.pyplot as plt\nimport statistics as stats\nimport math"
      ],
      "outputs": []
    },
    {
      "execution_count": 2,
      "cell_type": "code",
      "metadata": {},
      "source": [
        "ndx \u003d yf.Ticker(\"^NDX\")"
      ],
      "outputs": []
    },
    {
      "cell_type": "markdown",
      "metadata": {},
      "source": [
        "Valid intervals: [1m, 2m, 5m, 15m, 30m, 60m, 90m, 1h, 1d, 5d, 1wk, 1mo, 3mo] \u003cbr/\u003e\nvalid periods: 1d,5d,1mo,3mo,6mo,1y,2y,5y,10y,ytd,max"
      ]
    },
    {
      "cell_type": "markdown",
      "metadata": {
        "heading_collapsed": true
      },
      "source": [
        "# Données intraday #"
      ]
    },
    {
      "execution_count": 3,
      "cell_type": "code",
      "metadata": {
        "hidden": true
      },
      "source": [
        "df_historical_data_intraday \u003d ndx.history(interval\u003d\"1h\", period\u003d\"2y\")\ndf_historical_data_intraday.head()"
      ],
      "outputs": [
        {
          "output_type": "execute_result",
          "execution_count": 3,
          "data": {
            "text/plain": "                                  Open         High          Low        Close     Volume  Dividends  Stock Splits\n2020-06-15 09:30:00-04:00  9527.608398  9634.824219  9490.064453  9593.790039          0          0             0\n2020-06-15 10:30:00-04:00  9589.933594  9637.882812  9563.643555  9619.818359  226464349          0             0\n2020-06-15 11:30:00-04:00  9619.604492  9677.968750  9600.012695  9669.588867   66796782          0             0\n2020-06-15 12:30:00-04:00  9669.153320  9712.153320  9657.898438  9695.222656   62745422          0             0\n2020-06-15 13:30:00-04:00  9694.538086  9807.669922  9690.604492  9798.049805   79934093          0             0",
            "text/html": "\u003cdiv\u003e\n\u003cstyle scoped\u003e\n    .dataframe tbody tr th:only-of-type {\n        vertical-align: middle;\n    }\n\n    .dataframe tbody tr th {\n        vertical-align: top;\n    }\n\n    .dataframe thead th {\n        text-align: right;\n    }\n\u003c/style\u003e\n\u003ctable border\u003d\"1\" class\u003d\"dataframe\"\u003e\n  \u003cthead\u003e\n    \u003ctr style\u003d\"text-align: right;\"\u003e\n      \u003cth\u003e\u003c/th\u003e\n      \u003cth\u003eOpen\u003c/th\u003e\n      \u003cth\u003eHigh\u003c/th\u003e\n      \u003cth\u003eLow\u003c/th\u003e\n      \u003cth\u003eClose\u003c/th\u003e\n      \u003cth\u003eVolume\u003c/th\u003e\n      \u003cth\u003eDividends\u003c/th\u003e\n      \u003cth\u003eStock Splits\u003c/th\u003e\n    \u003c/tr\u003e\n  \u003c/thead\u003e\n  \u003ctbody\u003e\n    \u003ctr\u003e\n      \u003cth\u003e2020-06-15 09:30:00-04:00\u003c/th\u003e\n      \u003ctd\u003e9527.608398\u003c/td\u003e\n      \u003ctd\u003e9634.824219\u003c/td\u003e\n      \u003ctd\u003e9490.064453\u003c/td\u003e\n      \u003ctd\u003e9593.790039\u003c/td\u003e\n      \u003ctd\u003e0\u003c/td\u003e\n      \u003ctd\u003e0\u003c/td\u003e\n      \u003ctd\u003e0\u003c/td\u003e\n    \u003c/tr\u003e\n    \u003ctr\u003e\n      \u003cth\u003e2020-06-15 10:30:00-04:00\u003c/th\u003e\n      \u003ctd\u003e9589.933594\u003c/td\u003e\n      \u003ctd\u003e9637.882812\u003c/td\u003e\n      \u003ctd\u003e9563.643555\u003c/td\u003e\n      \u003ctd\u003e9619.818359\u003c/td\u003e\n      \u003ctd\u003e226464349\u003c/td\u003e\n      \u003ctd\u003e0\u003c/td\u003e\n      \u003ctd\u003e0\u003c/td\u003e\n    \u003c/tr\u003e\n    \u003ctr\u003e\n      \u003cth\u003e2020-06-15 11:30:00-04:00\u003c/th\u003e\n      \u003ctd\u003e9619.604492\u003c/td\u003e\n      \u003ctd\u003e9677.968750\u003c/td\u003e\n      \u003ctd\u003e9600.012695\u003c/td\u003e\n      \u003ctd\u003e9669.588867\u003c/td\u003e\n      \u003ctd\u003e66796782\u003c/td\u003e\n      \u003ctd\u003e0\u003c/td\u003e\n      \u003ctd\u003e0\u003c/td\u003e\n    \u003c/tr\u003e\n    \u003ctr\u003e\n      \u003cth\u003e2020-06-15 12:30:00-04:00\u003c/th\u003e\n      \u003ctd\u003e9669.153320\u003c/td\u003e\n      \u003ctd\u003e9712.153320\u003c/td\u003e\n      \u003ctd\u003e9657.898438\u003c/td\u003e\n      \u003ctd\u003e9695.222656\u003c/td\u003e\n      \u003ctd\u003e62745422\u003c/td\u003e\n      \u003ctd\u003e0\u003c/td\u003e\n      \u003ctd\u003e0\u003c/td\u003e\n    \u003c/tr\u003e\n    \u003ctr\u003e\n      \u003cth\u003e2020-06-15 13:30:00-04:00\u003c/th\u003e\n      \u003ctd\u003e9694.538086\u003c/td\u003e\n      \u003ctd\u003e9807.669922\u003c/td\u003e\n      \u003ctd\u003e9690.604492\u003c/td\u003e\n      \u003ctd\u003e9798.049805\u003c/td\u003e\n      \u003ctd\u003e79934093\u003c/td\u003e\n      \u003ctd\u003e0\u003c/td\u003e\n      \u003ctd\u003e0\u003c/td\u003e\n    \u003c/tr\u003e\n  \u003c/tbody\u003e\n\u003c/table\u003e\n\u003c/div\u003e"
          },
          "metadata": {}
        }
      ]
    },
    {
      "cell_type": "markdown",
      "metadata": {
        "hidden": true
      },
      "source": [
        "En intervalle de temps 1h, les données ne peuvent remonter que jusqu\u0027à 2 ans max"
      ]
    },
    {
      "cell_type": "markdown",
      "metadata": {},
      "source": [
        "# Données Daily #"
      ]
    },
    {
      "cell_type": "markdown",
      "metadata": {},
      "source": [
        "## Exploration liée au Volume selon données yfinance ##"
      ]
    },
    {
      "execution_count": 4,
      "cell_type": "code",
      "metadata": {},
      "source": [
        "# Comparaison des données Daily avec valeurs investpy #\ndf_historical_data \u003d ndx.history(interval\u003d\"1d\", period\u003d\"max\")\ndf_historical_data.head()"
      ],
      "outputs": [
        {
          "output_type": "execute_result",
          "execution_count": 4,
          "data": {
            "text/plain": "                  Open        High         Low       Close     Volume  Dividends  Stock Splits\nDate                                                                                          \n1985-10-01  110.620003  112.160004  110.565002  112.139999  153160000          0             0\n1985-10-02  112.139999  112.540001  110.779999  110.824997  164640000          0             0\n1985-10-03  110.839996  111.184998  110.120003  110.870003  147300000          0             0\n1985-10-04  110.870003  110.870003  109.855003  110.074997  147900000          0             0\n1985-10-07  110.074997  110.135002  108.175003  108.199997  128640000          0             0",
            "text/html": "\u003cdiv\u003e\n\u003cstyle scoped\u003e\n    .dataframe tbody tr th:only-of-type {\n        vertical-align: middle;\n    }\n\n    .dataframe tbody tr th {\n        vertical-align: top;\n    }\n\n    .dataframe thead th {\n        text-align: right;\n    }\n\u003c/style\u003e\n\u003ctable border\u003d\"1\" class\u003d\"dataframe\"\u003e\n  \u003cthead\u003e\n    \u003ctr style\u003d\"text-align: right;\"\u003e\n      \u003cth\u003e\u003c/th\u003e\n      \u003cth\u003eOpen\u003c/th\u003e\n      \u003cth\u003eHigh\u003c/th\u003e\n      \u003cth\u003eLow\u003c/th\u003e\n      \u003cth\u003eClose\u003c/th\u003e\n      \u003cth\u003eVolume\u003c/th\u003e\n      \u003cth\u003eDividends\u003c/th\u003e\n      \u003cth\u003eStock Splits\u003c/th\u003e\n    \u003c/tr\u003e\n    \u003ctr\u003e\n      \u003cth\u003eDate\u003c/th\u003e\n      \u003cth\u003e\u003c/th\u003e\n      \u003cth\u003e\u003c/th\u003e\n      \u003cth\u003e\u003c/th\u003e\n      \u003cth\u003e\u003c/th\u003e\n      \u003cth\u003e\u003c/th\u003e\n      \u003cth\u003e\u003c/th\u003e\n      \u003cth\u003e\u003c/th\u003e\n    \u003c/tr\u003e\n  \u003c/thead\u003e\n  \u003ctbody\u003e\n    \u003ctr\u003e\n      \u003cth\u003e1985-10-01\u003c/th\u003e\n      \u003ctd\u003e110.620003\u003c/td\u003e\n      \u003ctd\u003e112.160004\u003c/td\u003e\n      \u003ctd\u003e110.565002\u003c/td\u003e\n      \u003ctd\u003e112.139999\u003c/td\u003e\n      \u003ctd\u003e153160000\u003c/td\u003e\n      \u003ctd\u003e0\u003c/td\u003e\n      \u003ctd\u003e0\u003c/td\u003e\n    \u003c/tr\u003e\n    \u003ctr\u003e\n      \u003cth\u003e1985-10-02\u003c/th\u003e\n      \u003ctd\u003e112.139999\u003c/td\u003e\n      \u003ctd\u003e112.540001\u003c/td\u003e\n      \u003ctd\u003e110.779999\u003c/td\u003e\n      \u003ctd\u003e110.824997\u003c/td\u003e\n      \u003ctd\u003e164640000\u003c/td\u003e\n      \u003ctd\u003e0\u003c/td\u003e\n      \u003ctd\u003e0\u003c/td\u003e\n    \u003c/tr\u003e\n    \u003ctr\u003e\n      \u003cth\u003e1985-10-03\u003c/th\u003e\n      \u003ctd\u003e110.839996\u003c/td\u003e\n      \u003ctd\u003e111.184998\u003c/td\u003e\n      \u003ctd\u003e110.120003\u003c/td\u003e\n      \u003ctd\u003e110.870003\u003c/td\u003e\n      \u003ctd\u003e147300000\u003c/td\u003e\n      \u003ctd\u003e0\u003c/td\u003e\n      \u003ctd\u003e0\u003c/td\u003e\n    \u003c/tr\u003e\n    \u003ctr\u003e\n      \u003cth\u003e1985-10-04\u003c/th\u003e\n      \u003ctd\u003e110.870003\u003c/td\u003e\n      \u003ctd\u003e110.870003\u003c/td\u003e\n      \u003ctd\u003e109.855003\u003c/td\u003e\n      \u003ctd\u003e110.074997\u003c/td\u003e\n      \u003ctd\u003e147900000\u003c/td\u003e\n      \u003ctd\u003e0\u003c/td\u003e\n      \u003ctd\u003e0\u003c/td\u003e\n    \u003c/tr\u003e\n    \u003ctr\u003e\n      \u003cth\u003e1985-10-07\u003c/th\u003e\n      \u003ctd\u003e110.074997\u003c/td\u003e\n      \u003ctd\u003e110.135002\u003c/td\u003e\n      \u003ctd\u003e108.175003\u003c/td\u003e\n      \u003ctd\u003e108.199997\u003c/td\u003e\n      \u003ctd\u003e128640000\u003c/td\u003e\n      \u003ctd\u003e0\u003c/td\u003e\n      \u003ctd\u003e0\u003c/td\u003e\n    \u003c/tr\u003e\n  \u003c/tbody\u003e\n\u003c/table\u003e\n\u003c/div\u003e"
          },
          "metadata": {}
        }
      ]
    },
    {
      "execution_count": 5,
      "cell_type": "code",
      "metadata": {},
      "source": [
        "df_historical_data.tail()"
      ],
      "outputs": [
        {
          "output_type": "execute_result",
          "execution_count": 5,
          "data": {
            "text/plain": "                    Open          High           Low         Close      Volume  Dividends  Stock Splits\nDate                                                                                                   \n2022-06-08  12682.809570  12776.650391  12578.549805  12615.129883  4689310000          0             0\n2022-06-09  12543.370117  12666.410156  12265.860352  12269.780273  5382110000          0             0\n2022-06-10  12052.589844  12082.690430  11825.349609  11832.820312  5125980000          0             0\n2022-06-13  11472.190430  11568.650391  11254.190430  11288.320312  5912360000          0             0\n2022-06-14  11385.200195  11418.217773  11205.923828  11250.227539   629197356          0             0",
            "text/html": "\u003cdiv\u003e\n\u003cstyle scoped\u003e\n    .dataframe tbody tr th:only-of-type {\n        vertical-align: middle;\n    }\n\n    .dataframe tbody tr th {\n        vertical-align: top;\n    }\n\n    .dataframe thead th {\n        text-align: right;\n    }\n\u003c/style\u003e\n\u003ctable border\u003d\"1\" class\u003d\"dataframe\"\u003e\n  \u003cthead\u003e\n    \u003ctr style\u003d\"text-align: right;\"\u003e\n      \u003cth\u003e\u003c/th\u003e\n      \u003cth\u003eOpen\u003c/th\u003e\n      \u003cth\u003eHigh\u003c/th\u003e\n      \u003cth\u003eLow\u003c/th\u003e\n      \u003cth\u003eClose\u003c/th\u003e\n      \u003cth\u003eVolume\u003c/th\u003e\n      \u003cth\u003eDividends\u003c/th\u003e\n      \u003cth\u003eStock Splits\u003c/th\u003e\n    \u003c/tr\u003e\n    \u003ctr\u003e\n      \u003cth\u003eDate\u003c/th\u003e\n      \u003cth\u003e\u003c/th\u003e\n      \u003cth\u003e\u003c/th\u003e\n      \u003cth\u003e\u003c/th\u003e\n      \u003cth\u003e\u003c/th\u003e\n      \u003cth\u003e\u003c/th\u003e\n      \u003cth\u003e\u003c/th\u003e\n      \u003cth\u003e\u003c/th\u003e\n    \u003c/tr\u003e\n  \u003c/thead\u003e\n  \u003ctbody\u003e\n    \u003ctr\u003e\n      \u003cth\u003e2022-06-08\u003c/th\u003e\n      \u003ctd\u003e12682.809570\u003c/td\u003e\n      \u003ctd\u003e12776.650391\u003c/td\u003e\n      \u003ctd\u003e12578.549805\u003c/td\u003e\n      \u003ctd\u003e12615.129883\u003c/td\u003e\n      \u003ctd\u003e4689310000\u003c/td\u003e\n      \u003ctd\u003e0\u003c/td\u003e\n      \u003ctd\u003e0\u003c/td\u003e\n    \u003c/tr\u003e\n    \u003ctr\u003e\n      \u003cth\u003e2022-06-09\u003c/th\u003e\n      \u003ctd\u003e12543.370117\u003c/td\u003e\n      \u003ctd\u003e12666.410156\u003c/td\u003e\n      \u003ctd\u003e12265.860352\u003c/td\u003e\n      \u003ctd\u003e12269.780273\u003c/td\u003e\n      \u003ctd\u003e5382110000\u003c/td\u003e\n      \u003ctd\u003e0\u003c/td\u003e\n      \u003ctd\u003e0\u003c/td\u003e\n    \u003c/tr\u003e\n    \u003ctr\u003e\n      \u003cth\u003e2022-06-10\u003c/th\u003e\n      \u003ctd\u003e12052.589844\u003c/td\u003e\n      \u003ctd\u003e12082.690430\u003c/td\u003e\n      \u003ctd\u003e11825.349609\u003c/td\u003e\n      \u003ctd\u003e11832.820312\u003c/td\u003e\n      \u003ctd\u003e5125980000\u003c/td\u003e\n      \u003ctd\u003e0\u003c/td\u003e\n      \u003ctd\u003e0\u003c/td\u003e\n    \u003c/tr\u003e\n    \u003ctr\u003e\n      \u003cth\u003e2022-06-13\u003c/th\u003e\n      \u003ctd\u003e11472.190430\u003c/td\u003e\n      \u003ctd\u003e11568.650391\u003c/td\u003e\n      \u003ctd\u003e11254.190430\u003c/td\u003e\n      \u003ctd\u003e11288.320312\u003c/td\u003e\n      \u003ctd\u003e5912360000\u003c/td\u003e\n      \u003ctd\u003e0\u003c/td\u003e\n      \u003ctd\u003e0\u003c/td\u003e\n    \u003c/tr\u003e\n    \u003ctr\u003e\n      \u003cth\u003e2022-06-14\u003c/th\u003e\n      \u003ctd\u003e11385.200195\u003c/td\u003e\n      \u003ctd\u003e11418.217773\u003c/td\u003e\n      \u003ctd\u003e11205.923828\u003c/td\u003e\n      \u003ctd\u003e11250.227539\u003c/td\u003e\n      \u003ctd\u003e629197356\u003c/td\u003e\n      \u003ctd\u003e0\u003c/td\u003e\n      \u003ctd\u003e0\u003c/td\u003e\n    \u003c/tr\u003e\n  \u003c/tbody\u003e\n\u003c/table\u003e\n\u003c/div\u003e"
          },
          "metadata": {}
        }
      ]
    },
    {
      "execution_count": 6,
      "cell_type": "code",
      "metadata": {},
      "source": [
        "df_historical_data.describe()"
      ],
      "outputs": [
        {
          "output_type": "stream",
          "text": "/Users/Axel/Library/DataScienceStudio/dss_home/code-envs/python/py_v39_finance/lib/python3.9/site-packages/pandas/core/nanops.py:1558: DeprecationWarning: the `interpolation\u003d` argument to percentile was renamed to `method\u003d`, which has additional options.\nUsers of the modes \u0027nearest\u0027, \u0027lower\u0027, \u0027higher\u0027, or \u0027midpoint\u0027 are encouraged to review the method they. (Deprecated NumPy 1.22)\n  return np.percentile(values, q, axis\u003daxis, interpolation\u003dinterpolation)\n",
          "name": "stderr"
        },
        {
          "output_type": "execute_result",
          "execution_count": 6,
          "data": {
            "text/plain": "               Open          High           Low         Close        Volume  Dividends  Stock Splits\ncount   9252.000000   9252.000000   9252.000000   9252.000000  9.252000e+03     9252.0        9252.0\nmean    2717.911760   2740.050641   2693.952167   2718.215537  1.529805e+09        0.0           0.0\nstd     3309.120036   3333.045294   3281.294406   3308.818979  1.190715e+09        0.0           0.0\nmin      107.160004    108.269997    106.750000    107.160004  3.174000e+07        0.0           0.0\n25%      408.910004    411.357506    406.105003    408.910004  4.560750e+08        0.0           0.0\n50%     1600.299988   1614.000000   1585.850037   1601.000000  1.641635e+09        0.0           0.0\n75%     3484.315002   3521.549988   3447.757446   3484.197510  2.032610e+09        0.0           0.0\nmax    16644.769531  16764.859375  16523.830078  16573.339844  1.425090e+10        0.0           0.0",
            "text/html": "\u003cdiv\u003e\n\u003cstyle scoped\u003e\n    .dataframe tbody tr th:only-of-type {\n        vertical-align: middle;\n    }\n\n    .dataframe tbody tr th {\n        vertical-align: top;\n    }\n\n    .dataframe thead th {\n        text-align: right;\n    }\n\u003c/style\u003e\n\u003ctable border\u003d\"1\" class\u003d\"dataframe\"\u003e\n  \u003cthead\u003e\n    \u003ctr style\u003d\"text-align: right;\"\u003e\n      \u003cth\u003e\u003c/th\u003e\n      \u003cth\u003eOpen\u003c/th\u003e\n      \u003cth\u003eHigh\u003c/th\u003e\n      \u003cth\u003eLow\u003c/th\u003e\n      \u003cth\u003eClose\u003c/th\u003e\n      \u003cth\u003eVolume\u003c/th\u003e\n      \u003cth\u003eDividends\u003c/th\u003e\n      \u003cth\u003eStock Splits\u003c/th\u003e\n    \u003c/tr\u003e\n  \u003c/thead\u003e\n  \u003ctbody\u003e\n    \u003ctr\u003e\n      \u003cth\u003ecount\u003c/th\u003e\n      \u003ctd\u003e9252.000000\u003c/td\u003e\n      \u003ctd\u003e9252.000000\u003c/td\u003e\n      \u003ctd\u003e9252.000000\u003c/td\u003e\n      \u003ctd\u003e9252.000000\u003c/td\u003e\n      \u003ctd\u003e9.252000e+03\u003c/td\u003e\n      \u003ctd\u003e9252.0\u003c/td\u003e\n      \u003ctd\u003e9252.0\u003c/td\u003e\n    \u003c/tr\u003e\n    \u003ctr\u003e\n      \u003cth\u003emean\u003c/th\u003e\n      \u003ctd\u003e2717.911760\u003c/td\u003e\n      \u003ctd\u003e2740.050641\u003c/td\u003e\n      \u003ctd\u003e2693.952167\u003c/td\u003e\n      \u003ctd\u003e2718.215537\u003c/td\u003e\n      \u003ctd\u003e1.529805e+09\u003c/td\u003e\n      \u003ctd\u003e0.0\u003c/td\u003e\n      \u003ctd\u003e0.0\u003c/td\u003e\n    \u003c/tr\u003e\n    \u003ctr\u003e\n      \u003cth\u003estd\u003c/th\u003e\n      \u003ctd\u003e3309.120036\u003c/td\u003e\n      \u003ctd\u003e3333.045294\u003c/td\u003e\n      \u003ctd\u003e3281.294406\u003c/td\u003e\n      \u003ctd\u003e3308.818979\u003c/td\u003e\n      \u003ctd\u003e1.190715e+09\u003c/td\u003e\n      \u003ctd\u003e0.0\u003c/td\u003e\n      \u003ctd\u003e0.0\u003c/td\u003e\n    \u003c/tr\u003e\n    \u003ctr\u003e\n      \u003cth\u003emin\u003c/th\u003e\n      \u003ctd\u003e107.160004\u003c/td\u003e\n      \u003ctd\u003e108.269997\u003c/td\u003e\n      \u003ctd\u003e106.750000\u003c/td\u003e\n      \u003ctd\u003e107.160004\u003c/td\u003e\n      \u003ctd\u003e3.174000e+07\u003c/td\u003e\n      \u003ctd\u003e0.0\u003c/td\u003e\n      \u003ctd\u003e0.0\u003c/td\u003e\n    \u003c/tr\u003e\n    \u003ctr\u003e\n      \u003cth\u003e25%\u003c/th\u003e\n      \u003ctd\u003e408.910004\u003c/td\u003e\n      \u003ctd\u003e411.357506\u003c/td\u003e\n      \u003ctd\u003e406.105003\u003c/td\u003e\n      \u003ctd\u003e408.910004\u003c/td\u003e\n      \u003ctd\u003e4.560750e+08\u003c/td\u003e\n      \u003ctd\u003e0.0\u003c/td\u003e\n      \u003ctd\u003e0.0\u003c/td\u003e\n    \u003c/tr\u003e\n    \u003ctr\u003e\n      \u003cth\u003e50%\u003c/th\u003e\n      \u003ctd\u003e1600.299988\u003c/td\u003e\n      \u003ctd\u003e1614.000000\u003c/td\u003e\n      \u003ctd\u003e1585.850037\u003c/td\u003e\n      \u003ctd\u003e1601.000000\u003c/td\u003e\n      \u003ctd\u003e1.641635e+09\u003c/td\u003e\n      \u003ctd\u003e0.0\u003c/td\u003e\n      \u003ctd\u003e0.0\u003c/td\u003e\n    \u003c/tr\u003e\n    \u003ctr\u003e\n      \u003cth\u003e75%\u003c/th\u003e\n      \u003ctd\u003e3484.315002\u003c/td\u003e\n      \u003ctd\u003e3521.549988\u003c/td\u003e\n      \u003ctd\u003e3447.757446\u003c/td\u003e\n      \u003ctd\u003e3484.197510\u003c/td\u003e\n      \u003ctd\u003e2.032610e+09\u003c/td\u003e\n      \u003ctd\u003e0.0\u003c/td\u003e\n      \u003ctd\u003e0.0\u003c/td\u003e\n    \u003c/tr\u003e\n    \u003ctr\u003e\n      \u003cth\u003emax\u003c/th\u003e\n      \u003ctd\u003e16644.769531\u003c/td\u003e\n      \u003ctd\u003e16764.859375\u003c/td\u003e\n      \u003ctd\u003e16523.830078\u003c/td\u003e\n      \u003ctd\u003e16573.339844\u003c/td\u003e\n      \u003ctd\u003e1.425090e+10\u003c/td\u003e\n      \u003ctd\u003e0.0\u003c/td\u003e\n      \u003ctd\u003e0.0\u003c/td\u003e\n    \u003c/tr\u003e\n  \u003c/tbody\u003e\n\u003c/table\u003e\n\u003c/div\u003e"
          },
          "metadata": {}
        }
      ]
    },
    {
      "execution_count": 7,
      "cell_type": "code",
      "metadata": {},
      "source": [
        "df_historical_data.isnull().sum()"
      ],
      "outputs": [
        {
          "output_type": "execute_result",
          "execution_count": 7,
          "data": {
            "text/plain": "Open            0\nHigh            0\nLow             0\nClose           0\nVolume          0\nDividends       0\nStock Splits    0\ndtype: int64"
          },
          "metadata": {}
        }
      ]
    },
    {
      "execution_count": 8,
      "cell_type": "code",
      "metadata": {},
      "source": [
        "df_historical_data.drop(columns\u003d[\"Dividends\",\"Stock Splits\"], inplace\u003dTrue)"
      ],
      "outputs": []
    },
    {
      "execution_count": 9,
      "cell_type": "code",
      "metadata": {},
      "source": [
        "df_historical_data.shape"
      ],
      "outputs": [
        {
          "output_type": "execute_result",
          "execution_count": 9,
          "data": {
            "text/plain": "(9252, 5)"
          },
          "metadata": {}
        }
      ]
    },
    {
      "cell_type": "markdown",
      "metadata": {},
      "source": [
        "### Indicateur technique : MFI ###"
      ]
    },
    {
      "execution_count": 85,
      "cell_type": "code",
      "metadata": {},
      "source": [
        "\u0027\u0027\u0027 Selon MFI Performance v5, toutes les valeurs suivantes surperforment le Buy \u0026 Hold.\nElles ont toutefois des périodes allant du simple au triple,\net un nombre de trades différent\u0027\u0027\u0027\nmfi_list \u003d [10,14,17,37]"
      ],
      "outputs": []
    },
    {
      "execution_count": 86,
      "cell_type": "code",
      "metadata": {},
      "source": [
        "df_mfi \u003d df_historical_data.copy()\n\n# Passade des dates d\u0027index à colonne\ndf_mfi.reset_index(inplace\u003dTrue)"
      ],
      "outputs": []
    },
    {
      "execution_count": 87,
      "cell_type": "code",
      "metadata": {},
      "source": [
        "for w in mfi_list :\n    s_mfi \u003d MFIIndicator(\n        high \u003d df_historical_data.High, \n        low \u003d df_historical_data.Low, \n        close \u003d df_historical_data.Close, \n        volume \u003d df_historical_data.Volume, \n        window \u003d w\n    ).money_flow_index()\n    \n    # Ajout de la série en tant que colonne + arrondi\n    # to_list() semble nécessaire dans cette version de Python ?!\n    df_mfi[\u0027MFI_\u0027+str(w)] \u003d round(s_mfi, 2).to_list()\n    \n    # Pointeur sur la période maximale\n    w_max \u003d w"
      ],
      "outputs": []
    },
    {
      "execution_count": 88,
      "cell_type": "code",
      "metadata": {},
      "source": [
        "# Démarrage lorsque tous les MFI sont renseignés\ndf_mfi \u003d df_mfi.loc[(w_max-1):]\ndf_mfi.reset_index(drop\u003dTrue, inplace\u003dTrue)"
      ],
      "outputs": []
    },
    {
      "execution_count": 89,
      "cell_type": "code",
      "metadata": {},
      "source": [
        "df_mfi.isnull().sum()"
      ],
      "outputs": [
        {
          "output_type": "execute_result",
          "execution_count": 89,
          "data": {
            "text/plain": "Date      0\nOpen      0\nHigh      0\nLow       0\nClose     0\nVolume    0\nMFI_10    0\nMFI_14    0\nMFI_17    0\nMFI_37    0\ndtype: int64"
          },
          "metadata": {}
        }
      ]
    },
    {
      "execution_count": 90,
      "cell_type": "code",
      "metadata": {},
      "source": [
        "df_mfi.tail()"
      ],
      "outputs": [
        {
          "output_type": "execute_result",
          "execution_count": 90,
          "data": {
            "text/plain": "           Date          Open          High           Low         Close      Volume  MFI_10  MFI_14  MFI_17  MFI_37\n9211 2022-06-08  12682.809570  12776.650391  12578.549805  12615.129883  4689310000   71.66   57.79   53.50   40.29\n9212 2022-06-09  12543.370117  12666.410156  12265.860352  12269.780273  5382110000   61.16   57.41   53.15   40.18\n9213 2022-06-10  12052.589844  12082.690430  11825.349609  11832.820312  5125980000   51.35   57.60   47.00   37.52\n9214 2022-06-13  11472.190430  11568.650391  11254.190430  11288.320312  5912360000   40.93   50.24   46.70   37.49\n9215 2022-06-14  11385.200195  11418.217773  11205.923828  11250.227539   629197356   32.11   53.31   49.33   38.56",
            "text/html": "\u003cdiv\u003e\n\u003cstyle scoped\u003e\n    .dataframe tbody tr th:only-of-type {\n        vertical-align: middle;\n    }\n\n    .dataframe tbody tr th {\n        vertical-align: top;\n    }\n\n    .dataframe thead th {\n        text-align: right;\n    }\n\u003c/style\u003e\n\u003ctable border\u003d\"1\" class\u003d\"dataframe\"\u003e\n  \u003cthead\u003e\n    \u003ctr style\u003d\"text-align: right;\"\u003e\n      \u003cth\u003e\u003c/th\u003e\n      \u003cth\u003eDate\u003c/th\u003e\n      \u003cth\u003eOpen\u003c/th\u003e\n      \u003cth\u003eHigh\u003c/th\u003e\n      \u003cth\u003eLow\u003c/th\u003e\n      \u003cth\u003eClose\u003c/th\u003e\n      \u003cth\u003eVolume\u003c/th\u003e\n      \u003cth\u003eMFI_10\u003c/th\u003e\n      \u003cth\u003eMFI_14\u003c/th\u003e\n      \u003cth\u003eMFI_17\u003c/th\u003e\n      \u003cth\u003eMFI_37\u003c/th\u003e\n    \u003c/tr\u003e\n  \u003c/thead\u003e\n  \u003ctbody\u003e\n    \u003ctr\u003e\n      \u003cth\u003e9211\u003c/th\u003e\n      \u003ctd\u003e2022-06-08\u003c/td\u003e\n      \u003ctd\u003e12682.809570\u003c/td\u003e\n      \u003ctd\u003e12776.650391\u003c/td\u003e\n      \u003ctd\u003e12578.549805\u003c/td\u003e\n      \u003ctd\u003e12615.129883\u003c/td\u003e\n      \u003ctd\u003e4689310000\u003c/td\u003e\n      \u003ctd\u003e71.66\u003c/td\u003e\n      \u003ctd\u003e57.79\u003c/td\u003e\n      \u003ctd\u003e53.50\u003c/td\u003e\n      \u003ctd\u003e40.29\u003c/td\u003e\n    \u003c/tr\u003e\n    \u003ctr\u003e\n      \u003cth\u003e9212\u003c/th\u003e\n      \u003ctd\u003e2022-06-09\u003c/td\u003e\n      \u003ctd\u003e12543.370117\u003c/td\u003e\n      \u003ctd\u003e12666.410156\u003c/td\u003e\n      \u003ctd\u003e12265.860352\u003c/td\u003e\n      \u003ctd\u003e12269.780273\u003c/td\u003e\n      \u003ctd\u003e5382110000\u003c/td\u003e\n      \u003ctd\u003e61.16\u003c/td\u003e\n      \u003ctd\u003e57.41\u003c/td\u003e\n      \u003ctd\u003e53.15\u003c/td\u003e\n      \u003ctd\u003e40.18\u003c/td\u003e\n    \u003c/tr\u003e\n    \u003ctr\u003e\n      \u003cth\u003e9213\u003c/th\u003e\n      \u003ctd\u003e2022-06-10\u003c/td\u003e\n      \u003ctd\u003e12052.589844\u003c/td\u003e\n      \u003ctd\u003e12082.690430\u003c/td\u003e\n      \u003ctd\u003e11825.349609\u003c/td\u003e\n      \u003ctd\u003e11832.820312\u003c/td\u003e\n      \u003ctd\u003e5125980000\u003c/td\u003e\n      \u003ctd\u003e51.35\u003c/td\u003e\n      \u003ctd\u003e57.60\u003c/td\u003e\n      \u003ctd\u003e47.00\u003c/td\u003e\n      \u003ctd\u003e37.52\u003c/td\u003e\n    \u003c/tr\u003e\n    \u003ctr\u003e\n      \u003cth\u003e9214\u003c/th\u003e\n      \u003ctd\u003e2022-06-13\u003c/td\u003e\n      \u003ctd\u003e11472.190430\u003c/td\u003e\n      \u003ctd\u003e11568.650391\u003c/td\u003e\n      \u003ctd\u003e11254.190430\u003c/td\u003e\n      \u003ctd\u003e11288.320312\u003c/td\u003e\n      \u003ctd\u003e5912360000\u003c/td\u003e\n      \u003ctd\u003e40.93\u003c/td\u003e\n      \u003ctd\u003e50.24\u003c/td\u003e\n      \u003ctd\u003e46.70\u003c/td\u003e\n      \u003ctd\u003e37.49\u003c/td\u003e\n    \u003c/tr\u003e\n    \u003ctr\u003e\n      \u003cth\u003e9215\u003c/th\u003e\n      \u003ctd\u003e2022-06-14\u003c/td\u003e\n      \u003ctd\u003e11385.200195\u003c/td\u003e\n      \u003ctd\u003e11418.217773\u003c/td\u003e\n      \u003ctd\u003e11205.923828\u003c/td\u003e\n      \u003ctd\u003e11250.227539\u003c/td\u003e\n      \u003ctd\u003e629197356\u003c/td\u003e\n      \u003ctd\u003e32.11\u003c/td\u003e\n      \u003ctd\u003e53.31\u003c/td\u003e\n      \u003ctd\u003e49.33\u003c/td\u003e\n      \u003ctd\u003e38.56\u003c/td\u003e\n    \u003c/tr\u003e\n  \u003c/tbody\u003e\n\u003c/table\u003e\n\u003c/div\u003e"
          },
          "metadata": {}
        }
      ]
    },
    {
      "execution_count": 91,
      "cell_type": "code",
      "metadata": {},
      "source": [
        "df_mfi.shape"
      ],
      "outputs": [
        {
          "output_type": "execute_result",
          "execution_count": 91,
          "data": {
            "text/plain": "(9216, 10)"
          },
          "metadata": {}
        }
      ]
    },
    {
      "cell_type": "markdown",
      "metadata": {
        "heading_collapsed": true
      },
      "source": [
        "#### Indicateurs techniques avancés sur MFI - Décomposé ###"
      ]
    },
    {
      "cell_type": "markdown",
      "metadata": {
        "hidden": true
      },
      "source": [
        "To Do :\n\u003cli\u003e SMA on MFI\u003c/li\u003e\n\u003cli\u003e MFI var compared to -3, -5, -8 jours\u003c/li\u003e"
      ]
    },
    {
      "execution_count": 64,
      "cell_type": "code",
      "metadata": {
        "hidden": true
      },
      "source": [
        "colonnes_mfi \u003d df_mfi.columns[-4:].to_list()"
      ],
      "outputs": []
    },
    {
      "execution_count": 40,
      "cell_type": "code",
      "metadata": {
        "hidden": true
      },
      "source": [
        "for colonne in colonnes_mfi :\n    p \u003d 5\n    short_p \u003d 3\n    \n    col_name \u003d colonne + \"_SMA\" + str(short_p)\n    df_mfi[col_name] \u003d round( df_mfi[colonne].rolling(short_p).mean() ,2)\n    \n    col_name \u003d colonne + \"_SMA\" + str(p)\n    df_mfi[col_name] \u003d round( df_mfi[colonne].rolling(p).mean() ,2)"
      ],
      "outputs": []
    },
    {
      "execution_count": 41,
      "cell_type": "code",
      "metadata": {
        "hidden": true
      },
      "source": [
        "df_mfi.tail()"
      ],
      "outputs": [
        {
          "output_type": "execute_result",
          "execution_count": 41,
          "data": {
            "text/plain": "           Date          Open          High           Low         Close      Volume  MFI_10  MFI_14  MFI_17  MFI_37  MFI_10_SMA3  MFI_10_SMA5  MFI_14_SMA3  MFI_14_SMA5  MFI_17_SMA3  MFI_17_SMA5  MFI_37_SMA3  MFI_37_SMA5\n9211 2022-06-08  12682.809570  12776.650391  12578.549805  12615.129883  4689310000   71.66   57.79   53.50   40.29        68.35        65.14        55.29        54.81        53.47        51.89        39.45        38.71\n9212 2022-06-09  12543.370117  12666.410156  12265.860352  12269.780273  5382110000   61.16   57.41   53.15   40.18        64.94        65.40        55.22        54.75        53.58        52.02        39.38        39.25\n9213 2022-06-10  12052.589844  12082.690430  11825.349609  11832.820312  5125980000   51.35   57.60   47.00   37.52        61.39        63.51        57.60        56.18        51.22        52.11        39.33        39.21\n9214 2022-06-13  11472.190430  11568.650391  11254.190430  11288.320312  5912360000   40.93   50.24   46.70   37.49        51.15        57.42        55.08        54.70        48.95        50.89        38.40        38.63\n9215 2022-06-14  11385.200195  11418.217773  11205.923828  11250.227539   629197356   32.11   53.31   49.33   38.56        41.46        51.44        53.72        55.27        47.68        49.94        37.86        38.81",
            "text/html": "\u003cdiv\u003e\n\u003cstyle scoped\u003e\n    .dataframe tbody tr th:only-of-type {\n        vertical-align: middle;\n    }\n\n    .dataframe tbody tr th {\n        vertical-align: top;\n    }\n\n    .dataframe thead th {\n        text-align: right;\n    }\n\u003c/style\u003e\n\u003ctable border\u003d\"1\" class\u003d\"dataframe\"\u003e\n  \u003cthead\u003e\n    \u003ctr style\u003d\"text-align: right;\"\u003e\n      \u003cth\u003e\u003c/th\u003e\n      \u003cth\u003eDate\u003c/th\u003e\n      \u003cth\u003eOpen\u003c/th\u003e\n      \u003cth\u003eHigh\u003c/th\u003e\n      \u003cth\u003eLow\u003c/th\u003e\n      \u003cth\u003eClose\u003c/th\u003e\n      \u003cth\u003eVolume\u003c/th\u003e\n      \u003cth\u003eMFI_10\u003c/th\u003e\n      \u003cth\u003eMFI_14\u003c/th\u003e\n      \u003cth\u003eMFI_17\u003c/th\u003e\n      \u003cth\u003eMFI_37\u003c/th\u003e\n      \u003cth\u003eMFI_10_SMA3\u003c/th\u003e\n      \u003cth\u003eMFI_10_SMA5\u003c/th\u003e\n      \u003cth\u003eMFI_14_SMA3\u003c/th\u003e\n      \u003cth\u003eMFI_14_SMA5\u003c/th\u003e\n      \u003cth\u003eMFI_17_SMA3\u003c/th\u003e\n      \u003cth\u003eMFI_17_SMA5\u003c/th\u003e\n      \u003cth\u003eMFI_37_SMA3\u003c/th\u003e\n      \u003cth\u003eMFI_37_SMA5\u003c/th\u003e\n    \u003c/tr\u003e\n  \u003c/thead\u003e\n  \u003ctbody\u003e\n    \u003ctr\u003e\n      \u003cth\u003e9211\u003c/th\u003e\n      \u003ctd\u003e2022-06-08\u003c/td\u003e\n      \u003ctd\u003e12682.809570\u003c/td\u003e\n      \u003ctd\u003e12776.650391\u003c/td\u003e\n      \u003ctd\u003e12578.549805\u003c/td\u003e\n      \u003ctd\u003e12615.129883\u003c/td\u003e\n      \u003ctd\u003e4689310000\u003c/td\u003e\n      \u003ctd\u003e71.66\u003c/td\u003e\n      \u003ctd\u003e57.79\u003c/td\u003e\n      \u003ctd\u003e53.50\u003c/td\u003e\n      \u003ctd\u003e40.29\u003c/td\u003e\n      \u003ctd\u003e68.35\u003c/td\u003e\n      \u003ctd\u003e65.14\u003c/td\u003e\n      \u003ctd\u003e55.29\u003c/td\u003e\n      \u003ctd\u003e54.81\u003c/td\u003e\n      \u003ctd\u003e53.47\u003c/td\u003e\n      \u003ctd\u003e51.89\u003c/td\u003e\n      \u003ctd\u003e39.45\u003c/td\u003e\n      \u003ctd\u003e38.71\u003c/td\u003e\n    \u003c/tr\u003e\n    \u003ctr\u003e\n      \u003cth\u003e9212\u003c/th\u003e\n      \u003ctd\u003e2022-06-09\u003c/td\u003e\n      \u003ctd\u003e12543.370117\u003c/td\u003e\n      \u003ctd\u003e12666.410156\u003c/td\u003e\n      \u003ctd\u003e12265.860352\u003c/td\u003e\n      \u003ctd\u003e12269.780273\u003c/td\u003e\n      \u003ctd\u003e5382110000\u003c/td\u003e\n      \u003ctd\u003e61.16\u003c/td\u003e\n      \u003ctd\u003e57.41\u003c/td\u003e\n      \u003ctd\u003e53.15\u003c/td\u003e\n      \u003ctd\u003e40.18\u003c/td\u003e\n      \u003ctd\u003e64.94\u003c/td\u003e\n      \u003ctd\u003e65.40\u003c/td\u003e\n      \u003ctd\u003e55.22\u003c/td\u003e\n      \u003ctd\u003e54.75\u003c/td\u003e\n      \u003ctd\u003e53.58\u003c/td\u003e\n      \u003ctd\u003e52.02\u003c/td\u003e\n      \u003ctd\u003e39.38\u003c/td\u003e\n      \u003ctd\u003e39.25\u003c/td\u003e\n    \u003c/tr\u003e\n    \u003ctr\u003e\n      \u003cth\u003e9213\u003c/th\u003e\n      \u003ctd\u003e2022-06-10\u003c/td\u003e\n      \u003ctd\u003e12052.589844\u003c/td\u003e\n      \u003ctd\u003e12082.690430\u003c/td\u003e\n      \u003ctd\u003e11825.349609\u003c/td\u003e\n      \u003ctd\u003e11832.820312\u003c/td\u003e\n      \u003ctd\u003e5125980000\u003c/td\u003e\n      \u003ctd\u003e51.35\u003c/td\u003e\n      \u003ctd\u003e57.60\u003c/td\u003e\n      \u003ctd\u003e47.00\u003c/td\u003e\n      \u003ctd\u003e37.52\u003c/td\u003e\n      \u003ctd\u003e61.39\u003c/td\u003e\n      \u003ctd\u003e63.51\u003c/td\u003e\n      \u003ctd\u003e57.60\u003c/td\u003e\n      \u003ctd\u003e56.18\u003c/td\u003e\n      \u003ctd\u003e51.22\u003c/td\u003e\n      \u003ctd\u003e52.11\u003c/td\u003e\n      \u003ctd\u003e39.33\u003c/td\u003e\n      \u003ctd\u003e39.21\u003c/td\u003e\n    \u003c/tr\u003e\n    \u003ctr\u003e\n      \u003cth\u003e9214\u003c/th\u003e\n      \u003ctd\u003e2022-06-13\u003c/td\u003e\n      \u003ctd\u003e11472.190430\u003c/td\u003e\n      \u003ctd\u003e11568.650391\u003c/td\u003e\n      \u003ctd\u003e11254.190430\u003c/td\u003e\n      \u003ctd\u003e11288.320312\u003c/td\u003e\n      \u003ctd\u003e5912360000\u003c/td\u003e\n      \u003ctd\u003e40.93\u003c/td\u003e\n      \u003ctd\u003e50.24\u003c/td\u003e\n      \u003ctd\u003e46.70\u003c/td\u003e\n      \u003ctd\u003e37.49\u003c/td\u003e\n      \u003ctd\u003e51.15\u003c/td\u003e\n      \u003ctd\u003e57.42\u003c/td\u003e\n      \u003ctd\u003e55.08\u003c/td\u003e\n      \u003ctd\u003e54.70\u003c/td\u003e\n      \u003ctd\u003e48.95\u003c/td\u003e\n      \u003ctd\u003e50.89\u003c/td\u003e\n      \u003ctd\u003e38.40\u003c/td\u003e\n      \u003ctd\u003e38.63\u003c/td\u003e\n    \u003c/tr\u003e\n    \u003ctr\u003e\n      \u003cth\u003e9215\u003c/th\u003e\n      \u003ctd\u003e2022-06-14\u003c/td\u003e\n      \u003ctd\u003e11385.200195\u003c/td\u003e\n      \u003ctd\u003e11418.217773\u003c/td\u003e\n      \u003ctd\u003e11205.923828\u003c/td\u003e\n      \u003ctd\u003e11250.227539\u003c/td\u003e\n      \u003ctd\u003e629197356\u003c/td\u003e\n      \u003ctd\u003e32.11\u003c/td\u003e\n      \u003ctd\u003e53.31\u003c/td\u003e\n      \u003ctd\u003e49.33\u003c/td\u003e\n      \u003ctd\u003e38.56\u003c/td\u003e\n      \u003ctd\u003e41.46\u003c/td\u003e\n      \u003ctd\u003e51.44\u003c/td\u003e\n      \u003ctd\u003e53.72\u003c/td\u003e\n      \u003ctd\u003e55.27\u003c/td\u003e\n      \u003ctd\u003e47.68\u003c/td\u003e\n      \u003ctd\u003e49.94\u003c/td\u003e\n      \u003ctd\u003e37.86\u003c/td\u003e\n      \u003ctd\u003e38.81\u003c/td\u003e\n    \u003c/tr\u003e\n  \u003c/tbody\u003e\n\u003c/table\u003e\n\u003c/div\u003e"
          },
          "metadata": {}
        }
      ]
    },
    {
      "execution_count": 44,
      "cell_type": "code",
      "metadata": {
        "hidden": true
      },
      "source": [
        "# Variation à -x jours, MFI valeur absolue\nround( (df_mfi[\"MFI_10\"] - df_mfi[\"MFI_10\"].shift(3)) / df_mfi[\"MFI_10\"].shift(3) ,2)"
      ],
      "outputs": [
        {
          "output_type": "execute_result",
          "execution_count": 44,
          "data": {
            "text/plain": "0        NaN\n1        NaN\n2        NaN\n3      -0.09\n4      -0.10\n        ... \n9211    0.18\n9212   -0.14\n9213   -0.17\n9214   -0.43\n9215   -0.47\nName: MFI_10, Length: 9216, dtype: float64"
          },
          "metadata": {}
        }
      ]
    },
    {
      "execution_count": 45,
      "cell_type": "code",
      "metadata": {
        "hidden": true
      },
      "source": [
        "# Variation à -x jours, MFI_MA\nround( (df_mfi[\"MFI_10_SMA3\"] - df_mfi[\"MFI_10_SMA3\"].shift(3)) / df_mfi[\"MFI_10_SMA3\"].shift(3) ,2)"
      ],
      "outputs": [
        {
          "output_type": "execute_result",
          "execution_count": 45,
          "data": {
            "text/plain": "0        NaN\n1        NaN\n2        NaN\n3        NaN\n4        NaN\n        ... \n9211    0.20\n9212    0.01\n9213   -0.05\n9214   -0.25\n9215   -0.36\nName: MFI_10_SMA3, Length: 9216, dtype: float64"
          },
          "metadata": {}
        }
      ]
    },
    {
      "cell_type": "markdown",
      "metadata": {},
      "source": [
        "#### Indicateurs techniques avancés sur MFI - Synthèse ####"
      ]
    },
    {
      "execution_count": 92,
      "cell_type": "code",
      "metadata": {},
      "source": [
        "colonnes_mfi \u003d df_mfi.columns[-4:].to_list()\nperiodes \u003d [3,5,8]"
      ],
      "outputs": []
    },
    {
      "execution_count": 93,
      "cell_type": "code",
      "metadata": {},
      "source": [
        "for colonne in colonnes_mfi : \n    \u0027\u0027\u0027Calcul des moyennes mobiles, MA3 et MA5,\n    pour chacune des colonnes MFI\u0027\u0027\u0027\n    \n    # SMA 3\n    col_name_short \u003d str(colonne) + \"_SMA\" + str(periodes[0])\n    df_mfi[col_name_short] \u003d round( df_mfi[colonne].rolling(periodes[0]).mean() ,2)\n    # SMA 5\n    col_name_mid \u003d str(colonne) + \"_SMA\" + str(periodes[1])\n    df_mfi[col_name_mid] \u003d round( df_mfi[colonne].rolling(periodes[1]).mean() ,2)\n    \n    for p in periodes :\n        \u0027\u0027\u0027Calcul des variations (Slope)\n        d\u0027abord MFI valeur absolue, à -3, -5 et -8 jours\n        pour pour les SMA pour les mêmes périodes\u0027\u0027\u0027\n        col_name_var \u003d \"var_\" + str(colonne) + \"_\" + str(p) + \"j\"\n        df_mfi[col_name_var] \u003d round( (df_mfi[colonne] - df_mfi[colonne].shift(p)) / df_mfi[colonne].shift(p) ,2)\n\n        # Variations de short MA, à -3, -5 et -8 jours\n        col_name_short_var \u003d \"var_\" + col_name_short + \"_\" + str(p) + \"j\" \n        shifted \u003d df_mfi[col_name_short].shift(p)\n        df_mfi[col_name_short_var] \u003d round( (df_mfi[col_name_short] - shifted) / shifted ,2)\n        \n        # Variations de mid MA, à -3, -5 et -8 jours\n        col_name_mid_var \u003d \"var_\" + col_name_mid + \"_\" + str(p) + \"j\" \n        shifted \u003d df_mfi[col_name_mid].shift(p)\n        df_mfi[col_name_mid_var] \u003d round( (df_mfi[col_name_mid] - shifted) / shifted ,2)"
      ],
      "outputs": []
    },
    {
      "execution_count": 97,
      "cell_type": "code",
      "metadata": {},
      "source": [
        "df_mfi.isnull().sum()"
      ],
      "outputs": [
        {
          "output_type": "execute_result",
          "execution_count": 97,
          "data": {
            "text/plain": "Date                   0\nOpen                   0\nHigh                   0\nLow                    0\nClose                  0\nVolume                 0\nMFI_10                 0\nMFI_14                 0\nMFI_17                 0\nMFI_37                 0\nMFI_10_SMA3            2\nMFI_10_SMA5            4\nvar_MFI_10_3j          3\nvar_MFI_10_SMA3_3j     5\nvar_MFI_10_SMA5_3j     7\nvar_MFI_10_5j          5\nvar_MFI_10_SMA3_5j     7\nvar_MFI_10_SMA5_5j     9\nvar_MFI_10_8j          8\nvar_MFI_10_SMA3_8j    10\nvar_MFI_10_SMA5_8j    12\nMFI_14_SMA3            2\nMFI_14_SMA5            4\nvar_MFI_14_3j          3\nvar_MFI_14_SMA3_3j     5\nvar_MFI_14_SMA5_3j     7\nvar_MFI_14_5j          5\nvar_MFI_14_SMA3_5j     7\nvar_MFI_14_SMA5_5j     9\nvar_MFI_14_8j          8\nvar_MFI_14_SMA3_8j    10\nvar_MFI_14_SMA5_8j    12\nMFI_17_SMA3            2\nMFI_17_SMA5            4\nvar_MFI_17_3j          3\nvar_MFI_17_SMA3_3j     5\nvar_MFI_17_SMA5_3j     7\nvar_MFI_17_5j          5\nvar_MFI_17_SMA3_5j     7\nvar_MFI_17_SMA5_5j     9\nvar_MFI_17_8j          8\nvar_MFI_17_SMA3_8j    10\nvar_MFI_17_SMA5_8j    12\nMFI_37_SMA3            2\nMFI_37_SMA5            4\nvar_MFI_37_3j          3\nvar_MFI_37_SMA3_3j     5\nvar_MFI_37_SMA5_3j     7\nvar_MFI_37_5j          5\nvar_MFI_37_SMA3_5j     7\nvar_MFI_37_SMA5_5j     9\nvar_MFI_37_8j          8\nvar_MFI_37_SMA3_8j    10\nvar_MFI_37_SMA5_8j    12\ndtype: int64"
          },
          "metadata": {}
        }
      ]
    },
    {
      "execution_count": 101,
      "cell_type": "code",
      "metadata": {},
      "source": [
        "df_mfi \u003d df_mfi.loc[12:]\ndf_mfi.reset_index(drop\u003dTrue, inplace\u003dTrue)\ndf_mfi.head()"
      ],
      "outputs": [
        {
          "output_type": "execute_result",
          "execution_count": 101,
          "data": {
            "text/plain": "        Date        Open        High         Low       Close     Volume  MFI_10  MFI_14  MFI_17  MFI_37  MFI_10_SMA3  MFI_10_SMA5  var_MFI_10_3j  var_MFI_10_SMA3_3j  var_MFI_10_SMA5_3j  var_MFI_10_5j  var_MFI_10_SMA3_5j  var_MFI_10_SMA5_5j  var_MFI_10_8j  var_MFI_10_SMA3_8j  var_MFI_10_SMA5_8j  MFI_14_SMA3  MFI_14_SMA5  var_MFI_14_3j  var_MFI_14_SMA3_3j  var_MFI_14_SMA5_3j  var_MFI_14_5j  var_MFI_14_SMA3_5j  var_MFI_14_SMA5_5j  var_MFI_14_8j  var_MFI_14_SMA3_8j  var_MFI_14_SMA5_8j  MFI_17_SMA3  MFI_17_SMA5  var_MFI_17_3j  var_MFI_17_SMA3_3j  var_MFI_17_SMA5_3j  var_MFI_17_5j  var_MFI_17_SMA3_5j  var_MFI_17_SMA5_5j  var_MFI_17_8j  var_MFI_17_SMA3_8j  var_MFI_17_SMA5_8j  MFI_37_SMA3  MFI_37_SMA5  var_MFI_37_3j  var_MFI_37_SMA3_3j  var_MFI_37_SMA5_3j  var_MFI_37_5j  var_MFI_37_SMA3_5j  var_MFI_37_SMA5_5j  var_MFI_37_8j  var_MFI_37_SMA3_8j  var_MFI_37_SMA5_8j\n0 1985-12-09  126.955002  127.644997  126.830002  127.485001  209600000   52.34   66.44   67.03   67.14        63.28        67.13          -0.28               -0.13               -0.13          -0.28               -0.20               -0.13          -0.29               -0.17               -0.14        69.90        70.25          -0.11               -0.03               -0.07          -0.10               -0.11               -0.11          -0.17               -0.13               -0.12        69.70        71.00          -0.09               -0.07               -0.08          -0.14               -0.13               -0.11          -0.14               -0.11               -0.09        70.18        71.03          -0.07               -0.04               -0.05          -0.10               -0.07               -0.04          -0.08               -0.02                0.01\n1 1985-12-10  127.485001  128.524994  127.154999  127.974998  223600000   61.87   66.78   67.40   67.40        59.06        64.98          -0.17               -0.20               -0.14          -0.15               -0.22               -0.16          -0.26               -0.23               -0.18        66.98        70.21          -0.12               -0.07               -0.06          -0.00               -0.09               -0.08          -0.17               -0.17               -0.13        67.37        69.95          -0.09               -0.08               -0.08          -0.07               -0.14               -0.11          -0.14               -0.14               -0.11        68.22        70.09          -0.08               -0.06               -0.05          -0.06               -0.09               -0.06          -0.11               -0.07               -0.02\n2 1985-12-11  127.974998  129.649994  127.974998  129.179993  253000000   63.23   67.58   68.10   70.31        59.15        62.99           0.00               -0.16               -0.12          -0.14               -0.19               -0.18          -0.23               -0.26               -0.20        66.93        68.81          -0.00               -0.08               -0.04          -0.09               -0.07               -0.09          -0.16               -0.17               -0.15        67.51        68.92           0.01               -0.06               -0.06          -0.07               -0.10               -0.11          -0.19               -0.16               -0.13        68.28        69.65           0.00               -0.05               -0.04          -0.03               -0.07               -0.06          -0.09               -0.09               -0.05\n3 1985-12-12  129.179993  130.100006  129.179993  129.764999  234600000   63.85   67.66   73.37   72.69        62.98        60.85           0.22               -0.00               -0.09          -0.14               -0.14               -0.19          -0.12               -0.21               -0.21        67.34        67.23           0.02               -0.04               -0.04          -0.10               -0.07               -0.10          -0.09               -0.14               -0.15        69.62        68.72           0.09               -0.00               -0.03          -0.01               -0.05               -0.10          -0.06               -0.13               -0.13        70.13        69.53           0.08               -0.00               -0.02          -0.01               -0.03               -0.06          -0.03               -0.07               -0.06\n4 1985-12-13  129.764999  132.169998  129.764999  132.125000  263400000   66.35   68.42   73.94   73.21        64.48        61.53           0.07                0.09               -0.05           0.05               -0.08               -0.14          -0.09               -0.15               -0.20        67.89        67.38           0.02                0.01               -0.04           0.01               -0.07               -0.06           0.02               -0.08               -0.12        71.80        69.97           0.10                0.07                0.00           0.09                0.00               -0.04           0.02               -0.08               -0.11        72.07        70.15           0.09                0.06                0.00           0.04                0.00               -0.03           0.02               -0.03               -0.06",
            "text/html": "\u003cdiv\u003e\n\u003cstyle scoped\u003e\n    .dataframe tbody tr th:only-of-type {\n        vertical-align: middle;\n    }\n\n    .dataframe tbody tr th {\n        vertical-align: top;\n    }\n\n    .dataframe thead th {\n        text-align: right;\n    }\n\u003c/style\u003e\n\u003ctable border\u003d\"1\" class\u003d\"dataframe\"\u003e\n  \u003cthead\u003e\n    \u003ctr style\u003d\"text-align: right;\"\u003e\n      \u003cth\u003e\u003c/th\u003e\n      \u003cth\u003eDate\u003c/th\u003e\n      \u003cth\u003eOpen\u003c/th\u003e\n      \u003cth\u003eHigh\u003c/th\u003e\n      \u003cth\u003eLow\u003c/th\u003e\n      \u003cth\u003eClose\u003c/th\u003e\n      \u003cth\u003eVolume\u003c/th\u003e\n      \u003cth\u003eMFI_10\u003c/th\u003e\n      \u003cth\u003eMFI_14\u003c/th\u003e\n      \u003cth\u003eMFI_17\u003c/th\u003e\n      \u003cth\u003eMFI_37\u003c/th\u003e\n      \u003cth\u003eMFI_10_SMA3\u003c/th\u003e\n      \u003cth\u003eMFI_10_SMA5\u003c/th\u003e\n      \u003cth\u003evar_MFI_10_3j\u003c/th\u003e\n      \u003cth\u003evar_MFI_10_SMA3_3j\u003c/th\u003e\n      \u003cth\u003evar_MFI_10_SMA5_3j\u003c/th\u003e\n      \u003cth\u003evar_MFI_10_5j\u003c/th\u003e\n      \u003cth\u003evar_MFI_10_SMA3_5j\u003c/th\u003e\n      \u003cth\u003evar_MFI_10_SMA5_5j\u003c/th\u003e\n      \u003cth\u003evar_MFI_10_8j\u003c/th\u003e\n      \u003cth\u003evar_MFI_10_SMA3_8j\u003c/th\u003e\n      \u003cth\u003evar_MFI_10_SMA5_8j\u003c/th\u003e\n      \u003cth\u003eMFI_14_SMA3\u003c/th\u003e\n      \u003cth\u003eMFI_14_SMA5\u003c/th\u003e\n      \u003cth\u003evar_MFI_14_3j\u003c/th\u003e\n      \u003cth\u003evar_MFI_14_SMA3_3j\u003c/th\u003e\n      \u003cth\u003evar_MFI_14_SMA5_3j\u003c/th\u003e\n      \u003cth\u003evar_MFI_14_5j\u003c/th\u003e\n      \u003cth\u003evar_MFI_14_SMA3_5j\u003c/th\u003e\n      \u003cth\u003evar_MFI_14_SMA5_5j\u003c/th\u003e\n      \u003cth\u003evar_MFI_14_8j\u003c/th\u003e\n      \u003cth\u003evar_MFI_14_SMA3_8j\u003c/th\u003e\n      \u003cth\u003evar_MFI_14_SMA5_8j\u003c/th\u003e\n      \u003cth\u003eMFI_17_SMA3\u003c/th\u003e\n      \u003cth\u003eMFI_17_SMA5\u003c/th\u003e\n      \u003cth\u003evar_MFI_17_3j\u003c/th\u003e\n      \u003cth\u003evar_MFI_17_SMA3_3j\u003c/th\u003e\n      \u003cth\u003evar_MFI_17_SMA5_3j\u003c/th\u003e\n      \u003cth\u003evar_MFI_17_5j\u003c/th\u003e\n      \u003cth\u003evar_MFI_17_SMA3_5j\u003c/th\u003e\n      \u003cth\u003evar_MFI_17_SMA5_5j\u003c/th\u003e\n      \u003cth\u003evar_MFI_17_8j\u003c/th\u003e\n      \u003cth\u003evar_MFI_17_SMA3_8j\u003c/th\u003e\n      \u003cth\u003evar_MFI_17_SMA5_8j\u003c/th\u003e\n      \u003cth\u003eMFI_37_SMA3\u003c/th\u003e\n      \u003cth\u003eMFI_37_SMA5\u003c/th\u003e\n      \u003cth\u003evar_MFI_37_3j\u003c/th\u003e\n      \u003cth\u003evar_MFI_37_SMA3_3j\u003c/th\u003e\n      \u003cth\u003evar_MFI_37_SMA5_3j\u003c/th\u003e\n      \u003cth\u003evar_MFI_37_5j\u003c/th\u003e\n      \u003cth\u003evar_MFI_37_SMA3_5j\u003c/th\u003e\n      \u003cth\u003evar_MFI_37_SMA5_5j\u003c/th\u003e\n      \u003cth\u003evar_MFI_37_8j\u003c/th\u003e\n      \u003cth\u003evar_MFI_37_SMA3_8j\u003c/th\u003e\n      \u003cth\u003evar_MFI_37_SMA5_8j\u003c/th\u003e\n    \u003c/tr\u003e\n  \u003c/thead\u003e\n  \u003ctbody\u003e\n    \u003ctr\u003e\n      \u003cth\u003e0\u003c/th\u003e\n      \u003ctd\u003e1985-12-09\u003c/td\u003e\n      \u003ctd\u003e126.955002\u003c/td\u003e\n      \u003ctd\u003e127.644997\u003c/td\u003e\n      \u003ctd\u003e126.830002\u003c/td\u003e\n      \u003ctd\u003e127.485001\u003c/td\u003e\n      \u003ctd\u003e209600000\u003c/td\u003e\n      \u003ctd\u003e52.34\u003c/td\u003e\n      \u003ctd\u003e66.44\u003c/td\u003e\n      \u003ctd\u003e67.03\u003c/td\u003e\n      \u003ctd\u003e67.14\u003c/td\u003e\n      \u003ctd\u003e63.28\u003c/td\u003e\n      \u003ctd\u003e67.13\u003c/td\u003e\n      \u003ctd\u003e-0.28\u003c/td\u003e\n      \u003ctd\u003e-0.13\u003c/td\u003e\n      \u003ctd\u003e-0.13\u003c/td\u003e\n      \u003ctd\u003e-0.28\u003c/td\u003e\n      \u003ctd\u003e-0.20\u003c/td\u003e\n      \u003ctd\u003e-0.13\u003c/td\u003e\n      \u003ctd\u003e-0.29\u003c/td\u003e\n      \u003ctd\u003e-0.17\u003c/td\u003e\n      \u003ctd\u003e-0.14\u003c/td\u003e\n      \u003ctd\u003e69.90\u003c/td\u003e\n      \u003ctd\u003e70.25\u003c/td\u003e\n      \u003ctd\u003e-0.11\u003c/td\u003e\n      \u003ctd\u003e-0.03\u003c/td\u003e\n      \u003ctd\u003e-0.07\u003c/td\u003e\n      \u003ctd\u003e-0.10\u003c/td\u003e\n      \u003ctd\u003e-0.11\u003c/td\u003e\n      \u003ctd\u003e-0.11\u003c/td\u003e\n      \u003ctd\u003e-0.17\u003c/td\u003e\n      \u003ctd\u003e-0.13\u003c/td\u003e\n      \u003ctd\u003e-0.12\u003c/td\u003e\n      \u003ctd\u003e69.70\u003c/td\u003e\n      \u003ctd\u003e71.00\u003c/td\u003e\n      \u003ctd\u003e-0.09\u003c/td\u003e\n      \u003ctd\u003e-0.07\u003c/td\u003e\n      \u003ctd\u003e-0.08\u003c/td\u003e\n      \u003ctd\u003e-0.14\u003c/td\u003e\n      \u003ctd\u003e-0.13\u003c/td\u003e\n      \u003ctd\u003e-0.11\u003c/td\u003e\n      \u003ctd\u003e-0.14\u003c/td\u003e\n      \u003ctd\u003e-0.11\u003c/td\u003e\n      \u003ctd\u003e-0.09\u003c/td\u003e\n      \u003ctd\u003e70.18\u003c/td\u003e\n      \u003ctd\u003e71.03\u003c/td\u003e\n      \u003ctd\u003e-0.07\u003c/td\u003e\n      \u003ctd\u003e-0.04\u003c/td\u003e\n      \u003ctd\u003e-0.05\u003c/td\u003e\n      \u003ctd\u003e-0.10\u003c/td\u003e\n      \u003ctd\u003e-0.07\u003c/td\u003e\n      \u003ctd\u003e-0.04\u003c/td\u003e\n      \u003ctd\u003e-0.08\u003c/td\u003e\n      \u003ctd\u003e-0.02\u003c/td\u003e\n      \u003ctd\u003e0.01\u003c/td\u003e\n    \u003c/tr\u003e\n    \u003ctr\u003e\n      \u003cth\u003e1\u003c/th\u003e\n      \u003ctd\u003e1985-12-10\u003c/td\u003e\n      \u003ctd\u003e127.485001\u003c/td\u003e\n      \u003ctd\u003e128.524994\u003c/td\u003e\n      \u003ctd\u003e127.154999\u003c/td\u003e\n      \u003ctd\u003e127.974998\u003c/td\u003e\n      \u003ctd\u003e223600000\u003c/td\u003e\n      \u003ctd\u003e61.87\u003c/td\u003e\n      \u003ctd\u003e66.78\u003c/td\u003e\n      \u003ctd\u003e67.40\u003c/td\u003e\n      \u003ctd\u003e67.40\u003c/td\u003e\n      \u003ctd\u003e59.06\u003c/td\u003e\n      \u003ctd\u003e64.98\u003c/td\u003e\n      \u003ctd\u003e-0.17\u003c/td\u003e\n      \u003ctd\u003e-0.20\u003c/td\u003e\n      \u003ctd\u003e-0.14\u003c/td\u003e\n      \u003ctd\u003e-0.15\u003c/td\u003e\n      \u003ctd\u003e-0.22\u003c/td\u003e\n      \u003ctd\u003e-0.16\u003c/td\u003e\n      \u003ctd\u003e-0.26\u003c/td\u003e\n      \u003ctd\u003e-0.23\u003c/td\u003e\n      \u003ctd\u003e-0.18\u003c/td\u003e\n      \u003ctd\u003e66.98\u003c/td\u003e\n      \u003ctd\u003e70.21\u003c/td\u003e\n      \u003ctd\u003e-0.12\u003c/td\u003e\n      \u003ctd\u003e-0.07\u003c/td\u003e\n      \u003ctd\u003e-0.06\u003c/td\u003e\n      \u003ctd\u003e-0.00\u003c/td\u003e\n      \u003ctd\u003e-0.09\u003c/td\u003e\n      \u003ctd\u003e-0.08\u003c/td\u003e\n      \u003ctd\u003e-0.17\u003c/td\u003e\n      \u003ctd\u003e-0.17\u003c/td\u003e\n      \u003ctd\u003e-0.13\u003c/td\u003e\n      \u003ctd\u003e67.37\u003c/td\u003e\n      \u003ctd\u003e69.95\u003c/td\u003e\n      \u003ctd\u003e-0.09\u003c/td\u003e\n      \u003ctd\u003e-0.08\u003c/td\u003e\n      \u003ctd\u003e-0.08\u003c/td\u003e\n      \u003ctd\u003e-0.07\u003c/td\u003e\n      \u003ctd\u003e-0.14\u003c/td\u003e\n      \u003ctd\u003e-0.11\u003c/td\u003e\n      \u003ctd\u003e-0.14\u003c/td\u003e\n      \u003ctd\u003e-0.14\u003c/td\u003e\n      \u003ctd\u003e-0.11\u003c/td\u003e\n      \u003ctd\u003e68.22\u003c/td\u003e\n      \u003ctd\u003e70.09\u003c/td\u003e\n      \u003ctd\u003e-0.08\u003c/td\u003e\n      \u003ctd\u003e-0.06\u003c/td\u003e\n      \u003ctd\u003e-0.05\u003c/td\u003e\n      \u003ctd\u003e-0.06\u003c/td\u003e\n      \u003ctd\u003e-0.09\u003c/td\u003e\n      \u003ctd\u003e-0.06\u003c/td\u003e\n      \u003ctd\u003e-0.11\u003c/td\u003e\n      \u003ctd\u003e-0.07\u003c/td\u003e\n      \u003ctd\u003e-0.02\u003c/td\u003e\n    \u003c/tr\u003e\n    \u003ctr\u003e\n      \u003cth\u003e2\u003c/th\u003e\n      \u003ctd\u003e1985-12-11\u003c/td\u003e\n      \u003ctd\u003e127.974998\u003c/td\u003e\n      \u003ctd\u003e129.649994\u003c/td\u003e\n      \u003ctd\u003e127.974998\u003c/td\u003e\n      \u003ctd\u003e129.179993\u003c/td\u003e\n      \u003ctd\u003e253000000\u003c/td\u003e\n      \u003ctd\u003e63.23\u003c/td\u003e\n      \u003ctd\u003e67.58\u003c/td\u003e\n      \u003ctd\u003e68.10\u003c/td\u003e\n      \u003ctd\u003e70.31\u003c/td\u003e\n      \u003ctd\u003e59.15\u003c/td\u003e\n      \u003ctd\u003e62.99\u003c/td\u003e\n      \u003ctd\u003e0.00\u003c/td\u003e\n      \u003ctd\u003e-0.16\u003c/td\u003e\n      \u003ctd\u003e-0.12\u003c/td\u003e\n      \u003ctd\u003e-0.14\u003c/td\u003e\n      \u003ctd\u003e-0.19\u003c/td\u003e\n      \u003ctd\u003e-0.18\u003c/td\u003e\n      \u003ctd\u003e-0.23\u003c/td\u003e\n      \u003ctd\u003e-0.26\u003c/td\u003e\n      \u003ctd\u003e-0.20\u003c/td\u003e\n      \u003ctd\u003e66.93\u003c/td\u003e\n      \u003ctd\u003e68.81\u003c/td\u003e\n      \u003ctd\u003e-0.00\u003c/td\u003e\n      \u003ctd\u003e-0.08\u003c/td\u003e\n      \u003ctd\u003e-0.04\u003c/td\u003e\n      \u003ctd\u003e-0.09\u003c/td\u003e\n      \u003ctd\u003e-0.07\u003c/td\u003e\n      \u003ctd\u003e-0.09\u003c/td\u003e\n      \u003ctd\u003e-0.16\u003c/td\u003e\n      \u003ctd\u003e-0.17\u003c/td\u003e\n      \u003ctd\u003e-0.15\u003c/td\u003e\n      \u003ctd\u003e67.51\u003c/td\u003e\n      \u003ctd\u003e68.92\u003c/td\u003e\n      \u003ctd\u003e0.01\u003c/td\u003e\n      \u003ctd\u003e-0.06\u003c/td\u003e\n      \u003ctd\u003e-0.06\u003c/td\u003e\n      \u003ctd\u003e-0.07\u003c/td\u003e\n      \u003ctd\u003e-0.10\u003c/td\u003e\n      \u003ctd\u003e-0.11\u003c/td\u003e\n      \u003ctd\u003e-0.19\u003c/td\u003e\n      \u003ctd\u003e-0.16\u003c/td\u003e\n      \u003ctd\u003e-0.13\u003c/td\u003e\n      \u003ctd\u003e68.28\u003c/td\u003e\n      \u003ctd\u003e69.65\u003c/td\u003e\n      \u003ctd\u003e0.00\u003c/td\u003e\n      \u003ctd\u003e-0.05\u003c/td\u003e\n      \u003ctd\u003e-0.04\u003c/td\u003e\n      \u003ctd\u003e-0.03\u003c/td\u003e\n      \u003ctd\u003e-0.07\u003c/td\u003e\n      \u003ctd\u003e-0.06\u003c/td\u003e\n      \u003ctd\u003e-0.09\u003c/td\u003e\n      \u003ctd\u003e-0.09\u003c/td\u003e\n      \u003ctd\u003e-0.05\u003c/td\u003e\n    \u003c/tr\u003e\n    \u003ctr\u003e\n      \u003cth\u003e3\u003c/th\u003e\n      \u003ctd\u003e1985-12-12\u003c/td\u003e\n      \u003ctd\u003e129.179993\u003c/td\u003e\n      \u003ctd\u003e130.100006\u003c/td\u003e\n      \u003ctd\u003e129.179993\u003c/td\u003e\n      \u003ctd\u003e129.764999\u003c/td\u003e\n      \u003ctd\u003e234600000\u003c/td\u003e\n      \u003ctd\u003e63.85\u003c/td\u003e\n      \u003ctd\u003e67.66\u003c/td\u003e\n      \u003ctd\u003e73.37\u003c/td\u003e\n      \u003ctd\u003e72.69\u003c/td\u003e\n      \u003ctd\u003e62.98\u003c/td\u003e\n      \u003ctd\u003e60.85\u003c/td\u003e\n      \u003ctd\u003e0.22\u003c/td\u003e\n      \u003ctd\u003e-0.00\u003c/td\u003e\n      \u003ctd\u003e-0.09\u003c/td\u003e\n      \u003ctd\u003e-0.14\u003c/td\u003e\n      \u003ctd\u003e-0.14\u003c/td\u003e\n      \u003ctd\u003e-0.19\u003c/td\u003e\n      \u003ctd\u003e-0.12\u003c/td\u003e\n      \u003ctd\u003e-0.21\u003c/td\u003e\n      \u003ctd\u003e-0.21\u003c/td\u003e\n      \u003ctd\u003e67.34\u003c/td\u003e\n      \u003ctd\u003e67.23\u003c/td\u003e\n      \u003ctd\u003e0.02\u003c/td\u003e\n      \u003ctd\u003e-0.04\u003c/td\u003e\n      \u003ctd\u003e-0.04\u003c/td\u003e\n      \u003ctd\u003e-0.10\u003c/td\u003e\n      \u003ctd\u003e-0.07\u003c/td\u003e\n      \u003ctd\u003e-0.10\u003c/td\u003e\n      \u003ctd\u003e-0.09\u003c/td\u003e\n      \u003ctd\u003e-0.14\u003c/td\u003e\n      \u003ctd\u003e-0.15\u003c/td\u003e\n      \u003ctd\u003e69.62\u003c/td\u003e\n      \u003ctd\u003e68.72\u003c/td\u003e\n      \u003ctd\u003e0.09\u003c/td\u003e\n      \u003ctd\u003e-0.00\u003c/td\u003e\n      \u003ctd\u003e-0.03\u003c/td\u003e\n      \u003ctd\u003e-0.01\u003c/td\u003e\n      \u003ctd\u003e-0.05\u003c/td\u003e\n      \u003ctd\u003e-0.10\u003c/td\u003e\n      \u003ctd\u003e-0.06\u003c/td\u003e\n      \u003ctd\u003e-0.13\u003c/td\u003e\n      \u003ctd\u003e-0.13\u003c/td\u003e\n      \u003ctd\u003e70.13\u003c/td\u003e\n      \u003ctd\u003e69.53\u003c/td\u003e\n      \u003ctd\u003e0.08\u003c/td\u003e\n      \u003ctd\u003e-0.00\u003c/td\u003e\n      \u003ctd\u003e-0.02\u003c/td\u003e\n      \u003ctd\u003e-0.01\u003c/td\u003e\n      \u003ctd\u003e-0.03\u003c/td\u003e\n      \u003ctd\u003e-0.06\u003c/td\u003e\n      \u003ctd\u003e-0.03\u003c/td\u003e\n      \u003ctd\u003e-0.07\u003c/td\u003e\n      \u003ctd\u003e-0.06\u003c/td\u003e\n    \u003c/tr\u003e\n    \u003ctr\u003e\n      \u003cth\u003e4\u003c/th\u003e\n      \u003ctd\u003e1985-12-13\u003c/td\u003e\n      \u003ctd\u003e129.764999\u003c/td\u003e\n      \u003ctd\u003e132.169998\u003c/td\u003e\n      \u003ctd\u003e129.764999\u003c/td\u003e\n      \u003ctd\u003e132.125000\u003c/td\u003e\n      \u003ctd\u003e263400000\u003c/td\u003e\n      \u003ctd\u003e66.35\u003c/td\u003e\n      \u003ctd\u003e68.42\u003c/td\u003e\n      \u003ctd\u003e73.94\u003c/td\u003e\n      \u003ctd\u003e73.21\u003c/td\u003e\n      \u003ctd\u003e64.48\u003c/td\u003e\n      \u003ctd\u003e61.53\u003c/td\u003e\n      \u003ctd\u003e0.07\u003c/td\u003e\n      \u003ctd\u003e0.09\u003c/td\u003e\n      \u003ctd\u003e-0.05\u003c/td\u003e\n      \u003ctd\u003e0.05\u003c/td\u003e\n      \u003ctd\u003e-0.08\u003c/td\u003e\n      \u003ctd\u003e-0.14\u003c/td\u003e\n      \u003ctd\u003e-0.09\u003c/td\u003e\n      \u003ctd\u003e-0.15\u003c/td\u003e\n      \u003ctd\u003e-0.20\u003c/td\u003e\n      \u003ctd\u003e67.89\u003c/td\u003e\n      \u003ctd\u003e67.38\u003c/td\u003e\n      \u003ctd\u003e0.02\u003c/td\u003e\n      \u003ctd\u003e0.01\u003c/td\u003e\n      \u003ctd\u003e-0.04\u003c/td\u003e\n      \u003ctd\u003e0.01\u003c/td\u003e\n      \u003ctd\u003e-0.07\u003c/td\u003e\n      \u003ctd\u003e-0.06\u003c/td\u003e\n      \u003ctd\u003e0.02\u003c/td\u003e\n      \u003ctd\u003e-0.08\u003c/td\u003e\n      \u003ctd\u003e-0.12\u003c/td\u003e\n      \u003ctd\u003e71.80\u003c/td\u003e\n      \u003ctd\u003e69.97\u003c/td\u003e\n      \u003ctd\u003e0.10\u003c/td\u003e\n      \u003ctd\u003e0.07\u003c/td\u003e\n      \u003ctd\u003e0.00\u003c/td\u003e\n      \u003ctd\u003e0.09\u003c/td\u003e\n      \u003ctd\u003e0.00\u003c/td\u003e\n      \u003ctd\u003e-0.04\u003c/td\u003e\n      \u003ctd\u003e0.02\u003c/td\u003e\n      \u003ctd\u003e-0.08\u003c/td\u003e\n      \u003ctd\u003e-0.11\u003c/td\u003e\n      \u003ctd\u003e72.07\u003c/td\u003e\n      \u003ctd\u003e70.15\u003c/td\u003e\n      \u003ctd\u003e0.09\u003c/td\u003e\n      \u003ctd\u003e0.06\u003c/td\u003e\n      \u003ctd\u003e0.00\u003c/td\u003e\n      \u003ctd\u003e0.04\u003c/td\u003e\n      \u003ctd\u003e0.00\u003c/td\u003e\n      \u003ctd\u003e-0.03\u003c/td\u003e\n      \u003ctd\u003e0.02\u003c/td\u003e\n      \u003ctd\u003e-0.03\u003c/td\u003e\n      \u003ctd\u003e-0.06\u003c/td\u003e\n    \u003c/tr\u003e\n  \u003c/tbody\u003e\n\u003c/table\u003e\n\u003c/div\u003e"
          },
          "metadata": {}
        }
      ]
    },
    {
      "execution_count": 103,
      "cell_type": "code",
      "metadata": {},
      "source": [
        "df_mfi.shape"
      ],
      "outputs": [
        {
          "output_type": "execute_result",
          "execution_count": 103,
          "data": {
            "text/plain": "(9204, 54)"
          },
          "metadata": {}
        }
      ]
    }
  ]
}