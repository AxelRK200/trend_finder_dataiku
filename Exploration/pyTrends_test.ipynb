{
  "cells": [
    {
      "cell_type": "markdown",
      "metadata": {
        "id": "view-in-github",
        "colab_type": "text"
      },
      "source": [
        "<a href=\"https://colab.research.google.com/github/AxelRK200/trend_finder_dataiku/blob/main/Exploration/pyTrends_test.ipynb\" target=\"_parent\"><img src=\"https://colab.research.google.com/assets/colab-badge.svg\" alt=\"Open In Colab\"/></a>"
      ]
    },
    {
      "cell_type": "code",
      "execution_count": null,
      "metadata": {
        "id": "KfUNFUuv0Z8w"
      },
      "outputs": [],
      "source": [
        "!pip install yfinance\n",
        "!pip install pytrends"
      ]
    },
    {
      "cell_type": "code",
      "execution_count": 22,
      "metadata": {
        "id": "a9Z2RQj60nsT"
      },
      "outputs": [],
      "source": [
        "import yfinance as yf\n",
        "from pytrends.request import TrendReq\n",
        "import pandas as pd, numpy as np\n",
        "from datetime import datetime, timedelta"
      ]
    },
    {
      "cell_type": "markdown",
      "metadata": {
        "id": "ePtP0YJl3oz8"
      },
      "source": [
        "# Import et mise en forme #"
      ]
    },
    {
      "cell_type": "code",
      "execution_count": null,
      "metadata": {
        "id": "CcQh6Njv3BQk"
      },
      "outputs": [],
      "source": [
        "ndx = yf.Ticker(\"^NDX\")\n",
        "df_source = ndx.history(period=\"max\")"
      ]
    },
    {
      "cell_type": "code",
      "execution_count": null,
      "metadata": {
        "id": "vrBRBR183SZk"
      },
      "outputs": [],
      "source": [
        "# Passe la date d'index à colonne\n",
        "df_source.reset_index(inplace=True)"
      ]
    },
    {
      "cell_type": "code",
      "execution_count": null,
      "metadata": {
        "id": "e3Aw5t1n3a_N"
      },
      "outputs": [],
      "source": [
        "df_source.drop(columns=['Dividends','Stock Splits'], inplace=True)"
      ]
    },
    {
      "cell_type": "code",
      "execution_count": null,
      "metadata": {
        "colab": {
          "base_uri": "https://localhost:8080/",
          "height": 206
        },
        "id": "DpCJmvDj3LBC",
        "outputId": "3462e5c9-8dba-4d96-e01f-4399370d4a92"
      },
      "outputs": [
        {
          "data": {
            "text/html": [
              "\n",
              "  <div id=\"df-3cff9216-1ea8-4d80-8375-1de3b3663cb8\">\n",
              "    <div class=\"colab-df-container\">\n",
              "      <div>\n",
              "<style scoped>\n",
              "    .dataframe tbody tr th:only-of-type {\n",
              "        vertical-align: middle;\n",
              "    }\n",
              "\n",
              "    .dataframe tbody tr th {\n",
              "        vertical-align: top;\n",
              "    }\n",
              "\n",
              "    .dataframe thead th {\n",
              "        text-align: right;\n",
              "    }\n",
              "</style>\n",
              "<table border=\"1\" class=\"dataframe\">\n",
              "  <thead>\n",
              "    <tr style=\"text-align: right;\">\n",
              "      <th></th>\n",
              "      <th>Date</th>\n",
              "      <th>Open</th>\n",
              "      <th>High</th>\n",
              "      <th>Low</th>\n",
              "      <th>Close</th>\n",
              "      <th>Volume</th>\n",
              "    </tr>\n",
              "  </thead>\n",
              "  <tbody>\n",
              "    <tr>\n",
              "      <th>0</th>\n",
              "      <td>1985-10-01 00:00:00-04:00</td>\n",
              "      <td>110.620003</td>\n",
              "      <td>112.160004</td>\n",
              "      <td>110.565002</td>\n",
              "      <td>112.139999</td>\n",
              "      <td>153160000</td>\n",
              "    </tr>\n",
              "    <tr>\n",
              "      <th>1</th>\n",
              "      <td>1985-10-02 00:00:00-04:00</td>\n",
              "      <td>112.139999</td>\n",
              "      <td>112.540001</td>\n",
              "      <td>110.779999</td>\n",
              "      <td>110.824997</td>\n",
              "      <td>164640000</td>\n",
              "    </tr>\n",
              "    <tr>\n",
              "      <th>2</th>\n",
              "      <td>1985-10-03 00:00:00-04:00</td>\n",
              "      <td>110.839996</td>\n",
              "      <td>111.184998</td>\n",
              "      <td>110.120003</td>\n",
              "      <td>110.870003</td>\n",
              "      <td>147300000</td>\n",
              "    </tr>\n",
              "    <tr>\n",
              "      <th>3</th>\n",
              "      <td>1985-10-04 00:00:00-04:00</td>\n",
              "      <td>110.870003</td>\n",
              "      <td>110.870003</td>\n",
              "      <td>109.855003</td>\n",
              "      <td>110.074997</td>\n",
              "      <td>147900000</td>\n",
              "    </tr>\n",
              "    <tr>\n",
              "      <th>4</th>\n",
              "      <td>1985-10-07 00:00:00-04:00</td>\n",
              "      <td>110.074997</td>\n",
              "      <td>110.135002</td>\n",
              "      <td>108.175003</td>\n",
              "      <td>108.199997</td>\n",
              "      <td>128640000</td>\n",
              "    </tr>\n",
              "  </tbody>\n",
              "</table>\n",
              "</div>\n",
              "      <button class=\"colab-df-convert\" onclick=\"convertToInteractive('df-3cff9216-1ea8-4d80-8375-1de3b3663cb8')\"\n",
              "              title=\"Convert this dataframe to an interactive table.\"\n",
              "              style=\"display:none;\">\n",
              "        \n",
              "  <svg xmlns=\"http://www.w3.org/2000/svg\" height=\"24px\"viewBox=\"0 0 24 24\"\n",
              "       width=\"24px\">\n",
              "    <path d=\"M0 0h24v24H0V0z\" fill=\"none\"/>\n",
              "    <path d=\"M18.56 5.44l.94 2.06.94-2.06 2.06-.94-2.06-.94-.94-2.06-.94 2.06-2.06.94zm-11 1L8.5 8.5l.94-2.06 2.06-.94-2.06-.94L8.5 2.5l-.94 2.06-2.06.94zm10 10l.94 2.06.94-2.06 2.06-.94-2.06-.94-.94-2.06-.94 2.06-2.06.94z\"/><path d=\"M17.41 7.96l-1.37-1.37c-.4-.4-.92-.59-1.43-.59-.52 0-1.04.2-1.43.59L10.3 9.45l-7.72 7.72c-.78.78-.78 2.05 0 2.83L4 21.41c.39.39.9.59 1.41.59.51 0 1.02-.2 1.41-.59l7.78-7.78 2.81-2.81c.8-.78.8-2.07 0-2.86zM5.41 20L4 18.59l7.72-7.72 1.47 1.35L5.41 20z\"/>\n",
              "  </svg>\n",
              "      </button>\n",
              "      \n",
              "  <style>\n",
              "    .colab-df-container {\n",
              "      display:flex;\n",
              "      flex-wrap:wrap;\n",
              "      gap: 12px;\n",
              "    }\n",
              "\n",
              "    .colab-df-convert {\n",
              "      background-color: #E8F0FE;\n",
              "      border: none;\n",
              "      border-radius: 50%;\n",
              "      cursor: pointer;\n",
              "      display: none;\n",
              "      fill: #1967D2;\n",
              "      height: 32px;\n",
              "      padding: 0 0 0 0;\n",
              "      width: 32px;\n",
              "    }\n",
              "\n",
              "    .colab-df-convert:hover {\n",
              "      background-color: #E2EBFA;\n",
              "      box-shadow: 0px 1px 2px rgba(60, 64, 67, 0.3), 0px 1px 3px 1px rgba(60, 64, 67, 0.15);\n",
              "      fill: #174EA6;\n",
              "    }\n",
              "\n",
              "    [theme=dark] .colab-df-convert {\n",
              "      background-color: #3B4455;\n",
              "      fill: #D2E3FC;\n",
              "    }\n",
              "\n",
              "    [theme=dark] .colab-df-convert:hover {\n",
              "      background-color: #434B5C;\n",
              "      box-shadow: 0px 1px 3px 1px rgba(0, 0, 0, 0.15);\n",
              "      filter: drop-shadow(0px 1px 2px rgba(0, 0, 0, 0.3));\n",
              "      fill: #FFFFFF;\n",
              "    }\n",
              "  </style>\n",
              "\n",
              "      <script>\n",
              "        const buttonEl =\n",
              "          document.querySelector('#df-3cff9216-1ea8-4d80-8375-1de3b3663cb8 button.colab-df-convert');\n",
              "        buttonEl.style.display =\n",
              "          google.colab.kernel.accessAllowed ? 'block' : 'none';\n",
              "\n",
              "        async function convertToInteractive(key) {\n",
              "          const element = document.querySelector('#df-3cff9216-1ea8-4d80-8375-1de3b3663cb8');\n",
              "          const dataTable =\n",
              "            await google.colab.kernel.invokeFunction('convertToInteractive',\n",
              "                                                     [key], {});\n",
              "          if (!dataTable) return;\n",
              "\n",
              "          const docLinkHtml = 'Like what you see? Visit the ' +\n",
              "            '<a target=\"_blank\" href=https://colab.research.google.com/notebooks/data_table.ipynb>data table notebook</a>'\n",
              "            + ' to learn more about interactive tables.';\n",
              "          element.innerHTML = '';\n",
              "          dataTable['output_type'] = 'display_data';\n",
              "          await google.colab.output.renderOutput(dataTable, element);\n",
              "          const docLink = document.createElement('div');\n",
              "          docLink.innerHTML = docLinkHtml;\n",
              "          element.appendChild(docLink);\n",
              "        }\n",
              "      </script>\n",
              "    </div>\n",
              "  </div>\n",
              "  "
            ],
            "text/plain": [
              "                       Date        Open        High         Low       Close  \\\n",
              "0 1985-10-01 00:00:00-04:00  110.620003  112.160004  110.565002  112.139999   \n",
              "1 1985-10-02 00:00:00-04:00  112.139999  112.540001  110.779999  110.824997   \n",
              "2 1985-10-03 00:00:00-04:00  110.839996  111.184998  110.120003  110.870003   \n",
              "3 1985-10-04 00:00:00-04:00  110.870003  110.870003  109.855003  110.074997   \n",
              "4 1985-10-07 00:00:00-04:00  110.074997  110.135002  108.175003  108.199997   \n",
              "\n",
              "      Volume  \n",
              "0  153160000  \n",
              "1  164640000  \n",
              "2  147300000  \n",
              "3  147900000  \n",
              "4  128640000  "
            ]
          },
          "execution_count": 6,
          "metadata": {},
          "output_type": "execute_result"
        }
      ],
      "source": [
        "df_source.head()"
      ]
    },
    {
      "cell_type": "markdown",
      "metadata": {
        "id": "P3prABTj4Mew"
      },
      "source": [
        "# Google search Trend"
      ]
    },
    {
      "cell_type": "code",
      "execution_count": null,
      "metadata": {
        "id": "CDRPgbiKVG4K"
      },
      "outputs": [],
      "source": [
        "pytrends = TrendReq(hl='en-US', tz=360)"
      ]
    },
    {
      "cell_type": "code",
      "execution_count": 62,
      "metadata": {
        "id": "mBA9agrE3MrD"
      },
      "outputs": [],
      "source": [
        "kw_list = [\"recession\",\"inflation\",\"debt\"]"
      ]
    },
    {
      "cell_type": "markdown",
      "source": [
        "### Calcul des périodes"
      ],
      "metadata": {
        "id": "bn591qJ8hSU7"
      }
    },
    {
      "cell_type": "code",
      "source": [
        "date_jour = datetime.now()\n",
        "date_jour_str = date_jour.strftime(\"%Y-%m-%d\")\n",
        "print(date_jour_str)\n",
        "\n",
        "date_30j = date_jour - timedelta(days=30)\n",
        "date_30j_str = date_30j.strftime(\"%Y-%m-%d\")\n",
        "print(date_30j_str)"
      ],
      "metadata": {
        "colab": {
          "base_uri": "https://localhost:8080/"
        },
        "id": "FA0JhDiKgX3S",
        "outputId": "09594502-b70c-47de-919d-33dedcebf419"
      },
      "execution_count": 63,
      "outputs": [
        {
          "output_type": "stream",
          "name": "stdout",
          "text": [
            "2023-02-23\n",
            "2023-01-24\n"
          ]
        }
      ]
    },
    {
      "cell_type": "code",
      "source": [
        "intervalle_appel = date_30j_str + \" \" + date_jour_str\n",
        "print(intervalle_appel)"
      ],
      "metadata": {
        "colab": {
          "base_uri": "https://localhost:8080/"
        },
        "id": "fl38HywAhd0H",
        "outputId": "71a72ce8-9a64-4472-a1c8-6f9228cfe2cc"
      },
      "execution_count": 64,
      "outputs": [
        {
          "output_type": "stream",
          "name": "stdout",
          "text": [
            "2023-01-24 2023-02-23\n"
          ]
        }
      ]
    },
    {
      "cell_type": "code",
      "execution_count": 65,
      "metadata": {
        "id": "-35ANnZq4UvM"
      },
      "outputs": [],
      "source": [
        "pytrends.build_payload(kw_list, timeframe=intervalle_appel, geo='US')"
      ]
    },
    {
      "cell_type": "code",
      "execution_count": 66,
      "metadata": {
        "colab": {
          "base_uri": "https://localhost:8080/",
          "height": 896
        },
        "id": "SzxM_D0NUunq",
        "outputId": "80add097-3235-49da-91f7-943df01eab0e"
      },
      "outputs": [
        {
          "output_type": "execute_result",
          "data": {
            "text/plain": [
              "         date  recession  inflation  debt\n",
              "0  2023-01-24         21         42    93\n",
              "1  2023-01-25         19         37    97\n",
              "2  2023-01-26         22         41    92\n",
              "3  2023-01-27         17         40    80\n",
              "4  2023-01-28         13         27    67\n",
              "5  2023-01-29         12         30    67\n",
              "6  2023-01-30         16         39    90\n",
              "7  2023-01-31         17         43    94\n",
              "8  2023-02-01         16         46    88\n",
              "9  2023-02-02         18         46    85\n",
              "10 2023-02-03         14         41    78\n",
              "11 2023-02-04         10         30    60\n",
              "12 2023-02-05         11         32    52\n",
              "13 2023-02-06         16         49    77\n",
              "14 2023-02-07         14         50   100\n",
              "15 2023-02-08         15         52    98\n",
              "16 2023-02-09         14         43    79\n",
              "17 2023-02-10         14         38    68\n",
              "18 2023-02-11          9         30    53\n",
              "19 2023-02-12          7         28    44\n",
              "20 2023-02-13         11         43    62\n",
              "21 2023-02-14         12         64    71\n",
              "22 2023-02-15         15         50    77\n",
              "23 2023-02-16         16         48    77\n",
              "24 2023-02-17         10         37    70\n",
              "25 2023-02-18          9         28    53\n",
              "26 2023-02-19         10         30    49"
            ],
            "text/html": [
              "\n",
              "  <div id=\"df-5925c7c0-a465-4365-a998-9fd487823375\">\n",
              "    <div class=\"colab-df-container\">\n",
              "      <div>\n",
              "<style scoped>\n",
              "    .dataframe tbody tr th:only-of-type {\n",
              "        vertical-align: middle;\n",
              "    }\n",
              "\n",
              "    .dataframe tbody tr th {\n",
              "        vertical-align: top;\n",
              "    }\n",
              "\n",
              "    .dataframe thead th {\n",
              "        text-align: right;\n",
              "    }\n",
              "</style>\n",
              "<table border=\"1\" class=\"dataframe\">\n",
              "  <thead>\n",
              "    <tr style=\"text-align: right;\">\n",
              "      <th></th>\n",
              "      <th>date</th>\n",
              "      <th>recession</th>\n",
              "      <th>inflation</th>\n",
              "      <th>debt</th>\n",
              "    </tr>\n",
              "  </thead>\n",
              "  <tbody>\n",
              "    <tr>\n",
              "      <th>0</th>\n",
              "      <td>2023-01-24</td>\n",
              "      <td>21</td>\n",
              "      <td>42</td>\n",
              "      <td>93</td>\n",
              "    </tr>\n",
              "    <tr>\n",
              "      <th>1</th>\n",
              "      <td>2023-01-25</td>\n",
              "      <td>19</td>\n",
              "      <td>37</td>\n",
              "      <td>97</td>\n",
              "    </tr>\n",
              "    <tr>\n",
              "      <th>2</th>\n",
              "      <td>2023-01-26</td>\n",
              "      <td>22</td>\n",
              "      <td>41</td>\n",
              "      <td>92</td>\n",
              "    </tr>\n",
              "    <tr>\n",
              "      <th>3</th>\n",
              "      <td>2023-01-27</td>\n",
              "      <td>17</td>\n",
              "      <td>40</td>\n",
              "      <td>80</td>\n",
              "    </tr>\n",
              "    <tr>\n",
              "      <th>4</th>\n",
              "      <td>2023-01-28</td>\n",
              "      <td>13</td>\n",
              "      <td>27</td>\n",
              "      <td>67</td>\n",
              "    </tr>\n",
              "    <tr>\n",
              "      <th>5</th>\n",
              "      <td>2023-01-29</td>\n",
              "      <td>12</td>\n",
              "      <td>30</td>\n",
              "      <td>67</td>\n",
              "    </tr>\n",
              "    <tr>\n",
              "      <th>6</th>\n",
              "      <td>2023-01-30</td>\n",
              "      <td>16</td>\n",
              "      <td>39</td>\n",
              "      <td>90</td>\n",
              "    </tr>\n",
              "    <tr>\n",
              "      <th>7</th>\n",
              "      <td>2023-01-31</td>\n",
              "      <td>17</td>\n",
              "      <td>43</td>\n",
              "      <td>94</td>\n",
              "    </tr>\n",
              "    <tr>\n",
              "      <th>8</th>\n",
              "      <td>2023-02-01</td>\n",
              "      <td>16</td>\n",
              "      <td>46</td>\n",
              "      <td>88</td>\n",
              "    </tr>\n",
              "    <tr>\n",
              "      <th>9</th>\n",
              "      <td>2023-02-02</td>\n",
              "      <td>18</td>\n",
              "      <td>46</td>\n",
              "      <td>85</td>\n",
              "    </tr>\n",
              "    <tr>\n",
              "      <th>10</th>\n",
              "      <td>2023-02-03</td>\n",
              "      <td>14</td>\n",
              "      <td>41</td>\n",
              "      <td>78</td>\n",
              "    </tr>\n",
              "    <tr>\n",
              "      <th>11</th>\n",
              "      <td>2023-02-04</td>\n",
              "      <td>10</td>\n",
              "      <td>30</td>\n",
              "      <td>60</td>\n",
              "    </tr>\n",
              "    <tr>\n",
              "      <th>12</th>\n",
              "      <td>2023-02-05</td>\n",
              "      <td>11</td>\n",
              "      <td>32</td>\n",
              "      <td>52</td>\n",
              "    </tr>\n",
              "    <tr>\n",
              "      <th>13</th>\n",
              "      <td>2023-02-06</td>\n",
              "      <td>16</td>\n",
              "      <td>49</td>\n",
              "      <td>77</td>\n",
              "    </tr>\n",
              "    <tr>\n",
              "      <th>14</th>\n",
              "      <td>2023-02-07</td>\n",
              "      <td>14</td>\n",
              "      <td>50</td>\n",
              "      <td>100</td>\n",
              "    </tr>\n",
              "    <tr>\n",
              "      <th>15</th>\n",
              "      <td>2023-02-08</td>\n",
              "      <td>15</td>\n",
              "      <td>52</td>\n",
              "      <td>98</td>\n",
              "    </tr>\n",
              "    <tr>\n",
              "      <th>16</th>\n",
              "      <td>2023-02-09</td>\n",
              "      <td>14</td>\n",
              "      <td>43</td>\n",
              "      <td>79</td>\n",
              "    </tr>\n",
              "    <tr>\n",
              "      <th>17</th>\n",
              "      <td>2023-02-10</td>\n",
              "      <td>14</td>\n",
              "      <td>38</td>\n",
              "      <td>68</td>\n",
              "    </tr>\n",
              "    <tr>\n",
              "      <th>18</th>\n",
              "      <td>2023-02-11</td>\n",
              "      <td>9</td>\n",
              "      <td>30</td>\n",
              "      <td>53</td>\n",
              "    </tr>\n",
              "    <tr>\n",
              "      <th>19</th>\n",
              "      <td>2023-02-12</td>\n",
              "      <td>7</td>\n",
              "      <td>28</td>\n",
              "      <td>44</td>\n",
              "    </tr>\n",
              "    <tr>\n",
              "      <th>20</th>\n",
              "      <td>2023-02-13</td>\n",
              "      <td>11</td>\n",
              "      <td>43</td>\n",
              "      <td>62</td>\n",
              "    </tr>\n",
              "    <tr>\n",
              "      <th>21</th>\n",
              "      <td>2023-02-14</td>\n",
              "      <td>12</td>\n",
              "      <td>64</td>\n",
              "      <td>71</td>\n",
              "    </tr>\n",
              "    <tr>\n",
              "      <th>22</th>\n",
              "      <td>2023-02-15</td>\n",
              "      <td>15</td>\n",
              "      <td>50</td>\n",
              "      <td>77</td>\n",
              "    </tr>\n",
              "    <tr>\n",
              "      <th>23</th>\n",
              "      <td>2023-02-16</td>\n",
              "      <td>16</td>\n",
              "      <td>48</td>\n",
              "      <td>77</td>\n",
              "    </tr>\n",
              "    <tr>\n",
              "      <th>24</th>\n",
              "      <td>2023-02-17</td>\n",
              "      <td>10</td>\n",
              "      <td>37</td>\n",
              "      <td>70</td>\n",
              "    </tr>\n",
              "    <tr>\n",
              "      <th>25</th>\n",
              "      <td>2023-02-18</td>\n",
              "      <td>9</td>\n",
              "      <td>28</td>\n",
              "      <td>53</td>\n",
              "    </tr>\n",
              "    <tr>\n",
              "      <th>26</th>\n",
              "      <td>2023-02-19</td>\n",
              "      <td>10</td>\n",
              "      <td>30</td>\n",
              "      <td>49</td>\n",
              "    </tr>\n",
              "  </tbody>\n",
              "</table>\n",
              "</div>\n",
              "      <button class=\"colab-df-convert\" onclick=\"convertToInteractive('df-5925c7c0-a465-4365-a998-9fd487823375')\"\n",
              "              title=\"Convert this dataframe to an interactive table.\"\n",
              "              style=\"display:none;\">\n",
              "        \n",
              "  <svg xmlns=\"http://www.w3.org/2000/svg\" height=\"24px\"viewBox=\"0 0 24 24\"\n",
              "       width=\"24px\">\n",
              "    <path d=\"M0 0h24v24H0V0z\" fill=\"none\"/>\n",
              "    <path d=\"M18.56 5.44l.94 2.06.94-2.06 2.06-.94-2.06-.94-.94-2.06-.94 2.06-2.06.94zm-11 1L8.5 8.5l.94-2.06 2.06-.94-2.06-.94L8.5 2.5l-.94 2.06-2.06.94zm10 10l.94 2.06.94-2.06 2.06-.94-2.06-.94-.94-2.06-.94 2.06-2.06.94z\"/><path d=\"M17.41 7.96l-1.37-1.37c-.4-.4-.92-.59-1.43-.59-.52 0-1.04.2-1.43.59L10.3 9.45l-7.72 7.72c-.78.78-.78 2.05 0 2.83L4 21.41c.39.39.9.59 1.41.59.51 0 1.02-.2 1.41-.59l7.78-7.78 2.81-2.81c.8-.78.8-2.07 0-2.86zM5.41 20L4 18.59l7.72-7.72 1.47 1.35L5.41 20z\"/>\n",
              "  </svg>\n",
              "      </button>\n",
              "      \n",
              "  <style>\n",
              "    .colab-df-container {\n",
              "      display:flex;\n",
              "      flex-wrap:wrap;\n",
              "      gap: 12px;\n",
              "    }\n",
              "\n",
              "    .colab-df-convert {\n",
              "      background-color: #E8F0FE;\n",
              "      border: none;\n",
              "      border-radius: 50%;\n",
              "      cursor: pointer;\n",
              "      display: none;\n",
              "      fill: #1967D2;\n",
              "      height: 32px;\n",
              "      padding: 0 0 0 0;\n",
              "      width: 32px;\n",
              "    }\n",
              "\n",
              "    .colab-df-convert:hover {\n",
              "      background-color: #E2EBFA;\n",
              "      box-shadow: 0px 1px 2px rgba(60, 64, 67, 0.3), 0px 1px 3px 1px rgba(60, 64, 67, 0.15);\n",
              "      fill: #174EA6;\n",
              "    }\n",
              "\n",
              "    [theme=dark] .colab-df-convert {\n",
              "      background-color: #3B4455;\n",
              "      fill: #D2E3FC;\n",
              "    }\n",
              "\n",
              "    [theme=dark] .colab-df-convert:hover {\n",
              "      background-color: #434B5C;\n",
              "      box-shadow: 0px 1px 3px 1px rgba(0, 0, 0, 0.15);\n",
              "      filter: drop-shadow(0px 1px 2px rgba(0, 0, 0, 0.3));\n",
              "      fill: #FFFFFF;\n",
              "    }\n",
              "  </style>\n",
              "\n",
              "      <script>\n",
              "        const buttonEl =\n",
              "          document.querySelector('#df-5925c7c0-a465-4365-a998-9fd487823375 button.colab-df-convert');\n",
              "        buttonEl.style.display =\n",
              "          google.colab.kernel.accessAllowed ? 'block' : 'none';\n",
              "\n",
              "        async function convertToInteractive(key) {\n",
              "          const element = document.querySelector('#df-5925c7c0-a465-4365-a998-9fd487823375');\n",
              "          const dataTable =\n",
              "            await google.colab.kernel.invokeFunction('convertToInteractive',\n",
              "                                                     [key], {});\n",
              "          if (!dataTable) return;\n",
              "\n",
              "          const docLinkHtml = 'Like what you see? Visit the ' +\n",
              "            '<a target=\"_blank\" href=https://colab.research.google.com/notebooks/data_table.ipynb>data table notebook</a>'\n",
              "            + ' to learn more about interactive tables.';\n",
              "          element.innerHTML = '';\n",
              "          dataTable['output_type'] = 'display_data';\n",
              "          await google.colab.output.renderOutput(dataTable, element);\n",
              "          const docLink = document.createElement('div');\n",
              "          docLink.innerHTML = docLinkHtml;\n",
              "          element.appendChild(docLink);\n",
              "        }\n",
              "      </script>\n",
              "    </div>\n",
              "  </div>\n",
              "  "
            ]
          },
          "metadata": {},
          "execution_count": 66
        }
      ],
      "source": [
        "df_temp = pytrends.interest_over_time().drop(columns=[\"isPartial\"])\n",
        "df_temp.reset_index(inplace=True)\n",
        "df_temp"
      ]
    },
    {
      "cell_type": "code",
      "source": [
        "df_temp.dtypes"
      ],
      "metadata": {
        "colab": {
          "base_uri": "https://localhost:8080/"
        },
        "id": "kdk2VNCffOdg",
        "outputId": "1bac11bf-a043-4c21-c367-1d85730b7968"
      },
      "execution_count": 41,
      "outputs": [
        {
          "output_type": "execute_result",
          "data": {
            "text/plain": [
              "date         datetime64[ns]\n",
              "recession             int64\n",
              "isPartial              bool\n",
              "dtype: object"
            ]
          },
          "metadata": {},
          "execution_count": 41
        }
      ]
    },
    {
      "cell_type": "code",
      "source": [],
      "metadata": {
        "id": "ww9gt9YOkvCM"
      },
      "execution_count": null,
      "outputs": []
    }
  ],
  "metadata": {
    "colab": {
      "provenance": [],
      "mount_file_id": "1PjpzYmx4jhXBCc92UFXSeGLa3UcMBn4m",
      "authorship_tag": "ABX9TyN3WP9o9ZLAviWNLKqa+OTA",
      "include_colab_link": true
    },
    "kernelspec": {
      "display_name": "Python 3",
      "name": "python3"
    },
    "language_info": {
      "name": "python"
    }
  },
  "nbformat": 4,
  "nbformat_minor": 0
}