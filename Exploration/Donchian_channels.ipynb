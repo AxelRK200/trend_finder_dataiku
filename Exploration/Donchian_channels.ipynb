{
  "nbformat": 4,
  "nbformat_minor": 0,
  "metadata": {
    "colab": {
      "provenance": [],
      "mount_file_id": "1JtnFW110UTwWXvaXEHM4bNZ52LhwyOWs",
      "authorship_tag": "ABX9TyNkGcEmV7cngmz/e0rZBzu5",
      "include_colab_link": true
    },
    "kernelspec": {
      "name": "python3",
      "display_name": "Python 3"
    },
    "language_info": {
      "name": "python"
    }
  },
  "cells": [
    {
      "cell_type": "markdown",
      "metadata": {
        "id": "view-in-github",
        "colab_type": "text"
      },
      "source": [
        "<a href=\"https://colab.research.google.com/github/AxelRK200/trend_finder_dataiku/blob/main/Exploration/Donchian_channels.ipynb\" target=\"_parent\"><img src=\"https://colab.research.google.com/assets/colab-badge.svg\" alt=\"Open In Colab\"/></a>"
      ]
    },
    {
      "cell_type": "code",
      "execution_count": null,
      "metadata": {
        "id": "EWCg1HoPcp6q"
      },
      "outputs": [],
      "source": [
        "!pip install yfinance\n",
        "!pip install ta"
      ]
    },
    {
      "cell_type": "code",
      "source": [
        "import pandas as pd\n",
        "import yfinance as yf\n",
        "from ta.volatility import DonchianChannel"
      ],
      "metadata": {
        "id": "75YApMWhdkq8"
      },
      "execution_count": 31,
      "outputs": []
    },
    {
      "cell_type": "markdown",
      "source": [
        "# Import et mise en forme #"
      ],
      "metadata": {
        "id": "qP_Sat5Ff0TS"
      }
    },
    {
      "cell_type": "code",
      "source": [
        "ndx = yf.Ticker(\"^NDX\")\n",
        "df_DC = ndx.history(period=\"max\")\n",
        "# Passe la date d'index à colonne\n",
        "df_DC.reset_index(inplace=True)"
      ],
      "metadata": {
        "id": "AFRU9tu8dsYg"
      },
      "execution_count": 32,
      "outputs": []
    },
    {
      "cell_type": "code",
      "source": [
        "df_DC.drop(columns=['Volume','Dividends','Stock Splits'], inplace=True)"
      ],
      "metadata": {
        "id": "bR_-pbtKeweh"
      },
      "execution_count": 33,
      "outputs": []
    },
    {
      "cell_type": "code",
      "source": [
        "cols_to_round = df_DC.columns.to_list()\n",
        "print(cols_to_round)"
      ],
      "metadata": {
        "colab": {
          "base_uri": "https://localhost:8080/"
        },
        "id": "PifnL8uffBSj",
        "outputId": "b61148ee-4442-476b-bec6-11e5fd970fab"
      },
      "execution_count": 34,
      "outputs": [
        {
          "output_type": "stream",
          "name": "stdout",
          "text": [
            "['Date', 'Open', 'High', 'Low', 'Close']\n"
          ]
        }
      ]
    },
    {
      "cell_type": "code",
      "source": [
        "for i in range (1,5):\n",
        "  df_DC[cols_to_round[i]] = df_DC[cols_to_round[i]].apply(lambda f : round(f,2))"
      ],
      "metadata": {
        "id": "PNmZlDrkfDSR"
      },
      "execution_count": 35,
      "outputs": []
    },
    {
      "cell_type": "code",
      "source": [
        "df_DC[\"Date\"] = df_DC.Date.apply(lambda d : d.strftime('%Y-%m-%d'))"
      ],
      "metadata": {
        "id": "nbSLs8epfi2Q"
      },
      "execution_count": 36,
      "outputs": []
    },
    {
      "cell_type": "markdown",
      "source": [
        "# Indicateur technique #"
      ],
      "metadata": {
        "id": "_c0EJd2Of3fw"
      }
    },
    {
      "cell_type": "code",
      "source": [
        "df_DC[\"DC_up\"] = DonchianChannel(high=df_DC.High, low=df_DC.Low, close=df_DC.Close, window=10).donchian_channel_hband()\n",
        "df_DC[\"DC_low\"] = DonchianChannel(high=df_DC.High, low=df_DC.Low, close=df_DC.Close, window=10).donchian_channel_lband()\n",
        "df_DC[\"DC_width\"] = DonchianChannel(high=df_DC.High, low=df_DC.Low, close=df_DC.Close, window=10).donchian_channel_wband()"
      ],
      "metadata": {
        "id": "H4HXeLsEfxZt"
      },
      "execution_count": 37,
      "outputs": []
    },
    {
      "cell_type": "code",
      "source": [
        "df_DC.drop(columns=['High','Open','Low'], inplace=True)\n",
        "df_DC.dropna(inplace=True)\n",
        "df_DC.reset_index(drop=True, inplace=True)"
      ],
      "metadata": {
        "id": "yNpUUp_AhBi-"
      },
      "execution_count": 38,
      "outputs": []
    },
    {
      "cell_type": "code",
      "source": [
        "df_DC.head()"
      ],
      "metadata": {
        "colab": {
          "base_uri": "https://localhost:8080/",
          "height": 206
        },
        "id": "PQvTID4AgmCV",
        "outputId": "72c1a3ba-b566-4028-87d7-5078dca5e57b"
      },
      "execution_count": 40,
      "outputs": [
        {
          "output_type": "execute_result",
          "data": {
            "text/plain": [
              "         Date   Close   DC_up  DC_low  DC_width\n",
              "0  1985-10-14  113.18  113.27  106.75  5.918932\n",
              "1  1985-10-15  113.38  113.98  106.75  6.556099\n",
              "2  1985-10-16  114.32  114.34  106.75  6.860769\n",
              "3  1985-10-17  114.74  115.34  106.75  7.737623\n",
              "4  1985-10-18  114.32  115.34  106.75  7.708115"
            ],
            "text/html": [
              "\n",
              "  <div id=\"df-fe93abb1-2cd9-4d89-9f6e-72f9ea148c24\">\n",
              "    <div class=\"colab-df-container\">\n",
              "      <div>\n",
              "<style scoped>\n",
              "    .dataframe tbody tr th:only-of-type {\n",
              "        vertical-align: middle;\n",
              "    }\n",
              "\n",
              "    .dataframe tbody tr th {\n",
              "        vertical-align: top;\n",
              "    }\n",
              "\n",
              "    .dataframe thead th {\n",
              "        text-align: right;\n",
              "    }\n",
              "</style>\n",
              "<table border=\"1\" class=\"dataframe\">\n",
              "  <thead>\n",
              "    <tr style=\"text-align: right;\">\n",
              "      <th></th>\n",
              "      <th>Date</th>\n",
              "      <th>Close</th>\n",
              "      <th>DC_up</th>\n",
              "      <th>DC_low</th>\n",
              "      <th>DC_width</th>\n",
              "    </tr>\n",
              "  </thead>\n",
              "  <tbody>\n",
              "    <tr>\n",
              "      <th>0</th>\n",
              "      <td>1985-10-14</td>\n",
              "      <td>113.18</td>\n",
              "      <td>113.27</td>\n",
              "      <td>106.75</td>\n",
              "      <td>5.918932</td>\n",
              "    </tr>\n",
              "    <tr>\n",
              "      <th>1</th>\n",
              "      <td>1985-10-15</td>\n",
              "      <td>113.38</td>\n",
              "      <td>113.98</td>\n",
              "      <td>106.75</td>\n",
              "      <td>6.556099</td>\n",
              "    </tr>\n",
              "    <tr>\n",
              "      <th>2</th>\n",
              "      <td>1985-10-16</td>\n",
              "      <td>114.32</td>\n",
              "      <td>114.34</td>\n",
              "      <td>106.75</td>\n",
              "      <td>6.860769</td>\n",
              "    </tr>\n",
              "    <tr>\n",
              "      <th>3</th>\n",
              "      <td>1985-10-17</td>\n",
              "      <td>114.74</td>\n",
              "      <td>115.34</td>\n",
              "      <td>106.75</td>\n",
              "      <td>7.737623</td>\n",
              "    </tr>\n",
              "    <tr>\n",
              "      <th>4</th>\n",
              "      <td>1985-10-18</td>\n",
              "      <td>114.32</td>\n",
              "      <td>115.34</td>\n",
              "      <td>106.75</td>\n",
              "      <td>7.708115</td>\n",
              "    </tr>\n",
              "  </tbody>\n",
              "</table>\n",
              "</div>\n",
              "      <button class=\"colab-df-convert\" onclick=\"convertToInteractive('df-fe93abb1-2cd9-4d89-9f6e-72f9ea148c24')\"\n",
              "              title=\"Convert this dataframe to an interactive table.\"\n",
              "              style=\"display:none;\">\n",
              "        \n",
              "  <svg xmlns=\"http://www.w3.org/2000/svg\" height=\"24px\"viewBox=\"0 0 24 24\"\n",
              "       width=\"24px\">\n",
              "    <path d=\"M0 0h24v24H0V0z\" fill=\"none\"/>\n",
              "    <path d=\"M18.56 5.44l.94 2.06.94-2.06 2.06-.94-2.06-.94-.94-2.06-.94 2.06-2.06.94zm-11 1L8.5 8.5l.94-2.06 2.06-.94-2.06-.94L8.5 2.5l-.94 2.06-2.06.94zm10 10l.94 2.06.94-2.06 2.06-.94-2.06-.94-.94-2.06-.94 2.06-2.06.94z\"/><path d=\"M17.41 7.96l-1.37-1.37c-.4-.4-.92-.59-1.43-.59-.52 0-1.04.2-1.43.59L10.3 9.45l-7.72 7.72c-.78.78-.78 2.05 0 2.83L4 21.41c.39.39.9.59 1.41.59.51 0 1.02-.2 1.41-.59l7.78-7.78 2.81-2.81c.8-.78.8-2.07 0-2.86zM5.41 20L4 18.59l7.72-7.72 1.47 1.35L5.41 20z\"/>\n",
              "  </svg>\n",
              "      </button>\n",
              "      \n",
              "  <style>\n",
              "    .colab-df-container {\n",
              "      display:flex;\n",
              "      flex-wrap:wrap;\n",
              "      gap: 12px;\n",
              "    }\n",
              "\n",
              "    .colab-df-convert {\n",
              "      background-color: #E8F0FE;\n",
              "      border: none;\n",
              "      border-radius: 50%;\n",
              "      cursor: pointer;\n",
              "      display: none;\n",
              "      fill: #1967D2;\n",
              "      height: 32px;\n",
              "      padding: 0 0 0 0;\n",
              "      width: 32px;\n",
              "    }\n",
              "\n",
              "    .colab-df-convert:hover {\n",
              "      background-color: #E2EBFA;\n",
              "      box-shadow: 0px 1px 2px rgba(60, 64, 67, 0.3), 0px 1px 3px 1px rgba(60, 64, 67, 0.15);\n",
              "      fill: #174EA6;\n",
              "    }\n",
              "\n",
              "    [theme=dark] .colab-df-convert {\n",
              "      background-color: #3B4455;\n",
              "      fill: #D2E3FC;\n",
              "    }\n",
              "\n",
              "    [theme=dark] .colab-df-convert:hover {\n",
              "      background-color: #434B5C;\n",
              "      box-shadow: 0px 1px 3px 1px rgba(0, 0, 0, 0.15);\n",
              "      filter: drop-shadow(0px 1px 2px rgba(0, 0, 0, 0.3));\n",
              "      fill: #FFFFFF;\n",
              "    }\n",
              "  </style>\n",
              "\n",
              "      <script>\n",
              "        const buttonEl =\n",
              "          document.querySelector('#df-fe93abb1-2cd9-4d89-9f6e-72f9ea148c24 button.colab-df-convert');\n",
              "        buttonEl.style.display =\n",
              "          google.colab.kernel.accessAllowed ? 'block' : 'none';\n",
              "\n",
              "        async function convertToInteractive(key) {\n",
              "          const element = document.querySelector('#df-fe93abb1-2cd9-4d89-9f6e-72f9ea148c24');\n",
              "          const dataTable =\n",
              "            await google.colab.kernel.invokeFunction('convertToInteractive',\n",
              "                                                     [key], {});\n",
              "          if (!dataTable) return;\n",
              "\n",
              "          const docLinkHtml = 'Like what you see? Visit the ' +\n",
              "            '<a target=\"_blank\" href=https://colab.research.google.com/notebooks/data_table.ipynb>data table notebook</a>'\n",
              "            + ' to learn more about interactive tables.';\n",
              "          element.innerHTML = '';\n",
              "          dataTable['output_type'] = 'display_data';\n",
              "          await google.colab.output.renderOutput(dataTable, element);\n",
              "          const docLink = document.createElement('div');\n",
              "          docLink.innerHTML = docLinkHtml;\n",
              "          element.appendChild(docLink);\n",
              "        }\n",
              "      </script>\n",
              "    </div>\n",
              "  </div>\n",
              "  "
            ]
          },
          "metadata": {},
          "execution_count": 40
        }
      ]
    },
    {
      "cell_type": "markdown",
      "source": [
        "# Feature Engineering #"
      ],
      "metadata": {
        "id": "C1OtOPQCiPsx"
      }
    },
    {
      "cell_type": "code",
      "source": [
        "df_DC.DC_width = df_DC.DC_width.apply(lambda f : round(f,2))"
      ],
      "metadata": {
        "id": "J39voLkhjN6u"
      },
      "execution_count": 41,
      "outputs": []
    },
    {
      "cell_type": "code",
      "source": [
        "df_DC[\"DC_up_lag\"] = df_DC.DC_up.shift(1)\n",
        "df_DC[\"DC_low_lag\"] = df_DC.DC_low.shift(1)\n",
        "df_DC[\"DC_width_lag2_diff\"] = df_DC.DC_width - df_DC.DC_width.shift(2)\n",
        "df_DC[\"DC_width_lag5_diff\"] = df_DC.DC_width - df_DC.DC_width.shift(5)"
      ],
      "metadata": {
        "id": "-0HhtIXhhT7h"
      },
      "execution_count": 47,
      "outputs": []
    },
    {
      "cell_type": "code",
      "source": [
        "def breakout_signal(df):\n",
        "  ''' Finds if Close breaks upper or lower donchian channel '''\n",
        "\n",
        "  df_calc = df.copy()\n",
        "\n",
        "  s_Close_DCupLag_diff = df_calc.Close - df_calc.DC_up_lag\n",
        "  s_Close_DClowLag_diff = df_calc.Close - df_calc.DC_low_lag\n",
        "\n",
        "  s_Close_DCupLag_diff = [1 if e>0 else 0 for e in s_Close_DCupLag_diff]\n",
        "  s_Close_DClowLag_diff = [-1 if e<0 else 0 for e in s_Close_DClowLag_diff]\n",
        "\n",
        "  return s_Close_DCupLag_diff, s_Close_DClowLag_diff"
      ],
      "metadata": {
        "id": "wQ_EKcVojZnZ"
      },
      "execution_count": 57,
      "outputs": []
    },
    {
      "cell_type": "code",
      "source": [
        "df_DC[\"breakout_upper_channel\"], df_DC[\"breakout_lower_channel\"] = breakout_signal(df_DC)"
      ],
      "metadata": {
        "id": "BiJ08PNRq6qM"
      },
      "execution_count": 58,
      "outputs": []
    },
    {
      "cell_type": "code",
      "source": [
        "df_DC.tail()"
      ],
      "metadata": {
        "colab": {
          "base_uri": "https://localhost:8080/",
          "height": 206
        },
        "id": "qQ7jfqCmjYy_",
        "outputId": "e9bae54b-097e-4f41-ad3b-589deaa31d71"
      },
      "execution_count": 59,
      "outputs": [
        {
          "output_type": "execute_result",
          "data": {
            "text/plain": [
              "            Date     Close     DC_up    DC_low  DC_width  DC_up_lag  \\\n",
              "9391  2023-01-18  11410.29  11690.27  10696.42      8.84   11615.95   \n",
              "9392  2023-01-19  11295.67  11690.27  10696.42      8.81   11690.27   \n",
              "9393  2023-01-20  11619.03  11690.27  10696.42      8.75   11690.27   \n",
              "9394  2023-01-23  11872.54  11918.86  11050.68      7.58   11690.27   \n",
              "9395  2023-01-24  11864.80  11918.86  11050.68      7.53   11918.86   \n",
              "\n",
              "      DC_low_lag  DC_width_lag2_diff  DC_width_lag5_diff  \\\n",
              "9391    10696.42                1.18                3.04   \n",
              "9392    10696.42                0.59                2.14   \n",
              "9393    10696.42               -0.09                1.48   \n",
              "9394    10696.42               -1.23               -0.08   \n",
              "9395    11050.68               -1.22               -0.69   \n",
              "\n",
              "      breakout_upper_channel  breakout_lower_channel  \n",
              "9391                       0                       0  \n",
              "9392                       0                       0  \n",
              "9393                       0                       0  \n",
              "9394                       1                       0  \n",
              "9395                       0                       0  "
            ],
            "text/html": [
              "\n",
              "  <div id=\"df-89c522ee-cb59-4ac2-ac15-4fd37469a66a\">\n",
              "    <div class=\"colab-df-container\">\n",
              "      <div>\n",
              "<style scoped>\n",
              "    .dataframe tbody tr th:only-of-type {\n",
              "        vertical-align: middle;\n",
              "    }\n",
              "\n",
              "    .dataframe tbody tr th {\n",
              "        vertical-align: top;\n",
              "    }\n",
              "\n",
              "    .dataframe thead th {\n",
              "        text-align: right;\n",
              "    }\n",
              "</style>\n",
              "<table border=\"1\" class=\"dataframe\">\n",
              "  <thead>\n",
              "    <tr style=\"text-align: right;\">\n",
              "      <th></th>\n",
              "      <th>Date</th>\n",
              "      <th>Close</th>\n",
              "      <th>DC_up</th>\n",
              "      <th>DC_low</th>\n",
              "      <th>DC_width</th>\n",
              "      <th>DC_up_lag</th>\n",
              "      <th>DC_low_lag</th>\n",
              "      <th>DC_width_lag2_diff</th>\n",
              "      <th>DC_width_lag5_diff</th>\n",
              "      <th>breakout_upper_channel</th>\n",
              "      <th>breakout_lower_channel</th>\n",
              "    </tr>\n",
              "  </thead>\n",
              "  <tbody>\n",
              "    <tr>\n",
              "      <th>9391</th>\n",
              "      <td>2023-01-18</td>\n",
              "      <td>11410.29</td>\n",
              "      <td>11690.27</td>\n",
              "      <td>10696.42</td>\n",
              "      <td>8.84</td>\n",
              "      <td>11615.95</td>\n",
              "      <td>10696.42</td>\n",
              "      <td>1.18</td>\n",
              "      <td>3.04</td>\n",
              "      <td>0</td>\n",
              "      <td>0</td>\n",
              "    </tr>\n",
              "    <tr>\n",
              "      <th>9392</th>\n",
              "      <td>2023-01-19</td>\n",
              "      <td>11295.67</td>\n",
              "      <td>11690.27</td>\n",
              "      <td>10696.42</td>\n",
              "      <td>8.81</td>\n",
              "      <td>11690.27</td>\n",
              "      <td>10696.42</td>\n",
              "      <td>0.59</td>\n",
              "      <td>2.14</td>\n",
              "      <td>0</td>\n",
              "      <td>0</td>\n",
              "    </tr>\n",
              "    <tr>\n",
              "      <th>9393</th>\n",
              "      <td>2023-01-20</td>\n",
              "      <td>11619.03</td>\n",
              "      <td>11690.27</td>\n",
              "      <td>10696.42</td>\n",
              "      <td>8.75</td>\n",
              "      <td>11690.27</td>\n",
              "      <td>10696.42</td>\n",
              "      <td>-0.09</td>\n",
              "      <td>1.48</td>\n",
              "      <td>0</td>\n",
              "      <td>0</td>\n",
              "    </tr>\n",
              "    <tr>\n",
              "      <th>9394</th>\n",
              "      <td>2023-01-23</td>\n",
              "      <td>11872.54</td>\n",
              "      <td>11918.86</td>\n",
              "      <td>11050.68</td>\n",
              "      <td>7.58</td>\n",
              "      <td>11690.27</td>\n",
              "      <td>10696.42</td>\n",
              "      <td>-1.23</td>\n",
              "      <td>-0.08</td>\n",
              "      <td>1</td>\n",
              "      <td>0</td>\n",
              "    </tr>\n",
              "    <tr>\n",
              "      <th>9395</th>\n",
              "      <td>2023-01-24</td>\n",
              "      <td>11864.80</td>\n",
              "      <td>11918.86</td>\n",
              "      <td>11050.68</td>\n",
              "      <td>7.53</td>\n",
              "      <td>11918.86</td>\n",
              "      <td>11050.68</td>\n",
              "      <td>-1.22</td>\n",
              "      <td>-0.69</td>\n",
              "      <td>0</td>\n",
              "      <td>0</td>\n",
              "    </tr>\n",
              "  </tbody>\n",
              "</table>\n",
              "</div>\n",
              "      <button class=\"colab-df-convert\" onclick=\"convertToInteractive('df-89c522ee-cb59-4ac2-ac15-4fd37469a66a')\"\n",
              "              title=\"Convert this dataframe to an interactive table.\"\n",
              "              style=\"display:none;\">\n",
              "        \n",
              "  <svg xmlns=\"http://www.w3.org/2000/svg\" height=\"24px\"viewBox=\"0 0 24 24\"\n",
              "       width=\"24px\">\n",
              "    <path d=\"M0 0h24v24H0V0z\" fill=\"none\"/>\n",
              "    <path d=\"M18.56 5.44l.94 2.06.94-2.06 2.06-.94-2.06-.94-.94-2.06-.94 2.06-2.06.94zm-11 1L8.5 8.5l.94-2.06 2.06-.94-2.06-.94L8.5 2.5l-.94 2.06-2.06.94zm10 10l.94 2.06.94-2.06 2.06-.94-2.06-.94-.94-2.06-.94 2.06-2.06.94z\"/><path d=\"M17.41 7.96l-1.37-1.37c-.4-.4-.92-.59-1.43-.59-.52 0-1.04.2-1.43.59L10.3 9.45l-7.72 7.72c-.78.78-.78 2.05 0 2.83L4 21.41c.39.39.9.59 1.41.59.51 0 1.02-.2 1.41-.59l7.78-7.78 2.81-2.81c.8-.78.8-2.07 0-2.86zM5.41 20L4 18.59l7.72-7.72 1.47 1.35L5.41 20z\"/>\n",
              "  </svg>\n",
              "      </button>\n",
              "      \n",
              "  <style>\n",
              "    .colab-df-container {\n",
              "      display:flex;\n",
              "      flex-wrap:wrap;\n",
              "      gap: 12px;\n",
              "    }\n",
              "\n",
              "    .colab-df-convert {\n",
              "      background-color: #E8F0FE;\n",
              "      border: none;\n",
              "      border-radius: 50%;\n",
              "      cursor: pointer;\n",
              "      display: none;\n",
              "      fill: #1967D2;\n",
              "      height: 32px;\n",
              "      padding: 0 0 0 0;\n",
              "      width: 32px;\n",
              "    }\n",
              "\n",
              "    .colab-df-convert:hover {\n",
              "      background-color: #E2EBFA;\n",
              "      box-shadow: 0px 1px 2px rgba(60, 64, 67, 0.3), 0px 1px 3px 1px rgba(60, 64, 67, 0.15);\n",
              "      fill: #174EA6;\n",
              "    }\n",
              "\n",
              "    [theme=dark] .colab-df-convert {\n",
              "      background-color: #3B4455;\n",
              "      fill: #D2E3FC;\n",
              "    }\n",
              "\n",
              "    [theme=dark] .colab-df-convert:hover {\n",
              "      background-color: #434B5C;\n",
              "      box-shadow: 0px 1px 3px 1px rgba(0, 0, 0, 0.15);\n",
              "      filter: drop-shadow(0px 1px 2px rgba(0, 0, 0, 0.3));\n",
              "      fill: #FFFFFF;\n",
              "    }\n",
              "  </style>\n",
              "\n",
              "      <script>\n",
              "        const buttonEl =\n",
              "          document.querySelector('#df-89c522ee-cb59-4ac2-ac15-4fd37469a66a button.colab-df-convert');\n",
              "        buttonEl.style.display =\n",
              "          google.colab.kernel.accessAllowed ? 'block' : 'none';\n",
              "\n",
              "        async function convertToInteractive(key) {\n",
              "          const element = document.querySelector('#df-89c522ee-cb59-4ac2-ac15-4fd37469a66a');\n",
              "          const dataTable =\n",
              "            await google.colab.kernel.invokeFunction('convertToInteractive',\n",
              "                                                     [key], {});\n",
              "          if (!dataTable) return;\n",
              "\n",
              "          const docLinkHtml = 'Like what you see? Visit the ' +\n",
              "            '<a target=\"_blank\" href=https://colab.research.google.com/notebooks/data_table.ipynb>data table notebook</a>'\n",
              "            + ' to learn more about interactive tables.';\n",
              "          element.innerHTML = '';\n",
              "          dataTable['output_type'] = 'display_data';\n",
              "          await google.colab.output.renderOutput(dataTable, element);\n",
              "          const docLink = document.createElement('div');\n",
              "          docLink.innerHTML = docLinkHtml;\n",
              "          element.appendChild(docLink);\n",
              "        }\n",
              "      </script>\n",
              "    </div>\n",
              "  </div>\n",
              "  "
            ]
          },
          "metadata": {},
          "execution_count": 59
        }
      ]
    },
    {
      "cell_type": "code",
      "source": [
        "df_DC.describe()"
      ],
      "metadata": {
        "colab": {
          "base_uri": "https://localhost:8080/",
          "height": 300
        },
        "id": "oEDpQu9StA8m",
        "outputId": "a658345a-d742-4fd1-b29d-708109243ffb"
      },
      "execution_count": 60,
      "outputs": [
        {
          "output_type": "execute_result",
          "data": {
            "text/plain": [
              "              Close         DC_up        DC_low     DC_width     DC_up_lag  \\\n",
              "count   9396.000000   9396.000000   9396.000000  9396.000000   9395.000000   \n",
              "mean    2868.546588   2949.744027   2760.217472     6.811008   2948.789358   \n",
              "std     3478.806164   3576.416869   3350.895596     4.237497   3575.409746   \n",
              "min      113.180000    113.270000    106.750000     1.160000    113.270000   \n",
              "25%      415.932500    419.980000    403.440000     4.080000    419.980000   \n",
              "50%     1628.075000   1690.045000   1572.440000     5.640000   1689.680000   \n",
              "75%     3645.037500   3780.822500   3489.367500     8.290000   3780.430000   \n",
              "max    16573.340000  16764.860000  16012.780000    46.880000  16764.860000   \n",
              "\n",
              "         DC_low_lag  DC_width_lag2_diff  DC_width_lag5_diff  \\\n",
              "count   9395.000000         9394.000000         9391.000000   \n",
              "mean    2759.335039            0.000280            0.000716   \n",
              "std     3349.981976            1.662692            2.781374   \n",
              "min      106.750000          -22.040000          -26.630000   \n",
              "25%      403.440000           -0.620000           -1.350000   \n",
              "50%     1572.440000            0.000000            0.010000   \n",
              "75%     3486.160000            0.610000            1.280000   \n",
              "max    16012.780000           19.540000           26.970000   \n",
              "\n",
              "       breakout_upper_channel  breakout_lower_channel  \n",
              "count             9396.000000             9396.000000  \n",
              "mean                 0.161771               -0.075245  \n",
              "std                  0.368260                0.263800  \n",
              "min                  0.000000               -1.000000  \n",
              "25%                  0.000000                0.000000  \n",
              "50%                  0.000000                0.000000  \n",
              "75%                  0.000000                0.000000  \n",
              "max                  1.000000                0.000000  "
            ],
            "text/html": [
              "\n",
              "  <div id=\"df-71cf4ccd-fa9e-4993-9836-4bdd79fcd992\">\n",
              "    <div class=\"colab-df-container\">\n",
              "      <div>\n",
              "<style scoped>\n",
              "    .dataframe tbody tr th:only-of-type {\n",
              "        vertical-align: middle;\n",
              "    }\n",
              "\n",
              "    .dataframe tbody tr th {\n",
              "        vertical-align: top;\n",
              "    }\n",
              "\n",
              "    .dataframe thead th {\n",
              "        text-align: right;\n",
              "    }\n",
              "</style>\n",
              "<table border=\"1\" class=\"dataframe\">\n",
              "  <thead>\n",
              "    <tr style=\"text-align: right;\">\n",
              "      <th></th>\n",
              "      <th>Close</th>\n",
              "      <th>DC_up</th>\n",
              "      <th>DC_low</th>\n",
              "      <th>DC_width</th>\n",
              "      <th>DC_up_lag</th>\n",
              "      <th>DC_low_lag</th>\n",
              "      <th>DC_width_lag2_diff</th>\n",
              "      <th>DC_width_lag5_diff</th>\n",
              "      <th>breakout_upper_channel</th>\n",
              "      <th>breakout_lower_channel</th>\n",
              "    </tr>\n",
              "  </thead>\n",
              "  <tbody>\n",
              "    <tr>\n",
              "      <th>count</th>\n",
              "      <td>9396.000000</td>\n",
              "      <td>9396.000000</td>\n",
              "      <td>9396.000000</td>\n",
              "      <td>9396.000000</td>\n",
              "      <td>9395.000000</td>\n",
              "      <td>9395.000000</td>\n",
              "      <td>9394.000000</td>\n",
              "      <td>9391.000000</td>\n",
              "      <td>9396.000000</td>\n",
              "      <td>9396.000000</td>\n",
              "    </tr>\n",
              "    <tr>\n",
              "      <th>mean</th>\n",
              "      <td>2868.546588</td>\n",
              "      <td>2949.744027</td>\n",
              "      <td>2760.217472</td>\n",
              "      <td>6.811008</td>\n",
              "      <td>2948.789358</td>\n",
              "      <td>2759.335039</td>\n",
              "      <td>0.000280</td>\n",
              "      <td>0.000716</td>\n",
              "      <td>0.161771</td>\n",
              "      <td>-0.075245</td>\n",
              "    </tr>\n",
              "    <tr>\n",
              "      <th>std</th>\n",
              "      <td>3478.806164</td>\n",
              "      <td>3576.416869</td>\n",
              "      <td>3350.895596</td>\n",
              "      <td>4.237497</td>\n",
              "      <td>3575.409746</td>\n",
              "      <td>3349.981976</td>\n",
              "      <td>1.662692</td>\n",
              "      <td>2.781374</td>\n",
              "      <td>0.368260</td>\n",
              "      <td>0.263800</td>\n",
              "    </tr>\n",
              "    <tr>\n",
              "      <th>min</th>\n",
              "      <td>113.180000</td>\n",
              "      <td>113.270000</td>\n",
              "      <td>106.750000</td>\n",
              "      <td>1.160000</td>\n",
              "      <td>113.270000</td>\n",
              "      <td>106.750000</td>\n",
              "      <td>-22.040000</td>\n",
              "      <td>-26.630000</td>\n",
              "      <td>0.000000</td>\n",
              "      <td>-1.000000</td>\n",
              "    </tr>\n",
              "    <tr>\n",
              "      <th>25%</th>\n",
              "      <td>415.932500</td>\n",
              "      <td>419.980000</td>\n",
              "      <td>403.440000</td>\n",
              "      <td>4.080000</td>\n",
              "      <td>419.980000</td>\n",
              "      <td>403.440000</td>\n",
              "      <td>-0.620000</td>\n",
              "      <td>-1.350000</td>\n",
              "      <td>0.000000</td>\n",
              "      <td>0.000000</td>\n",
              "    </tr>\n",
              "    <tr>\n",
              "      <th>50%</th>\n",
              "      <td>1628.075000</td>\n",
              "      <td>1690.045000</td>\n",
              "      <td>1572.440000</td>\n",
              "      <td>5.640000</td>\n",
              "      <td>1689.680000</td>\n",
              "      <td>1572.440000</td>\n",
              "      <td>0.000000</td>\n",
              "      <td>0.010000</td>\n",
              "      <td>0.000000</td>\n",
              "      <td>0.000000</td>\n",
              "    </tr>\n",
              "    <tr>\n",
              "      <th>75%</th>\n",
              "      <td>3645.037500</td>\n",
              "      <td>3780.822500</td>\n",
              "      <td>3489.367500</td>\n",
              "      <td>8.290000</td>\n",
              "      <td>3780.430000</td>\n",
              "      <td>3486.160000</td>\n",
              "      <td>0.610000</td>\n",
              "      <td>1.280000</td>\n",
              "      <td>0.000000</td>\n",
              "      <td>0.000000</td>\n",
              "    </tr>\n",
              "    <tr>\n",
              "      <th>max</th>\n",
              "      <td>16573.340000</td>\n",
              "      <td>16764.860000</td>\n",
              "      <td>16012.780000</td>\n",
              "      <td>46.880000</td>\n",
              "      <td>16764.860000</td>\n",
              "      <td>16012.780000</td>\n",
              "      <td>19.540000</td>\n",
              "      <td>26.970000</td>\n",
              "      <td>1.000000</td>\n",
              "      <td>0.000000</td>\n",
              "    </tr>\n",
              "  </tbody>\n",
              "</table>\n",
              "</div>\n",
              "      <button class=\"colab-df-convert\" onclick=\"convertToInteractive('df-71cf4ccd-fa9e-4993-9836-4bdd79fcd992')\"\n",
              "              title=\"Convert this dataframe to an interactive table.\"\n",
              "              style=\"display:none;\">\n",
              "        \n",
              "  <svg xmlns=\"http://www.w3.org/2000/svg\" height=\"24px\"viewBox=\"0 0 24 24\"\n",
              "       width=\"24px\">\n",
              "    <path d=\"M0 0h24v24H0V0z\" fill=\"none\"/>\n",
              "    <path d=\"M18.56 5.44l.94 2.06.94-2.06 2.06-.94-2.06-.94-.94-2.06-.94 2.06-2.06.94zm-11 1L8.5 8.5l.94-2.06 2.06-.94-2.06-.94L8.5 2.5l-.94 2.06-2.06.94zm10 10l.94 2.06.94-2.06 2.06-.94-2.06-.94-.94-2.06-.94 2.06-2.06.94z\"/><path d=\"M17.41 7.96l-1.37-1.37c-.4-.4-.92-.59-1.43-.59-.52 0-1.04.2-1.43.59L10.3 9.45l-7.72 7.72c-.78.78-.78 2.05 0 2.83L4 21.41c.39.39.9.59 1.41.59.51 0 1.02-.2 1.41-.59l7.78-7.78 2.81-2.81c.8-.78.8-2.07 0-2.86zM5.41 20L4 18.59l7.72-7.72 1.47 1.35L5.41 20z\"/>\n",
              "  </svg>\n",
              "      </button>\n",
              "      \n",
              "  <style>\n",
              "    .colab-df-container {\n",
              "      display:flex;\n",
              "      flex-wrap:wrap;\n",
              "      gap: 12px;\n",
              "    }\n",
              "\n",
              "    .colab-df-convert {\n",
              "      background-color: #E8F0FE;\n",
              "      border: none;\n",
              "      border-radius: 50%;\n",
              "      cursor: pointer;\n",
              "      display: none;\n",
              "      fill: #1967D2;\n",
              "      height: 32px;\n",
              "      padding: 0 0 0 0;\n",
              "      width: 32px;\n",
              "    }\n",
              "\n",
              "    .colab-df-convert:hover {\n",
              "      background-color: #E2EBFA;\n",
              "      box-shadow: 0px 1px 2px rgba(60, 64, 67, 0.3), 0px 1px 3px 1px rgba(60, 64, 67, 0.15);\n",
              "      fill: #174EA6;\n",
              "    }\n",
              "\n",
              "    [theme=dark] .colab-df-convert {\n",
              "      background-color: #3B4455;\n",
              "      fill: #D2E3FC;\n",
              "    }\n",
              "\n",
              "    [theme=dark] .colab-df-convert:hover {\n",
              "      background-color: #434B5C;\n",
              "      box-shadow: 0px 1px 3px 1px rgba(0, 0, 0, 0.15);\n",
              "      filter: drop-shadow(0px 1px 2px rgba(0, 0, 0, 0.3));\n",
              "      fill: #FFFFFF;\n",
              "    }\n",
              "  </style>\n",
              "\n",
              "      <script>\n",
              "        const buttonEl =\n",
              "          document.querySelector('#df-71cf4ccd-fa9e-4993-9836-4bdd79fcd992 button.colab-df-convert');\n",
              "        buttonEl.style.display =\n",
              "          google.colab.kernel.accessAllowed ? 'block' : 'none';\n",
              "\n",
              "        async function convertToInteractive(key) {\n",
              "          const element = document.querySelector('#df-71cf4ccd-fa9e-4993-9836-4bdd79fcd992');\n",
              "          const dataTable =\n",
              "            await google.colab.kernel.invokeFunction('convertToInteractive',\n",
              "                                                     [key], {});\n",
              "          if (!dataTable) return;\n",
              "\n",
              "          const docLinkHtml = 'Like what you see? Visit the ' +\n",
              "            '<a target=\"_blank\" href=https://colab.research.google.com/notebooks/data_table.ipynb>data table notebook</a>'\n",
              "            + ' to learn more about interactive tables.';\n",
              "          element.innerHTML = '';\n",
              "          dataTable['output_type'] = 'display_data';\n",
              "          await google.colab.output.renderOutput(dataTable, element);\n",
              "          const docLink = document.createElement('div');\n",
              "          docLink.innerHTML = docLinkHtml;\n",
              "          element.appendChild(docLink);\n",
              "        }\n",
              "      </script>\n",
              "    </div>\n",
              "  </div>\n",
              "  "
            ]
          },
          "metadata": {},
          "execution_count": 60
        }
      ]
    },
    {
      "cell_type": "code",
      "source": [
        "df_DC.loc[df_DC[\"breakout_lower_channel\"] == -1].shape[0]"
      ],
      "metadata": {
        "colab": {
          "base_uri": "https://localhost:8080/"
        },
        "id": "P3tH1YK2x2IG",
        "outputId": "dafac4ec-83b6-453b-a51a-81c53dd52070"
      },
      "execution_count": 62,
      "outputs": [
        {
          "output_type": "execute_result",
          "data": {
            "text/plain": [
              "707"
            ]
          },
          "metadata": {},
          "execution_count": 62
        }
      ]
    },
    {
      "cell_type": "code",
      "source": [
        "df_DC.loc[df_DC[\"breakout_upper_channel\"] == 1].shape[0]"
      ],
      "metadata": {
        "colab": {
          "base_uri": "https://localhost:8080/"
        },
        "id": "VtTShPGwyV9Q",
        "outputId": "51545e14-99b4-472f-f4d7-6a2d821fb09c"
      },
      "execution_count": 63,
      "outputs": [
        {
          "output_type": "execute_result",
          "data": {
            "text/plain": [
              "1520"
            ]
          },
          "metadata": {},
          "execution_count": 63
        }
      ]
    }
  ]
}