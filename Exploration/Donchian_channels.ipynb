{
  "nbformat": 4,
  "nbformat_minor": 0,
  "metadata": {
    "colab": {
      "provenance": [],
      "mount_file_id": "1JtnFW110UTwWXvaXEHM4bNZ52LhwyOWs",
      "authorship_tag": "ABX9TyOCLM1kRvyoWDMG1jQQwGxF",
      "include_colab_link": true
    },
    "kernelspec": {
      "name": "python3",
      "display_name": "Python 3"
    },
    "language_info": {
      "name": "python"
    }
  },
  "cells": [
    {
      "cell_type": "markdown",
      "metadata": {
        "id": "view-in-github",
        "colab_type": "text"
      },
      "source": [
        "<a href=\"https://colab.research.google.com/github/AxelRK200/trend_finder_dataiku/blob/main/Exploration/Donchian_channels.ipynb\" target=\"_parent\"><img src=\"https://colab.research.google.com/assets/colab-badge.svg\" alt=\"Open In Colab\"/></a>"
      ]
    },
    {
      "cell_type": "code",
      "execution_count": null,
      "metadata": {
        "id": "EWCg1HoPcp6q"
      },
      "outputs": [],
      "source": [
        "!pip install yfinance\n",
        "!pip install ta"
      ]
    },
    {
      "cell_type": "code",
      "source": [
        "import pandas as pd\n",
        "import yfinance as yf\n",
        "from ta.volatility import DonchianChannel"
      ],
      "metadata": {
        "id": "75YApMWhdkq8"
      },
      "execution_count": 2,
      "outputs": []
    },
    {
      "cell_type": "markdown",
      "source": [
        "# Import et mise en forme #"
      ],
      "metadata": {
        "id": "qP_Sat5Ff0TS"
      }
    },
    {
      "cell_type": "code",
      "source": [
        "ndx = yf.Ticker(\"^NDX\")\n",
        "df_DC = ndx.history(period=\"max\")\n",
        "# Passe la date d'index à colonne\n",
        "df_DC.reset_index(inplace=True)"
      ],
      "metadata": {
        "id": "AFRU9tu8dsYg"
      },
      "execution_count": 78,
      "outputs": []
    },
    {
      "cell_type": "code",
      "source": [
        "df_DC.drop(columns=['Volume','Dividends','Stock Splits'], inplace=True)"
      ],
      "metadata": {
        "id": "bR_-pbtKeweh"
      },
      "execution_count": 79,
      "outputs": []
    },
    {
      "cell_type": "code",
      "source": [
        "cols_to_round = df_DC.columns.to_list()\n",
        "print(cols_to_round)"
      ],
      "metadata": {
        "colab": {
          "base_uri": "https://localhost:8080/"
        },
        "id": "PifnL8uffBSj",
        "outputId": "081c03fc-7fe4-4734-fd13-9066b4d84fee"
      },
      "execution_count": 80,
      "outputs": [
        {
          "output_type": "stream",
          "name": "stdout",
          "text": [
            "['Date', 'Open', 'High', 'Low', 'Close']\n"
          ]
        }
      ]
    },
    {
      "cell_type": "code",
      "source": [
        "for i in range (1,5):\n",
        "  df_DC[cols_to_round[i]] = df_DC[cols_to_round[i]].apply(lambda f : round(f,2))"
      ],
      "metadata": {
        "id": "PNmZlDrkfDSR"
      },
      "execution_count": 81,
      "outputs": []
    },
    {
      "cell_type": "code",
      "source": [
        "df_DC[\"Date\"] = df_DC.Date.apply(lambda d : d.strftime('%Y-%m-%d'))"
      ],
      "metadata": {
        "id": "nbSLs8epfi2Q"
      },
      "execution_count": 82,
      "outputs": []
    },
    {
      "cell_type": "markdown",
      "source": [
        "# Indicateur technique #"
      ],
      "metadata": {
        "id": "_c0EJd2Of3fw"
      }
    },
    {
      "cell_type": "code",
      "source": [
        "# Stratégie STC + DC10, couplée à DC22 & DC55 -> Turtle Rules\n",
        "dc_lengths = [10,22,55]"
      ],
      "metadata": {
        "id": "yI6OCtaiee_S"
      },
      "execution_count": 83,
      "outputs": []
    },
    {
      "cell_type": "code",
      "source": [
        "for l in dc_lengths :\n",
        "  df_DC[\"DC_up_\"+str(l)] = DonchianChannel(high=df_DC.High, low=df_DC.Low, close=df_DC.Close, window=l).donchian_channel_hband()\n",
        "  df_DC[\"DC_low_\"+str(l)] = DonchianChannel(high=df_DC.High, low=df_DC.Low, close=df_DC.Close, window=l).donchian_channel_lband()\n",
        "  df_DC[\"DC_width_\"+str(l)] = round( DonchianChannel(high=df_DC.High, low=df_DC.Low, close=df_DC.Close, window=l).donchian_channel_wband(), 2)"
      ],
      "metadata": {
        "id": "H4HXeLsEfxZt"
      },
      "execution_count": 84,
      "outputs": []
    },
    {
      "cell_type": "code",
      "source": [
        "df_DC.drop(columns=['High','Open','Low'], inplace=True)\n",
        "df_DC.dropna(inplace=True)\n",
        "df_DC.reset_index(drop=True, inplace=True)"
      ],
      "metadata": {
        "id": "yNpUUp_AhBi-"
      },
      "execution_count": 85,
      "outputs": []
    },
    {
      "cell_type": "code",
      "source": [
        "df_DC.head()"
      ],
      "metadata": {
        "colab": {
          "base_uri": "https://localhost:8080/",
          "height": 206
        },
        "id": "PQvTID4AgmCV",
        "outputId": "2b465bc1-3f71-4c73-81c3-2611605d49e6"
      },
      "execution_count": 86,
      "outputs": [
        {
          "output_type": "execute_result",
          "data": {
            "text/plain": [
              "         Date   Close  DC_up_10  DC_low_10  DC_width_10  DC_up_22  DC_low_22  \\\n",
              "0  1985-12-17  131.54    133.18     125.17         6.19    133.18     121.73   \n",
              "1  1985-12-18  131.14    133.18     126.78         4.93    133.18     121.73   \n",
              "2  1985-12-19  131.93    133.18     126.78         4.92    133.18     121.74   \n",
              "3  1985-12-20  132.26    133.18     126.83         4.86    133.18     122.20   \n",
              "4  1985-12-23  130.73    133.18     127.15         4.61    133.18     122.20   \n",
              "\n",
              "   DC_width_22  DC_up_55  DC_low_55  DC_width_55  \n",
              "0         9.06    133.18     106.75        22.16  \n",
              "1         9.03    133.18     106.75        22.10  \n",
              "2         8.99    133.18     106.75        22.03  \n",
              "3         8.60    133.18     106.75        21.96  \n",
              "4         8.58    133.18     106.75        21.89  "
            ],
            "text/html": [
              "\n",
              "  <div id=\"df-13f08bbb-1895-4f51-97cc-ad7df122d9e1\">\n",
              "    <div class=\"colab-df-container\">\n",
              "      <div>\n",
              "<style scoped>\n",
              "    .dataframe tbody tr th:only-of-type {\n",
              "        vertical-align: middle;\n",
              "    }\n",
              "\n",
              "    .dataframe tbody tr th {\n",
              "        vertical-align: top;\n",
              "    }\n",
              "\n",
              "    .dataframe thead th {\n",
              "        text-align: right;\n",
              "    }\n",
              "</style>\n",
              "<table border=\"1\" class=\"dataframe\">\n",
              "  <thead>\n",
              "    <tr style=\"text-align: right;\">\n",
              "      <th></th>\n",
              "      <th>Date</th>\n",
              "      <th>Close</th>\n",
              "      <th>DC_up_10</th>\n",
              "      <th>DC_low_10</th>\n",
              "      <th>DC_width_10</th>\n",
              "      <th>DC_up_22</th>\n",
              "      <th>DC_low_22</th>\n",
              "      <th>DC_width_22</th>\n",
              "      <th>DC_up_55</th>\n",
              "      <th>DC_low_55</th>\n",
              "      <th>DC_width_55</th>\n",
              "    </tr>\n",
              "  </thead>\n",
              "  <tbody>\n",
              "    <tr>\n",
              "      <th>0</th>\n",
              "      <td>1985-12-17</td>\n",
              "      <td>131.54</td>\n",
              "      <td>133.18</td>\n",
              "      <td>125.17</td>\n",
              "      <td>6.19</td>\n",
              "      <td>133.18</td>\n",
              "      <td>121.73</td>\n",
              "      <td>9.06</td>\n",
              "      <td>133.18</td>\n",
              "      <td>106.75</td>\n",
              "      <td>22.16</td>\n",
              "    </tr>\n",
              "    <tr>\n",
              "      <th>1</th>\n",
              "      <td>1985-12-18</td>\n",
              "      <td>131.14</td>\n",
              "      <td>133.18</td>\n",
              "      <td>126.78</td>\n",
              "      <td>4.93</td>\n",
              "      <td>133.18</td>\n",
              "      <td>121.73</td>\n",
              "      <td>9.03</td>\n",
              "      <td>133.18</td>\n",
              "      <td>106.75</td>\n",
              "      <td>22.10</td>\n",
              "    </tr>\n",
              "    <tr>\n",
              "      <th>2</th>\n",
              "      <td>1985-12-19</td>\n",
              "      <td>131.93</td>\n",
              "      <td>133.18</td>\n",
              "      <td>126.78</td>\n",
              "      <td>4.92</td>\n",
              "      <td>133.18</td>\n",
              "      <td>121.74</td>\n",
              "      <td>8.99</td>\n",
              "      <td>133.18</td>\n",
              "      <td>106.75</td>\n",
              "      <td>22.03</td>\n",
              "    </tr>\n",
              "    <tr>\n",
              "      <th>3</th>\n",
              "      <td>1985-12-20</td>\n",
              "      <td>132.26</td>\n",
              "      <td>133.18</td>\n",
              "      <td>126.83</td>\n",
              "      <td>4.86</td>\n",
              "      <td>133.18</td>\n",
              "      <td>122.20</td>\n",
              "      <td>8.60</td>\n",
              "      <td>133.18</td>\n",
              "      <td>106.75</td>\n",
              "      <td>21.96</td>\n",
              "    </tr>\n",
              "    <tr>\n",
              "      <th>4</th>\n",
              "      <td>1985-12-23</td>\n",
              "      <td>130.73</td>\n",
              "      <td>133.18</td>\n",
              "      <td>127.15</td>\n",
              "      <td>4.61</td>\n",
              "      <td>133.18</td>\n",
              "      <td>122.20</td>\n",
              "      <td>8.58</td>\n",
              "      <td>133.18</td>\n",
              "      <td>106.75</td>\n",
              "      <td>21.89</td>\n",
              "    </tr>\n",
              "  </tbody>\n",
              "</table>\n",
              "</div>\n",
              "      <button class=\"colab-df-convert\" onclick=\"convertToInteractive('df-13f08bbb-1895-4f51-97cc-ad7df122d9e1')\"\n",
              "              title=\"Convert this dataframe to an interactive table.\"\n",
              "              style=\"display:none;\">\n",
              "        \n",
              "  <svg xmlns=\"http://www.w3.org/2000/svg\" height=\"24px\"viewBox=\"0 0 24 24\"\n",
              "       width=\"24px\">\n",
              "    <path d=\"M0 0h24v24H0V0z\" fill=\"none\"/>\n",
              "    <path d=\"M18.56 5.44l.94 2.06.94-2.06 2.06-.94-2.06-.94-.94-2.06-.94 2.06-2.06.94zm-11 1L8.5 8.5l.94-2.06 2.06-.94-2.06-.94L8.5 2.5l-.94 2.06-2.06.94zm10 10l.94 2.06.94-2.06 2.06-.94-2.06-.94-.94-2.06-.94 2.06-2.06.94z\"/><path d=\"M17.41 7.96l-1.37-1.37c-.4-.4-.92-.59-1.43-.59-.52 0-1.04.2-1.43.59L10.3 9.45l-7.72 7.72c-.78.78-.78 2.05 0 2.83L4 21.41c.39.39.9.59 1.41.59.51 0 1.02-.2 1.41-.59l7.78-7.78 2.81-2.81c.8-.78.8-2.07 0-2.86zM5.41 20L4 18.59l7.72-7.72 1.47 1.35L5.41 20z\"/>\n",
              "  </svg>\n",
              "      </button>\n",
              "      \n",
              "  <style>\n",
              "    .colab-df-container {\n",
              "      display:flex;\n",
              "      flex-wrap:wrap;\n",
              "      gap: 12px;\n",
              "    }\n",
              "\n",
              "    .colab-df-convert {\n",
              "      background-color: #E8F0FE;\n",
              "      border: none;\n",
              "      border-radius: 50%;\n",
              "      cursor: pointer;\n",
              "      display: none;\n",
              "      fill: #1967D2;\n",
              "      height: 32px;\n",
              "      padding: 0 0 0 0;\n",
              "      width: 32px;\n",
              "    }\n",
              "\n",
              "    .colab-df-convert:hover {\n",
              "      background-color: #E2EBFA;\n",
              "      box-shadow: 0px 1px 2px rgba(60, 64, 67, 0.3), 0px 1px 3px 1px rgba(60, 64, 67, 0.15);\n",
              "      fill: #174EA6;\n",
              "    }\n",
              "\n",
              "    [theme=dark] .colab-df-convert {\n",
              "      background-color: #3B4455;\n",
              "      fill: #D2E3FC;\n",
              "    }\n",
              "\n",
              "    [theme=dark] .colab-df-convert:hover {\n",
              "      background-color: #434B5C;\n",
              "      box-shadow: 0px 1px 3px 1px rgba(0, 0, 0, 0.15);\n",
              "      filter: drop-shadow(0px 1px 2px rgba(0, 0, 0, 0.3));\n",
              "      fill: #FFFFFF;\n",
              "    }\n",
              "  </style>\n",
              "\n",
              "      <script>\n",
              "        const buttonEl =\n",
              "          document.querySelector('#df-13f08bbb-1895-4f51-97cc-ad7df122d9e1 button.colab-df-convert');\n",
              "        buttonEl.style.display =\n",
              "          google.colab.kernel.accessAllowed ? 'block' : 'none';\n",
              "\n",
              "        async function convertToInteractive(key) {\n",
              "          const element = document.querySelector('#df-13f08bbb-1895-4f51-97cc-ad7df122d9e1');\n",
              "          const dataTable =\n",
              "            await google.colab.kernel.invokeFunction('convertToInteractive',\n",
              "                                                     [key], {});\n",
              "          if (!dataTable) return;\n",
              "\n",
              "          const docLinkHtml = 'Like what you see? Visit the ' +\n",
              "            '<a target=\"_blank\" href=https://colab.research.google.com/notebooks/data_table.ipynb>data table notebook</a>'\n",
              "            + ' to learn more about interactive tables.';\n",
              "          element.innerHTML = '';\n",
              "          dataTable['output_type'] = 'display_data';\n",
              "          await google.colab.output.renderOutput(dataTable, element);\n",
              "          const docLink = document.createElement('div');\n",
              "          docLink.innerHTML = docLinkHtml;\n",
              "          element.appendChild(docLink);\n",
              "        }\n",
              "      </script>\n",
              "    </div>\n",
              "  </div>\n",
              "  "
            ]
          },
          "metadata": {},
          "execution_count": 86
        }
      ]
    },
    {
      "cell_type": "markdown",
      "source": [
        "# Feature Engineering #"
      ],
      "metadata": {
        "id": "C1OtOPQCiPsx"
      }
    },
    {
      "cell_type": "code",
      "source": [
        "df_DC_FE = df_DC.copy()"
      ],
      "metadata": {
        "id": "L_R-CoP6h9zP"
      },
      "execution_count": 87,
      "outputs": []
    },
    {
      "cell_type": "code",
      "source": [
        "col_list = df_DC.columns.to_list()\n",
        "for i in range(2,9,3):\n",
        "  print(col_list[i])"
      ],
      "metadata": {
        "colab": {
          "base_uri": "https://localhost:8080/"
        },
        "id": "GgN0R_7AfWuL",
        "outputId": "163baafd-52bb-4333-bbf1-51b055f713e1"
      },
      "execution_count": 88,
      "outputs": [
        {
          "output_type": "stream",
          "name": "stdout",
          "text": [
            "DC_up_10\n",
            "DC_up_22\n",
            "DC_up_55\n"
          ]
        }
      ]
    },
    {
      "cell_type": "code",
      "source": [
        "'''Genère la différence entre les bornes hautes et basses des Donchian Channels.\n",
        "Détecte les Higher Highs, Lower Highs, Lower Lows et Higher Lows.\n",
        "Puis la combinaison Higher High & Higher Low, ou Lower Low & Lower High.\n",
        "Calcule également la différence de largeur des bandes à +2 et +5j'''\n",
        "\n",
        "for i in range(2,9,3): \n",
        "  up_diff = df_DC_FE[col_list[i]] - df_DC_FE[col_list[i]].shift(1)\n",
        "  df_DC_FE[col_list[i]+\"_HH\"] = [1 if value >0 else 0 for value in up_diff]\n",
        "  df_DC_FE[col_list[i]+\"_LH\"] = [1 if value <0 else 0 for value in up_diff]\n",
        "\n",
        "  low_diff =  df_DC_FE[col_list[i+1]] - df_DC_FE[col_list[i+1]].shift(1)\n",
        "  df_DC_FE[col_list[i+1]+\"_HL\"] = [1 if value >0 else 0 for value in low_diff]\n",
        "  df_DC_FE[col_list[i+1]+\"_LL\"] = [1 if value <0 else 0 for value in low_diff]\n",
        "\n",
        "  all_channels_up = df_DC_FE[col_list[i]+\"_HH\"] + df_DC_FE[col_list[i+1]+\"_HL\"]\n",
        "  df_DC_FE[col_list[i]+\"_HHHL\"] = [1 if value ==2 else 0 for value in all_channels_up]\n",
        "\n",
        "  all_channels_down = df_DC_FE[col_list[i]+\"_LH\"] + df_DC_FE[col_list[i+1]+\"_LL\"]\n",
        "  df_DC_FE[col_list[i+1]+\"_LHLL\"] = [1 if value ==2 else 0 for value in all_channels_down]\n",
        "  \n",
        "  df_DC_FE[col_list[i+2]+\"_lag2_diff\"] = df_DC_FE[col_list[i+2]] - df_DC_FE[col_list[i+2]].shift(2)\n",
        "  df_DC_FE[col_list[i+2]+\"_lag5_diff\"] = df_DC_FE[col_list[i+2]] - df_DC_FE[col_list[i+2]].shift(5)"
      ],
      "metadata": {
        "id": "-0HhtIXhhT7h"
      },
      "execution_count": 89,
      "outputs": []
    },
    {
      "cell_type": "code",
      "source": [
        "''' Finds if Close breaks upper or lower donchian channel.\n",
        "Previous DC up/low needs to be taken into consideration, as they are updated at the end of each day.'''\n",
        "\n",
        "for i in range(2,9,3): \n",
        "  \n",
        "  Close_DCUpLagDiff = df_DC_FE.Close - df_DC_FE[col_list[i]].shift(1)\n",
        "  df_DC_FE[col_list[i]+\"_breakout\"] = [1 if d>0 else 0 for d in Close_DCUpLagDiff]\n",
        "\n",
        "  Close_DCLowLagDiff = df_DC_FE.Close - df_DC_FE[col_list[i+1]].shift(1)\n",
        "  df_DC_FE[col_list[i+1]+\"_breakout\"] = [1 if d<0 else 0 for d in Close_DCLowLagDiff]"
      ],
      "metadata": {
        "id": "t3sC-O2gniHP"
      },
      "execution_count": 90,
      "outputs": []
    },
    {
      "cell_type": "code",
      "source": [
        "df_DC_FE.tail()"
      ],
      "metadata": {
        "colab": {
          "base_uri": "https://localhost:8080/",
          "height": 386
        },
        "id": "os9nQ65woekx",
        "outputId": "4b13942e-a265-4b4e-d439-8e6b3edf2836"
      },
      "execution_count": 98,
      "outputs": [
        {
          "output_type": "execute_result",
          "data": {
            "text/plain": [
              "            Date     Close  DC_up_10  DC_low_10  DC_width_10  DC_up_22  \\\n",
              "9358  2023-02-03  12573.36  12880.98   11550.07        10.95  12880.98   \n",
              "9359  2023-02-06  12464.51  12880.98   11550.07        10.90  12880.98   \n",
              "9360  2023-02-07  12728.27  12880.98   11550.07        10.82  12880.98   \n",
              "9361  2023-02-08  12495.38  12880.98   11853.37         8.31  12880.98   \n",
              "9362  2023-02-09  12644.55  12880.98   11906.11         7.85  12880.98   \n",
              "\n",
              "      DC_low_22  DC_width_22  DC_up_55  DC_low_55  ...  DC_up_55_HHHL  \\\n",
              "9358   10696.42        18.71  12880.98   10671.19  ...              0   \n",
              "9359   10696.42        18.60  12880.98   10671.19  ...              0   \n",
              "9360   10696.42        18.46  12880.98   10671.19  ...              0   \n",
              "9361   11050.68        15.38  12880.98   10671.19  ...              0   \n",
              "9362   11050.68        15.29  12880.98   10671.19  ...              0   \n",
              "\n",
              "      DC_low_55_LHLL  DC_width_55_lag2_diff  DC_width_55_lag5_diff  \\\n",
              "9358               0                   3.61                   5.37   \n",
              "9359               0                  -0.05                   5.37   \n",
              "9360               0                  -0.05                   5.37   \n",
              "9361               0                  -0.05                   3.54   \n",
              "9362               0                  -0.05                  -0.13   \n",
              "\n",
              "      DC_up_10_breakout  DC_low_10_breakout  DC_up_22_breakout  \\\n",
              "9358                  0                   0                  0   \n",
              "9359                  0                   0                  0   \n",
              "9360                  0                   0                  0   \n",
              "9361                  0                   0                  0   \n",
              "9362                  0                   0                  0   \n",
              "\n",
              "      DC_low_22_breakout  DC_up_55_breakout  DC_low_55_breakout  \n",
              "9358                   0                  0                   0  \n",
              "9359                   0                  0                   0  \n",
              "9360                   0                  0                   0  \n",
              "9361                   0                  0                   0  \n",
              "9362                   0                  0                   0  \n",
              "\n",
              "[5 rows x 41 columns]"
            ],
            "text/html": [
              "\n",
              "  <div id=\"df-8377eacc-8980-4f41-aa8a-102bcc9506ab\">\n",
              "    <div class=\"colab-df-container\">\n",
              "      <div>\n",
              "<style scoped>\n",
              "    .dataframe tbody tr th:only-of-type {\n",
              "        vertical-align: middle;\n",
              "    }\n",
              "\n",
              "    .dataframe tbody tr th {\n",
              "        vertical-align: top;\n",
              "    }\n",
              "\n",
              "    .dataframe thead th {\n",
              "        text-align: right;\n",
              "    }\n",
              "</style>\n",
              "<table border=\"1\" class=\"dataframe\">\n",
              "  <thead>\n",
              "    <tr style=\"text-align: right;\">\n",
              "      <th></th>\n",
              "      <th>Date</th>\n",
              "      <th>Close</th>\n",
              "      <th>DC_up_10</th>\n",
              "      <th>DC_low_10</th>\n",
              "      <th>DC_width_10</th>\n",
              "      <th>DC_up_22</th>\n",
              "      <th>DC_low_22</th>\n",
              "      <th>DC_width_22</th>\n",
              "      <th>DC_up_55</th>\n",
              "      <th>DC_low_55</th>\n",
              "      <th>...</th>\n",
              "      <th>DC_up_55_HHHL</th>\n",
              "      <th>DC_low_55_LHLL</th>\n",
              "      <th>DC_width_55_lag2_diff</th>\n",
              "      <th>DC_width_55_lag5_diff</th>\n",
              "      <th>DC_up_10_breakout</th>\n",
              "      <th>DC_low_10_breakout</th>\n",
              "      <th>DC_up_22_breakout</th>\n",
              "      <th>DC_low_22_breakout</th>\n",
              "      <th>DC_up_55_breakout</th>\n",
              "      <th>DC_low_55_breakout</th>\n",
              "    </tr>\n",
              "  </thead>\n",
              "  <tbody>\n",
              "    <tr>\n",
              "      <th>9358</th>\n",
              "      <td>2023-02-03</td>\n",
              "      <td>12573.36</td>\n",
              "      <td>12880.98</td>\n",
              "      <td>11550.07</td>\n",
              "      <td>10.95</td>\n",
              "      <td>12880.98</td>\n",
              "      <td>10696.42</td>\n",
              "      <td>18.71</td>\n",
              "      <td>12880.98</td>\n",
              "      <td>10671.19</td>\n",
              "      <td>...</td>\n",
              "      <td>0</td>\n",
              "      <td>0</td>\n",
              "      <td>3.61</td>\n",
              "      <td>5.37</td>\n",
              "      <td>0</td>\n",
              "      <td>0</td>\n",
              "      <td>0</td>\n",
              "      <td>0</td>\n",
              "      <td>0</td>\n",
              "      <td>0</td>\n",
              "    </tr>\n",
              "    <tr>\n",
              "      <th>9359</th>\n",
              "      <td>2023-02-06</td>\n",
              "      <td>12464.51</td>\n",
              "      <td>12880.98</td>\n",
              "      <td>11550.07</td>\n",
              "      <td>10.90</td>\n",
              "      <td>12880.98</td>\n",
              "      <td>10696.42</td>\n",
              "      <td>18.60</td>\n",
              "      <td>12880.98</td>\n",
              "      <td>10671.19</td>\n",
              "      <td>...</td>\n",
              "      <td>0</td>\n",
              "      <td>0</td>\n",
              "      <td>-0.05</td>\n",
              "      <td>5.37</td>\n",
              "      <td>0</td>\n",
              "      <td>0</td>\n",
              "      <td>0</td>\n",
              "      <td>0</td>\n",
              "      <td>0</td>\n",
              "      <td>0</td>\n",
              "    </tr>\n",
              "    <tr>\n",
              "      <th>9360</th>\n",
              "      <td>2023-02-07</td>\n",
              "      <td>12728.27</td>\n",
              "      <td>12880.98</td>\n",
              "      <td>11550.07</td>\n",
              "      <td>10.82</td>\n",
              "      <td>12880.98</td>\n",
              "      <td>10696.42</td>\n",
              "      <td>18.46</td>\n",
              "      <td>12880.98</td>\n",
              "      <td>10671.19</td>\n",
              "      <td>...</td>\n",
              "      <td>0</td>\n",
              "      <td>0</td>\n",
              "      <td>-0.05</td>\n",
              "      <td>5.37</td>\n",
              "      <td>0</td>\n",
              "      <td>0</td>\n",
              "      <td>0</td>\n",
              "      <td>0</td>\n",
              "      <td>0</td>\n",
              "      <td>0</td>\n",
              "    </tr>\n",
              "    <tr>\n",
              "      <th>9361</th>\n",
              "      <td>2023-02-08</td>\n",
              "      <td>12495.38</td>\n",
              "      <td>12880.98</td>\n",
              "      <td>11853.37</td>\n",
              "      <td>8.31</td>\n",
              "      <td>12880.98</td>\n",
              "      <td>11050.68</td>\n",
              "      <td>15.38</td>\n",
              "      <td>12880.98</td>\n",
              "      <td>10671.19</td>\n",
              "      <td>...</td>\n",
              "      <td>0</td>\n",
              "      <td>0</td>\n",
              "      <td>-0.05</td>\n",
              "      <td>3.54</td>\n",
              "      <td>0</td>\n",
              "      <td>0</td>\n",
              "      <td>0</td>\n",
              "      <td>0</td>\n",
              "      <td>0</td>\n",
              "      <td>0</td>\n",
              "    </tr>\n",
              "    <tr>\n",
              "      <th>9362</th>\n",
              "      <td>2023-02-09</td>\n",
              "      <td>12644.55</td>\n",
              "      <td>12880.98</td>\n",
              "      <td>11906.11</td>\n",
              "      <td>7.85</td>\n",
              "      <td>12880.98</td>\n",
              "      <td>11050.68</td>\n",
              "      <td>15.29</td>\n",
              "      <td>12880.98</td>\n",
              "      <td>10671.19</td>\n",
              "      <td>...</td>\n",
              "      <td>0</td>\n",
              "      <td>0</td>\n",
              "      <td>-0.05</td>\n",
              "      <td>-0.13</td>\n",
              "      <td>0</td>\n",
              "      <td>0</td>\n",
              "      <td>0</td>\n",
              "      <td>0</td>\n",
              "      <td>0</td>\n",
              "      <td>0</td>\n",
              "    </tr>\n",
              "  </tbody>\n",
              "</table>\n",
              "<p>5 rows × 41 columns</p>\n",
              "</div>\n",
              "      <button class=\"colab-df-convert\" onclick=\"convertToInteractive('df-8377eacc-8980-4f41-aa8a-102bcc9506ab')\"\n",
              "              title=\"Convert this dataframe to an interactive table.\"\n",
              "              style=\"display:none;\">\n",
              "        \n",
              "  <svg xmlns=\"http://www.w3.org/2000/svg\" height=\"24px\"viewBox=\"0 0 24 24\"\n",
              "       width=\"24px\">\n",
              "    <path d=\"M0 0h24v24H0V0z\" fill=\"none\"/>\n",
              "    <path d=\"M18.56 5.44l.94 2.06.94-2.06 2.06-.94-2.06-.94-.94-2.06-.94 2.06-2.06.94zm-11 1L8.5 8.5l.94-2.06 2.06-.94-2.06-.94L8.5 2.5l-.94 2.06-2.06.94zm10 10l.94 2.06.94-2.06 2.06-.94-2.06-.94-.94-2.06-.94 2.06-2.06.94z\"/><path d=\"M17.41 7.96l-1.37-1.37c-.4-.4-.92-.59-1.43-.59-.52 0-1.04.2-1.43.59L10.3 9.45l-7.72 7.72c-.78.78-.78 2.05 0 2.83L4 21.41c.39.39.9.59 1.41.59.51 0 1.02-.2 1.41-.59l7.78-7.78 2.81-2.81c.8-.78.8-2.07 0-2.86zM5.41 20L4 18.59l7.72-7.72 1.47 1.35L5.41 20z\"/>\n",
              "  </svg>\n",
              "      </button>\n",
              "      \n",
              "  <style>\n",
              "    .colab-df-container {\n",
              "      display:flex;\n",
              "      flex-wrap:wrap;\n",
              "      gap: 12px;\n",
              "    }\n",
              "\n",
              "    .colab-df-convert {\n",
              "      background-color: #E8F0FE;\n",
              "      border: none;\n",
              "      border-radius: 50%;\n",
              "      cursor: pointer;\n",
              "      display: none;\n",
              "      fill: #1967D2;\n",
              "      height: 32px;\n",
              "      padding: 0 0 0 0;\n",
              "      width: 32px;\n",
              "    }\n",
              "\n",
              "    .colab-df-convert:hover {\n",
              "      background-color: #E2EBFA;\n",
              "      box-shadow: 0px 1px 2px rgba(60, 64, 67, 0.3), 0px 1px 3px 1px rgba(60, 64, 67, 0.15);\n",
              "      fill: #174EA6;\n",
              "    }\n",
              "\n",
              "    [theme=dark] .colab-df-convert {\n",
              "      background-color: #3B4455;\n",
              "      fill: #D2E3FC;\n",
              "    }\n",
              "\n",
              "    [theme=dark] .colab-df-convert:hover {\n",
              "      background-color: #434B5C;\n",
              "      box-shadow: 0px 1px 3px 1px rgba(0, 0, 0, 0.15);\n",
              "      filter: drop-shadow(0px 1px 2px rgba(0, 0, 0, 0.3));\n",
              "      fill: #FFFFFF;\n",
              "    }\n",
              "  </style>\n",
              "\n",
              "      <script>\n",
              "        const buttonEl =\n",
              "          document.querySelector('#df-8377eacc-8980-4f41-aa8a-102bcc9506ab button.colab-df-convert');\n",
              "        buttonEl.style.display =\n",
              "          google.colab.kernel.accessAllowed ? 'block' : 'none';\n",
              "\n",
              "        async function convertToInteractive(key) {\n",
              "          const element = document.querySelector('#df-8377eacc-8980-4f41-aa8a-102bcc9506ab');\n",
              "          const dataTable =\n",
              "            await google.colab.kernel.invokeFunction('convertToInteractive',\n",
              "                                                     [key], {});\n",
              "          if (!dataTable) return;\n",
              "\n",
              "          const docLinkHtml = 'Like what you see? Visit the ' +\n",
              "            '<a target=\"_blank\" href=https://colab.research.google.com/notebooks/data_table.ipynb>data table notebook</a>'\n",
              "            + ' to learn more about interactive tables.';\n",
              "          element.innerHTML = '';\n",
              "          dataTable['output_type'] = 'display_data';\n",
              "          await google.colab.output.renderOutput(dataTable, element);\n",
              "          const docLink = document.createElement('div');\n",
              "          docLink.innerHTML = docLinkHtml;\n",
              "          element.appendChild(docLink);\n",
              "        }\n",
              "      </script>\n",
              "    </div>\n",
              "  </div>\n",
              "  "
            ]
          },
          "metadata": {},
          "execution_count": 98
        }
      ]
    },
    {
      "cell_type": "code",
      "source": [
        "df_DC_FE.loc[ df_DC_FE[\"DC_low_55_LHLL\"]==1 ].shape[0]"
      ],
      "metadata": {
        "colab": {
          "base_uri": "https://localhost:8080/"
        },
        "id": "Z-ikZJ1NrzH1",
        "outputId": "07b3a79a-12e6-42f1-8644-4f810aa75a8d"
      },
      "execution_count": 97,
      "outputs": [
        {
          "output_type": "execute_result",
          "data": {
            "text/plain": [
              "27"
            ]
          },
          "metadata": {},
          "execution_count": 97
        }
      ]
    },
    {
      "cell_type": "code",
      "source": [
        "df_DC_FE.columns"
      ],
      "metadata": {
        "colab": {
          "base_uri": "https://localhost:8080/"
        },
        "id": "O2LHG621r7Sc",
        "outputId": "cbe3cc99-7240-488c-d1ec-aafd8825f459"
      },
      "execution_count": 99,
      "outputs": [
        {
          "output_type": "execute_result",
          "data": {
            "text/plain": [
              "Index(['Date', 'Close', 'DC_up_10', 'DC_low_10', 'DC_width_10', 'DC_up_22',\n",
              "       'DC_low_22', 'DC_width_22', 'DC_up_55', 'DC_low_55', 'DC_width_55',\n",
              "       'DC_up_10_HH', 'DC_up_10_LH', 'DC_low_10_HL', 'DC_low_10_LL',\n",
              "       'DC_up_10_HHHL', 'DC_low_10_LHLL', 'DC_width_10_lag2_diff',\n",
              "       'DC_width_10_lag5_diff', 'DC_up_22_HH', 'DC_up_22_LH', 'DC_low_22_HL',\n",
              "       'DC_low_22_LL', 'DC_up_22_HHHL', 'DC_low_22_LHLL',\n",
              "       'DC_width_22_lag2_diff', 'DC_width_22_lag5_diff', 'DC_up_55_HH',\n",
              "       'DC_up_55_LH', 'DC_low_55_HL', 'DC_low_55_LL', 'DC_up_55_HHHL',\n",
              "       'DC_low_55_LHLL', 'DC_width_55_lag2_diff', 'DC_width_55_lag5_diff',\n",
              "       'DC_up_10_breakout', 'DC_low_10_breakout', 'DC_up_22_breakout',\n",
              "       'DC_low_22_breakout', 'DC_up_55_breakout', 'DC_low_55_breakout'],\n",
              "      dtype='object')"
            ]
          },
          "metadata": {},
          "execution_count": 99
        }
      ]
    },
    {
      "cell_type": "code",
      "source": [
        "''' Compte tenu du faible nombre de signaux combinés, on lisse le signal avec une aggrégation,\n",
        "somme des signaux sur une fenêtre variable. 3j pour DC10, 10j pour DC55'''\n",
        "\n",
        "df_DC_FE[\"DC_up_10_HHHL_rolling3\"] = df_DC_FE[\"DC_up_10_HHHL\"].rolling(3).sum()\n",
        "df_DC_FE[\"DC_low_10_LHLL_rolling3\"] = df_DC_FE[\"DC_low_10_LHLL\"].rolling(3).sum()\n",
        "df_DC_FE[\"DC_up_22_HHHL_rolling5\"] = df_DC_FE[\"DC_up_22_HHHL\"].rolling(5).sum()\n",
        "df_DC_FE[\"DC_low_22_LHLL_rolling5\"] = df_DC_FE[\"DC_low_22_LHLL\"].rolling(5).sum()\n",
        "df_DC_FE[\"DC_up_55_HHHL_rolling10\"] = df_DC_FE[\"DC_up_55_HHHL\"].rolling(10).sum()\n",
        "df_DC_FE[\"DC_low_55_LHLL_rolling10\"] = df_DC_FE[\"DC_low_55_LHLL\"].rolling(10).sum()"
      ],
      "metadata": {
        "id": "mKdmzmZQxfOA"
      },
      "execution_count": 101,
      "outputs": []
    }
  ]
}