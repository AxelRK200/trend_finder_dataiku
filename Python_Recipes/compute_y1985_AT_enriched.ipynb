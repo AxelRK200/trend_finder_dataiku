{
  "metadata": {
    "kernelspec": {
      "name": "py-dku-venv-py_v39_finance",
      "display_name": "Python (env py_v39_finance)",
      "language": "python"
    },
    "associatedRecipe": "compute_y1985_AT_enriched",
    "creator": "admin",
    "createdOn": 1656187951763,
    "tags": [
      "recipe-editor"
    ],
    "customFields": {},
    "hide_input": false,
    "language_info": {
      "name": "python",
      "version": "3.9.0",
      "mimetype": "text/x-python",
      "codemirror_mode": {
        "name": "ipython",
        "version": 3
      },
      "pygments_lexer": "ipython3",
      "nbconvert_exporter": "python",
      "file_extension": ".py"
    },
    "modifiedBy": "admin"
  },
  "nbformat": 4,
  "nbformat_minor": 1,
  "cells": [
    {
      "execution_count": 1,
      "cell_type": "code",
      "metadata": {},
      "source": [
        "# -*- coding: utf-8 -*-\nimport dataiku\nimport pandas as pd, numpy as np\nfrom dataiku import pandasutils as pdu"
      ],
      "outputs": []
    },
    {
      "execution_count": 10,
      "cell_type": "code",
      "metadata": {},
      "source": [
        "# Read recipe inputs\ny1985_AT \u003d dataiku.Dataset(\"y1985_AT\")\ndf_source \u003d y1985_AT.get_dataframe()"
      ],
      "outputs": []
    },
    {
      "execution_count": 11,
      "cell_type": "code",
      "metadata": {},
      "source": [
        "# Sélection uniquement des colonnes Trends sur lesquelles on va calculer les Windows\ntrends \u003d [c for c in range(2,19,3)]\ncols \u003d df_source.columns.to_list()\ntrend_cols \u003d [cols[c] for c in trends]\nprint(trend_cols)"
      ],
      "outputs": [
        {
          "output_type": "stream",
          "text": "[\u0027trend_MFIp12s54_ATR14_m1\u0027, \u0027trend_MFIp14s50_ATR14_m1\u0027, \u0027trend_MFIp14s50_ATR14_m0.75\u0027, \u0027trend_MFIp14s50_ATR14_m1.25\u0027, \u0027trend_MFIp17s54_ATR14_m1\u0027, \u0027trend_MFIp17s38_ATR14_m1\u0027]\n",
          "name": "stdout"
        }
      ]
    },
    {
      "execution_count": 13,
      "cell_type": "code",
      "metadata": {},
      "source": [
        "for e in trend_cols :\n    df_source[e+\"_w5\"] \u003d df_source[e].rolling(5).mean()\n    df_source[e+\"_w10\"] \u003d df_source[e].rolling(10).mean()"
      ],
      "outputs": []
    },
    {
      "execution_count": 16,
      "cell_type": "code",
      "metadata": {},
      "source": [
        "# Write recipe outputs\ny1985_AT_enriched \u003d dataiku.Dataset(\"y1985_AT_enriched\")\ny1985_AT_enriched.write_with_schema(df_source)"
      ],
      "outputs": [
        {
          "output_type": "stream",
          "text": "9238 rows successfully written (mfxkDaSLlY)\n",
          "name": "stdout"
        }
      ]
    }
  ]
}