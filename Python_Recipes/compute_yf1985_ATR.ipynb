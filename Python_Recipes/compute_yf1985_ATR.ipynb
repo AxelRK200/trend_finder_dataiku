{
  "metadata": {
    "kernelspec": {
      "name": "py-dku-venv-py_v39_finance",
      "display_name": "Python (env py_v39_finance)",
      "language": "python"
    },
    "associatedRecipe": "compute_y1985_ATR",
    "creationTag": {
      "versionNumber": 0,
      "lastModifiedBy": {
        "login": "admin"
      },
      "lastModifiedOn": 1667247365766
    },
    "creator": "admin",
    "createdOn": 1667247365766,
    "tags": [
      "recipe-editor"
    ],
    "customFields": {},
    "hide_input": false,
    "language_info": {
      "name": "python",
      "version": "3.9.0",
      "mimetype": "text/x-python",
      "codemirror_mode": {
        "name": "ipython",
        "version": 3
      },
      "pygments_lexer": "ipython3",
      "nbconvert_exporter": "python",
      "file_extension": ".py"
    },
    "modifiedBy": "admin"
  },
  "nbformat": 4,
  "nbformat_minor": 1,
  "cells": [
    {
      "execution_count": 10,
      "cell_type": "code",
      "metadata": {},
      "source": [
        "# -*- coding: utf-8 -*-\nimport dataiku\nimport pandas as pd, numpy as np\nfrom dataiku import pandasutils as pdu\nfrom ta.volatility import AverageTrueRange"
      ],
      "outputs": []
    },
    {
      "execution_count": 11,
      "cell_type": "code",
      "metadata": {},
      "source": [
        "# Read recipe inputs\nyfinance_ndx_hist_1985_daily \u003d dataiku.Dataset(\"yfinance_ndx_hist_1985_daily\")\ndf \u003d yfinance_ndx_hist_1985_daily.get_dataframe()"
      ],
      "outputs": []
    },
    {
      "execution_count": 12,
      "cell_type": "code",
      "metadata": {},
      "source": [
        "# Colonne ATR\ns_atr \u003d AverageTrueRange(high\u003ddf.High, low\u003ddf.Low, close\u003ddf.Close, window\u003d10).average_true_range()\ndf[\"ATR_10\"] \u003d round(s_atr,2)"
      ],
      "outputs": []
    },
    {
      "execution_count": 13,
      "cell_type": "code",
      "metadata": {},
      "source": [
        "df \u003d df.loc[9:]\ndf \u003d df[[\u0027Date\u0027,\u0027Open\u0027,\u0027Close\u0027,\u0027ATR_10\u0027]]"
      ],
      "outputs": []
    },
    {
      "execution_count": 15,
      "cell_type": "code",
      "metadata": {},
      "source": [
        "df.reset_index(drop\u003dTrue, inplace\u003dTrue)"
      ],
      "outputs": []
    },
    {
      "execution_count": 0,
      "cell_type": "code",
      "metadata": {},
      "source": [
        "# Write recipe outputs\ny1985_ATR \u003d dataiku.Dataset(\"y1985_ATR\")\ny1985_ATR.write_with_schema(df)"
      ],
      "outputs": []
    }
  ]
}