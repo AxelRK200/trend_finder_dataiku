{
  "metadata": {
    "kernelspec": {
      "name": "py-dku-venv-py_v39_finance",
      "display_name": "Python (env py_v39_finance)",
      "language": "python"
    },
    "associatedRecipe": "compute_y1985_MA",
    "creator": "admin",
    "createdOn": 1671532225513,
    "tags": [
      "recipe-editor"
    ],
    "customFields": {},
    "hide_input": false,
    "language_info": {
      "name": "python",
      "version": "3.9.0",
      "mimetype": "text/x-python",
      "codemirror_mode": {
        "name": "ipython",
        "version": 3
      },
      "pygments_lexer": "ipython3",
      "nbconvert_exporter": "python",
      "file_extension": ".py"
    },
    "modifiedBy": "admin"
  },
  "nbformat": 4,
  "nbformat_minor": 1,
  "cells": [
    {
      "execution_count": 4,
      "cell_type": "code",
      "metadata": {},
      "source": [
        "# -*- coding: utf-8 -*-\nimport dataiku\nimport pandas as pd, numpy as np\nfrom dataiku import pandasutils as pdu\nfrom ta.trend import SMAIndicator\nfrom ta.trend import EMAIndicator"
      ],
      "outputs": []
    },
    {
      "execution_count": 2,
      "cell_type": "code",
      "metadata": {},
      "source": [
        "# Read recipe inputs\nyfinance_ndx_hist_1985_daily \u003d dataiku.Dataset(\"yfinance_ndx_hist_1985_daily\")\ndf \u003d yfinance_ndx_hist_1985_daily.get_dataframe()"
      ],
      "outputs": []
    },
    {
      "execution_count": 3,
      "cell_type": "code",
      "metadata": {},
      "source": [
        "periodes_MA \u003d [4,9,18,20,40,149,200]\nperiodes_eMA \u003d [10,13,20,26,30]"
      ],
      "outputs": []
    },
    {
      "cell_type": "markdown",
      "metadata": {},
      "source": [
        "\u003cp\u003e\n    (Exponential) Moving Averages will be computed following these studies :\n\u003cli\u003e 3 SMA position observation : 4-9-18 and 9-20-200\u003c/li\u003e\n\u003cli\u003e 2 SMA crossover : 40/149 (Best fit in O\u0027Reilly Pyhton for Finance\u003c/li\u003e\n\u003cli\u003e 2 EMA crossover : 13/25 (Dr. Elder)\u003c/li\u003e\n\u003cli\u003e 3 EMA position observation + price distance with volume confirmation: 10-20-30 (Oliver Kell)\u003c/li\u003e\n\u003c/p\u003e\n\u003cp\u003e\n    Slope and distances between (E)MA will be computed as well\n\u003c/p\u003e"
      ]
    },
    {
      "execution_count": 8,
      "cell_type": "code",
      "metadata": {},
      "source": [
        "s_ma \u003d SMAIndicator(close\u003ddf.Close, window\u003d10).sma_indicator()\ns_ema \u003d EMAIndicator(close\u003ddf.Close, window\u003d10).ema_indicator()"
      ],
      "outputs": []
    },
    {
      "execution_count": 18,
      "cell_type": "code",
      "metadata": {},
      "source": [
        "# add SMAs to DataFrame\nfor w in periodes_MA :\n    s_ma \u003d SMAIndicator(close\u003ddf.Close, window\u003dw).sma_indicator()\n    col_name \u003d \"MA\"+str(w)\n    df[col_name] \u003d round(s_ma,2)"
      ],
      "outputs": []
    },
    {
      "execution_count": 19,
      "cell_type": "code",
      "metadata": {},
      "source": [
        "# add EMAs to DataFrame\nfor w in periodes_eMA :\n    s_ema \u003d EMAIndicator(close\u003ddf.Close, window\u003dw).ema_indicator()\n    col_name \u003d \"EMA\"+str(w)\n    df[col_name] \u003d round(s_ema,2)"
      ],
      "outputs": []
    },
    {
      "execution_count": 26,
      "cell_type": "code",
      "metadata": {},
      "source": [
        "# Remove rows with empty (E)MA\ndf \u003d df.loc[199:]\ndf.reset_index(drop\u003dTrue, inplace\u003dTrue)"
      ],
      "outputs": []
    },
    {
      "execution_count": 27,
      "cell_type": "code",
      "metadata": {},
      "source": [
        "# Remove unnecessary columns\ndf.drop(columns\u003d[\u0027Open\u0027,\u0027High\u0027,\u0027Low\u0027], inplace\u003dTrue)"
      ],
      "outputs": [
        {
          "output_type": "stream",
          "text": "/Users/Axel/Library/DataScienceStudio/dss_home/code-envs/python/py_v39_finance/lib/python3.9/site-packages/pandas/core/frame.py:4906: SettingWithCopyWarning: \nA value is trying to be set on a copy of a slice from a DataFrame\n\nSee the caveats in the documentation: https://pandas.pydata.org/pandas-docs/stable/user_guide/indexing.html#returning-a-view-versus-a-copy\n  return super().drop(\n",
          "name": "stderr"
        }
      ]
    },
    {
      "execution_count": 29,
      "cell_type": "code",
      "metadata": {},
      "source": [
        "# Write recipe outputs\ny1985_MA \u003d dataiku.Dataset(\"y1985_MA\")\ny1985_MA.write_with_schema(df)"
      ],
      "outputs": [
        {
          "output_type": "stream",
          "text": "9183 rows successfully written (Tu0om9GANz)\n",
          "name": "stdout"
        }
      ]
    }
  ]
}