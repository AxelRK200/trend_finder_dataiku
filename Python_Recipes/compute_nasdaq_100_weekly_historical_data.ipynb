{
  "metadata": {
    "kernelspec": {
      "name": "py-dku-venv-py_v39_finance",
      "display_name": "Python (env py_v39_finance)",
      "language": "python"
    },
    "associatedRecipe": "compute_nasdaq_100_weekly_historical_data",
    "creationTag": {
      "versionNumber": 0,
      "lastModifiedBy": {
        "login": "admin"
      },
      "lastModifiedOn": 1654894606513
    },
    "creator": "admin",
    "createdOn": 1654894606513,
    "tags": [
      "recipe-editor"
    ],
    "customFields": {},
    "language_info": {
      "name": "python",
      "version": "3.9.0",
      "mimetype": "text/x-python",
      "codemirror_mode": {
        "name": "ipython",
        "version": 3
      },
      "pygments_lexer": "ipython3",
      "nbconvert_exporter": "python",
      "file_extension": ".py"
    },
    "hide_input": false,
    "modifiedBy": "admin"
  },
  "nbformat": 4,
  "nbformat_minor": 1,
  "cells": [
    {
      "execution_count": 0,
      "cell_type": "code",
      "metadata": {},
      "source": [
        "# -*- coding: utf-8 -*-\nimport dataiku\nimport pandas as pd, numpy as np\nfrom dataiku import pandasutils as pdu\nimport investpy\nimport datetime"
      ],
      "outputs": []
    },
    {
      "execution_count": 0,
      "cell_type": "code",
      "metadata": {},
      "source": [
        "# Obtention de la date du jour, format texte, pour paramètre date_max investpy\ncurrent_time \u003d datetime.datetime.now()\n\ndate_jour \u003d str(current_time.day) + \"/\" + str(current_time.month) + \"/\" + str(current_time.year)\nprint(\"Date du jour : \",date_jour)"
      ],
      "outputs": []
    },
    {
      "cell_type": "markdown",
      "metadata": {},
      "source": [
        "Le 15 Juin 2006 est identifié comme la première date intégrant les données de volume"
      ]
    },
    {
      "execution_count": 0,
      "cell_type": "code",
      "metadata": {},
      "source": [
        "df_W_historical_data \u003d investpy.indices.get_index_historical_data(\n    index\u003d\"Nasdaq 100\",\n    country\u003d\"united states\",\n    from_date\u003d\"15/06/2006\",\n    to_date\u003ddate_jour,\n    interval\u003d\"Weekly\"\n)"
      ],
      "outputs": []
    },
    {
      "execution_count": 0,
      "cell_type": "code",
      "metadata": {},
      "source": [
        "# Par défaut la colonne date est un index.\n# Passage de celle-ci en colonne\ndf_W_historical_data.reset_index(inplace\u003dTrue)"
      ],
      "outputs": []
    },
    {
      "execution_count": 0,
      "cell_type": "code",
      "metadata": {},
      "source": [
        "df_W_historical_data.drop(columns\u003d\"Currency\", inplace\u003dTrue)"
      ],
      "outputs": []
    },
    {
      "execution_count": 0,
      "cell_type": "code",
      "metadata": {},
      "source": [
        "# Test si aucune ligne manquante\ntest_list \u003d [champ \u003d\u003d 0 for champ in df_W_historical_data.isnull().sum()]\n# Si toutes les colonnes sont True, résultat \u003d True\nres1 \u003d all(i for i in test_list)"
      ],
      "outputs": []
    },
    {
      "execution_count": 0,
      "cell_type": "code",
      "metadata": {},
      "source": [
        "# Test si toutes les colonnes \u003e 0\n\u0027\u0027\u0027 Pour l\u0027hebdo on ne tiendra pas nécessairement compte du volume\nCelui-ci est rempli avec \u003e 1 mois de retard sur investing.com\nPar ailleurs son rôle de Leading indicator ne semble pas se vérifier en Hebdo.\nRemarque : Etude du MFI en leading indicator sur Timeframe plus faible que Daily ?\u0027\u0027\u0027\n\ntest_list_zero \u003d [champ \u003e 0 for champ in df_W_historical_data[[\"Open\",\"High\",\"Low\",\"Close\"]].describe().min()]\nres2 \u003d all(z for z in test_list_zero)"
      ],
      "outputs": []
    },
    {
      "execution_count": 0,
      "cell_type": "code",
      "metadata": {},
      "source": [
        "# Write recipe outputs\nnasdaq_100_weekly_historical_data \u003d dataiku.Dataset(\"investpy_ndx_hist_2006_weekly\")\n\nif res1 \u0026 res2 :\n    nasdaq_100_weekly_historical_data.write_with_schema(df_W_historical_data)\n    print(\"Import réussi et tests validés\")\n    print(\"Nombre de lignes : \",df_W_historical_data.shape[0])\nelse :\n    print(\"Au moins une ligne est vide ou une valeur est incohérente.\\nPas d\u0027écriture\")"
      ],
      "outputs": []
    }
  ]
}