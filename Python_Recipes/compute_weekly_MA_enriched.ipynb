{
  "metadata": {
    "kernelspec": {
      "name": "py-dku-venv-py_v39_finance",
      "display_name": "Python (env py_v39_finance)",
      "language": "python"
    },
    "associatedRecipe": "compute_weekly_MA_enriched",
    "creationTag": {
      "versionNumber": 0,
      "lastModifiedBy": {
        "login": "admin"
      },
      "lastModifiedOn": 1674395753567
    },
    "creator": "admin",
    "createdOn": 1674395753567,
    "tags": [
      "recipe-editor"
    ],
    "customFields": {},
    "hide_input": false,
    "language_info": {
      "name": "python",
      "version": "3.9.0",
      "mimetype": "text/x-python",
      "codemirror_mode": {
        "name": "ipython",
        "version": 3
      },
      "pygments_lexer": "ipython3",
      "nbconvert_exporter": "python",
      "file_extension": ".py"
    },
    "modifiedBy": "admin"
  },
  "nbformat": 4,
  "nbformat_minor": 1,
  "cells": [
    {
      "execution_count": 26,
      "cell_type": "code",
      "metadata": {},
      "source": [
        "# -*- coding: utf-8 -*-\nimport dataiku\nimport pandas as pd, numpy as np\nfrom dataiku import pandasutils as pdu\nfrom numpy import log as ln"
      ],
      "outputs": []
    },
    {
      "execution_count": 27,
      "cell_type": "code",
      "metadata": {},
      "source": [
        "# Read recipe inputs\nweekly_MA \u003d dataiku.Dataset(\"weekly_MA\")\nhist \u003d weekly_MA.get_dataframe()"
      ],
      "outputs": []
    },
    {
      "cell_type": "markdown",
      "metadata": {},
      "source": [
        "# Position et distance prix / MA40 weekly #"
      ]
    },
    {
      "execution_count": 28,
      "cell_type": "code",
      "metadata": {},
      "source": [
        "def refined_indicators(df):\n    \u0027\u0027\u0027Determines whether closing price is over (1) or below (0) sma\u0027\u0027\u0027\n\n    indicator \u003d 0\n\n    df_calc \u003d df[[\"Close\",\"SMA_40\"]].copy()\n    df_calc[\"diff\"] \u003d df_calc.Close - df_calc.SMA_40\n    df_calc[\"relative_distance\"] \u003d ((df_calc.Close - df_calc.SMA_40)/df_calc.SMA_40)*100\n\n    df_calc[\"diff\"] \u003d df_calc[\"diff\"].apply(lambda x: 1 if x\u003e0 else 0)\n    df_calc[\"relative_distance\"] \u003d df_calc[\"relative_distance\"].apply(lambda x: round(x,2))\n\n    return df_calc[\"diff\"], df_calc[\"relative_distance\"]"
      ],
      "outputs": []
    },
    {
      "execution_count": 29,
      "cell_type": "code",
      "metadata": {},
      "source": [
        "hist[\"Position\"], hist[\"Relative_distance\"] \u003d refined_indicators(hist)"
      ],
      "outputs": []
    },
    {
      "execution_count": 30,
      "cell_type": "code",
      "metadata": {},
      "source": [
        "hist.tail(10)"
      ],
      "outputs": [
        {
          "output_type": "execute_result",
          "execution_count": 30,
          "data": {
            "text/plain": "            Date      Open     Close       Volume Num_Semaine    SMA_40  Position  Relative_distance\n1899  2022-11-21  11623.35  11756.03  14779100000     2022-47  12508.35         0              -6.01\n1900  2022-11-28  11684.07  11994.26  25198780000     2022-48  12453.48         0              -3.69\n1901  2022-12-05  11899.54  11563.33  22186460000     2022-49  12396.62         0              -6.72\n1902  2022-12-12  11572.26  11243.72  29946270000     2022-50  12345.16         0              -8.92\n1903  2022-12-19  11243.00  10985.45  22410180000     2022-51  12259.30         0             -10.39\n1904  2022-12-26  10944.30  10939.76  15783390000     2022-52  12163.93         0             -10.06\n1905  2023-01-02  11038.42  11040.35  19830080000     2023-01  12068.41         0              -8.52\n1906  2023-01-09  11133.07  11541.48  25886490000     2023-02  11998.77         0              -3.81\n1907  2023-01-16  11531.54  11619.03  21067950000     2023-03  11941.91         0              -2.70\n1908  2023-01-20  11363.90  11619.03   1098966000     2023-03  11898.47         0              -2.35",
            "text/html": "\u003cdiv\u003e\n\u003cstyle scoped\u003e\n    .dataframe tbody tr th:only-of-type {\n        vertical-align: middle;\n    }\n\n    .dataframe tbody tr th {\n        vertical-align: top;\n    }\n\n    .dataframe thead th {\n        text-align: right;\n    }\n\u003c/style\u003e\n\u003ctable border\u003d\"1\" class\u003d\"dataframe\"\u003e\n  \u003cthead\u003e\n    \u003ctr style\u003d\"text-align: right;\"\u003e\n      \u003cth\u003e\u003c/th\u003e\n      \u003cth\u003eDate\u003c/th\u003e\n      \u003cth\u003eOpen\u003c/th\u003e\n      \u003cth\u003eClose\u003c/th\u003e\n      \u003cth\u003eVolume\u003c/th\u003e\n      \u003cth\u003eNum_Semaine\u003c/th\u003e\n      \u003cth\u003eSMA_40\u003c/th\u003e\n      \u003cth\u003ePosition\u003c/th\u003e\n      \u003cth\u003eRelative_distance\u003c/th\u003e\n    \u003c/tr\u003e\n  \u003c/thead\u003e\n  \u003ctbody\u003e\n    \u003ctr\u003e\n      \u003cth\u003e1899\u003c/th\u003e\n      \u003ctd\u003e2022-11-21\u003c/td\u003e\n      \u003ctd\u003e11623.35\u003c/td\u003e\n      \u003ctd\u003e11756.03\u003c/td\u003e\n      \u003ctd\u003e14779100000\u003c/td\u003e\n      \u003ctd\u003e2022-47\u003c/td\u003e\n      \u003ctd\u003e12508.35\u003c/td\u003e\n      \u003ctd\u003e0\u003c/td\u003e\n      \u003ctd\u003e-6.01\u003c/td\u003e\n    \u003c/tr\u003e\n    \u003ctr\u003e\n      \u003cth\u003e1900\u003c/th\u003e\n      \u003ctd\u003e2022-11-28\u003c/td\u003e\n      \u003ctd\u003e11684.07\u003c/td\u003e\n      \u003ctd\u003e11994.26\u003c/td\u003e\n      \u003ctd\u003e25198780000\u003c/td\u003e\n      \u003ctd\u003e2022-48\u003c/td\u003e\n      \u003ctd\u003e12453.48\u003c/td\u003e\n      \u003ctd\u003e0\u003c/td\u003e\n      \u003ctd\u003e-3.69\u003c/td\u003e\n    \u003c/tr\u003e\n    \u003ctr\u003e\n      \u003cth\u003e1901\u003c/th\u003e\n      \u003ctd\u003e2022-12-05\u003c/td\u003e\n      \u003ctd\u003e11899.54\u003c/td\u003e\n      \u003ctd\u003e11563.33\u003c/td\u003e\n      \u003ctd\u003e22186460000\u003c/td\u003e\n      \u003ctd\u003e2022-49\u003c/td\u003e\n      \u003ctd\u003e12396.62\u003c/td\u003e\n      \u003ctd\u003e0\u003c/td\u003e\n      \u003ctd\u003e-6.72\u003c/td\u003e\n    \u003c/tr\u003e\n    \u003ctr\u003e\n      \u003cth\u003e1902\u003c/th\u003e\n      \u003ctd\u003e2022-12-12\u003c/td\u003e\n      \u003ctd\u003e11572.26\u003c/td\u003e\n      \u003ctd\u003e11243.72\u003c/td\u003e\n      \u003ctd\u003e29946270000\u003c/td\u003e\n      \u003ctd\u003e2022-50\u003c/td\u003e\n      \u003ctd\u003e12345.16\u003c/td\u003e\n      \u003ctd\u003e0\u003c/td\u003e\n      \u003ctd\u003e-8.92\u003c/td\u003e\n    \u003c/tr\u003e\n    \u003ctr\u003e\n      \u003cth\u003e1903\u003c/th\u003e\n      \u003ctd\u003e2022-12-19\u003c/td\u003e\n      \u003ctd\u003e11243.00\u003c/td\u003e\n      \u003ctd\u003e10985.45\u003c/td\u003e\n      \u003ctd\u003e22410180000\u003c/td\u003e\n      \u003ctd\u003e2022-51\u003c/td\u003e\n      \u003ctd\u003e12259.30\u003c/td\u003e\n      \u003ctd\u003e0\u003c/td\u003e\n      \u003ctd\u003e-10.39\u003c/td\u003e\n    \u003c/tr\u003e\n    \u003ctr\u003e\n      \u003cth\u003e1904\u003c/th\u003e\n      \u003ctd\u003e2022-12-26\u003c/td\u003e\n      \u003ctd\u003e10944.30\u003c/td\u003e\n      \u003ctd\u003e10939.76\u003c/td\u003e\n      \u003ctd\u003e15783390000\u003c/td\u003e\n      \u003ctd\u003e2022-52\u003c/td\u003e\n      \u003ctd\u003e12163.93\u003c/td\u003e\n      \u003ctd\u003e0\u003c/td\u003e\n      \u003ctd\u003e-10.06\u003c/td\u003e\n    \u003c/tr\u003e\n    \u003ctr\u003e\n      \u003cth\u003e1905\u003c/th\u003e\n      \u003ctd\u003e2023-01-02\u003c/td\u003e\n      \u003ctd\u003e11038.42\u003c/td\u003e\n      \u003ctd\u003e11040.35\u003c/td\u003e\n      \u003ctd\u003e19830080000\u003c/td\u003e\n      \u003ctd\u003e2023-01\u003c/td\u003e\n      \u003ctd\u003e12068.41\u003c/td\u003e\n      \u003ctd\u003e0\u003c/td\u003e\n      \u003ctd\u003e-8.52\u003c/td\u003e\n    \u003c/tr\u003e\n    \u003ctr\u003e\n      \u003cth\u003e1906\u003c/th\u003e\n      \u003ctd\u003e2023-01-09\u003c/td\u003e\n      \u003ctd\u003e11133.07\u003c/td\u003e\n      \u003ctd\u003e11541.48\u003c/td\u003e\n      \u003ctd\u003e25886490000\u003c/td\u003e\n      \u003ctd\u003e2023-02\u003c/td\u003e\n      \u003ctd\u003e11998.77\u003c/td\u003e\n      \u003ctd\u003e0\u003c/td\u003e\n      \u003ctd\u003e-3.81\u003c/td\u003e\n    \u003c/tr\u003e\n    \u003ctr\u003e\n      \u003cth\u003e1907\u003c/th\u003e\n      \u003ctd\u003e2023-01-16\u003c/td\u003e\n      \u003ctd\u003e11531.54\u003c/td\u003e\n      \u003ctd\u003e11619.03\u003c/td\u003e\n      \u003ctd\u003e21067950000\u003c/td\u003e\n      \u003ctd\u003e2023-03\u003c/td\u003e\n      \u003ctd\u003e11941.91\u003c/td\u003e\n      \u003ctd\u003e0\u003c/td\u003e\n      \u003ctd\u003e-2.70\u003c/td\u003e\n    \u003c/tr\u003e\n    \u003ctr\u003e\n      \u003cth\u003e1908\u003c/th\u003e\n      \u003ctd\u003e2023-01-20\u003c/td\u003e\n      \u003ctd\u003e11363.90\u003c/td\u003e\n      \u003ctd\u003e11619.03\u003c/td\u003e\n      \u003ctd\u003e1098966000\u003c/td\u003e\n      \u003ctd\u003e2023-03\u003c/td\u003e\n      \u003ctd\u003e11898.47\u003c/td\u003e\n      \u003ctd\u003e0\u003c/td\u003e\n      \u003ctd\u003e-2.35\u003c/td\u003e\n    \u003c/tr\u003e\n  \u003c/tbody\u003e\n\u003c/table\u003e\n\u003c/div\u003e"
          },
          "metadata": {}
        }
      ]
    },
    {
      "cell_type": "markdown",
      "metadata": {},
      "source": [
        "# Distances et variations de prix Ln #"
      ]
    },
    {
      "execution_count": 31,
      "cell_type": "code",
      "metadata": {},
      "source": [
        "hist[\"Last_wk_close\"] \u003d hist.Close.shift(1)"
      ],
      "outputs": []
    },
    {
      "execution_count": 32,
      "cell_type": "code",
      "metadata": {},
      "source": [
        "hist.dropna(subset\u003d[\u0027Last_wk_close\u0027], inplace\u003dTrue)\nhist.reset_index(drop\u003dTrue, inplace\u003dTrue)"
      ],
      "outputs": []
    },
    {
      "execution_count": 33,
      "cell_type": "code",
      "metadata": {},
      "source": [
        "def ln_indicators(df):\n    \u0027\u0027\u0027Calulates return and relative distance with natural log instead of % variation\u0027\u0027\u0027\n\n    df_calc \u003d df[[\"Close\",\"SMA_40\",\"Last_wk_close\"]].copy()\n\n    df_calc[\"ln_diff\"] \u003d ln(df.Close/df.Last_wk_close)*100\n    df_calc[\"ln_diff\"] \u003d df_calc[\"ln_diff\"].apply(lambda x: round(x,2))\n\n    df_calc[\"ln_relative_distance\"] \u003d ln(df.Close/df.SMA_40)*100\n    df_calc[\"ln_relative_distance\"] \u003d df_calc[\"ln_relative_distance\"].apply(lambda x: round(x,2))\n\n\n    return df_calc[\"ln_diff\"], df_calc[\"ln_relative_distance\"]"
      ],
      "outputs": []
    },
    {
      "execution_count": 34,
      "cell_type": "code",
      "metadata": {},
      "source": [
        "hist[\"ln_Return\"], hist[\"ln_Relative_distance\"] \u003d ln_indicators(hist)"
      ],
      "outputs": []
    },
    {
      "execution_count": 35,
      "cell_type": "code",
      "metadata": {},
      "source": [
        "hist.drop(columns\u003d[\"Last_wk_close\",\"Open\",\"Volume\"],inplace\u003dTrue)"
      ],
      "outputs": []
    },
    {
      "execution_count": 36,
      "cell_type": "code",
      "metadata": {},
      "source": [
        "hist.tail()"
      ],
      "outputs": [
        {
          "output_type": "execute_result",
          "execution_count": 36,
          "data": {
            "text/plain": "            Date     Close Num_Semaine    SMA_40  Position  Relative_distance  ln_Return  ln_Relative_distance\n1903  2022-12-26  10939.76     2022-52  12163.93         0             -10.06      -0.42                -10.61\n1904  2023-01-02  11040.35     2023-01  12068.41         0              -8.52       0.92                 -8.90\n1905  2023-01-09  11541.48     2023-02  11998.77         0              -3.81       4.44                 -3.89\n1906  2023-01-16  11619.03     2023-03  11941.91         0              -2.70       0.67                 -2.74\n1907  2023-01-20  11619.03     2023-03  11898.47         0              -2.35       0.00                 -2.38",
            "text/html": "\u003cdiv\u003e\n\u003cstyle scoped\u003e\n    .dataframe tbody tr th:only-of-type {\n        vertical-align: middle;\n    }\n\n    .dataframe tbody tr th {\n        vertical-align: top;\n    }\n\n    .dataframe thead th {\n        text-align: right;\n    }\n\u003c/style\u003e\n\u003ctable border\u003d\"1\" class\u003d\"dataframe\"\u003e\n  \u003cthead\u003e\n    \u003ctr style\u003d\"text-align: right;\"\u003e\n      \u003cth\u003e\u003c/th\u003e\n      \u003cth\u003eDate\u003c/th\u003e\n      \u003cth\u003eClose\u003c/th\u003e\n      \u003cth\u003eNum_Semaine\u003c/th\u003e\n      \u003cth\u003eSMA_40\u003c/th\u003e\n      \u003cth\u003ePosition\u003c/th\u003e\n      \u003cth\u003eRelative_distance\u003c/th\u003e\n      \u003cth\u003eln_Return\u003c/th\u003e\n      \u003cth\u003eln_Relative_distance\u003c/th\u003e\n    \u003c/tr\u003e\n  \u003c/thead\u003e\n  \u003ctbody\u003e\n    \u003ctr\u003e\n      \u003cth\u003e1903\u003c/th\u003e\n      \u003ctd\u003e2022-12-26\u003c/td\u003e\n      \u003ctd\u003e10939.76\u003c/td\u003e\n      \u003ctd\u003e2022-52\u003c/td\u003e\n      \u003ctd\u003e12163.93\u003c/td\u003e\n      \u003ctd\u003e0\u003c/td\u003e\n      \u003ctd\u003e-10.06\u003c/td\u003e\n      \u003ctd\u003e-0.42\u003c/td\u003e\n      \u003ctd\u003e-10.61\u003c/td\u003e\n    \u003c/tr\u003e\n    \u003ctr\u003e\n      \u003cth\u003e1904\u003c/th\u003e\n      \u003ctd\u003e2023-01-02\u003c/td\u003e\n      \u003ctd\u003e11040.35\u003c/td\u003e\n      \u003ctd\u003e2023-01\u003c/td\u003e\n      \u003ctd\u003e12068.41\u003c/td\u003e\n      \u003ctd\u003e0\u003c/td\u003e\n      \u003ctd\u003e-8.52\u003c/td\u003e\n      \u003ctd\u003e0.92\u003c/td\u003e\n      \u003ctd\u003e-8.90\u003c/td\u003e\n    \u003c/tr\u003e\n    \u003ctr\u003e\n      \u003cth\u003e1905\u003c/th\u003e\n      \u003ctd\u003e2023-01-09\u003c/td\u003e\n      \u003ctd\u003e11541.48\u003c/td\u003e\n      \u003ctd\u003e2023-02\u003c/td\u003e\n      \u003ctd\u003e11998.77\u003c/td\u003e\n      \u003ctd\u003e0\u003c/td\u003e\n      \u003ctd\u003e-3.81\u003c/td\u003e\n      \u003ctd\u003e4.44\u003c/td\u003e\n      \u003ctd\u003e-3.89\u003c/td\u003e\n    \u003c/tr\u003e\n    \u003ctr\u003e\n      \u003cth\u003e1906\u003c/th\u003e\n      \u003ctd\u003e2023-01-16\u003c/td\u003e\n      \u003ctd\u003e11619.03\u003c/td\u003e\n      \u003ctd\u003e2023-03\u003c/td\u003e\n      \u003ctd\u003e11941.91\u003c/td\u003e\n      \u003ctd\u003e0\u003c/td\u003e\n      \u003ctd\u003e-2.70\u003c/td\u003e\n      \u003ctd\u003e0.67\u003c/td\u003e\n      \u003ctd\u003e-2.74\u003c/td\u003e\n    \u003c/tr\u003e\n    \u003ctr\u003e\n      \u003cth\u003e1907\u003c/th\u003e\n      \u003ctd\u003e2023-01-20\u003c/td\u003e\n      \u003ctd\u003e11619.03\u003c/td\u003e\n      \u003ctd\u003e2023-03\u003c/td\u003e\n      \u003ctd\u003e11898.47\u003c/td\u003e\n      \u003ctd\u003e0\u003c/td\u003e\n      \u003ctd\u003e-2.35\u003c/td\u003e\n      \u003ctd\u003e0.00\u003c/td\u003e\n      \u003ctd\u003e-2.38\u003c/td\u003e\n    \u003c/tr\u003e\n  \u003c/tbody\u003e\n\u003c/table\u003e\n\u003c/div\u003e"
          },
          "metadata": {}
        }
      ]
    },
    {
      "cell_type": "markdown",
      "metadata": {},
      "source": [
        "# Colonnes Lags"
      ]
    },
    {
      "execution_count": 38,
      "cell_type": "code",
      "metadata": {},
      "source": [
        "hist[\"ln_Return_lag1\"] \u003d hist[\"ln_Return\"].shift(1)\nhist[\"ln_Return_lag4\"] \u003d hist[\"ln_Return\"].shift(4)\n\nhist[\"ln_Rel_dist_lag1\"] \u003d hist[\"ln_Relative_distance\"].shift(1)\nhist[\"ln_Rel_dist_lag1\"] \u003d hist[\"ln_Relative_distance\"].shift(4)"
      ],
      "outputs": []
    },
    {
      "execution_count": 40,
      "cell_type": "code",
      "metadata": {},
      "source": [
        "hist.dropna(inplace\u003dTrue)\nhist.reset_index(drop\u003dTrue, inplace\u003dTrue)"
      ],
      "outputs": []
    },
    {
      "execution_count": 41,
      "cell_type": "code",
      "metadata": {},
      "source": [
        "hist.tail(10)"
      ],
      "outputs": [
        {
          "output_type": "execute_result",
          "execution_count": 41,
          "data": {
            "text/plain": "            Date     Close Num_Semaine    SMA_40  Position  Relative_distance  ln_Return  ln_Relative_distance  ln_Return_lag1  ln_Return_lag4  ln_Rel_dist_lag1\n1894  2022-11-21  11756.03     2022-47  12508.35         0              -6.01       0.67                 -6.20           -1.19            2.06            -10.24\n1895  2022-11-28  11994.26     2022-48  12453.48         0              -3.69       2.01                 -3.76            0.67           -6.15            -15.69\n1896  2022-12-05  11563.33     2022-49  12396.62         0              -6.72      -3.66                 -6.96            2.01            8.47             -6.65\n1897  2022-12-12  11243.72     2022-50  12345.16         0              -8.92      -2.80                 -9.35           -3.66           -1.19             -7.33\n1898  2022-12-19  10985.45     2022-51  12259.30         0             -10.39      -2.32                -10.97           -2.80            0.67             -6.20\n1899  2022-12-26  10939.76     2022-52  12163.93         0             -10.06      -0.42                -10.61           -2.32            2.01             -3.76\n1900  2023-01-02  11040.35     2023-01  12068.41         0              -8.52       0.92                 -8.90           -0.42           -3.66             -6.96\n1901  2023-01-09  11541.48     2023-02  11998.77         0              -3.81       4.44                 -3.89            0.92           -2.80             -9.35\n1902  2023-01-16  11619.03     2023-03  11941.91         0              -2.70       0.67                 -2.74            4.44           -2.32            -10.97\n1903  2023-01-20  11619.03     2023-03  11898.47         0              -2.35       0.00                 -2.38            0.67           -0.42            -10.61",
            "text/html": "\u003cdiv\u003e\n\u003cstyle scoped\u003e\n    .dataframe tbody tr th:only-of-type {\n        vertical-align: middle;\n    }\n\n    .dataframe tbody tr th {\n        vertical-align: top;\n    }\n\n    .dataframe thead th {\n        text-align: right;\n    }\n\u003c/style\u003e\n\u003ctable border\u003d\"1\" class\u003d\"dataframe\"\u003e\n  \u003cthead\u003e\n    \u003ctr style\u003d\"text-align: right;\"\u003e\n      \u003cth\u003e\u003c/th\u003e\n      \u003cth\u003eDate\u003c/th\u003e\n      \u003cth\u003eClose\u003c/th\u003e\n      \u003cth\u003eNum_Semaine\u003c/th\u003e\n      \u003cth\u003eSMA_40\u003c/th\u003e\n      \u003cth\u003ePosition\u003c/th\u003e\n      \u003cth\u003eRelative_distance\u003c/th\u003e\n      \u003cth\u003eln_Return\u003c/th\u003e\n      \u003cth\u003eln_Relative_distance\u003c/th\u003e\n      \u003cth\u003eln_Return_lag1\u003c/th\u003e\n      \u003cth\u003eln_Return_lag4\u003c/th\u003e\n      \u003cth\u003eln_Rel_dist_lag1\u003c/th\u003e\n    \u003c/tr\u003e\n  \u003c/thead\u003e\n  \u003ctbody\u003e\n    \u003ctr\u003e\n      \u003cth\u003e1894\u003c/th\u003e\n      \u003ctd\u003e2022-11-21\u003c/td\u003e\n      \u003ctd\u003e11756.03\u003c/td\u003e\n      \u003ctd\u003e2022-47\u003c/td\u003e\n      \u003ctd\u003e12508.35\u003c/td\u003e\n      \u003ctd\u003e0\u003c/td\u003e\n      \u003ctd\u003e-6.01\u003c/td\u003e\n      \u003ctd\u003e0.67\u003c/td\u003e\n      \u003ctd\u003e-6.20\u003c/td\u003e\n      \u003ctd\u003e-1.19\u003c/td\u003e\n      \u003ctd\u003e2.06\u003c/td\u003e\n      \u003ctd\u003e-10.24\u003c/td\u003e\n    \u003c/tr\u003e\n    \u003ctr\u003e\n      \u003cth\u003e1895\u003c/th\u003e\n      \u003ctd\u003e2022-11-28\u003c/td\u003e\n      \u003ctd\u003e11994.26\u003c/td\u003e\n      \u003ctd\u003e2022-48\u003c/td\u003e\n      \u003ctd\u003e12453.48\u003c/td\u003e\n      \u003ctd\u003e0\u003c/td\u003e\n      \u003ctd\u003e-3.69\u003c/td\u003e\n      \u003ctd\u003e2.01\u003c/td\u003e\n      \u003ctd\u003e-3.76\u003c/td\u003e\n      \u003ctd\u003e0.67\u003c/td\u003e\n      \u003ctd\u003e-6.15\u003c/td\u003e\n      \u003ctd\u003e-15.69\u003c/td\u003e\n    \u003c/tr\u003e\n    \u003ctr\u003e\n      \u003cth\u003e1896\u003c/th\u003e\n      \u003ctd\u003e2022-12-05\u003c/td\u003e\n      \u003ctd\u003e11563.33\u003c/td\u003e\n      \u003ctd\u003e2022-49\u003c/td\u003e\n      \u003ctd\u003e12396.62\u003c/td\u003e\n      \u003ctd\u003e0\u003c/td\u003e\n      \u003ctd\u003e-6.72\u003c/td\u003e\n      \u003ctd\u003e-3.66\u003c/td\u003e\n      \u003ctd\u003e-6.96\u003c/td\u003e\n      \u003ctd\u003e2.01\u003c/td\u003e\n      \u003ctd\u003e8.47\u003c/td\u003e\n      \u003ctd\u003e-6.65\u003c/td\u003e\n    \u003c/tr\u003e\n    \u003ctr\u003e\n      \u003cth\u003e1897\u003c/th\u003e\n      \u003ctd\u003e2022-12-12\u003c/td\u003e\n      \u003ctd\u003e11243.72\u003c/td\u003e\n      \u003ctd\u003e2022-50\u003c/td\u003e\n      \u003ctd\u003e12345.16\u003c/td\u003e\n      \u003ctd\u003e0\u003c/td\u003e\n      \u003ctd\u003e-8.92\u003c/td\u003e\n      \u003ctd\u003e-2.80\u003c/td\u003e\n      \u003ctd\u003e-9.35\u003c/td\u003e\n      \u003ctd\u003e-3.66\u003c/td\u003e\n      \u003ctd\u003e-1.19\u003c/td\u003e\n      \u003ctd\u003e-7.33\u003c/td\u003e\n    \u003c/tr\u003e\n    \u003ctr\u003e\n      \u003cth\u003e1898\u003c/th\u003e\n      \u003ctd\u003e2022-12-19\u003c/td\u003e\n      \u003ctd\u003e10985.45\u003c/td\u003e\n      \u003ctd\u003e2022-51\u003c/td\u003e\n      \u003ctd\u003e12259.30\u003c/td\u003e\n      \u003ctd\u003e0\u003c/td\u003e\n      \u003ctd\u003e-10.39\u003c/td\u003e\n      \u003ctd\u003e-2.32\u003c/td\u003e\n      \u003ctd\u003e-10.97\u003c/td\u003e\n      \u003ctd\u003e-2.80\u003c/td\u003e\n      \u003ctd\u003e0.67\u003c/td\u003e\n      \u003ctd\u003e-6.20\u003c/td\u003e\n    \u003c/tr\u003e\n    \u003ctr\u003e\n      \u003cth\u003e1899\u003c/th\u003e\n      \u003ctd\u003e2022-12-26\u003c/td\u003e\n      \u003ctd\u003e10939.76\u003c/td\u003e\n      \u003ctd\u003e2022-52\u003c/td\u003e\n      \u003ctd\u003e12163.93\u003c/td\u003e\n      \u003ctd\u003e0\u003c/td\u003e\n      \u003ctd\u003e-10.06\u003c/td\u003e\n      \u003ctd\u003e-0.42\u003c/td\u003e\n      \u003ctd\u003e-10.61\u003c/td\u003e\n      \u003ctd\u003e-2.32\u003c/td\u003e\n      \u003ctd\u003e2.01\u003c/td\u003e\n      \u003ctd\u003e-3.76\u003c/td\u003e\n    \u003c/tr\u003e\n    \u003ctr\u003e\n      \u003cth\u003e1900\u003c/th\u003e\n      \u003ctd\u003e2023-01-02\u003c/td\u003e\n      \u003ctd\u003e11040.35\u003c/td\u003e\n      \u003ctd\u003e2023-01\u003c/td\u003e\n      \u003ctd\u003e12068.41\u003c/td\u003e\n      \u003ctd\u003e0\u003c/td\u003e\n      \u003ctd\u003e-8.52\u003c/td\u003e\n      \u003ctd\u003e0.92\u003c/td\u003e\n      \u003ctd\u003e-8.90\u003c/td\u003e\n      \u003ctd\u003e-0.42\u003c/td\u003e\n      \u003ctd\u003e-3.66\u003c/td\u003e\n      \u003ctd\u003e-6.96\u003c/td\u003e\n    \u003c/tr\u003e\n    \u003ctr\u003e\n      \u003cth\u003e1901\u003c/th\u003e\n      \u003ctd\u003e2023-01-09\u003c/td\u003e\n      \u003ctd\u003e11541.48\u003c/td\u003e\n      \u003ctd\u003e2023-02\u003c/td\u003e\n      \u003ctd\u003e11998.77\u003c/td\u003e\n      \u003ctd\u003e0\u003c/td\u003e\n      \u003ctd\u003e-3.81\u003c/td\u003e\n      \u003ctd\u003e4.44\u003c/td\u003e\n      \u003ctd\u003e-3.89\u003c/td\u003e\n      \u003ctd\u003e0.92\u003c/td\u003e\n      \u003ctd\u003e-2.80\u003c/td\u003e\n      \u003ctd\u003e-9.35\u003c/td\u003e\n    \u003c/tr\u003e\n    \u003ctr\u003e\n      \u003cth\u003e1902\u003c/th\u003e\n      \u003ctd\u003e2023-01-16\u003c/td\u003e\n      \u003ctd\u003e11619.03\u003c/td\u003e\n      \u003ctd\u003e2023-03\u003c/td\u003e\n      \u003ctd\u003e11941.91\u003c/td\u003e\n      \u003ctd\u003e0\u003c/td\u003e\n      \u003ctd\u003e-2.70\u003c/td\u003e\n      \u003ctd\u003e0.67\u003c/td\u003e\n      \u003ctd\u003e-2.74\u003c/td\u003e\n      \u003ctd\u003e4.44\u003c/td\u003e\n      \u003ctd\u003e-2.32\u003c/td\u003e\n      \u003ctd\u003e-10.97\u003c/td\u003e\n    \u003c/tr\u003e\n    \u003ctr\u003e\n      \u003cth\u003e1903\u003c/th\u003e\n      \u003ctd\u003e2023-01-20\u003c/td\u003e\n      \u003ctd\u003e11619.03\u003c/td\u003e\n      \u003ctd\u003e2023-03\u003c/td\u003e\n      \u003ctd\u003e11898.47\u003c/td\u003e\n      \u003ctd\u003e0\u003c/td\u003e\n      \u003ctd\u003e-2.35\u003c/td\u003e\n      \u003ctd\u003e0.00\u003c/td\u003e\n      \u003ctd\u003e-2.38\u003c/td\u003e\n      \u003ctd\u003e0.67\u003c/td\u003e\n      \u003ctd\u003e-0.42\u003c/td\u003e\n      \u003ctd\u003e-10.61\u003c/td\u003e\n    \u003c/tr\u003e\n  \u003c/tbody\u003e\n\u003c/table\u003e\n\u003c/div\u003e"
          },
          "metadata": {}
        }
      ]
    },
    {
      "cell_type": "markdown",
      "metadata": {},
      "source": [
        "# Ecriture #"
      ]
    },
    {
      "execution_count": 42,
      "cell_type": "code",
      "metadata": {},
      "source": [
        "# Write recipe outputs\nweekly_MA_enriched \u003d dataiku.Dataset(\"weekly_MA_enriched\")\nweekly_MA_enriched.write_with_schema(hist)"
      ],
      "outputs": [
        {
          "output_type": "stream",
          "text": "1904 rows successfully written (dhTYjeRkhm)\n",
          "name": "stdout"
        }
      ]
    }
  ]
}