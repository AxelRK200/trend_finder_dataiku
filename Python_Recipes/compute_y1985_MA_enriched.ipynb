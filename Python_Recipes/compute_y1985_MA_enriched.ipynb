{
  "metadata": {
    "kernelspec": {
      "name": "py-dku-venv-py_v39_finance",
      "display_name": "Python (env py_v39_finance)",
      "language": "python"
    },
    "associatedRecipe": "compute_y1985_MA_enriched",
    "creationTag": {
      "versionNumber": 0,
      "lastModifiedBy": {
        "login": "admin"
      },
      "lastModifiedOn": 1671536192295
    },
    "creator": "admin",
    "createdOn": 1671536192295,
    "tags": [
      "recipe-editor"
    ],
    "customFields": {},
    "hide_input": false,
    "language_info": {
      "name": "python",
      "version": "3.9.0",
      "mimetype": "text/x-python",
      "codemirror_mode": {
        "name": "ipython",
        "version": 3
      },
      "pygments_lexer": "ipython3",
      "nbconvert_exporter": "python",
      "file_extension": ".py"
    },
    "modifiedBy": "admin"
  },
  "nbformat": 4,
  "nbformat_minor": 1,
  "cells": [
    {
      "execution_count": 61,
      "cell_type": "code",
      "metadata": {},
      "source": [
        "# -*- coding: utf-8 -*-\nimport dataiku\nimport pandas as pd, numpy as np\nfrom dataiku import pandasutils as pdu"
      ],
      "outputs": []
    },
    {
      "execution_count": 62,
      "cell_type": "code",
      "metadata": {},
      "source": [
        "# Read recipe inputs\ny1985_MA \u003d dataiku.Dataset(\"y1985_MA\")\ndf \u003d y1985_MA.get_dataframe()"
      ],
      "outputs": []
    },
    {
      "cell_type": "markdown",
      "metadata": {},
      "source": [
        "## Functions ##"
      ]
    },
    {
      "execution_count": 63,
      "cell_type": "code",
      "metadata": {},
      "source": [
        "def position_indicator(col1, col2):\n    \u0027\u0027\u0027Position indicator relative to another (E)MA\n    0 : below ; 1 : above\u0027\u0027\u0027\n\n    # Returns a boolean series\n    s_comparison \u003d col1 \u003e col2\n\n    # convert true/false to 0/1\n    return s_comparison.astype(int)"
      ],
      "outputs": []
    },
    {
      "execution_count": 64,
      "cell_type": "code",
      "metadata": {},
      "source": [
        "def get_slope(ma_col):\n    \u0027\u0027\u0027price difference / nb days (3)\n    Normalized to initial starting point observation\u0027\u0027\u0027\n\n    slope \u003d ma_col - ma_col.shift(3)\n    normalized_slope \u003d round((slope/ma_col.shift(3)*100),1)\n\n    return normalized_slope"
      ],
      "outputs": []
    },
    {
      "execution_count": 65,
      "cell_type": "code",
      "metadata": {},
      "source": [
        "def compute_distance(col1,col2):\n    \u0027\u0027\u0027Compute relative distance between Close / (E)MA or between (E)MA\n    Relative to MA or slower MA.\n    Must be passed as 1st parameter\u0027\u0027\u0027\n\n    return round( ((col2 - col1)/col1)*100 ,2)"
      ],
      "outputs": []
    },
    {
      "execution_count": 96,
      "cell_type": "code",
      "metadata": {},
      "source": [
        "def stdev_breakout(col, w):\n    \u0027\u0027\u0027Measures if last price variation is above stdev 10, 20 days\n    1 if breakout observed\u0027\u0027\u0027\n    \n    s_std \u003d col.rolling(w).std()\n    s_price_var \u003d abs(col - col.shift(1))\n    \n    s_breakout \u003d s_price_var \u003e s_std\n    return s_breakout.astype(int)"
      ],
      "outputs": []
    },
    {
      "cell_type": "markdown",
      "metadata": {},
      "source": [
        "## Study 1 : 3 MA relative positions ##\n4-9-18 and 9-20-200"
      ]
    },
    {
      "execution_count": 66,
      "cell_type": "code",
      "metadata": {},
      "source": [
        "df[\"position_MA4_over_MA9\"] \u003d position_indicator(df.MA4, df.MA9)\ndf[\"position_MA4_over_MA18\"] \u003d position_indicator(df.MA4, df.MA18)\ndf[\"position_MA9_over_MA18\"] \u003d position_indicator(df.MA9, df.MA18)\n\ndf[\"position_MA9_over_MA20\"] \u003d position_indicator(df.MA9, df.MA20)\ndf[\"position_MA9_over_MA200\"] \u003d position_indicator(df.MA9, df.MA200)\ndf[\"position_MA20_over_MA200\"] \u003d position_indicator(df.MA20, df.MA200)"
      ],
      "outputs": []
    },
    {
      "cell_type": "markdown",
      "metadata": {},
      "source": [
        "## Study 2 : O\u0027Reilly Python for Finance ##"
      ]
    },
    {
      "execution_count": 67,
      "cell_type": "code",
      "metadata": {},
      "source": [
        "# Best combination after testing in book\ndf[\"OReilly_MA40_over_MA149\"] \u003d position_indicator(df.MA40, df.MA149)"
      ],
      "outputs": []
    },
    {
      "cell_type": "markdown",
      "metadata": {},
      "source": [
        "## Study 3 : Elder\u0027s EMA ##"
      ]
    },
    {
      "execution_count": 68,
      "cell_type": "code",
      "metadata": {},
      "source": [
        "df[\"Elder_EMA13_EMA26\"] \u003d position_indicator(df.EMA13, df.EMA26)"
      ],
      "outputs": []
    },
    {
      "cell_type": "markdown",
      "metadata": {},
      "source": [
        "## Study 4 : Oliver Kell ##\nFinancial Wisdom, (part of) Best trading strategy 2021"
      ]
    },
    {
      "execution_count": 69,
      "cell_type": "code",
      "metadata": {},
      "source": [
        "df[\"Kell_EMA10_over_EMA20\"] \u003d position_indicator(df.EMA10, df.EMA20)\ndf[\"Kell_EMA10_over_EMA30\"] \u003d position_indicator(df.EMA10, df.EMA30)\ndf[\"Kell_EMA20_over_EMA30\"] \u003d position_indicator(df.EMA20, df.EMA30)"
      ],
      "outputs": []
    },
    {
      "cell_type": "markdown",
      "metadata": {},
      "source": [
        "## Study 5 : (E)MA slopes ##"
      ]
    },
    {
      "execution_count": 70,
      "cell_type": "code",
      "metadata": {},
      "source": [
        "df[\"MA4_slope\"] \u003d get_slope(df.MA4)\ndf[\"MA9_slope\"] \u003d get_slope(df.MA9)\ndf[\"EMA20_slope\"] \u003d get_slope(df.EMA20)\ndf[\"EMA30_slope\"] \u003d get_slope(df.EMA30)"
      ],
      "outputs": []
    },
    {
      "execution_count": 71,
      "cell_type": "code",
      "metadata": {},
      "source": [
        "# Sum of slopes\ndf[\"Slopes_sum\"] \u003d round(df[\"MA4_slope\"] + df[\"MA9_slope\"] + df[\"EMA20_slope\"]+ df[\"EMA30_slope\"] ,2)\ndf[\"Slopes_avg\"] \u003d round(df[\"Slopes_sum\"]/4, 2)"
      ],
      "outputs": []
    },
    {
      "execution_count": 72,
      "cell_type": "code",
      "metadata": {},
      "source": [
        "df \u003d df.loc[3:]"
      ],
      "outputs": []
    },
    {
      "cell_type": "markdown",
      "metadata": {},
      "source": [
        "## Study 6 : Relative Price Position to (E)MAs ##"
      ]
    },
    {
      "execution_count": 73,
      "cell_type": "code",
      "metadata": {},
      "source": [
        "df[\"dist_Close_MA9\"] \u003d compute_distance(df.MA9,df.Close)\ndf[\"dist_Close_MA18\"] \u003d compute_distance(df.MA18,df.Close)\ndf[\"dist_Close_MA40\"] \u003d compute_distance(df.MA40,df.Close)"
      ],
      "outputs": []
    },
    {
      "cell_type": "markdown",
      "metadata": {},
      "source": [
        "## Study 7 : Relative MA distance ##"
      ]
    },
    {
      "execution_count": 74,
      "cell_type": "code",
      "metadata": {},
      "source": [
        "df[\"dist_EMA13_EMA26\"] \u003d compute_distance(df.EMA26,df.EMA13)\ndf[\"dist_EMA20_EMA30\"] \u003d compute_distance(df.EMA30,df.EMA20)\n\ndf[\"dist_MA4_MA18\"] \u003d compute_distance(df.MA18,df.MA4)\ndf[\"dist_MA9_MA40\"] \u003d compute_distance(df.MA40,df.MA9)"
      ],
      "outputs": []
    },
    {
      "cell_type": "markdown",
      "metadata": {},
      "source": [
        "## Study 8 : EMA StDev breakout ##"
      ]
    },
    {
      "execution_count": 101,
      "cell_type": "code",
      "metadata": {},
      "source": [
        "# Adding rolling sum to indicate that breakout occured at least once, max 5 days ago\ndf[\"StDev_breakout_10\"] \u003d stdev_breakout(df.Close, 10).rolling(5).sum()\ndf[\"StDev_breakout_20\"] \u003d stdev_breakout(df.Close, 20).rolling(5).sum()"
      ],
      "outputs": []
    },
    {
      "execution_count": 104,
      "cell_type": "code",
      "metadata": {},
      "source": [
        "df \u003d df.loc[7:]\ndf.reset_index(drop\u003dTrue, inplace\u003dTrue)"
      ],
      "outputs": []
    },
    {
      "cell_type": "markdown",
      "metadata": {},
      "source": [
        "## End, write results to Flow ##"
      ]
    },
    {
      "execution_count": 0,
      "cell_type": "code",
      "metadata": {},
      "source": [
        "# Write recipe outputs\ny1985_MA_enriched \u003d dataiku.Dataset(\"y1985_MA_enriched\")\ny1985_MA_enriched.write_with_schema(df)"
      ],
      "outputs": []
    }
  ]
}