{
  "metadata": {
    "kernelspec": {
      "name": "py-dku-venv-py_v39_finance",
      "display_name": "Python (env py_v39_finance)",
      "language": "python"
    },
    "associatedRecipe": "compute_y1985_AT",
    "creator": "admin",
    "createdOn": 1656102813648,
    "tags": [
      "recipe-editor"
    ],
    "customFields": {},
    "hide_input": false,
    "language_info": {
      "name": "python",
      "version": "3.9.0",
      "mimetype": "text/x-python",
      "codemirror_mode": {
        "name": "ipython",
        "version": 3
      },
      "pygments_lexer": "ipython3",
      "nbconvert_exporter": "python",
      "file_extension": ".py"
    },
    "modifiedBy": "admin"
  },
  "nbformat": 4,
  "nbformat_minor": 1,
  "cells": [
    {
      "execution_count": 1,
      "cell_type": "code",
      "metadata": {},
      "source": [
        "# -*- coding: utf-8 -*-\nimport dataiku\nimport pandas as pd, numpy as np\nfrom dataiku import pandasutils as pdu\nfrom copy import copy\nimport statistics as stats\nimport math\nfrom ta.volume import MFIIndicator\nfrom ta.volatility import AverageTrueRange"
      ],
      "outputs": []
    },
    {
      "execution_count": 2,
      "cell_type": "code",
      "metadata": {},
      "source": [
        "# Read recipe inputs\nyfinance_ndx_hist_1985_daily \u003d dataiku.Dataset(\"yfinance_ndx_hist_1985_daily\")\ndf_source \u003d yfinance_ndx_hist_1985_daily.get_dataframe()"
      ],
      "outputs": []
    },
    {
      "execution_count": 3,
      "cell_type": "code",
      "metadata": {},
      "source": [
        "# Trend indicator, équivalent de l\u0027affichage couleur\ndef trend_indicator(trend):\n    if trend \u003e 0 :\n        # Uptrend\n        x \u003d 1\n    elif trend \u003c 0 :\n        # Downtrend\n        x \u003d -1\n    else :\n        # Range\n        x \u003d 0\n    return x"
      ],
      "outputs": []
    },
    {
      "execution_count": 14,
      "cell_type": "code",
      "metadata": {},
      "source": [
        "# Defintion fonction\ndef generate_alphatrend(df_in, mfi_seuil, mfi_seuil_entry, atr_l, m):\n    \u0027\u0027\u0027Paramètres d\u0027entrée : longueur MFI, longueur ATR, multiplier\n    Retourne les colonnes Alphatrend, Alphatrend +2, signaux achat/vente\n    :mfi_seuil \u003d période MFI servant à délimiter up/down de l\u0027alphatrend\n    :mfi_trigger \u003d période MFI pour recherche crossover, leading entry\u0027\u0027\u0027\n\n    df \u003d df_in.copy()\n\n    # Colonnes MFI\n    s_mfi \u003d MFIIndicator(high\u003ddf.High, low\u003ddf.Low, close\u003ddf.Close, volume\u003ddf.Volume, window\u003dmfi_seuil).money_flow_index()\n    df[\"MFI_ref\"] \u003d s_mfi\n\n    # Colonne ATR\n    s_atr \u003d AverageTrueRange(high\u003ddf.High, low\u003ddf.Low, close\u003ddf.Close, window\u003datr_l).average_true_range()\n    df[\"ATR\"] \u003d s_atr\n\n    # Lignes UpT et DownT\n    df[\"UpT_limit\"] \u003d df[\"Low\"] - df[\"ATR\"] * m\n    df[\"DownT_support\"] \u003d df[\"High\"] + df[\"ATR\"] * m\n\n    # Suppression des lignes sans signal, en début de DataFrame\n    df.dropna(inplace\u003dTrue)\n    df.reset_index(drop\u003dTrue, inplace\u003dTrue)\n\n    # \u003d\u003d\u003d\u003d\u003d\u003d\u003d\u003d\u003d\u003d\u003d\u003d\u003d\u003d\u003d\u003d\u003d\u003d\u003d\u003d\u003d\u003d\u003d\u003d\u003d\u003d\u003d\u003d\u003d\u003d\u003d\u003d\u003d\u003d\u003d\u003d\u003d\u003d\u003d\u003d\u003d\u003d\u003d\u003d\u003d\u003d\u003d\n    # Calcul Alphatrend, en tant que série\n    Alphatrend \u003d [0]\n\n    for i in range (1, df.shape[0]):\n        # Cas Uptrend\n        if df.at[i,\"MFI_ref\"] \u003e\u003d mfi_seuil_entry :\n            if df.at[i,\"UpT_limit\"] \u003c Alphatrend[-1] :\n                # Flat\n                Alphatrend.append(Alphatrend[-1])\n            else :\n                # Trailing stop loss Up\n                Alphatrend.append(df.at[i,\"UpT_limit\"])\n\n        # Cas Downtrend, MFI \u003c 50\n        else :\n            if df.at[i,\"DownT_support\"] \u003e Alphatrend[-1] :\n                # Flat\n                Alphatrend.append(Alphatrend[-1])\n            else :\n                # Trailing stop loss Down\n                Alphatrend.append(df.at[i,\"DownT_support\"])\n\n    # \u003d\u003d\u003d\u003d\u003d\u003d\u003d\u003d\u003d\u003d\u003d\u003d\u003d\u003d\u003d\u003d\u003d\u003d\u003d\u003d\u003d\u003d\u003d\u003d\u003d\u003d\u003d\u003d\u003d\u003d\u003d\u003d\u003d\u003d\u003d\u003d\u003d\u003d\u003d\u003d\u003d\u003d\u003d\u003d\u003d\u003d\u003d\n    # Ajout des lignes k1 et k2 en tant que colonnes\n    if df.shape[0] \u003d\u003d len(Alphatrend):\n        df[\"Alphatrend_k1\"] \u003d Alphatrend\n        # Ligne k2 décalée de 2j\n        Alphatrend2 \u003d df[\"Alphatrend_k1\"].shift(periods\u003d2, fill_value\u003d0)\n        df[\"Alphatrend_k2\"] \u003d Alphatrend2\n        # Trend\n        df[\"Trend\"] \u003d df.Alphatrend_k1 - df.Alphatrend_k2\n        df[\"Trend\"] \u003d df[\"Trend\"].apply(trend_indicator)\n    else :\n        print(\"Erreur lors de la génération des lignes Alphatrend\")\n\n    # \u003d\u003d\u003d\u003d\u003d\u003d\u003d\u003d\u003d\u003d\u003d\u003d\u003d\u003d\u003d\u003d\u003d\u003d\u003d\u003d\u003d\u003d\u003d\u003d\u003d\u003d\u003d\u003d\u003d\u003d\u003d\u003d\u003d\u003d\u003d\u003d\u003d\u003d\u003d\u003d\u003d\u003d\u003d\u003d\u003d\u003d\u003d\n    # Génération des signaux d\u0027achat/vente\n    signal \u003d [np.nan]\n\n    for t in range (1, df.shape[0]):\n        if (df.at[t,\"Alphatrend_k1\"] \u003e df.at[t,\"Alphatrend_k2\"]) and (df.at[t-1,\"Alphatrend_k1\"] \u003c\u003d df.at[t-1,\"Alphatrend_k2\"]):\n            # Buy Signal\n            signal.append(1)\n        elif (df.at[t,\"Alphatrend_k1\"] \u003c df.at[t,\"Alphatrend_k2\"]) and (df.at[t-1,\"Alphatrend_k1\"] \u003e\u003d df.at[t-1,\"Alphatrend_k2\"]):\n            # Sell Signal\n            signal.append(-1)\n        else :\n            # No Signal\n            signal.append(0)\n\n    # Ajout des signaux en tant que colone\n    if len(signal) \u003d\u003d df.shape[0]:\n        df[\"Signal\"] \u003d signal\n    else :\n        print(\"erreur lors de la génération des signaux achat / vente.\")\n\n    # Distance relative du prix de cloture par rapport à k1\n    df[\"dCk1\"] \u003d round( (df[\"Close\"] - df[\"Alphatrend_k1\"]) / df[\"Close\"], 2)\n    \n    \n    # Spécification des colonnes avec les paramètres d\u0027entrée\n    col_ref \u003d \"MFIp\" + str(mfi_seuil) + \"s\" + str(mfi_seuil_entry) + \"_ATR\" + str(atr_l) + \"_m\" + str(m)\n    \n    #df.drop(columns\u003d[\"Open\",\"High\",\"Low\",\"Close\",\"Volume\",\"MFI_ref\",\"ATR\",\"UpT_limit\",\"DownT_support\"], inplace\u003dTrue)\n    df \u003d df[[\"Date\",\"dCk1\",\"Trend\",\"Signal\"]]\n    df.columns\u003d[\"Date\", \"dCk1_\"+col_ref, \"trend_\"+col_ref, \"signal_\"+col_ref, ]\n    \n    return df"
      ],
      "outputs": []
    },
    {
      "execution_count": 15,
      "cell_type": "code",
      "metadata": {},
      "source": [
        "#Batterie de valeurs à générer\nd_AT_params \u003d {\n    \"MFI_p\" : [12, 14, 14, 14, 17, 17],\n    \"MFI_s\" : [54, 50, 50, 50, 54, 38],\n    \"ATR\" : [14, 14, 14, 14, 14, 14],\n    \"mult\" : [1, 1, 0.75, 1.25, 1, 1]\n}"
      ],
      "outputs": []
    },
    {
      "execution_count": 21,
      "cell_type": "code",
      "metadata": {},
      "source": [
        "df_alphatrends \u003d df_source[[\"Date\"]]\n\nfor e in range (0, len(d_AT_params[\"MFI_p\"]) ):\n    df_temp \u003d generate_alphatrend(\n        df_source, d_AT_params[\"MFI_p\"][e], \n        d_AT_params[\"MFI_s\"][e], \n        d_AT_params[\"ATR\"][e], \n        d_AT_params[\"mult\"][e]\n    )\n    df_alphatrends \u003d df_alphatrends.merge(df_temp, how\u003d\"left\", on\u003d\"Date\")"
      ],
      "outputs": []
    },
    {
      "execution_count": 30,
      "cell_type": "code",
      "metadata": {},
      "source": [
        "df_alphatrends.dropna(inplace\u003dTrue)\ndf_alphatrends.reset_index(drop\u003dTrue, inplace\u003dTrue)"
      ],
      "outputs": []
    },
    {
      "execution_count": 34,
      "cell_type": "code",
      "metadata": {},
      "source": [
        "# Write recipe outputs\ny1985_AT \u003d dataiku.Dataset(\"y1985_AT\")\ny1985_AT.write_with_schema(df_alphatrends)"
      ],
      "outputs": [
        {
          "output_type": "stream",
          "text": "9238 rows successfully written (7ZJ7X7Bo07)\n",
          "name": "stdout"
        }
      ]
    }
  ]
}