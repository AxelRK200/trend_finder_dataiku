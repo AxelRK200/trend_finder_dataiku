{
  "metadata": {
    "kernelspec": {
      "name": "py-dku-venv-py_v39_finance",
      "display_name": "Python (env py_v39_finance)",
      "language": "python"
    },
    "associatedRecipe": "compute_yfinance_ndx_hist1985_weekly",
    "creator": "admin",
    "createdOn": 1674395048960,
    "tags": [
      "recipe-editor"
    ],
    "customFields": {},
    "hide_input": false,
    "language_info": {
      "name": "python",
      "version": "3.9.0",
      "mimetype": "text/x-python",
      "codemirror_mode": {
        "name": "ipython",
        "version": 3
      },
      "pygments_lexer": "ipython3",
      "nbconvert_exporter": "python",
      "file_extension": ".py"
    },
    "modifiedBy": "admin"
  },
  "nbformat": 4,
  "nbformat_minor": 1,
  "cells": [
    {
      "execution_count": 1,
      "cell_type": "code",
      "metadata": {},
      "source": [
        "# -*- coding: utf-8 -*-\nimport dataiku\nimport pandas as pd, numpy as np\nfrom dataiku import pandasutils as pdu\nfrom ta.trend import SMAIndicator\nimport yfinance as yf\nimport datetime"
      ],
      "outputs": []
    },
    {
      "cell_type": "markdown",
      "metadata": {},
      "source": [
        "# Appel API yfinance #"
      ]
    },
    {
      "execution_count": 2,
      "cell_type": "code",
      "metadata": {},
      "source": [
        "ndx \u003d yf.Ticker(\"^NDX\")\nhist \u003d ndx.history(period\u003d\"max\", interval\u003d\"1wk\")"
      ],
      "outputs": []
    },
    {
      "execution_count": 3,
      "cell_type": "code",
      "metadata": {},
      "source": [
        "# Passe la date d\u0027index à colonne\nhist.reset_index(inplace\u003dTrue)"
      ],
      "outputs": []
    },
    {
      "execution_count": 4,
      "cell_type": "code",
      "metadata": {},
      "source": [
        "hist.drop(columns\u003d[\u0027High\u0027,\u0027Low\u0027,\u0027Dividends\u0027,\u0027Stock Splits\u0027], inplace\u003dTrue)"
      ],
      "outputs": []
    },
    {
      "cell_type": "markdown",
      "metadata": {},
      "source": [
        "# Mise en forme dates #"
      ]
    },
    {
      "execution_count": 6,
      "cell_type": "code",
      "metadata": {},
      "source": [
        "hist[\"Num_Semaine\"] \u003d hist.Date.apply(lambda d : d.strftime(\u0027%Y-%V\u0027))\nhist[\"Date\"] \u003d hist.Date.apply(lambda d : d.strftime(\u0027%Y-%m-%d\u0027))"
      ],
      "outputs": []
    },
    {
      "execution_count": 7,
      "cell_type": "code",
      "metadata": {},
      "source": [
        "hist[\"Open\"] \u003d hist.Open.apply(lambda f : round(f,2))\nhist[\"Close\"] \u003d hist.Close.apply(lambda f : round(f,2))"
      ],
      "outputs": []
    },
    {
      "execution_count": 8,
      "cell_type": "code",
      "metadata": {},
      "source": [
        "hist.tail()"
      ],
      "outputs": [
        {
          "output_type": "execute_result",
          "execution_count": 8,
          "data": {
            "text/plain": "            Date      Open     Close       Volume Num_Semaine\n1943  2022-12-26  10944.30  10939.76  15783390000     2022-52\n1944  2023-01-02  11038.42  11040.35  19830080000     2023-01\n1945  2023-01-09  11133.07  11541.48  25886490000     2023-02\n1946  2023-01-16  11531.54  11619.03  21067950000     2023-03\n1947  2023-01-20  11363.90  11619.03   1098966000     2023-03",
            "text/html": "\u003cdiv\u003e\n\u003cstyle scoped\u003e\n    .dataframe tbody tr th:only-of-type {\n        vertical-align: middle;\n    }\n\n    .dataframe tbody tr th {\n        vertical-align: top;\n    }\n\n    .dataframe thead th {\n        text-align: right;\n    }\n\u003c/style\u003e\n\u003ctable border\u003d\"1\" class\u003d\"dataframe\"\u003e\n  \u003cthead\u003e\n    \u003ctr style\u003d\"text-align: right;\"\u003e\n      \u003cth\u003e\u003c/th\u003e\n      \u003cth\u003eDate\u003c/th\u003e\n      \u003cth\u003eOpen\u003c/th\u003e\n      \u003cth\u003eClose\u003c/th\u003e\n      \u003cth\u003eVolume\u003c/th\u003e\n      \u003cth\u003eNum_Semaine\u003c/th\u003e\n    \u003c/tr\u003e\n  \u003c/thead\u003e\n  \u003ctbody\u003e\n    \u003ctr\u003e\n      \u003cth\u003e1943\u003c/th\u003e\n      \u003ctd\u003e2022-12-26\u003c/td\u003e\n      \u003ctd\u003e10944.30\u003c/td\u003e\n      \u003ctd\u003e10939.76\u003c/td\u003e\n      \u003ctd\u003e15783390000\u003c/td\u003e\n      \u003ctd\u003e2022-52\u003c/td\u003e\n    \u003c/tr\u003e\n    \u003ctr\u003e\n      \u003cth\u003e1944\u003c/th\u003e\n      \u003ctd\u003e2023-01-02\u003c/td\u003e\n      \u003ctd\u003e11038.42\u003c/td\u003e\n      \u003ctd\u003e11040.35\u003c/td\u003e\n      \u003ctd\u003e19830080000\u003c/td\u003e\n      \u003ctd\u003e2023-01\u003c/td\u003e\n    \u003c/tr\u003e\n    \u003ctr\u003e\n      \u003cth\u003e1945\u003c/th\u003e\n      \u003ctd\u003e2023-01-09\u003c/td\u003e\n      \u003ctd\u003e11133.07\u003c/td\u003e\n      \u003ctd\u003e11541.48\u003c/td\u003e\n      \u003ctd\u003e25886490000\u003c/td\u003e\n      \u003ctd\u003e2023-02\u003c/td\u003e\n    \u003c/tr\u003e\n    \u003ctr\u003e\n      \u003cth\u003e1946\u003c/th\u003e\n      \u003ctd\u003e2023-01-16\u003c/td\u003e\n      \u003ctd\u003e11531.54\u003c/td\u003e\n      \u003ctd\u003e11619.03\u003c/td\u003e\n      \u003ctd\u003e21067950000\u003c/td\u003e\n      \u003ctd\u003e2023-03\u003c/td\u003e\n    \u003c/tr\u003e\n    \u003ctr\u003e\n      \u003cth\u003e1947\u003c/th\u003e\n      \u003ctd\u003e2023-01-20\u003c/td\u003e\n      \u003ctd\u003e11363.90\u003c/td\u003e\n      \u003ctd\u003e11619.03\u003c/td\u003e\n      \u003ctd\u003e1098966000\u003c/td\u003e\n      \u003ctd\u003e2023-03\u003c/td\u003e\n    \u003c/tr\u003e\n  \u003c/tbody\u003e\n\u003c/table\u003e\n\u003c/div\u003e"
          },
          "metadata": {}
        }
      ]
    },
    {
      "cell_type": "markdown",
      "metadata": {},
      "source": [
        "# Ecriture #"
      ]
    },
    {
      "execution_count": 9,
      "cell_type": "code",
      "metadata": {},
      "source": [
        "# Write recipe outputs\nyfinance_ndx_hist1985_weekly \u003d dataiku.Dataset(\"yfinance_ndx_hist1985_weekly\")\nyfinance_ndx_hist1985_weekly.write_with_schema(hist)"
      ],
      "outputs": [
        {
          "output_type": "stream",
          "text": "1948 rows successfully written (MHyI9vHDMX)\n",
          "name": "stdout"
        }
      ]
    }
  ]
}