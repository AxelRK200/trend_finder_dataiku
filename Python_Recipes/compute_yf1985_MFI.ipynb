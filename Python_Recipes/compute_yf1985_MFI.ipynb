{
  "metadata": {
    "kernelspec": {
      "name": "py-dku-venv-py_v39_finance",
      "display_name": "Python (env py_v39_finance)",
      "language": "python"
    },
    "associatedRecipe": "compute_yf1985_MFI",
    "creator": "admin",
    "createdOn": 1655325353551,
    "tags": [
      "recipe-editor"
    ],
    "customFields": {},
    "hide_input": false,
    "language_info": {
      "name": "python",
      "version": "3.9.0",
      "mimetype": "text/x-python",
      "codemirror_mode": {
        "name": "ipython",
        "version": 3
      },
      "pygments_lexer": "ipython3",
      "nbconvert_exporter": "python",
      "file_extension": ".py"
    },
    "modifiedBy": "admin"
  },
  "nbformat": 4,
  "nbformat_minor": 1,
  "cells": [
    {
      "execution_count": 1,
      "cell_type": "code",
      "metadata": {},
      "source": [
        "# -*- coding: utf-8 -*-\nimport dataiku\nimport pandas as pd, numpy as np\nfrom dataiku import pandasutils as pdu\n\nfrom ta.volume import MFIIndicator\n\nfrom copy import copy"
      ],
      "outputs": []
    },
    {
      "execution_count": 5,
      "cell_type": "code",
      "metadata": {},
      "source": [
        "# Read recipe inputs\nyfinance_ndx_hist_1985_daily \u003d dataiku.Dataset(\"yfinance_ndx_hist_1985_daily\")\ndf_source \u003d yfinance_ndx_hist_1985_daily.get_dataframe()"
      ],
      "outputs": []
    },
    {
      "execution_count": 3,
      "cell_type": "code",
      "metadata": {},
      "source": [
        "\u0027\u0027\u0027 Selon MFI Performance v5, toutes les valeurs suivantes surperforment le Buy \u0026 Hold.\nElles ont toutefois des périodes allant du simple au triple,\net un nombre de trades différent\u0027\u0027\u0027\nmfi_list \u003d [10,14,17,37]"
      ],
      "outputs": []
    },
    {
      "execution_count": 6,
      "cell_type": "code",
      "metadata": {},
      "source": [
        "df_mfi \u003d df_source.copy()"
      ],
      "outputs": []
    },
    {
      "execution_count": 7,
      "cell_type": "code",
      "metadata": {},
      "source": [
        "for w in mfi_list :\n    s_mfi \u003d MFIIndicator(\n        high \u003d df_source.High, \n        low \u003d df_source.Low, \n        close \u003d df_source.Close, \n        volume \u003d df_source.Volume, \n        window \u003d w\n    ).money_flow_index()\n    \n    # Ajout de la série en tant que colonne + arrondi\n    # to_list() semble nécessaire dans cette version de Python ?!\n    df_mfi[\u0027MFI_\u0027+str(w)] \u003d round(s_mfi, 2).to_list()\n    \n    # Pointeur sur la période maximale\n    w_max \u003d w"
      ],
      "outputs": []
    },
    {
      "execution_count": 8,
      "cell_type": "code",
      "metadata": {},
      "source": [
        "# Démarrage lorsque tous les MFI sont renseignés\ndf_mfi \u003d df_mfi.loc[(w_max-1):]\ndf_mfi.reset_index(drop\u003dTrue, inplace\u003dTrue)"
      ],
      "outputs": []
    },
    {
      "execution_count": 9,
      "cell_type": "code",
      "metadata": {},
      "source": [
        "# Sélection des 4 dernières colonnes qui sont celles des calculs MFI\n# cf MFI list length, en négatif\nnb_cols \u003d - len(mfi_list)\ncolonnes_mfi \u003d df_mfi.columns[nb_cols:].to_list()"
      ],
      "outputs": []
    },
    {
      "execution_count": 11,
      "cell_type": "code",
      "metadata": {},
      "source": [
        "# Périodes qui vont être utilisées pour les calculs de MA\nperiodes \u003d [3,5]"
      ],
      "outputs": []
    },
    {
      "execution_count": 12,
      "cell_type": "code",
      "metadata": {},
      "source": [
        "for colonne in colonnes_mfi : \n    \u0027\u0027\u0027Calcul des moyennes mobiles, MA3 et MA5,\n    pour chacune des colonnes MFI\u0027\u0027\u0027\n    \n    # SMA 3\n    col_name_short \u003d str(colonne) + \"_SMA\" + str(periodes[0])\n    df_mfi[col_name_short] \u003d round( df_mfi[colonne].rolling(periodes[0]).mean() ,2)\n    \n    # SMA 5\n    col_name_mid \u003d str(colonne) + \"_SMA\" + str(periodes[1])\n    df_mfi[col_name_mid] \u003d round( df_mfi[colonne].rolling(periodes[1]).mean() ,2)"
      ],
      "outputs": []
    },
    {
      "execution_count": 14,
      "cell_type": "code",
      "metadata": {},
      "source": [
        "df_mfi.dropna(how\u003d\u0027any\u0027, inplace\u003dTrue)\ndf_mfi.reset_index(drop\u003dTrue, inplace\u003dTrue)"
      ],
      "outputs": []
    },
    {
      "execution_count": 17,
      "cell_type": "code",
      "metadata": {},
      "source": [
        "# Write recipe outputs\nyf1985_MFI \u003d dataiku.Dataset(\"yf1985_MFI\")\nyf1985_MFI.write_with_schema(df_mfi)"
      ],
      "outputs": [
        {
          "output_type": "stream",
          "text": "9213 rows successfully written (TTwZHy8Hwg)\n",
          "name": "stdout"
        }
      ]
    }
  ]
}