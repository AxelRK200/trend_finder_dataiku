{
  "metadata": {
    "kernelspec": {
      "name": "py-dku-venv-py_v39_finance",
      "display_name": "Python (env py_v39_finance)",
      "language": "python"
    },
    "associatedRecipe": "compute_weekly_MA",
    "creator": "admin",
    "createdOn": 1674395489450,
    "tags": [
      "recipe-editor"
    ],
    "customFields": {},
    "hide_input": false,
    "language_info": {
      "name": "python",
      "version": "3.9.0",
      "mimetype": "text/x-python",
      "codemirror_mode": {
        "name": "ipython",
        "version": 3
      },
      "pygments_lexer": "ipython3",
      "nbconvert_exporter": "python",
      "file_extension": ".py"
    },
    "modifiedBy": "admin"
  },
  "nbformat": 4,
  "nbformat_minor": 1,
  "cells": [
    {
      "execution_count": 1,
      "cell_type": "code",
      "metadata": {},
      "source": [
        "# -*- coding: utf-8 -*-\nimport dataiku\nimport pandas as pd, numpy as np\nfrom dataiku import pandasutils as pdu\nfrom ta.trend import SMAIndicator"
      ],
      "outputs": []
    },
    {
      "execution_count": 2,
      "cell_type": "code",
      "metadata": {},
      "source": [
        "# Read recipe inputs\nyfinance_ndx_hist1985_weekly \u003d dataiku.Dataset(\"yfinance_ndx_hist1985_weekly\")\nhist \u003d yfinance_ndx_hist1985_weekly.get_dataframe()"
      ],
      "outputs": []
    },
    {
      "execution_count": 3,
      "cell_type": "code",
      "metadata": {},
      "source": [
        "# Vérification aucune ligne nulle\nhist.isnull().sum()"
      ],
      "outputs": [
        {
          "output_type": "execute_result",
          "execution_count": 3,
          "data": {
            "text/plain": "Date           0\nOpen           0\nClose          0\nVolume         0\nNum_Semaine    0\ndtype: int64"
          },
          "metadata": {}
        }
      ]
    },
    {
      "execution_count": 4,
      "cell_type": "code",
      "metadata": {},
      "source": [
        "s_sma \u003d SMAIndicator(close \u003d hist.Close, window\u003d40).sma_indicator()\nhist[\"SMA_40\"] \u003d s_sma"
      ],
      "outputs": []
    },
    {
      "execution_count": 5,
      "cell_type": "code",
      "metadata": {},
      "source": [
        "# Suppression des lignes vides le temps de démarrage SMA\nhist.dropna(subset\u003d[\u0027SMA_40\u0027], inplace\u003dTrue)"
      ],
      "outputs": []
    },
    {
      "execution_count": 6,
      "cell_type": "code",
      "metadata": {},
      "source": [
        "hist[\"SMA_40\"] \u003d hist.SMA_40.apply(lambda f : round(f,2))"
      ],
      "outputs": []
    },
    {
      "execution_count": 7,
      "cell_type": "code",
      "metadata": {},
      "source": [
        "hist.reset_index(drop\u003dTrue, inplace\u003dTrue)"
      ],
      "outputs": []
    },
    {
      "execution_count": 8,
      "cell_type": "code",
      "metadata": {},
      "source": [
        "hist.head()"
      ],
      "outputs": [
        {
          "output_type": "execute_result",
          "execution_count": 8,
          "data": {
            "text/plain": "         Date    Open   Close      Volume Num_Semaine  SMA_40\n0  1986-06-30  161.62  164.51   988800000     1986-27  139.96\n1  1986-07-07  164.51  152.85  1162800000     1986-28  141.02\n2  1986-07-14  152.85  147.76  1160400000     1986-29  141.94\n3  1986-07-21  147.76  148.26   975500000     1986-30  142.79\n4  1986-07-28  148.26  144.19   975920000     1986-31  143.55",
            "text/html": "\u003cdiv\u003e\n\u003cstyle scoped\u003e\n    .dataframe tbody tr th:only-of-type {\n        vertical-align: middle;\n    }\n\n    .dataframe tbody tr th {\n        vertical-align: top;\n    }\n\n    .dataframe thead th {\n        text-align: right;\n    }\n\u003c/style\u003e\n\u003ctable border\u003d\"1\" class\u003d\"dataframe\"\u003e\n  \u003cthead\u003e\n    \u003ctr style\u003d\"text-align: right;\"\u003e\n      \u003cth\u003e\u003c/th\u003e\n      \u003cth\u003eDate\u003c/th\u003e\n      \u003cth\u003eOpen\u003c/th\u003e\n      \u003cth\u003eClose\u003c/th\u003e\n      \u003cth\u003eVolume\u003c/th\u003e\n      \u003cth\u003eNum_Semaine\u003c/th\u003e\n      \u003cth\u003eSMA_40\u003c/th\u003e\n    \u003c/tr\u003e\n  \u003c/thead\u003e\n  \u003ctbody\u003e\n    \u003ctr\u003e\n      \u003cth\u003e0\u003c/th\u003e\n      \u003ctd\u003e1986-06-30\u003c/td\u003e\n      \u003ctd\u003e161.62\u003c/td\u003e\n      \u003ctd\u003e164.51\u003c/td\u003e\n      \u003ctd\u003e988800000\u003c/td\u003e\n      \u003ctd\u003e1986-27\u003c/td\u003e\n      \u003ctd\u003e139.96\u003c/td\u003e\n    \u003c/tr\u003e\n    \u003ctr\u003e\n      \u003cth\u003e1\u003c/th\u003e\n      \u003ctd\u003e1986-07-07\u003c/td\u003e\n      \u003ctd\u003e164.51\u003c/td\u003e\n      \u003ctd\u003e152.85\u003c/td\u003e\n      \u003ctd\u003e1162800000\u003c/td\u003e\n      \u003ctd\u003e1986-28\u003c/td\u003e\n      \u003ctd\u003e141.02\u003c/td\u003e\n    \u003c/tr\u003e\n    \u003ctr\u003e\n      \u003cth\u003e2\u003c/th\u003e\n      \u003ctd\u003e1986-07-14\u003c/td\u003e\n      \u003ctd\u003e152.85\u003c/td\u003e\n      \u003ctd\u003e147.76\u003c/td\u003e\n      \u003ctd\u003e1160400000\u003c/td\u003e\n      \u003ctd\u003e1986-29\u003c/td\u003e\n      \u003ctd\u003e141.94\u003c/td\u003e\n    \u003c/tr\u003e\n    \u003ctr\u003e\n      \u003cth\u003e3\u003c/th\u003e\n      \u003ctd\u003e1986-07-21\u003c/td\u003e\n      \u003ctd\u003e147.76\u003c/td\u003e\n      \u003ctd\u003e148.26\u003c/td\u003e\n      \u003ctd\u003e975500000\u003c/td\u003e\n      \u003ctd\u003e1986-30\u003c/td\u003e\n      \u003ctd\u003e142.79\u003c/td\u003e\n    \u003c/tr\u003e\n    \u003ctr\u003e\n      \u003cth\u003e4\u003c/th\u003e\n      \u003ctd\u003e1986-07-28\u003c/td\u003e\n      \u003ctd\u003e148.26\u003c/td\u003e\n      \u003ctd\u003e144.19\u003c/td\u003e\n      \u003ctd\u003e975920000\u003c/td\u003e\n      \u003ctd\u003e1986-31\u003c/td\u003e\n      \u003ctd\u003e143.55\u003c/td\u003e\n    \u003c/tr\u003e\n  \u003c/tbody\u003e\n\u003c/table\u003e\n\u003c/div\u003e"
          },
          "metadata": {}
        }
      ]
    },
    {
      "execution_count": 0,
      "cell_type": "code",
      "metadata": {},
      "source": [
        "# Write recipe outputs\nweekly_MA \u003d dataiku.Dataset(\"weekly_MA\")\nweekly_MA.write_with_schema(hist)"
      ],
      "outputs": []
    }
  ]
}