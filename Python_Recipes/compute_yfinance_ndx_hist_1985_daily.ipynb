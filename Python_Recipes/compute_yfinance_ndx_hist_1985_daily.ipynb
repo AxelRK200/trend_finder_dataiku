{
  "metadata": {
    "kernelspec": {
      "name": "py-dku-venv-py_v39_finance",
      "display_name": "Python (env py_v39_finance)",
      "language": "python"
    },
    "associatedRecipe": "compute_yfinance_ndx_hist_1985_daily",
    "creator": "admin",
    "createdOn": 1655324468014,
    "tags": [
      "recipe-editor"
    ],
    "customFields": {},
    "hide_input": false,
    "language_info": {
      "name": "python",
      "version": "3.9.0",
      "mimetype": "text/x-python",
      "codemirror_mode": {
        "name": "ipython",
        "version": 3
      },
      "pygments_lexer": "ipython3",
      "nbconvert_exporter": "python",
      "file_extension": ".py"
    },
    "modifiedBy": "admin"
  },
  "nbformat": 4,
  "nbformat_minor": 1,
  "cells": [
    {
      "execution_count": 1,
      "cell_type": "code",
      "metadata": {},
      "source": [
        "# -*- coding: utf-8 -*-\nimport dataiku\nimport pandas as pd, numpy as np\nfrom dataiku import pandasutils as pdu\nimport yfinance as yf"
      ],
      "outputs": []
    },
    {
      "execution_count": 2,
      "cell_type": "code",
      "metadata": {},
      "source": [
        "ndx \u003d yf.Ticker(\"^NDX\")"
      ],
      "outputs": []
    },
    {
      "execution_count": 3,
      "cell_type": "code",
      "metadata": {},
      "source": [
        "df_historical_data \u003d ndx.history(interval\u003d\"1d\", period\u003d\"max\")"
      ],
      "outputs": []
    },
    {
      "execution_count": 4,
      "cell_type": "code",
      "metadata": {},
      "source": [
        "df_historical_data.drop(columns\u003d[\"Dividends\",\"Stock Splits\"], inplace\u003dTrue)\ndf_historical_data.reset_index(inplace\u003dTrue)"
      ],
      "outputs": []
    },
    {
      "execution_count": 5,
      "cell_type": "code",
      "metadata": {},
      "source": [
        "# Test si aucune ligne manquante\ntest_list \u003d [champ \u003d\u003d 0 for champ in df_historical_data.isnull().sum()]\n\n# Si toutes les colonnes sont True, résultat \u003d True\nres1 \u003d all(i for i in test_list)"
      ],
      "outputs": []
    },
    {
      "execution_count": 6,
      "cell_type": "code",
      "metadata": {},
      "source": [
        "# Test si toutes les colonnes \u003e 0\ntest_list_zero \u003d [champ \u003e 0 for champ in df_historical_data.describe().min()]\nres2 \u003d all(z for z in test_list_zero)"
      ],
      "outputs": [
        {
          "output_type": "stream",
          "text": "/Users/Axel/Library/DataScienceStudio/dss_home/code-envs/python/py_v39_finance/lib/python3.9/site-packages/pandas/core/nanops.py:1558: DeprecationWarning: the `interpolation\u003d` argument to percentile was renamed to `method\u003d`, which has additional options.\nUsers of the modes \u0027nearest\u0027, \u0027lower\u0027, \u0027higher\u0027, or \u0027midpoint\u0027 are encouraged to review the method they. (Deprecated NumPy 1.22)\n  return np.percentile(values, q, axis\u003daxis, interpolation\u003dinterpolation)\n",
          "name": "stderr"
        }
      ]
    },
    {
      "execution_count": 7,
      "cell_type": "code",
      "metadata": {},
      "source": [
        "# Write recipe outputs\nyfinance_ndx_hist_1985_daily \u003d dataiku.Dataset(\"yfinance_ndx_hist_1985_daily\")\n\nif res1 \u0026 res2 :\n    yfinance_ndx_hist_1985_daily.write_with_schema(df_historical_data)\n    print(\"Import réussi et tests validés\")\n    print(\"Nombre de lignes : \",df_historical_data.shape[0])\nelse :\n    print(\"Au moins une ligne est vide ou une valeur est incohérente.\\nPas d\u0027écriture\")"
      ],
      "outputs": [
        {
          "output_type": "stream",
          "text": "9253 rows successfully written (KbbzxzOyJ9)\nImport réussi et tests validés\nNombre de lignes :  9253\n",
          "name": "stdout"
        }
      ]
    }
  ]
}