{
  "metadata": {
    "kernelspec": {
      "name": "py-dku-venv-py_v39_finance",
      "display_name": "Python (env py_v39_finance)",
      "language": "python"
    },
    "associatedRecipe": "compute_STC_indicator",
    "creator": "admin",
    "createdOn": 1674404732319,
    "tags": [
      "recipe-editor"
    ],
    "customFields": {},
    "hide_input": false,
    "language_info": {
      "name": "python",
      "version": "3.9.0",
      "mimetype": "text/x-python",
      "codemirror_mode": {
        "name": "ipython",
        "version": 3
      },
      "pygments_lexer": "ipython3",
      "nbconvert_exporter": "python",
      "file_extension": ".py"
    },
    "modifiedBy": "admin"
  },
  "nbformat": 4,
  "nbformat_minor": 1,
  "cells": [
    {
      "execution_count": 2,
      "cell_type": "code",
      "metadata": {},
      "source": [
        "# -*- coding: utf-8 -*-\nimport dataiku\nimport pandas as pd, numpy as np\nfrom dataiku import pandasutils as pdu\nfrom ta.trend import STCIndicator"
      ],
      "outputs": []
    },
    {
      "execution_count": 3,
      "cell_type": "code",
      "metadata": {},
      "source": [
        "# Read recipe inputs\nyfinance_ndx_hist_1985_daily \u003d dataiku.Dataset(\"yfinance_ndx_hist_1985_daily\")\nhist \u003d yfinance_ndx_hist_1985_daily.get_dataframe()"
      ],
      "outputs": []
    },
    {
      "cell_type": "markdown",
      "metadata": {},
      "source": [
        "# Indicateur technique #"
      ]
    },
    {
      "execution_count": 5,
      "cell_type": "code",
      "metadata": {},
      "source": [
        "hist.isnull().sum()"
      ],
      "outputs": [
        {
          "output_type": "execute_result",
          "execution_count": 5,
          "data": {
            "text/plain": "Date      0\nOpen      0\nHigh      0\nLow       0\nClose     0\nVolume    0\ndtype: int64"
          },
          "metadata": {}
        }
      ]
    },
    {
      "execution_count": 12,
      "cell_type": "code",
      "metadata": {},
      "source": [
        "# Indicateur technique\ns_stc \u003d STCIndicator(close\u003dhist.Close, window_slow\u003d50, window_fast\u003d27, cycle\u003d80).stc()\nhist[\"STC_tailored\"] \u003d s_stc.apply(lambda x: round(x,2))"
      ],
      "outputs": []
    },
    {
      "execution_count": 14,
      "cell_type": "code",
      "metadata": {},
      "source": [
        "s_stc \u003d STCIndicator(close\u003dhist.Close).stc()\nhist[\"STC_std\"] \u003d s_stc.apply(lambda x: round(x,2))"
      ],
      "outputs": []
    },
    {
      "execution_count": 15,
      "cell_type": "code",
      "metadata": {},
      "source": [
        "hist.dropna(inplace\u003dTrue)\nhist.reset_index(drop\u003dTrue, inplace\u003dTrue)"
      ],
      "outputs": []
    },
    {
      "execution_count": 17,
      "cell_type": "code",
      "metadata": {},
      "source": [
        "hist.drop(columns\u003d[\"Open\",\"High\",\"Low\",\"Volume\"], inplace\u003dTrue)"
      ],
      "outputs": []
    },
    {
      "execution_count": 18,
      "cell_type": "code",
      "metadata": {},
      "source": [
        "hist.tail()"
      ],
      "outputs": [
        {
          "output_type": "execute_result",
          "execution_count": 18,
          "data": {
            "text/plain": "                          Date     Close  STC_tailored  STC_std\n8976 2023-01-13 05:00:00+00:00  11541.48         95.16    98.07\n8977 2023-01-17 05:00:00+00:00  11557.19         97.58    99.03\n8978 2023-01-18 05:00:00+00:00  11410.29         98.79    99.52\n8979 2023-01-19 05:00:00+00:00  11295.67         99.39    99.76\n8980 2023-01-20 05:00:00+00:00  11619.03         99.70    99.88",
            "text/html": "\u003cdiv\u003e\n\u003cstyle scoped\u003e\n    .dataframe tbody tr th:only-of-type {\n        vertical-align: middle;\n    }\n\n    .dataframe tbody tr th {\n        vertical-align: top;\n    }\n\n    .dataframe thead th {\n        text-align: right;\n    }\n\u003c/style\u003e\n\u003ctable border\u003d\"1\" class\u003d\"dataframe\"\u003e\n  \u003cthead\u003e\n    \u003ctr style\u003d\"text-align: right;\"\u003e\n      \u003cth\u003e\u003c/th\u003e\n      \u003cth\u003eDate\u003c/th\u003e\n      \u003cth\u003eClose\u003c/th\u003e\n      \u003cth\u003eSTC_tailored\u003c/th\u003e\n      \u003cth\u003eSTC_std\u003c/th\u003e\n    \u003c/tr\u003e\n  \u003c/thead\u003e\n  \u003ctbody\u003e\n    \u003ctr\u003e\n      \u003cth\u003e8976\u003c/th\u003e\n      \u003ctd\u003e2023-01-13 05:00:00+00:00\u003c/td\u003e\n      \u003ctd\u003e11541.48\u003c/td\u003e\n      \u003ctd\u003e95.16\u003c/td\u003e\n      \u003ctd\u003e98.07\u003c/td\u003e\n    \u003c/tr\u003e\n    \u003ctr\u003e\n      \u003cth\u003e8977\u003c/th\u003e\n      \u003ctd\u003e2023-01-17 05:00:00+00:00\u003c/td\u003e\n      \u003ctd\u003e11557.19\u003c/td\u003e\n      \u003ctd\u003e97.58\u003c/td\u003e\n      \u003ctd\u003e99.03\u003c/td\u003e\n    \u003c/tr\u003e\n    \u003ctr\u003e\n      \u003cth\u003e8978\u003c/th\u003e\n      \u003ctd\u003e2023-01-18 05:00:00+00:00\u003c/td\u003e\n      \u003ctd\u003e11410.29\u003c/td\u003e\n      \u003ctd\u003e98.79\u003c/td\u003e\n      \u003ctd\u003e99.52\u003c/td\u003e\n    \u003c/tr\u003e\n    \u003ctr\u003e\n      \u003cth\u003e8979\u003c/th\u003e\n      \u003ctd\u003e2023-01-19 05:00:00+00:00\u003c/td\u003e\n      \u003ctd\u003e11295.67\u003c/td\u003e\n      \u003ctd\u003e99.39\u003c/td\u003e\n      \u003ctd\u003e99.76\u003c/td\u003e\n    \u003c/tr\u003e\n    \u003ctr\u003e\n      \u003cth\u003e8980\u003c/th\u003e\n      \u003ctd\u003e2023-01-20 05:00:00+00:00\u003c/td\u003e\n      \u003ctd\u003e11619.03\u003c/td\u003e\n      \u003ctd\u003e99.70\u003c/td\u003e\n      \u003ctd\u003e99.88\u003c/td\u003e\n    \u003c/tr\u003e\n  \u003c/tbody\u003e\n\u003c/table\u003e\n\u003c/div\u003e"
          },
          "metadata": {}
        }
      ]
    },
    {
      "cell_type": "markdown",
      "metadata": {},
      "source": [
        "# Ecriture #"
      ]
    },
    {
      "execution_count": 19,
      "cell_type": "code",
      "metadata": {},
      "source": [
        "# Write recipe outputs\nSTC_indicator \u003d dataiku.Dataset(\"STC_indicator\")\nSTC_indicator.write_with_schema(hist)"
      ],
      "outputs": [
        {
          "output_type": "stream",
          "text": "8981 rows successfully written (NPaczfl8n6)\n",
          "name": "stdout"
        }
      ]
    }
  ]
}