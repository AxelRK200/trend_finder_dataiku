{
  "metadata": {
    "kernelspec": {
      "name": "py-dku-venv-py_v39_finance",
      "display_name": "Python (env py_v39_finance)",
      "language": "python"
    },
    "associatedRecipe": "compute_nasdaq_100_historical_data",
    "creationTag": {
      "versionNumber": 0,
      "lastModifiedBy": {
        "login": "admin"
      },
      "lastModifiedOn": 1654892488597
    },
    "creator": "admin",
    "createdOn": 1654892488597,
    "tags": [
      "recipe-editor"
    ],
    "customFields": {},
    "hide_input": false,
    "language_info": {
      "name": "python",
      "version": "3.9.0",
      "mimetype": "text/x-python",
      "codemirror_mode": {
        "name": "ipython",
        "version": 3
      },
      "pygments_lexer": "ipython3",
      "nbconvert_exporter": "python",
      "file_extension": ".py"
    },
    "modifiedBy": "admin"
  },
  "nbformat": 4,
  "nbformat_minor": 1,
  "cells": [
    {
      "execution_count": 1,
      "cell_type": "code",
      "metadata": {},
      "source": [
        "# -*- coding: utf-8 -*-\nimport dataiku\nimport pandas as pd, numpy as np\nfrom dataiku import pandasutils as pdu\nimport datetime\nimport investpy"
      ],
      "outputs": []
    },
    {
      "execution_count": 2,
      "cell_type": "code",
      "metadata": {},
      "source": [
        "# Obtention de la date du jour, format texte, pour paramètre date_max investpy\ncurrent_time \u003d datetime.datetime.now()\n\ndate_jour \u003d str(current_time.day) + \"/\" + str(current_time.month) + \"/\" + str(current_time.year)\nprint(\"Date du jour : \",date_jour)"
      ],
      "outputs": [
        {
          "output_type": "stream",
          "text": "Date du jour :  15/6/2022\n",
          "name": "stdout"
        }
      ]
    },
    {
      "cell_type": "markdown",
      "metadata": {},
      "source": [
        "Le 15 Juin 2006 est identifié comme la première date intégrant les données de volume"
      ]
    },
    {
      "execution_count": 3,
      "cell_type": "code",
      "metadata": {},
      "source": [
        "df_historical_data \u003d investpy.indices.get_index_historical_data(\n    index\u003d\"Nasdaq 100\",\n    country\u003d\"united states\",\n    from_date\u003d\"15/06/2006\",\n    to_date\u003ddate_jour\n)"
      ],
      "outputs": []
    },
    {
      "execution_count": 4,
      "cell_type": "code",
      "metadata": {},
      "source": [
        "# Par défaut la colonne date est un index.\n# Passage de celle-ci en colonne\ndf_historical_data.reset_index(inplace\u003dTrue)"
      ],
      "outputs": []
    },
    {
      "execution_count": 5,
      "cell_type": "code",
      "metadata": {},
      "source": [
        "df_historical_data.drop(columns\u003d\"Currency\", inplace\u003dTrue)"
      ],
      "outputs": []
    },
    {
      "execution_count": 6,
      "cell_type": "code",
      "metadata": {},
      "source": [
        "# Test si aucune ligne manquante\ntest_list \u003d [champ \u003d\u003d 0 for champ in df_historical_data.isnull().sum()]\n# Si toutes les colonnes sont True, résultat \u003d True\nres1 \u003d all(i for i in test_list)"
      ],
      "outputs": []
    },
    {
      "execution_count": 7,
      "cell_type": "code",
      "metadata": {},
      "source": [
        "# Test si toutes les colonnes \u003e 0\ntest_list_zero \u003d [champ \u003e 0 for champ in df_historical_data.describe().min()]\nres2 \u003d all(z for z in test_list_zero)"
      ],
      "outputs": [
        {
          "output_type": "stream",
          "text": "/Users/Axel/Library/DataScienceStudio/dss_home/code-envs/python/py_v39_finance/lib/python3.9/site-packages/pandas/core/nanops.py:1558: DeprecationWarning: the `interpolation\u003d` argument to percentile was renamed to `method\u003d`, which has additional options.\nUsers of the modes \u0027nearest\u0027, \u0027lower\u0027, \u0027higher\u0027, or \u0027midpoint\u0027 are encouraged to review the method they. (Deprecated NumPy 1.22)\n  return np.percentile(values, q, axis\u003daxis, interpolation\u003dinterpolation)\n",
          "name": "stderr"
        }
      ]
    },
    {
      "execution_count": 8,
      "cell_type": "code",
      "metadata": {},
      "source": [
        "# Write recipe outputs\nnasdaq_100_historical_data \u003d dataiku.Dataset(\"investpy_ndx_hist_2006_daily\")\n\nif res1 \u0026 res2 :\n    nasdaq_100_historical_data.write_with_schema(df_historical_data)\n    print(\"Import réussi et tests validés\")\n    print(\"Nombre de lignes : \",df_historical_data.shape[0])\nelse :\n    print(\"Au moins une ligne est vide ou une valeur est incohérente.\\nPas d\u0027écriture\")"
      ],
      "outputs": [
        {
          "output_type": "stream",
          "text": "4029 rows successfully written (lTM4exLSIE)\nImport réussi et tests validés\nNombre de lignes :  4029\n",
          "name": "stdout"
        }
      ]
    }
  ]
}