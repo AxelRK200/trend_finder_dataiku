{
  "metadata": {
    "kernelspec": {
      "name": "py-dku-venv-py_v39_finance",
      "display_name": "Python (env py_v39_finance)",
      "language": "python"
    },
    "associatedRecipe": "compute_yf1985_MFI_enriched",
    "creationTag": {
      "versionNumber": 0,
      "lastModifiedBy": {
        "login": "admin"
      },
      "lastModifiedOn": 1655326161384
    },
    "creator": "admin",
    "createdOn": 1655326161384,
    "tags": [
      "recipe-editor"
    ],
    "customFields": {},
    "hide_input": false,
    "language_info": {
      "name": "python",
      "version": "3.9.0",
      "mimetype": "text/x-python",
      "codemirror_mode": {
        "name": "ipython",
        "version": 3
      },
      "pygments_lexer": "ipython3",
      "nbconvert_exporter": "python",
      "file_extension": ".py"
    },
    "modifiedBy": "admin"
  },
  "nbformat": 4,
  "nbformat_minor": 1,
  "cells": [
    {
      "execution_count": 1,
      "cell_type": "code",
      "metadata": {},
      "source": [
        "# -*- coding: utf-8 -*-\nimport dataiku\nimport pandas as pd, numpy as np\nfrom dataiku import pandasutils as pdu\nfrom copy import copy"
      ],
      "outputs": []
    },
    {
      "execution_count": 2,
      "cell_type": "code",
      "metadata": {},
      "source": [
        "# Read recipe inputs\nyf1985_MFI \u003d dataiku.Dataset(\"yf1985_MFI\")\ndf_mfi \u003d yf1985_MFI.get_dataframe()"
      ],
      "outputs": []
    },
    {
      "execution_count": 3,
      "cell_type": "code",
      "metadata": {},
      "source": [
        "# Va prendre toutes les colonnes MFI, puis MFI_MA\ncolonnes_mfi \u003d df_mfi.columns[6:].to_list()"
      ],
      "outputs": []
    },
    {
      "execution_count": 4,
      "cell_type": "code",
      "metadata": {},
      "source": [
        "# Périodes utilisées pour les comparaisons de variation de valeur dans le temps, en jours\nperiodes \u003d [3,5,8]"
      ],
      "outputs": []
    },
    {
      "execution_count": 5,
      "cell_type": "code",
      "metadata": {},
      "source": [
        "for colonne in colonnes_mfi :\n\n    for p in periodes :\n        \u0027\u0027\u0027Calcul des variations (Slope)\n        d\u0027abord MFI valeur absolue, à -3, -5 et -8 jours\n        puis pour pour les SMA sur les périodes définies en amont de la boucle\u0027\u0027\u0027\n\n        col_name_var \u003d \"var_\" + str(colonne) + \"_\" + str(p) + \"j\"\n        df_mfi[col_name_var] \u003d round( ((df_mfi[colonne] - df_mfi[colonne].shift(p)) / df_mfi[colonne].shift(p))*100 ,2)"
      ],
      "outputs": []
    },
    {
      "execution_count": 6,
      "cell_type": "code",
      "metadata": {},
      "source": [
        "origine \u003d df_mfi.shape[0]"
      ],
      "outputs": []
    },
    {
      "execution_count": 7,
      "cell_type": "code",
      "metadata": {},
      "source": [
        "df_mfi.dropna(how\u003d\u0027any\u0027, inplace\u003dTrue)\ndf_mfi.reset_index(drop\u003dTrue, inplace\u003dTrue)"
      ],
      "outputs": []
    },
    {
      "execution_count": 8,
      "cell_type": "code",
      "metadata": {},
      "source": [
        "fin \u003d df_mfi.shape[0]\ndelta \u003d origine-fin"
      ],
      "outputs": []
    },
    {
      "execution_count": 9,
      "cell_type": "code",
      "metadata": {},
      "source": [
        "# Write recipe outputs\nyf1985_MFI_enriched \u003d dataiku.Dataset(\"yf1985_MFI_enriched\")\n\nif delta \u003d\u003d periodes[-1] and df_mfi.isnull().sum().sum() \u003d\u003d 0:\n    print(\"Prêt à écrire. Test OK. Nb lignes supprimées : \",delta)\n    yf1985_MFI_enriched.write_with_schema(df_mfi)\nelse:\n    print(\"Erreur de vérification, écriture annulée\")"
      ],
      "outputs": [
        {
          "output_type": "stream",
          "text": "Prêt à écrire. Test OK. Nb lignes supprimées :  8\n9355 rows successfully written (RD43CCfk6g)\n",
          "name": "stdout"
        }
      ]
    }
  ]
}