{
  "metadata": {
    "kernelspec": {
      "name": "py-dku-venv-py_v39_finance",
      "display_name": "Python (env py_v39_finance)",
      "language": "python"
    },
    "associatedRecipe": "compute_stc_enriched",
    "creationTag": {
      "versionNumber": 0,
      "lastModifiedBy": {
        "login": "admin"
      },
      "lastModifiedOn": 1674405792626
    },
    "creator": "admin",
    "createdOn": 1674405792626,
    "tags": [
      "recipe-editor"
    ],
    "customFields": {},
    "hide_input": false,
    "language_info": {
      "name": "python",
      "version": "3.9.0",
      "mimetype": "text/x-python",
      "codemirror_mode": {
        "name": "ipython",
        "version": 3
      },
      "pygments_lexer": "ipython3",
      "nbconvert_exporter": "python",
      "file_extension": ".py"
    },
    "modifiedBy": "admin"
  },
  "nbformat": 4,
  "nbformat_minor": 1,
  "cells": [
    {
      "execution_count": 158,
      "cell_type": "code",
      "metadata": {},
      "source": [
        "# -*- coding: utf-8 -*-\nimport dataiku\nimport pandas as pd, numpy as np\nfrom dataiku import pandasutils as pdu"
      ],
      "outputs": []
    },
    {
      "execution_count": 159,
      "cell_type": "code",
      "metadata": {},
      "source": [
        "# Read recipe inputs\nSTC_indicator \u003d dataiku.Dataset(\"STC_indicator\")\ndf_stc \u003d STC_indicator.get_dataframe()"
      ],
      "outputs": []
    },
    {
      "execution_count": 160,
      "cell_type": "code",
      "metadata": {},
      "source": [
        "df_stc.tail()"
      ],
      "outputs": [
        {
          "output_type": "execute_result",
          "execution_count": 160,
          "data": {
            "text/plain": "                          Date     Close  STC_tailored  STC_std\n9187 2023-01-13 05:00:00+00:00  11541.48         95.16    98.07\n9188 2023-01-17 05:00:00+00:00  11557.19         97.58    99.03\n9189 2023-01-18 05:00:00+00:00  11410.29         98.79    99.52\n9190 2023-01-19 05:00:00+00:00  11295.67         99.39    99.76\n9191 2023-01-20 05:00:00+00:00  11619.03         99.70    99.88",
            "text/html": "\u003cdiv\u003e\n\u003cstyle scoped\u003e\n    .dataframe tbody tr th:only-of-type {\n        vertical-align: middle;\n    }\n\n    .dataframe tbody tr th {\n        vertical-align: top;\n    }\n\n    .dataframe thead th {\n        text-align: right;\n    }\n\u003c/style\u003e\n\u003ctable border\u003d\"1\" class\u003d\"dataframe\"\u003e\n  \u003cthead\u003e\n    \u003ctr style\u003d\"text-align: right;\"\u003e\n      \u003cth\u003e\u003c/th\u003e\n      \u003cth\u003eDate\u003c/th\u003e\n      \u003cth\u003eClose\u003c/th\u003e\n      \u003cth\u003eSTC_tailored\u003c/th\u003e\n      \u003cth\u003eSTC_std\u003c/th\u003e\n    \u003c/tr\u003e\n  \u003c/thead\u003e\n  \u003ctbody\u003e\n    \u003ctr\u003e\n      \u003cth\u003e9187\u003c/th\u003e\n      \u003ctd\u003e2023-01-13 05:00:00+00:00\u003c/td\u003e\n      \u003ctd\u003e11541.48\u003c/td\u003e\n      \u003ctd\u003e95.16\u003c/td\u003e\n      \u003ctd\u003e98.07\u003c/td\u003e\n    \u003c/tr\u003e\n    \u003ctr\u003e\n      \u003cth\u003e9188\u003c/th\u003e\n      \u003ctd\u003e2023-01-17 05:00:00+00:00\u003c/td\u003e\n      \u003ctd\u003e11557.19\u003c/td\u003e\n      \u003ctd\u003e97.58\u003c/td\u003e\n      \u003ctd\u003e99.03\u003c/td\u003e\n    \u003c/tr\u003e\n    \u003ctr\u003e\n      \u003cth\u003e9189\u003c/th\u003e\n      \u003ctd\u003e2023-01-18 05:00:00+00:00\u003c/td\u003e\n      \u003ctd\u003e11410.29\u003c/td\u003e\n      \u003ctd\u003e98.79\u003c/td\u003e\n      \u003ctd\u003e99.52\u003c/td\u003e\n    \u003c/tr\u003e\n    \u003ctr\u003e\n      \u003cth\u003e9190\u003c/th\u003e\n      \u003ctd\u003e2023-01-19 05:00:00+00:00\u003c/td\u003e\n      \u003ctd\u003e11295.67\u003c/td\u003e\n      \u003ctd\u003e99.39\u003c/td\u003e\n      \u003ctd\u003e99.76\u003c/td\u003e\n    \u003c/tr\u003e\n    \u003ctr\u003e\n      \u003cth\u003e9191\u003c/th\u003e\n      \u003ctd\u003e2023-01-20 05:00:00+00:00\u003c/td\u003e\n      \u003ctd\u003e11619.03\u003c/td\u003e\n      \u003ctd\u003e99.70\u003c/td\u003e\n      \u003ctd\u003e99.88\u003c/td\u003e\n    \u003c/tr\u003e\n  \u003c/tbody\u003e\n\u003c/table\u003e\n\u003c/div\u003e"
          },
          "metadata": {}
        }
      ]
    },
    {
      "cell_type": "markdown",
      "metadata": {},
      "source": [
        "# Position dans les deciles #"
      ]
    },
    {
      "execution_count": 161,
      "cell_type": "code",
      "metadata": {},
      "source": [
        "def get_deciles_list(col):\n    \u0027\u0027\u0027Determiner les seuils des deciles.\n    Pour rappel : 10 quantiles \u003d décile \u0027\u0027\u0027\n\n    decile_list \u003d []\n\n    for i in range(1,10):\n        decile_list.append(col.quantile(i/10, interpolation\u003d\"nearest\"))\n\n    return decile_list"
      ],
      "outputs": []
    },
    {
      "execution_count": 162,
      "cell_type": "code",
      "metadata": {},
      "source": [
        "l_deciles \u003d get_deciles_list(df_stc[\"STC_tailored\"])\nprint(l_deciles)"
      ],
      "outputs": [
        {
          "output_type": "stream",
          "text": "[0.24, 3.5, 13.75, 31.76, 53.87, 73.4, 88.91, 98.3, 99.95]\n",
          "name": "stdout"
        }
      ]
    },
    {
      "execution_count": 163,
      "cell_type": "code",
      "metadata": {},
      "source": [
        "l_deciles \u003d [round(e,1) for e in l_deciles]\nprint(l_deciles)"
      ],
      "outputs": [
        {
          "output_type": "stream",
          "text": "[0.2, 3.5, 13.8, 31.8, 53.9, 73.4, 88.9, 98.3, 100.0]\n",
          "name": "stdout"
        }
      ]
    },
    {
      "execution_count": 164,
      "cell_type": "code",
      "metadata": {},
      "source": [
        "# La fonction qcut paramétrée à 10 retourne les intervalles des quantiles et situe la valeur dans celui-ci\n# .right nous indique la partie droite de l\u0027intervalle, qui nous servira à identifier en valeurs numériques\n# la position de la valeur dans les décoles\nraw_quantile_position \u003d pd.qcut(df_stc[\"STC_tailored\"], 10).apply(lambda x: round(x.right,1))\nraw_quantile_position"
      ],
      "outputs": [
        {
          "output_type": "execute_result",
          "execution_count": 164,
          "data": {
            "text/plain": "0         0.2\n1         0.2\n2         0.2\n3         0.2\n4         0.2\n        ...  \n9187     98.3\n9188     98.3\n9189    100.0\n9190    100.0\n9191    100.0\nName: STC_tailored, Length: 9192, dtype: float64"
          },
          "metadata": {}
        }
      ]
    },
    {
      "execution_count": 165,
      "cell_type": "code",
      "metadata": {},
      "source": [
        "def attribute_quantile_position(raw_l, quantiles_l):\n\n    refined_quantile_list \u003d []\n\n    for e in raw_l:\n        # The index() method returns the index of the specified element in the list.\n        p \u003d quantiles_l.index(e)\n\n        # p+1 car sinon 1er décile à position 0\n        # Avec .right() il n\u0027y a que 9 intervalles pour 10 déciles\n        refined_quantile_list.append(p+1)\n\n    return refined_quantile_list"
      ],
      "outputs": []
    },
    {
      "execution_count": 166,
      "cell_type": "code",
      "metadata": {},
      "source": [
        "df_stc[\"STC_tailored_decile_position\"] \u003d attribute_quantile_position(raw_quantile_position,l_deciles)"
      ],
      "outputs": []
    },
    {
      "cell_type": "markdown",
      "metadata": {},
      "source": [
        "Remarques :\n\u003cli\u003eLe moindre défaut d\u0027arrondi peut compromettre la bonne execution de cette fonction.\u003c/li\u003e\n\u003cli\u003eLa même méthode sur STC standard donne exactement le même résultat. Pas besoin de répliquer\u003c/li\u003e"
      ]
    },
    {
      "cell_type": "markdown",
      "metadata": {},
      "source": [
        "# Lags \u0026 %var #"
      ]
    },
    {
      "execution_count": 168,
      "cell_type": "code",
      "metadata": {},
      "source": [
        "df_stc.head()"
      ],
      "outputs": [
        {
          "output_type": "execute_result",
          "execution_count": 168,
          "data": {
            "text/plain": "                       Date   Close  STC_tailored  STC_std  STC_tailored_decile_position\n0 1986-08-01 04:00:00+00:00  144.19           0.0      0.0                             1\n1 1986-08-04 04:00:00+00:00  142.52           0.0      0.0                             1\n2 1986-08-05 04:00:00+00:00  141.86           0.0      0.0                             1\n3 1986-08-06 04:00:00+00:00  140.54           0.0      0.0                             1\n4 1986-08-07 04:00:00+00:00  140.70           0.0      0.0                             1",
            "text/html": "\u003cdiv\u003e\n\u003cstyle scoped\u003e\n    .dataframe tbody tr th:only-of-type {\n        vertical-align: middle;\n    }\n\n    .dataframe tbody tr th {\n        vertical-align: top;\n    }\n\n    .dataframe thead th {\n        text-align: right;\n    }\n\u003c/style\u003e\n\u003ctable border\u003d\"1\" class\u003d\"dataframe\"\u003e\n  \u003cthead\u003e\n    \u003ctr style\u003d\"text-align: right;\"\u003e\n      \u003cth\u003e\u003c/th\u003e\n      \u003cth\u003eDate\u003c/th\u003e\n      \u003cth\u003eClose\u003c/th\u003e\n      \u003cth\u003eSTC_tailored\u003c/th\u003e\n      \u003cth\u003eSTC_std\u003c/th\u003e\n      \u003cth\u003eSTC_tailored_decile_position\u003c/th\u003e\n    \u003c/tr\u003e\n  \u003c/thead\u003e\n  \u003ctbody\u003e\n    \u003ctr\u003e\n      \u003cth\u003e0\u003c/th\u003e\n      \u003ctd\u003e1986-08-01 04:00:00+00:00\u003c/td\u003e\n      \u003ctd\u003e144.19\u003c/td\u003e\n      \u003ctd\u003e0.0\u003c/td\u003e\n      \u003ctd\u003e0.0\u003c/td\u003e\n      \u003ctd\u003e1\u003c/td\u003e\n    \u003c/tr\u003e\n    \u003ctr\u003e\n      \u003cth\u003e1\u003c/th\u003e\n      \u003ctd\u003e1986-08-04 04:00:00+00:00\u003c/td\u003e\n      \u003ctd\u003e142.52\u003c/td\u003e\n      \u003ctd\u003e0.0\u003c/td\u003e\n      \u003ctd\u003e0.0\u003c/td\u003e\n      \u003ctd\u003e1\u003c/td\u003e\n    \u003c/tr\u003e\n    \u003ctr\u003e\n      \u003cth\u003e2\u003c/th\u003e\n      \u003ctd\u003e1986-08-05 04:00:00+00:00\u003c/td\u003e\n      \u003ctd\u003e141.86\u003c/td\u003e\n      \u003ctd\u003e0.0\u003c/td\u003e\n      \u003ctd\u003e0.0\u003c/td\u003e\n      \u003ctd\u003e1\u003c/td\u003e\n    \u003c/tr\u003e\n    \u003ctr\u003e\n      \u003cth\u003e3\u003c/th\u003e\n      \u003ctd\u003e1986-08-06 04:00:00+00:00\u003c/td\u003e\n      \u003ctd\u003e140.54\u003c/td\u003e\n      \u003ctd\u003e0.0\u003c/td\u003e\n      \u003ctd\u003e0.0\u003c/td\u003e\n      \u003ctd\u003e1\u003c/td\u003e\n    \u003c/tr\u003e\n    \u003ctr\u003e\n      \u003cth\u003e4\u003c/th\u003e\n      \u003ctd\u003e1986-08-07 04:00:00+00:00\u003c/td\u003e\n      \u003ctd\u003e140.70\u003c/td\u003e\n      \u003ctd\u003e0.0\u003c/td\u003e\n      \u003ctd\u003e0.0\u003c/td\u003e\n      \u003ctd\u003e1\u003c/td\u003e\n    \u003c/tr\u003e\n  \u003c/tbody\u003e\n\u003c/table\u003e\n\u003c/div\u003e"
          },
          "metadata": {}
        }
      ]
    },
    {
      "execution_count": 169,
      "cell_type": "code",
      "metadata": {},
      "source": [
        "def generate_diff(col, shift) :\n\n    shifted_col \u003d col.shift(shift)\n\n    l_res \u003d []\n\n    for e in range (0, len(col)):\n        l_res.append(round(col[e]-shifted_col[e],2))\n\n    return l_res"
      ],
      "outputs": []
    },
    {
      "execution_count": 170,
      "cell_type": "code",
      "metadata": {},
      "source": [
        "for i in [1,2,3,5]:\n    colname1 \u003d \"STC_tailored_diff\" + str(i)\n    colname2 \u003d \"STC_std_diff\" + str(i)\n    colname3 \u003d \"STC_tailored_decile_position_Lag\" + str(i)\n\n    df_stc[colname1] \u003d generate_diff(df_stc[\"STC_tailored\"],i)\n    df_stc[colname2] \u003d generate_diff(df_stc[\"STC_std\"],i)\n    df_stc[colname3] \u003d df_stc[\"STC_tailored_decile_position\"].shift(i)"
      ],
      "outputs": []
    },
    {
      "execution_count": 171,
      "cell_type": "code",
      "metadata": {},
      "source": [
        "df_stc.tail()"
      ],
      "outputs": [
        {
          "output_type": "execute_result",
          "execution_count": 171,
          "data": {
            "text/plain": "                          Date     Close  STC_tailored  STC_std  STC_tailored_decile_position  STC_tailored_diff1  STC_std_diff1  STC_tailored_decile_position_Lag1  STC_tailored_diff2  STC_std_diff2  STC_tailored_decile_position_Lag2  STC_tailored_diff3  STC_std_diff3  STC_tailored_decile_position_Lag3  STC_tailored_diff5  STC_std_diff5  STC_tailored_decile_position_Lag5\n9187 2023-01-13 05:00:00+00:00  11541.48         95.16    98.07                             8                4.85           1.94                                8.0                9.47           5.80                                7.0               12.87          13.53                                7.0               16.70          59.93                                7.0\n9188 2023-01-17 05:00:00+00:00  11557.19         97.58    99.03                             8                2.42           0.96                                8.0                7.27           2.90                                8.0               11.89           6.76                                7.0               17.72          29.96                                7.0\n9189 2023-01-18 05:00:00+00:00  11410.29         98.79    99.52                             9                1.21           0.49                                8.0                3.63           1.45                                8.0                8.48           3.39                                8.0               16.50          14.98                                7.0\n9190 2023-01-19 05:00:00+00:00  11295.67         99.39    99.76                             9                0.60           0.24                                9.0                1.81           0.73                                8.0                4.23           1.69                                8.0               13.70           7.49                                7.0\n9191 2023-01-20 05:00:00+00:00  11619.03         99.70    99.88                             9                0.31           0.12                                9.0                0.91           0.36                                9.0                2.12           0.85                                8.0                9.39           3.75                                8.0",
            "text/html": "\u003cdiv\u003e\n\u003cstyle scoped\u003e\n    .dataframe tbody tr th:only-of-type {\n        vertical-align: middle;\n    }\n\n    .dataframe tbody tr th {\n        vertical-align: top;\n    }\n\n    .dataframe thead th {\n        text-align: right;\n    }\n\u003c/style\u003e\n\u003ctable border\u003d\"1\" class\u003d\"dataframe\"\u003e\n  \u003cthead\u003e\n    \u003ctr style\u003d\"text-align: right;\"\u003e\n      \u003cth\u003e\u003c/th\u003e\n      \u003cth\u003eDate\u003c/th\u003e\n      \u003cth\u003eClose\u003c/th\u003e\n      \u003cth\u003eSTC_tailored\u003c/th\u003e\n      \u003cth\u003eSTC_std\u003c/th\u003e\n      \u003cth\u003eSTC_tailored_decile_position\u003c/th\u003e\n      \u003cth\u003eSTC_tailored_diff1\u003c/th\u003e\n      \u003cth\u003eSTC_std_diff1\u003c/th\u003e\n      \u003cth\u003eSTC_tailored_decile_position_Lag1\u003c/th\u003e\n      \u003cth\u003eSTC_tailored_diff2\u003c/th\u003e\n      \u003cth\u003eSTC_std_diff2\u003c/th\u003e\n      \u003cth\u003eSTC_tailored_decile_position_Lag2\u003c/th\u003e\n      \u003cth\u003eSTC_tailored_diff3\u003c/th\u003e\n      \u003cth\u003eSTC_std_diff3\u003c/th\u003e\n      \u003cth\u003eSTC_tailored_decile_position_Lag3\u003c/th\u003e\n      \u003cth\u003eSTC_tailored_diff5\u003c/th\u003e\n      \u003cth\u003eSTC_std_diff5\u003c/th\u003e\n      \u003cth\u003eSTC_tailored_decile_position_Lag5\u003c/th\u003e\n    \u003c/tr\u003e\n  \u003c/thead\u003e\n  \u003ctbody\u003e\n    \u003ctr\u003e\n      \u003cth\u003e9187\u003c/th\u003e\n      \u003ctd\u003e2023-01-13 05:00:00+00:00\u003c/td\u003e\n      \u003ctd\u003e11541.48\u003c/td\u003e\n      \u003ctd\u003e95.16\u003c/td\u003e\n      \u003ctd\u003e98.07\u003c/td\u003e\n      \u003ctd\u003e8\u003c/td\u003e\n      \u003ctd\u003e4.85\u003c/td\u003e\n      \u003ctd\u003e1.94\u003c/td\u003e\n      \u003ctd\u003e8.0\u003c/td\u003e\n      \u003ctd\u003e9.47\u003c/td\u003e\n      \u003ctd\u003e5.80\u003c/td\u003e\n      \u003ctd\u003e7.0\u003c/td\u003e\n      \u003ctd\u003e12.87\u003c/td\u003e\n      \u003ctd\u003e13.53\u003c/td\u003e\n      \u003ctd\u003e7.0\u003c/td\u003e\n      \u003ctd\u003e16.70\u003c/td\u003e\n      \u003ctd\u003e59.93\u003c/td\u003e\n      \u003ctd\u003e7.0\u003c/td\u003e\n    \u003c/tr\u003e\n    \u003ctr\u003e\n      \u003cth\u003e9188\u003c/th\u003e\n      \u003ctd\u003e2023-01-17 05:00:00+00:00\u003c/td\u003e\n      \u003ctd\u003e11557.19\u003c/td\u003e\n      \u003ctd\u003e97.58\u003c/td\u003e\n      \u003ctd\u003e99.03\u003c/td\u003e\n      \u003ctd\u003e8\u003c/td\u003e\n      \u003ctd\u003e2.42\u003c/td\u003e\n      \u003ctd\u003e0.96\u003c/td\u003e\n      \u003ctd\u003e8.0\u003c/td\u003e\n      \u003ctd\u003e7.27\u003c/td\u003e\n      \u003ctd\u003e2.90\u003c/td\u003e\n      \u003ctd\u003e8.0\u003c/td\u003e\n      \u003ctd\u003e11.89\u003c/td\u003e\n      \u003ctd\u003e6.76\u003c/td\u003e\n      \u003ctd\u003e7.0\u003c/td\u003e\n      \u003ctd\u003e17.72\u003c/td\u003e\n      \u003ctd\u003e29.96\u003c/td\u003e\n      \u003ctd\u003e7.0\u003c/td\u003e\n    \u003c/tr\u003e\n    \u003ctr\u003e\n      \u003cth\u003e9189\u003c/th\u003e\n      \u003ctd\u003e2023-01-18 05:00:00+00:00\u003c/td\u003e\n      \u003ctd\u003e11410.29\u003c/td\u003e\n      \u003ctd\u003e98.79\u003c/td\u003e\n      \u003ctd\u003e99.52\u003c/td\u003e\n      \u003ctd\u003e9\u003c/td\u003e\n      \u003ctd\u003e1.21\u003c/td\u003e\n      \u003ctd\u003e0.49\u003c/td\u003e\n      \u003ctd\u003e8.0\u003c/td\u003e\n      \u003ctd\u003e3.63\u003c/td\u003e\n      \u003ctd\u003e1.45\u003c/td\u003e\n      \u003ctd\u003e8.0\u003c/td\u003e\n      \u003ctd\u003e8.48\u003c/td\u003e\n      \u003ctd\u003e3.39\u003c/td\u003e\n      \u003ctd\u003e8.0\u003c/td\u003e\n      \u003ctd\u003e16.50\u003c/td\u003e\n      \u003ctd\u003e14.98\u003c/td\u003e\n      \u003ctd\u003e7.0\u003c/td\u003e\n    \u003c/tr\u003e\n    \u003ctr\u003e\n      \u003cth\u003e9190\u003c/th\u003e\n      \u003ctd\u003e2023-01-19 05:00:00+00:00\u003c/td\u003e\n      \u003ctd\u003e11295.67\u003c/td\u003e\n      \u003ctd\u003e99.39\u003c/td\u003e\n      \u003ctd\u003e99.76\u003c/td\u003e\n      \u003ctd\u003e9\u003c/td\u003e\n      \u003ctd\u003e0.60\u003c/td\u003e\n      \u003ctd\u003e0.24\u003c/td\u003e\n      \u003ctd\u003e9.0\u003c/td\u003e\n      \u003ctd\u003e1.81\u003c/td\u003e\n      \u003ctd\u003e0.73\u003c/td\u003e\n      \u003ctd\u003e8.0\u003c/td\u003e\n      \u003ctd\u003e4.23\u003c/td\u003e\n      \u003ctd\u003e1.69\u003c/td\u003e\n      \u003ctd\u003e8.0\u003c/td\u003e\n      \u003ctd\u003e13.70\u003c/td\u003e\n      \u003ctd\u003e7.49\u003c/td\u003e\n      \u003ctd\u003e7.0\u003c/td\u003e\n    \u003c/tr\u003e\n    \u003ctr\u003e\n      \u003cth\u003e9191\u003c/th\u003e\n      \u003ctd\u003e2023-01-20 05:00:00+00:00\u003c/td\u003e\n      \u003ctd\u003e11619.03\u003c/td\u003e\n      \u003ctd\u003e99.70\u003c/td\u003e\n      \u003ctd\u003e99.88\u003c/td\u003e\n      \u003ctd\u003e9\u003c/td\u003e\n      \u003ctd\u003e0.31\u003c/td\u003e\n      \u003ctd\u003e0.12\u003c/td\u003e\n      \u003ctd\u003e9.0\u003c/td\u003e\n      \u003ctd\u003e0.91\u003c/td\u003e\n      \u003ctd\u003e0.36\u003c/td\u003e\n      \u003ctd\u003e9.0\u003c/td\u003e\n      \u003ctd\u003e2.12\u003c/td\u003e\n      \u003ctd\u003e0.85\u003c/td\u003e\n      \u003ctd\u003e8.0\u003c/td\u003e\n      \u003ctd\u003e9.39\u003c/td\u003e\n      \u003ctd\u003e3.75\u003c/td\u003e\n      \u003ctd\u003e8.0\u003c/td\u003e\n    \u003c/tr\u003e\n  \u003c/tbody\u003e\n\u003c/table\u003e\n\u003c/div\u003e"
          },
          "metadata": {}
        }
      ]
    },
    {
      "execution_count": 172,
      "cell_type": "code",
      "metadata": {},
      "source": [
        "df_stc.describe()"
      ],
      "outputs": [
        {
          "output_type": "execute_result",
          "execution_count": 172,
          "data": {
            "text/plain": "              Close  STC_tailored      STC_std  STC_tailored_decile_position  STC_tailored_diff1  STC_std_diff1  STC_tailored_decile_position_Lag1  STC_tailored_diff2  STC_std_diff2  STC_tailored_decile_position_Lag2  STC_tailored_diff3  STC_std_diff3  STC_tailored_decile_position_Lag3  STC_tailored_diff5  STC_std_diff5  STC_tailored_decile_position_Lag5\ncount   9192.000000   9192.000000  9192.000000                   9192.000000         9191.000000    9191.000000                        9191.000000         9190.000000    9190.000000                        9190.000000         9189.000000    9189.000000                        9189.000000         9187.000000    9187.000000                        9187.000000\nmean    2926.517291     51.366870    52.690381                      5.399478            0.010848       0.010867                           5.399086            0.021664       0.021724                           5.398694            0.032417       0.032556                           5.398302            0.053404       0.054018                           5.397736\nstd     3490.883219     39.544583    43.098361                      2.728475            3.547190      13.378702                           2.728365            6.974636      23.486096                           2.728255           10.233833      31.605580                           2.728145           16.184094      43.546963                           2.728172\nmin      128.430000      0.000000     0.000000                      1.000000          -31.060000     -50.000000                           1.000000          -55.890000     -75.000000                           1.000000          -71.420000     -87.500000                           1.000000          -88.480000     -96.880000                           1.000000\n25%      569.937500      7.655000     2.675000                      3.000000           -1.020000      -1.120000                           3.000000           -2.010000      -2.930000                           3.000000           -3.120000      -5.470000                           3.000000           -5.270000     -14.150000                           3.000000\n50%     1672.380000     53.865000    56.815000                      5.500000            0.000000       0.000000                           5.000000            0.000000       0.000000                           5.000000            0.000000       0.000000                           5.000000            0.000000       0.000000                           5.000000\n75%     3708.470000     94.770000    99.260000                      8.000000            1.230000       1.240000                           8.000000            2.430000       2.830000                           8.000000            3.670000       5.470000                           8.000000            6.110000      12.990000                           8.000000\nmax    16573.340000    100.000000   100.000000                      9.000000           22.840000      50.000000                           9.000000           43.070000      75.000000                           9.000000           58.730000      87.500000                           9.000000           78.160000      96.880000                           9.000000",
            "text/html": "\u003cdiv\u003e\n\u003cstyle scoped\u003e\n    .dataframe tbody tr th:only-of-type {\n        vertical-align: middle;\n    }\n\n    .dataframe tbody tr th {\n        vertical-align: top;\n    }\n\n    .dataframe thead th {\n        text-align: right;\n    }\n\u003c/style\u003e\n\u003ctable border\u003d\"1\" class\u003d\"dataframe\"\u003e\n  \u003cthead\u003e\n    \u003ctr style\u003d\"text-align: right;\"\u003e\n      \u003cth\u003e\u003c/th\u003e\n      \u003cth\u003eClose\u003c/th\u003e\n      \u003cth\u003eSTC_tailored\u003c/th\u003e\n      \u003cth\u003eSTC_std\u003c/th\u003e\n      \u003cth\u003eSTC_tailored_decile_position\u003c/th\u003e\n      \u003cth\u003eSTC_tailored_diff1\u003c/th\u003e\n      \u003cth\u003eSTC_std_diff1\u003c/th\u003e\n      \u003cth\u003eSTC_tailored_decile_position_Lag1\u003c/th\u003e\n      \u003cth\u003eSTC_tailored_diff2\u003c/th\u003e\n      \u003cth\u003eSTC_std_diff2\u003c/th\u003e\n      \u003cth\u003eSTC_tailored_decile_position_Lag2\u003c/th\u003e\n      \u003cth\u003eSTC_tailored_diff3\u003c/th\u003e\n      \u003cth\u003eSTC_std_diff3\u003c/th\u003e\n      \u003cth\u003eSTC_tailored_decile_position_Lag3\u003c/th\u003e\n      \u003cth\u003eSTC_tailored_diff5\u003c/th\u003e\n      \u003cth\u003eSTC_std_diff5\u003c/th\u003e\n      \u003cth\u003eSTC_tailored_decile_position_Lag5\u003c/th\u003e\n    \u003c/tr\u003e\n  \u003c/thead\u003e\n  \u003ctbody\u003e\n    \u003ctr\u003e\n      \u003cth\u003ecount\u003c/th\u003e\n      \u003ctd\u003e9192.000000\u003c/td\u003e\n      \u003ctd\u003e9192.000000\u003c/td\u003e\n      \u003ctd\u003e9192.000000\u003c/td\u003e\n      \u003ctd\u003e9192.000000\u003c/td\u003e\n      \u003ctd\u003e9191.000000\u003c/td\u003e\n      \u003ctd\u003e9191.000000\u003c/td\u003e\n      \u003ctd\u003e9191.000000\u003c/td\u003e\n      \u003ctd\u003e9190.000000\u003c/td\u003e\n      \u003ctd\u003e9190.000000\u003c/td\u003e\n      \u003ctd\u003e9190.000000\u003c/td\u003e\n      \u003ctd\u003e9189.000000\u003c/td\u003e\n      \u003ctd\u003e9189.000000\u003c/td\u003e\n      \u003ctd\u003e9189.000000\u003c/td\u003e\n      \u003ctd\u003e9187.000000\u003c/td\u003e\n      \u003ctd\u003e9187.000000\u003c/td\u003e\n      \u003ctd\u003e9187.000000\u003c/td\u003e\n    \u003c/tr\u003e\n    \u003ctr\u003e\n      \u003cth\u003emean\u003c/th\u003e\n      \u003ctd\u003e2926.517291\u003c/td\u003e\n      \u003ctd\u003e51.366870\u003c/td\u003e\n      \u003ctd\u003e52.690381\u003c/td\u003e\n      \u003ctd\u003e5.399478\u003c/td\u003e\n      \u003ctd\u003e0.010848\u003c/td\u003e\n      \u003ctd\u003e0.010867\u003c/td\u003e\n      \u003ctd\u003e5.399086\u003c/td\u003e\n      \u003ctd\u003e0.021664\u003c/td\u003e\n      \u003ctd\u003e0.021724\u003c/td\u003e\n      \u003ctd\u003e5.398694\u003c/td\u003e\n      \u003ctd\u003e0.032417\u003c/td\u003e\n      \u003ctd\u003e0.032556\u003c/td\u003e\n      \u003ctd\u003e5.398302\u003c/td\u003e\n      \u003ctd\u003e0.053404\u003c/td\u003e\n      \u003ctd\u003e0.054018\u003c/td\u003e\n      \u003ctd\u003e5.397736\u003c/td\u003e\n    \u003c/tr\u003e\n    \u003ctr\u003e\n      \u003cth\u003estd\u003c/th\u003e\n      \u003ctd\u003e3490.883219\u003c/td\u003e\n      \u003ctd\u003e39.544583\u003c/td\u003e\n      \u003ctd\u003e43.098361\u003c/td\u003e\n      \u003ctd\u003e2.728475\u003c/td\u003e\n      \u003ctd\u003e3.547190\u003c/td\u003e\n      \u003ctd\u003e13.378702\u003c/td\u003e\n      \u003ctd\u003e2.728365\u003c/td\u003e\n      \u003ctd\u003e6.974636\u003c/td\u003e\n      \u003ctd\u003e23.486096\u003c/td\u003e\n      \u003ctd\u003e2.728255\u003c/td\u003e\n      \u003ctd\u003e10.233833\u003c/td\u003e\n      \u003ctd\u003e31.605580\u003c/td\u003e\n      \u003ctd\u003e2.728145\u003c/td\u003e\n      \u003ctd\u003e16.184094\u003c/td\u003e\n      \u003ctd\u003e43.546963\u003c/td\u003e\n      \u003ctd\u003e2.728172\u003c/td\u003e\n    \u003c/tr\u003e\n    \u003ctr\u003e\n      \u003cth\u003emin\u003c/th\u003e\n      \u003ctd\u003e128.430000\u003c/td\u003e\n      \u003ctd\u003e0.000000\u003c/td\u003e\n      \u003ctd\u003e0.000000\u003c/td\u003e\n      \u003ctd\u003e1.000000\u003c/td\u003e\n      \u003ctd\u003e-31.060000\u003c/td\u003e\n      \u003ctd\u003e-50.000000\u003c/td\u003e\n      \u003ctd\u003e1.000000\u003c/td\u003e\n      \u003ctd\u003e-55.890000\u003c/td\u003e\n      \u003ctd\u003e-75.000000\u003c/td\u003e\n      \u003ctd\u003e1.000000\u003c/td\u003e\n      \u003ctd\u003e-71.420000\u003c/td\u003e\n      \u003ctd\u003e-87.500000\u003c/td\u003e\n      \u003ctd\u003e1.000000\u003c/td\u003e\n      \u003ctd\u003e-88.480000\u003c/td\u003e\n      \u003ctd\u003e-96.880000\u003c/td\u003e\n      \u003ctd\u003e1.000000\u003c/td\u003e\n    \u003c/tr\u003e\n    \u003ctr\u003e\n      \u003cth\u003e25%\u003c/th\u003e\n      \u003ctd\u003e569.937500\u003c/td\u003e\n      \u003ctd\u003e7.655000\u003c/td\u003e\n      \u003ctd\u003e2.675000\u003c/td\u003e\n      \u003ctd\u003e3.000000\u003c/td\u003e\n      \u003ctd\u003e-1.020000\u003c/td\u003e\n      \u003ctd\u003e-1.120000\u003c/td\u003e\n      \u003ctd\u003e3.000000\u003c/td\u003e\n      \u003ctd\u003e-2.010000\u003c/td\u003e\n      \u003ctd\u003e-2.930000\u003c/td\u003e\n      \u003ctd\u003e3.000000\u003c/td\u003e\n      \u003ctd\u003e-3.120000\u003c/td\u003e\n      \u003ctd\u003e-5.470000\u003c/td\u003e\n      \u003ctd\u003e3.000000\u003c/td\u003e\n      \u003ctd\u003e-5.270000\u003c/td\u003e\n      \u003ctd\u003e-14.150000\u003c/td\u003e\n      \u003ctd\u003e3.000000\u003c/td\u003e\n    \u003c/tr\u003e\n    \u003ctr\u003e\n      \u003cth\u003e50%\u003c/th\u003e\n      \u003ctd\u003e1672.380000\u003c/td\u003e\n      \u003ctd\u003e53.865000\u003c/td\u003e\n      \u003ctd\u003e56.815000\u003c/td\u003e\n      \u003ctd\u003e5.500000\u003c/td\u003e\n      \u003ctd\u003e0.000000\u003c/td\u003e\n      \u003ctd\u003e0.000000\u003c/td\u003e\n      \u003ctd\u003e5.000000\u003c/td\u003e\n      \u003ctd\u003e0.000000\u003c/td\u003e\n      \u003ctd\u003e0.000000\u003c/td\u003e\n      \u003ctd\u003e5.000000\u003c/td\u003e\n      \u003ctd\u003e0.000000\u003c/td\u003e\n      \u003ctd\u003e0.000000\u003c/td\u003e\n      \u003ctd\u003e5.000000\u003c/td\u003e\n      \u003ctd\u003e0.000000\u003c/td\u003e\n      \u003ctd\u003e0.000000\u003c/td\u003e\n      \u003ctd\u003e5.000000\u003c/td\u003e\n    \u003c/tr\u003e\n    \u003ctr\u003e\n      \u003cth\u003e75%\u003c/th\u003e\n      \u003ctd\u003e3708.470000\u003c/td\u003e\n      \u003ctd\u003e94.770000\u003c/td\u003e\n      \u003ctd\u003e99.260000\u003c/td\u003e\n      \u003ctd\u003e8.000000\u003c/td\u003e\n      \u003ctd\u003e1.230000\u003c/td\u003e\n      \u003ctd\u003e1.240000\u003c/td\u003e\n      \u003ctd\u003e8.000000\u003c/td\u003e\n      \u003ctd\u003e2.430000\u003c/td\u003e\n      \u003ctd\u003e2.830000\u003c/td\u003e\n      \u003ctd\u003e8.000000\u003c/td\u003e\n      \u003ctd\u003e3.670000\u003c/td\u003e\n      \u003ctd\u003e5.470000\u003c/td\u003e\n      \u003ctd\u003e8.000000\u003c/td\u003e\n      \u003ctd\u003e6.110000\u003c/td\u003e\n      \u003ctd\u003e12.990000\u003c/td\u003e\n      \u003ctd\u003e8.000000\u003c/td\u003e\n    \u003c/tr\u003e\n    \u003ctr\u003e\n      \u003cth\u003emax\u003c/th\u003e\n      \u003ctd\u003e16573.340000\u003c/td\u003e\n      \u003ctd\u003e100.000000\u003c/td\u003e\n      \u003ctd\u003e100.000000\u003c/td\u003e\n      \u003ctd\u003e9.000000\u003c/td\u003e\n      \u003ctd\u003e22.840000\u003c/td\u003e\n      \u003ctd\u003e50.000000\u003c/td\u003e\n      \u003ctd\u003e9.000000\u003c/td\u003e\n      \u003ctd\u003e43.070000\u003c/td\u003e\n      \u003ctd\u003e75.000000\u003c/td\u003e\n      \u003ctd\u003e9.000000\u003c/td\u003e\n      \u003ctd\u003e58.730000\u003c/td\u003e\n      \u003ctd\u003e87.500000\u003c/td\u003e\n      \u003ctd\u003e9.000000\u003c/td\u003e\n      \u003ctd\u003e78.160000\u003c/td\u003e\n      \u003ctd\u003e96.880000\u003c/td\u003e\n      \u003ctd\u003e9.000000\u003c/td\u003e\n    \u003c/tr\u003e\n  \u003c/tbody\u003e\n\u003c/table\u003e\n\u003c/div\u003e"
          },
          "metadata": {}
        }
      ]
    },
    {
      "cell_type": "markdown",
      "metadata": {},
      "source": [
        "# Nettoyage \u0026 écriture"
      ]
    },
    {
      "execution_count": 173,
      "cell_type": "code",
      "metadata": {},
      "source": [
        "df_stc.dropna(inplace\u003dTrue)\ndf_stc.reset_index(drop\u003dTrue, inplace\u003dTrue)"
      ],
      "outputs": []
    },
    {
      "execution_count": 0,
      "cell_type": "code",
      "metadata": {},
      "source": [
        "# Write recipe outputs\nstc_enriched \u003d dataiku.Dataset(\"stc_enriched\")\nstc_enriched.write_with_schema(df_stc)"
      ],
      "outputs": []
    }
  ]
}